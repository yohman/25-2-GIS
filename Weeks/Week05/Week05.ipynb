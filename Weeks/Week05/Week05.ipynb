{
 "cells": [
  {
   "attachments": {},
   "cell_type": "markdown",
   "metadata": {
    "slideshow": {
     "slide_type": "slide"
    }
   },
   "source": [
    "## Python\n",
    "\n",
    "パイソンとは何? どのような機能があるの？"
   ]
  },
  {
   "attachments": {},
   "cell_type": "markdown",
   "metadata": {
    "slideshow": {
     "slide_type": "slide"
    }
   },
   "source": [
    "- 多目的である\n",
    "- 世界で最も人気のあるコーディング言語である"
   ]
  },
  {
   "attachments": {},
   "cell_type": "markdown",
   "metadata": {
    "slideshow": {
     "slide_type": "slide"
    }
   },
   "source": [
    "- 標準ライブラリと多数のサードパーティ ライブラリがあります\n",
    "- ここでは、使用するサードパーティ ライブラリの一部を示します。\n",
    "    - [pandas](https://pandas.pydata.org/docs/#)、データ分析用\n",
    "    - [geopandas](https://geopandas.org/gallery/index.html)、地理空間データ分析用\n",
    "    - [sodapy](https://github.com/xmunoz/sodapy)、socrata クライアントからオープン データを取得するため\n",
    "    - [folium](https://python-visualization.github.io/folium/)、リーフレットに基づくインタラクティブなマップ用\n",
    "    - [osmnx](https://geoffboeing.com/2016/11/osmnx-python-street-networks/)、ネットワーク分析用のオープンストリートマップデータの取得用\n",
    "    - [keplergl](https://kepler.gl/)、3D マッピング データ分析用"
   ]
  },
  {
   "attachments": {},
   "cell_type": "markdown",
   "metadata": {
    "slideshow": {
     "slide_type": "slide"
    }
   },
   "source": [
    "### Hello world\n",
    "\n",
    "新しいコーディングの冒険を始めるために「hello world」と入力したいと思ったことはありませんか? これはそうするチャンスです。 以下のセルにこれらの単語を入力し、「shift + Enter」を押すと…"
   ]
  },
  {
   "cell_type": "code",
   "execution_count": null,
   "metadata": {
    "slideshow": {
     "slide_type": "fragment"
    }
   },
   "outputs": [],
   "source": [
    "print('Hello Reitaku University GIS students!')"
   ]
  },
  {
   "attachments": {},
   "cell_type": "markdown",
   "metadata": {
    "slideshow": {
     "slide_type": "fragment"
    }
   },
   "source": [
    "最初の Python 関数 `print()` へようこそ。 print コマンドに引数を入力すると、Python が解釈して処理内容を決定します。 「ライト、カメラ、アクション!」、「コマンド、括弧、引数!」という構文に慣れてください！"
   ]
  },
  {
   "attachments": {},
   "cell_type": "markdown",
   "metadata": {
    "slideshow": {
     "slide_type": "slide"
    }
   },
   "source": [
    "### Comments\n",
    "\n",
    "ハイレベルなプログラマーに尋ねれば、良いコードはそれがどれだけコメントされているかによって決まるということに全員が同意するでしょう。 多くの場合、作成者がコード内でコメントをどれだけ使用するかによって判断されます。"
   ]
  },
  {
   "cell_type": "code",
   "execution_count": null,
   "metadata": {},
   "outputs": [],
   "source": [
    "# これはコメントです。 Python インタプリタはそれを無視します\n",
    "# コメントは人間がコードを理解するために読むための単なるメモです\n",
    "# ベストプラクティス: コードの数行ごとにコメントを追加して、何が起こっているのか、なぜそうなのかを説明します\n",
    "# コードのロジックをすぐに忘れてしまうことにあなたは驚かれるでしょう (少なくとも私はいつもそうなのです)"
   ]
  },
  {
   "attachments": {},
   "cell_type": "markdown",
   "metadata": {
    "slideshow": {
     "slide_type": "slide"
    }
   },
   "source": [
    "### Math\n",
    "Python はそのままで数学を理解します。\n",
    "\n",
    "Python でデフォルトで実行できる基本的な算術演算のリストを以下の表に示します。\n",
    "\n",
    "| Operation      | Symbol | Example syntax | Returned value |\n",
    "| -------------- | ------ | -------------- | -------------- |\n",
    "| Addition       | `+`    | `2 + 2`        | `4`            |\n",
    "| Subtraction    | `-`    | `4 - 2`        | `2`            |\n",
    "| Multiplication | `*`    | `2 * 3`        | `6`            | \n",
    "| Division       | `/`    | `4 / 2`        | `2`            |\n",
    "| Exponentiation | `**`   | `2**3`         | `8`            |\n"
   ]
  },
  {
   "cell_type": "code",
   "execution_count": 2,
   "metadata": {
    "slideshow": {
     "slide_type": "slide"
    }
   },
   "outputs": [
    {
     "data": {
      "text/plain": [
       "1001"
      ]
     },
     "execution_count": 2,
     "metadata": {},
     "output_type": "execute_result"
    }
   ],
   "source": [
    "# add two integers\n",
    "1+1000"
   ]
  },
  {
   "cell_type": "code",
   "execution_count": 3,
   "metadata": {
    "scrolled": true,
    "slideshow": {
     "slide_type": "fragment"
    }
   },
   "outputs": [
    {
     "data": {
      "text/plain": [
       "3.6666666666666665"
      ]
     },
     "execution_count": 3,
     "metadata": {},
     "output_type": "execute_result"
    }
   ],
   "source": [
    "# divide two integers to get a floating number\n",
    "11/3"
   ]
  },
  {
   "cell_type": "code",
   "execution_count": 4,
   "metadata": {
    "jupyter": {
     "outputs_hidden": false
    },
    "slideshow": {
     "slide_type": "fragment"
    }
   },
   "outputs": [
    {
     "data": {
      "text/plain": [
       "6"
      ]
     },
     "execution_count": 4,
     "metadata": {},
     "output_type": "execute_result"
    }
   ],
   "source": [
    "# multiply two integers\n",
    "2 * 3"
   ]
  },
  {
   "cell_type": "code",
   "execution_count": 5,
   "metadata": {},
   "outputs": [
    {
     "ename": "ZeroDivisionError",
     "evalue": "division by zero",
     "output_type": "error",
     "traceback": [
      "\u001b[0;31m---------------------------------------------------------------------------\u001b[0m",
      "\u001b[0;31mZeroDivisionError\u001b[0m                         Traceback (most recent call last)",
      "Cell \u001b[0;32mIn[5], line 2\u001b[0m\n\u001b[1;32m      1\u001b[0m \u001b[38;5;66;03m# what about this?\u001b[39;00m\n\u001b[0;32m----> 2\u001b[0m \u001b[38;5;241;43m1\u001b[39;49m\u001b[38;5;241;43m/\u001b[39;49m\u001b[38;5;241;43m0\u001b[39;49m\n",
      "\u001b[0;31mZeroDivisionError\u001b[0m: division by zero"
     ]
    }
   ],
   "source": [
    "# what about this?\n",
    "1/0"
   ]
  },
  {
   "attachments": {},
   "cell_type": "markdown",
   "metadata": {
    "slideshow": {
     "slide_type": "slide"
    }
   },
   "source": [
    "そうなんです！Pythonには理解できないコマンドとか、間違ったコーディングをした場合は必ずエラーがでます。エラーが出ないコーダーは世の中にはいません。慣れましょう！\n",
    "\n",
    "あなたも試してみてください！ いくつかの数学コマンドを入力します。 どれが機能し、どれが機能しないのでしょうか?"
   ]
  },
  {
   "cell_type": "code",
   "execution_count": null,
   "metadata": {},
   "outputs": [],
   "source": []
  },
  {
   "attachments": {},
   "cell_type": "markdown",
   "metadata": {
    "slideshow": {
     "slide_type": "slide"
    }
   },
   "source": [
    "### Modules\n",
    "\n",
    "さらに高度な場合は、*モジュール*をロードする必要があります。 数学演算の場合、このモジュールは *math* と呼ばれ、「import math」と入力してロードできます。 以下で試してみてください。"
   ]
  },
  {
   "cell_type": "code",
   "execution_count": 6,
   "metadata": {},
   "outputs": [],
   "source": [
    "# import文を使ってモジュールを呼び出す\n",
    "import math"
   ]
  },
  {
   "attachments": {},
   "cell_type": "markdown",
   "metadata": {
    "slideshow": {
     "slide_type": "slide"
    }
   },
   "source": [
    "モジュールがロードされると、ノートブックはそれに付属するすべての関数を継承します。 言い換えれば、プロジェクトの機能は大幅に向上し、継承されたモジュールに基づいて機能が拡張されます。"
   ]
  },
  {
   "cell_type": "code",
   "execution_count": 7,
   "metadata": {
    "jupyter": {
     "outputs_hidden": false
    }
   },
   "outputs": [
    {
     "data": {
      "text/plain": [
       "0.1411200080598672"
      ]
     },
     "execution_count": 7,
     "metadata": {},
     "output_type": "execute_result"
    }
   ],
   "source": [
    "math.sin(3)"
   ]
  },
  {
   "cell_type": "code",
   "execution_count": 8,
   "metadata": {
    "jupyter": {
     "outputs_hidden": false
    }
   },
   "outputs": [
    {
     "data": {
      "text/plain": [
       "2.0"
      ]
     },
     "execution_count": 8,
     "metadata": {},
     "output_type": "execute_result"
    }
   ],
   "source": [
    "math.sqrt(4)"
   ]
  },
  {
   "attachments": {},
   "cell_type": "markdown",
   "metadata": {},
   "source": [
    "マップを作成するには、folium などの「マップ」モジュールをインポートします。 それを試してみてください！"
   ]
  },
  {
   "cell_type": "code",
   "execution_count": 9,
   "metadata": {},
   "outputs": [
    {
     "data": {
      "text/html": [
       "<div style=\"width:100%;\"><div style=\"position:relative;width:100%;height:0;padding-bottom:60%;\"><span style=\"color:#565656\">Make this Notebook Trusted to load map: File -> Trust Notebook</span><iframe srcdoc=\"&lt;!DOCTYPE html&gt;\n",
       "&lt;html&gt;\n",
       "&lt;head&gt;\n",
       "    \n",
       "    &lt;meta http-equiv=&quot;content-type&quot; content=&quot;text/html; charset=UTF-8&quot; /&gt;\n",
       "    \n",
       "        &lt;script&gt;\n",
       "            L_NO_TOUCH = false;\n",
       "            L_DISABLE_3D = false;\n",
       "        &lt;/script&gt;\n",
       "    \n",
       "    &lt;style&gt;html, body {width: 100%;height: 100%;margin: 0;padding: 0;}&lt;/style&gt;\n",
       "    &lt;style&gt;#map {position:absolute;top:0;bottom:0;right:0;left:0;}&lt;/style&gt;\n",
       "    &lt;script src=&quot;https://cdn.jsdelivr.net/npm/leaflet@1.9.3/dist/leaflet.js&quot;&gt;&lt;/script&gt;\n",
       "    &lt;script src=&quot;https://code.jquery.com/jquery-1.12.4.min.js&quot;&gt;&lt;/script&gt;\n",
       "    &lt;script src=&quot;https://cdn.jsdelivr.net/npm/bootstrap@5.2.2/dist/js/bootstrap.bundle.min.js&quot;&gt;&lt;/script&gt;\n",
       "    &lt;script src=&quot;https://cdnjs.cloudflare.com/ajax/libs/Leaflet.awesome-markers/2.0.2/leaflet.awesome-markers.js&quot;&gt;&lt;/script&gt;\n",
       "    &lt;link rel=&quot;stylesheet&quot; href=&quot;https://cdn.jsdelivr.net/npm/leaflet@1.9.3/dist/leaflet.css&quot;/&gt;\n",
       "    &lt;link rel=&quot;stylesheet&quot; href=&quot;https://cdn.jsdelivr.net/npm/bootstrap@5.2.2/dist/css/bootstrap.min.css&quot;/&gt;\n",
       "    &lt;link rel=&quot;stylesheet&quot; href=&quot;https://netdna.bootstrapcdn.com/bootstrap/3.0.0/css/bootstrap.min.css&quot;/&gt;\n",
       "    &lt;link rel=&quot;stylesheet&quot; href=&quot;https://cdn.jsdelivr.net/npm/@fortawesome/fontawesome-free@6.2.0/css/all.min.css&quot;/&gt;\n",
       "    &lt;link rel=&quot;stylesheet&quot; href=&quot;https://cdnjs.cloudflare.com/ajax/libs/Leaflet.awesome-markers/2.0.2/leaflet.awesome-markers.css&quot;/&gt;\n",
       "    &lt;link rel=&quot;stylesheet&quot; href=&quot;https://cdn.jsdelivr.net/gh/python-visualization/folium/folium/templates/leaflet.awesome.rotate.min.css&quot;/&gt;\n",
       "    \n",
       "            &lt;meta name=&quot;viewport&quot; content=&quot;width=device-width,\n",
       "                initial-scale=1.0, maximum-scale=1.0, user-scalable=no&quot; /&gt;\n",
       "            &lt;style&gt;\n",
       "                #map_74006fa6fae77e31c2402fe96c838186 {\n",
       "                    position: relative;\n",
       "                    width: 100.0%;\n",
       "                    height: 100.0%;\n",
       "                    left: 0.0%;\n",
       "                    top: 0.0%;\n",
       "                }\n",
       "                .leaflet-container { font-size: 1rem; }\n",
       "            &lt;/style&gt;\n",
       "        \n",
       "&lt;/head&gt;\n",
       "&lt;body&gt;\n",
       "    \n",
       "    \n",
       "            &lt;div class=&quot;folium-map&quot; id=&quot;map_74006fa6fae77e31c2402fe96c838186&quot; &gt;&lt;/div&gt;\n",
       "        \n",
       "&lt;/body&gt;\n",
       "&lt;script&gt;\n",
       "    \n",
       "    \n",
       "            var map_74006fa6fae77e31c2402fe96c838186 = L.map(\n",
       "                &quot;map_74006fa6fae77e31c2402fe96c838186&quot;,\n",
       "                {\n",
       "                    center: [35.833, 139.955],\n",
       "                    crs: L.CRS.EPSG3857,\n",
       "                    zoom: 15,\n",
       "                    zoomControl: true,\n",
       "                    preferCanvas: false,\n",
       "                }\n",
       "            );\n",
       "\n",
       "            \n",
       "\n",
       "        \n",
       "    \n",
       "            var tile_layer_dbafa054c0497fccfd474118db789193 = L.tileLayer(\n",
       "                &quot;https://{s}.tile.openstreetmap.org/{z}/{x}/{y}.png&quot;,\n",
       "                {&quot;attribution&quot;: &quot;Data by \\u0026copy; \\u003ca target=\\&quot;_blank\\&quot; href=\\&quot;http://openstreetmap.org\\&quot;\\u003eOpenStreetMap\\u003c/a\\u003e, under \\u003ca target=\\&quot;_blank\\&quot; href=\\&quot;http://www.openstreetmap.org/copyright\\&quot;\\u003eODbL\\u003c/a\\u003e.&quot;, &quot;detectRetina&quot;: false, &quot;maxNativeZoom&quot;: 18, &quot;maxZoom&quot;: 18, &quot;minZoom&quot;: 0, &quot;noWrap&quot;: false, &quot;opacity&quot;: 1, &quot;subdomains&quot;: &quot;abc&quot;, &quot;tms&quot;: false}\n",
       "            ).addTo(map_74006fa6fae77e31c2402fe96c838186);\n",
       "        \n",
       "&lt;/script&gt;\n",
       "&lt;/html&gt;\" style=\"position:absolute;width:100%;height:100%;left:0;top:0;border:none !important;\" allowfullscreen webkitallowfullscreen mozallowfullscreen></iframe></div></div>"
      ],
      "text/plain": [
       "<folium.folium.Map at 0x105ca3550>"
      ]
     },
     "execution_count": 9,
     "metadata": {},
     "output_type": "execute_result"
    }
   ],
   "source": [
    "# import folium, a leaflet python library\n",
    "import folium\n",
    "\n",
    "# make the map\n",
    "m = folium.Map(location=[35.8330, 139.9550], zoom_start=15)\n",
    "\n",
    "# show the map\n",
    "m"
   ]
  },
  {
   "attachments": {},
   "cell_type": "markdown",
   "metadata": {
    "slideshow": {
     "slide_type": "slide"
    }
   },
   "source": [
    "モジュールに関して今まで見てきたことを要約しましょう。\n",
    "\n",
    "1. *モジュール* は、互いに関連する関数などのコード項目のグループです。 個々のモジュールは、多くの場合、「ライブラリ」と呼ばれるグループに含まれます。\n",
    "\n",
    "2. モジュールは ``import`` を使用してロードできます。 モジュール ``modulename`` の一部である関数は、 ``modulename.functionname()`` と入力することで使用できます。 たとえば、 ``sin()`` は ``math`` モジュールの一部である関数で、括弧の間に数字を入れて ``math.sin()`` と入力することで使用されます。"
   ]
  },
  {
   "attachments": {},
   "cell_type": "markdown",
   "metadata": {
    "slideshow": {
     "slide_type": "slide"
    }
   },
   "source": [
    "### Variables\n",
    "\n",
    "*変数* は、式で計算された値を保存したり、他の計算に使用したりするために使用できます。 変数への値の代入は簡単です。 値を割り当てるには、「variable_name = value」と入力するだけです。「variable_name」は定義したい変数の名前です。"
   ]
  },
  {
   "cell_type": "code",
   "execution_count": 10,
   "metadata": {
    "jupyter": {
     "outputs_hidden": false
    },
    "slideshow": {
     "slide_type": "slide"
    }
   },
   "outputs": [],
   "source": [
    "# variables, such as x here, contain values and their values can vary\n",
    "x = 5"
   ]
  },
  {
   "cell_type": "code",
   "execution_count": 11,
   "metadata": {
    "jupyter": {
     "outputs_hidden": false
    },
    "slideshow": {
     "slide_type": "fragment"
    }
   },
   "outputs": [
    {
     "data": {
      "text/plain": [
       "5"
      ]
     },
     "execution_count": 11,
     "metadata": {},
     "output_type": "execute_result"
    }
   ],
   "source": [
    "# what is the value of x?\n",
    "x"
   ]
  },
  {
   "cell_type": "code",
   "execution_count": 12,
   "metadata": {
    "jupyter": {
     "outputs_hidden": false
    },
    "slideshow": {
     "slide_type": "fragment"
    }
   },
   "outputs": [
    {
     "data": {
      "text/plain": [
       "8"
      ]
     },
     "execution_count": 12,
     "metadata": {},
     "output_type": "execute_result"
    }
   ],
   "source": [
    "# you can perform operations on variables, just like you can on two numbers\n",
    "x + 3"
   ]
  },
  {
   "cell_type": "code",
   "execution_count": null,
   "metadata": {
    "jupyter": {
     "outputs_hidden": false
    },
    "slideshow": {
     "slide_type": "fragment"
    }
   },
   "outputs": [],
   "source": [
    "# create a new variable y from an operation on x\n",
    "x = 5\n",
    "y = x * 2\n",
    "y"
   ]
  },
  {
   "cell_type": "code",
   "execution_count": null,
   "metadata": {
    "jupyter": {
     "outputs_hidden": false
    },
    "slideshow": {
     "slide_type": "fragment"
    }
   },
   "outputs": [],
   "source": [
    "# 値を出力すると、最後に出力されたもののみが表示されます\n",
    "# printを使わないと、ここが違う！ ちょっとややこしいね…\n",
    "x\n",
    "y"
   ]
  },
  {
   "cell_type": "code",
   "execution_count": null,
   "metadata": {
    "jupyter": {
     "outputs_hidden": false
    },
    "slideshow": {
     "slide_type": "slide"
    }
   },
   "outputs": [],
   "source": [
    "# 同じセルで複数の変数をprintしたい場合\n",
    "print(x)\n",
    "print(y)"
   ]
  },
  {
   "cell_type": "code",
   "execution_count": null,
   "metadata": {
    "jupyter": {
     "outputs_hidden": false
    },
    "slideshow": {
     "slide_type": "fragment"
    }
   },
   "outputs": [],
   "source": [
    "# 値をカンマで区切って複数の値をコンソールに 1 行で出力できます\n",
    "# この構文では変数間にスペースが自動的に追加されることに注意\n",
    "print(x,y)"
   ]
  },
  {
   "cell_type": "code",
   "execution_count": null,
   "metadata": {
    "jupyter": {
     "outputs_hidden": false
    },
    "slideshow": {
     "slide_type": "fragment"
    }
   },
   "outputs": [],
   "source": [
    "# you can also print the result of an expression\n",
    "print(x * y)"
   ]
  },
  {
   "cell_type": "code",
   "execution_count": null,
   "metadata": {
    "slideshow": {
     "slide_type": "slide"
    }
   },
   "outputs": [],
   "source": [
    "# 数値と文字列を印刷して連結することはできますか?\n",
    "print('x is ' + x)"
   ]
  },
  {
   "cell_type": "code",
   "execution_count": null,
   "metadata": {
    "slideshow": {
     "slide_type": "fragment"
    }
   },
   "outputs": [],
   "source": [
    "# Python print コマンドは同じ型の値のみを連結できます\n",
    "# したがって、数値を文字列に変換する必要があります\n",
    "print('x is: ' + str(x))"
   ]
  },
  {
   "cell_type": "code",
   "execution_count": null,
   "metadata": {
    "slideshow": {
     "slide_type": "fragment"
    }
   },
   "outputs": [],
   "source": [
    "# あるいは、カンマを使用することもできます。\n",
    "# ややこしいですが、違いがわかりますか?\n",
    "print('x is:', x)"
   ]
  },
  {
   "attachments": {},
   "cell_type": "markdown",
   "metadata": {},
   "source": [
    "先ほどのマップに変数を使うと？"
   ]
  },
  {
   "cell_type": "code",
   "execution_count": null,
   "metadata": {},
   "outputs": [],
   "source": [
    "# import folium, a leaflet python library\n",
    "import folium\n",
    "\n",
    "# create a list of lat/lon pair for UCLA\n",
    "reitaku = [35.8330, 139.9550]\n",
    "\n",
    "# make the map\n",
    "m = folium.Map(location=reitaku, zoom_start=15)\n",
    "\n",
    "# show the map\n",
    "m"
   ]
  },
  {
   "attachments": {},
   "cell_type": "markdown",
   "metadata": {},
   "source": [
    "違いがわかりますか？\n",
    "\n",
    "さらに、map markerを足すと："
   ]
  },
  {
   "cell_type": "code",
   "execution_count": null,
   "metadata": {},
   "outputs": [],
   "source": [
    "# import folium, a leaflet python library\n",
    "import folium\n",
    "\n",
    "# create a list of lat/lon pair for UCLA\n",
    "reitaku = [35.8330, 139.9550]\n",
    "\n",
    "# make the map\n",
    "m = folium.Map(location=reitaku, zoom_start=15)\n",
    "\n",
    "# add a marker\n",
    "folium.Marker(reitaku, popup=\"Reitaku University, the best place on earth!\", tooltip=\"Reitaku University\").add_to(m)\n",
    "\n",
    "# show the map\n",
    "m"
   ]
  },
  {
   "attachments": {},
   "cell_type": "markdown",
   "metadata": {},
   "source": [
    "### 🧐 Map Challenge!\n",
    "\n",
    "1. 今住んでいる場所のマーカーと麗澤大学のマーカーが表示されるマップを作る\n",
    "1. popupやtooltipはちゃんとつけること\n",
    "1. デフォルトで両方のマーカーが表示されるようにする"
   ]
  },
  {
   "cell_type": "code",
   "execution_count": null,
   "metadata": {},
   "outputs": [],
   "source": []
  },
  {
   "attachments": {},
   "cell_type": "markdown",
   "metadata": {},
   "source": [
    "できたら、クラスのGoogle Slidesにスクリーンショットを提出！\n",
    "\n",
    "https://docs.google.com/presentation/d/1oIwXESVpEQOlATKbUgNOGgSbz1IV63mDehEfBzGdDn0/edit?usp=sharing"
   ]
  },
  {
   "attachments": {},
   "cell_type": "markdown",
   "metadata": {
    "slideshow": {
     "slide_type": "slide"
    }
   },
   "source": [
    "## Data types\n",
    "\n",
    "以下の表に示すように、Python には 4 つの基本的な *データ型* があります。\n",
    "\n",
    "| Data type name | Data type            | Example    |\n",
    "| -------------- | -------------------- | ---------- |\n",
    "| `int`          | Whole integer values | `4`        |\n",
    "| `float`        | Decimal values       | `3.1415`   |\n",
    "| `str`          | Character strings    | `'Hot'`    |\n",
    "| `bool`         | True/false values    | `True`     |\n",
    "\n",
    "データ型は「type()」関数を使用して見つけることができます。"
   ]
  },
  {
   "attachments": {},
   "cell_type": "markdown",
   "metadata": {},
   "source": [
    "### Intergers"
   ]
  },
  {
   "cell_type": "code",
   "execution_count": null,
   "metadata": {
    "jupyter": {
     "outputs_hidden": false
    },
    "slideshow": {
     "slide_type": "slide"
    }
   },
   "outputs": [],
   "source": [
    "# 整数\n",
    "type(125)"
   ]
  },
  {
   "cell_type": "code",
   "execution_count": null,
   "metadata": {
    "jupyter": {
     "outputs_hidden": false
    },
    "slideshow": {
     "slide_type": "fragment"
    }
   },
   "outputs": [],
   "source": [
    "# すべての変数にはデータ型がある\n",
    "x = 125\n",
    "type(x)"
   ]
  },
  {
   "attachments": {},
   "cell_type": "markdown",
   "metadata": {},
   "source": [
    "### Floats"
   ]
  },
  {
   "cell_type": "code",
   "execution_count": null,
   "metadata": {
    "jupyter": {
     "outputs_hidden": false
    },
    "slideshow": {
     "slide_type": "fragment"
    }
   },
   "outputs": [],
   "source": [
    "# float is a 浮動小数点数\n",
    "some_rate = 4.3\n",
    "type(some_rate)"
   ]
  },
  {
   "attachments": {},
   "cell_type": "markdown",
   "metadata": {},
   "source": [
    "### Strings"
   ]
  },
  {
   "cell_type": "code",
   "execution_count": null,
   "metadata": {
    "jupyter": {
     "outputs_hidden": false
    },
    "slideshow": {
     "slide_type": "fragment"
    }
   },
   "outputs": [],
   "source": [
    "# str are \"strings\" of characters\n",
    "s = 'abc'\n",
    "type(s)"
   ]
  },
  {
   "attachments": {},
   "cell_type": "markdown",
   "metadata": {},
   "source": [
    "### Lists"
   ]
  },
  {
   "cell_type": "code",
   "execution_count": null,
   "metadata": {
    "jupyter": {
     "outputs_hidden": false
    },
    "slideshow": {
     "slide_type": "slide"
    }
   },
   "outputs": [],
   "source": [
    "# リストは角括弧[]で示された要素のコレクションです\n",
    "# これらの括弧があるため、リストであることがわかります\n",
    "my_list = [1, 2, 3, 4]\n",
    "my_list"
   ]
  },
  {
   "cell_type": "code",
   "execution_count": null,
   "metadata": {
    "jupyter": {
     "outputs_hidden": false
    },
    "slideshow": {
     "slide_type": "fragment"
    }
   },
   "outputs": [],
   "source": [
    "type(my_list)"
   ]
  },
  {
   "attachments": {},
   "cell_type": "markdown",
   "metadata": {},
   "source": [
    "### Dictionary"
   ]
  },
  {
   "cell_type": "code",
   "execution_count": null,
   "metadata": {
    "jupyter": {
     "outputs_hidden": false
    },
    "slideshow": {
     "slide_type": "slide"
    }
   },
   "outputs": [],
   "source": [
    "# dictionaryはkey:valueのペアのコレクションであり、中括弧{}で示されます\n",
    "person = {'first_name':'Yoh', 'last_name':'Kawano','hobby':'soccer'}\n",
    "person"
   ]
  },
  {
   "cell_type": "code",
   "execution_count": null,
   "metadata": {
    "jupyter": {
     "outputs_hidden": false
    },
    "slideshow": {
     "slide_type": "fragment"
    }
   },
   "outputs": [],
   "source": [
    "type(person)"
   ]
  },
  {
   "cell_type": "code",
   "execution_count": null,
   "metadata": {
    "slideshow": {
     "slide_type": "fragment"
    }
   },
   "outputs": [],
   "source": [
    "# 明確にするため、およびkey:valueペアが多数ある場合には、dictionaryをこのように書くこともできます\n",
    "person = {\n",
    "            'first_name':'Yoh', \n",
    "            'last_name':'Kawano',\n",
    "            'hobbies':'soccer'\n",
    "}"
   ]
  },
  {
   "attachments": {},
   "cell_type": "markdown",
   "metadata": {
    "slideshow": {
     "slide_type": "slide"
    }
   },
   "source": [
    "# Map Homework\n",
    "\n",
    "Foliumで地図を作ろう！まずはテーマを決める。例えば「麗澤大学付近トップ10おいしいとこ」とか。\n",
    "\n",
    "手順：\n",
    "VSCodeで`Week05`フォルダーの中に`mymap.ipynb`ファイルを作る\n",
    "Markdownセルを作って、マップの紹介をする\n",
    "Codeセルを作ってマップを作る\n",
    "`import folium`から初め、マーカーを４っつ以上作る\n",
    "popupとtooltipを記入\n",
    "GitHubリポジトリにcommit\n",
    "\n",
    "提出するのはあなたのGitHubのリンクです。こんな感じになるはずです：\n",
    "https://github.com/yohman/23-1-Reitaku-GIS/blob/main/Weeks/Week05/mymap.ipynb"
   ]
  },
  {
   "attachments": {},
   "cell_type": "markdown",
   "metadata": {
    "slideshow": {
     "slide_type": "slide"
    }
   },
   "source": [
    "## Closing words\n",
    "\n",
    "\n",
    "どう？楽しかったでしょう！ マップは、データ サイエンスの世界で最も価値のあるビジュアライゼーションのひとつです。すぐにアクセスでき、世界中で理解され、データ レイヤーがぎっしり詰まっています。\n",
    "\n",
    "Folium モジュールのドキュメントを読んで、独自のマップを作成してください。\n",
    "\n",
    "https://python-visualization.github.io/folium/quickstart.html"
   ]
  },
  {
   "attachments": {},
   "cell_type": "markdown",
   "metadata": {},
   "source": []
  }
 ],
 "metadata": {
  "celltoolbar": "Slideshow",
  "kernelspec": {
   "display_name": "xymax",
   "language": "python",
   "name": "python3"
  },
  "language_info": {
   "codemirror_mode": {
    "name": "ipython",
    "version": 3
   },
   "file_extension": ".py",
   "mimetype": "text/x-python",
   "name": "python",
   "nbconvert_exporter": "python",
   "pygments_lexer": "ipython3",
   "version": "3.11.0"
  },
  "toc": {
   "base_numbering": 1,
   "nav_menu": {},
   "number_sections": true,
   "sideBar": true,
   "skip_h1_title": true,
   "title_cell": "Table of Contents",
   "title_sidebar": "Contents",
   "toc_cell": true,
   "toc_position": {
    "height": "calc(100% - 180px)",
    "left": "10px",
    "top": "150px",
    "width": "319px"
   },
   "toc_section_display": true,
   "toc_window_display": false
  },
  "vscode": {
   "interpreter": {
    "hash": "6f3a6b90b75928055da0f19108388f80ab08f35cf0c332cf7927be5faa57e6ed"
   }
  }
 },
 "nbformat": 4,
 "nbformat_minor": 4
}
