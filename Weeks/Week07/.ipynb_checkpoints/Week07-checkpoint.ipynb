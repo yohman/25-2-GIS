{
 "cells": [
  {
   "cell_type": "markdown",
   "metadata": {
    "slideshow": {
     "slide_type": "slide"
    }
   },
   "source": [
    "# Mapping Japan\n",
    "\n",
    "<img src=\"images/japan the target map.jpg\" width=\"300\">\n",
    "\n",
    "[Source: David Rumsey Map Collection](https://www.davidrumsey.com/luna/servlet/detail/RUMSEY~8~1~262962~5524075:Japan,-the-target---a-pictorial-Jap)\n",
    "\n",
    "このラボでは初めて「日本」をベースとしたマッピング分析を行います。日本ベースの地図を作成するには、空間データがどのように構成されているかを理解することが重要である。\n"
   ]
  },
  {
   "cell_type": "markdown",
   "metadata": {
    "slideshow": {
     "slide_type": "slide"
    }
   },
   "source": [
    "## 色んな空間データ\n",
    "\n",
    "<img src=\"images/gis data.png\" width=400>\n",
    "\n",
    "[Source: ESRI Japan](https://www.esrij.com/gis-guide/gis-datamodel/gis-datamodel/)\n",
    "\n",
    "利用可能なさまざまな空間データ形式と、どの形式が Python での使用に適用できるかを見てみましょう。\n"
   ]
  },
  {
   "cell_type": "markdown",
   "metadata": {
    "slideshow": {
     "slide_type": "subslide"
    }
   },
   "source": [
    "\n",
    "### CSV\n",
    "\n",
    "<img src=\"images/csv.png\" width=100>\n",
    "\n",
    "csv ファイルは「カンマ区切り値」であり、基本的には EXCEL や Google スプレッドシートなどのスプレッドシート アプリケーションで開くことができる単純なテキスト ファイルです。 CSV ファイルを「空間」ファイルにするには、緯度と経度のフィールドを含める必要があり、これらのフィールドは地図上の座標に変換されます。 GIS 用の CSV ファイルは、通常、ポイント データに使用されます。\n"
   ]
  },
  {
   "cell_type": "markdown",
   "metadata": {
    "slideshow": {
     "slide_type": "subslide"
    }
   },
   "source": [
    "### geojson\n",
    "\n",
    "<img src=\"images/geojson.png\" width=150>\n",
    "\n",
    "geojson ファイルは地理的な json ファイルであり、json は「JavaScript オブジェクト表記法」を表します。 JavaScript 形式として相互運用性が高く、Python を含むほとんどの GIS アプリケーションで使用できます。 また、オープンソース データ ソリューションとしても広く受け入れられており、オンライン空間データの視覚化およびオーサリング ツールである geojson.io によってサポートされています。 これは、Python ベースの GIS 解析に推奨されるアプローチです。\n",
    "\n",
    "[geojson.io](https://geojson.io/)"
   ]
  },
  {
   "cell_type": "markdown",
   "metadata": {
    "slideshow": {
     "slide_type": "subslide"
    }
   },
   "source": [
    "### shapefile\n",
    "\n",
    "<img src=\"images/shp.png\" width=150>\n",
    "\n",
    "シェープファイルは、GIS ソフトウェア ベンダーである ESRI によって作成された独自のデータ形式です。 これは長い間存在しており、引き続き GIS データの標準であり、多くの組織がこの形式のデータを使用および提供しています。 シェープファイルは多くのファイルを組み合わせたものであり、それだけに扱いが難しいですが、広く使われ続けていることを考えると、プロジェクトで使用する可能性があります。 シェープファイルは geopandas でサポートされており、Python で使用できます。\n"
   ]
  },
  {
   "cell_type": "markdown",
   "metadata": {},
   "source": [
    "\n",
    "\n",
    "\n",
    "\n",
    "\n",
    "https://www.esrij.com/products/japan-shp/\n",
    "\n"
   ]
  },
  {
   "cell_type": "markdown",
   "metadata": {
    "slideshow": {
     "slide_type": "slide"
    }
   },
   "source": [
    "## GIS と言えば\n",
    "\n",
    "では、GIS 研究の一般的な状況はどのようなものでしょうか? GIS サービスを提供するベンダーは数多くありますが、業界のリーダーをいくつか紹介します。\n"
   ]
  },
  {
   "cell_type": "markdown",
   "metadata": {
    "slideshow": {
     "slide_type": "subslide"
    }
   },
   "source": [
    "### ESRI\n",
    "\n",
    "<img src=\"images/esri.png\">\n",
    "\n",
    "[ESRI Japan](https://www.esrij.com/)\n",
    "\n",
    "ESRI はカリフォルニア州レッドランズに拠点を置き、70 年代から存在しています。 ジャック・デンジャーモンドによって設立され、多くの人が現代の地図製作法の父と考えています。 ESRI は最も歴史のある GIS 企業の 1 つであり、空間ソリューションにおける業界大手でもあります。 彼らは政府機関や学術機関とのパートナーシップで知られており、世界的に存在感を持っています。\n"
   ]
  },
  {
   "cell_type": "markdown",
   "metadata": {
    "slideshow": {
     "slide_type": "subslide"
    }
   },
   "source": [
    "\n",
    "### Mapbox\n",
    "\n",
    "<img src=\"images/mapbox.png\" width=500>\n",
    "\n",
    "[Mapbox Japan](https://www.mapbox.jp/)\n",
    "\n",
    "Mapboxは、カスタム地図や位置情報ベースのアプリケーションを作成するためのプラットフォームを提供する会社です。高品質でカスタマイズ可能な地図データと、さまざまなデザインスタイルやインタラクティブな機能を提供しています。また、地図データの統合や解析、リアルタイムの位置情報処理など、高度な地理情報システム（GIS）の機能も提供しています。"
   ]
  },
  {
   "cell_type": "markdown",
   "metadata": {
    "slideshow": {
     "slide_type": "subslide"
    }
   },
   "source": [
    "\n",
    "### Google Earth\n",
    "\n",
    "<img src=\"images/ge.png\" width=500>\n",
    "\n",
    "[Google Earth](https://earth.google.com/web)\n",
    "\n",
    "Google の地図製品は数多くありますが、今回は、これまでに作成された最初の主力 3D マッピング プラットフォームの 1 つである Google Earth を紹介します。地球の表面を自由に探索し、ズームインやズームアウト、回転、傾けるなどの操作が可能です。また、街の建物や地形の3D表示、ストリートビュー（地上の画像）の閲覧、地図上に注釈やマーカーを追加するなどの機能も提供されています。\n",
    "\n",
    "Google Earthは、教育や観光、研究、衛生管理、都市計画など、さまざまな目的で活用されています。また、歴史的な地理情報や自然災害の追跡、環境変化のモニタリングなどにも役立てられています。\n",
    "\n",
    "- [Urban expansion](https://earth.google.com/web/@25.12809983,55.29469501,32a,74819d,35y,314h,41t,0r/data=CisSKRIgMGM5NzE2MWM0Njk4MTFlYWJlMTMyZGUyNWIyYWZmNjkiBWR1YmFp)\n",
    "- [Tokyo at night](https://earth.google.com/web/@35.71029405,139.73076948,4.48363497a,4507464.54025819d,35y,0h,0t,0r/data=CisSKRIgMGY3ZTJkYzdlOGExMTFlNjk5MGQ2ZjgxOGQ2OWE2ZTciBXRva3lv)\n",
    "- [Tokyo's heat island effect](https://earth.google.com/web/@35.70892705,139.73197113,5.0183326a,4507521.99932186d,35y,0h,0t,0r/data=CjASLhIgYTk3NzMwMDc0NjE3MTFlYWJjNDIyN2FkODE2NGU5NzciCnZveV9zcGxhc2g)"
   ]
  },
  {
   "cell_type": "markdown",
   "metadata": {
    "slideshow": {
     "slide_type": "slide"
    }
   },
   "source": [
    "# Today's libraries\n",
    "\n",
    "このラボで使うモジュールを初めに import しましょう。"
   ]
  },
  {
   "cell_type": "code",
   "execution_count": null,
   "metadata": {
    "slideshow": {
     "slide_type": "fragment"
    }
   },
   "outputs": [],
   "source": [
    "import geopandas as gpd\n",
    "import pandas as pd\n"
   ]
  },
  {
   "cell_type": "markdown",
   "metadata": {
    "slideshow": {
     "slide_type": "slide"
    }
   },
   "source": [
    "## Part 1 - GIS Dataのダウンロードと読み込み\n",
    "\n",
    "まずは「区」のポリゴンデータをダウンロードします。\n",
    "\n",
    "https://nlftp.mlit.go.jp/ksj/"
   ]
  },
  {
   "cell_type": "code",
   "execution_count": null,
   "metadata": {
    "slideshow": {
     "slide_type": "fragment"
    }
   },
   "outputs": [],
   "source": [
    "chiba_ku = gpd.read_file('data/N03-20230101_12_GML/N03-23_12_230101.geojson')"
   ]
  },
  {
   "cell_type": "code",
   "execution_count": null,
   "metadata": {
    "slideshow": {
     "slide_type": "slide"
    }
   },
   "outputs": [],
   "source": [
    "# とりあえずマップとしてアウトプット\n",
    "chiba_ku.plot()"
   ]
  },
  {
   "cell_type": "code",
   "execution_count": null,
   "metadata": {
    "slideshow": {
     "slide_type": "slide"
    }
   },
   "outputs": [],
   "source": [
    "chiba_ku.head()"
   ]
  },
  {
   "cell_type": "code",
   "execution_count": null,
   "metadata": {
    "slideshow": {
     "slide_type": "slide"
    }
   },
   "outputs": [],
   "source": [
    "chiba_ku.info()"
   ]
  },
  {
   "cell_type": "markdown",
   "metadata": {
    "slideshow": {
     "slide_type": "slide"
    }
   },
   "source": [
    "## Part 2 - 国勢調査データをダウンロード\n",
    "\n",
    "https://www.e-stat.go.jp/gis/statmap-search?type=1"
   ]
  },
  {
   "cell_type": "markdown",
   "metadata": {},
   "source": [
    "次はPopulationデータをダウンロード\n",
    "\n",
    "https://www.e-stat.go.jp/gis/statmap-search?page=1&type=1&toukeiCode=00200521\n"
   ]
  },
  {
   "cell_type": "code",
   "execution_count": null,
   "metadata": {},
   "outputs": [],
   "source": [
    "chiba_pop = pd.read_csv('data/chiba.csv')"
   ]
  },
  {
   "cell_type": "code",
   "execution_count": null,
   "metadata": {},
   "outputs": [],
   "source": [
    "chiba_pop.head()"
   ]
  },
  {
   "cell_type": "code",
   "execution_count": null,
   "metadata": {},
   "outputs": [],
   "source": [
    "chiba_pop.info()"
   ]
  },
  {
   "cell_type": "markdown",
   "metadata": {},
   "source": [
    "## Part 3 - GISデータと国勢調査データを`Merge`する\n"
   ]
  },
  {
   "cell_type": "markdown",
   "metadata": {},
   "source": [
    "Mergeするには次のチェックポイントを確認：\n",
    "\n",
    "1. mergeするfieldを決める\n",
    "1. field names が同じであることを確認。違う場合は同じにする。\n",
    "1. field達が同じ data type であることを確認\n",
    "\n",
    "この二つがオッケーであれば merge function を使って実行 "
   ]
  },
  {
   "cell_type": "markdown",
   "metadata": {},
   "source": [
    "### 3-1 Mergeするfieldを決めよう\n",
    "\n",
    "- `chiba_ku` → `N03_007`\n",
    "- `chiba_pop` → `KEY_CODE`"
   ]
  },
  {
   "cell_type": "markdown",
   "metadata": {},
   "source": [
    "### 3-2 field names を揃えよう\n",
    "\n",
    "残念ながらmergeするfieldnameが違う😩\n",
    "\n",
    "`rename` functionを使って一致するようにしましょう。\n",
    "\n",
    "この場合は `KEY_CODE` に一致しよう。"
   ]
  },
  {
   "cell_type": "code",
   "execution_count": null,
   "metadata": {},
   "outputs": [],
   "source": [
    "# rename\n",
    "chiba_ku.rename(columns={'N03_007':'KEY_CODE'},inplace=True)"
   ]
  },
  {
   "cell_type": "code",
   "execution_count": null,
   "metadata": {},
   "outputs": [],
   "source": [
    "chiba_ku"
   ]
  },
  {
   "cell_type": "markdown",
   "metadata": {},
   "source": [
    "### Merge する　field の data typeが同じかどうかを確認\n",
    "\n",
    "Oh now! datatypeも違う😩\n",
    "\n",
    "- `chiba_ku['KEY_CODE]` → OBJECT\n",
    "- `chiba_pop['KEY_CODE']` → int64\n",
    "\n",
    "では両方 int にしましょう"
   ]
  },
  {
   "cell_type": "code",
   "execution_count": null,
   "metadata": {},
   "outputs": [],
   "source": [
    "chiba_ku['KEY_CODE'] = chiba_ku['KEY_CODE'].astype(int)"
   ]
  },
  {
   "cell_type": "code",
   "execution_count": null,
   "metadata": {},
   "outputs": [],
   "source": [
    "chiba_ku.info"
   ]
  },
  {
   "cell_type": "code",
   "execution_count": null,
   "metadata": {},
   "outputs": [],
   "source": [
    "chiba_ku_pop = chiba_ku.merge(chiba_pop,on='KEY_CODE')"
   ]
  },
  {
   "cell_type": "code",
   "execution_count": null,
   "metadata": {},
   "outputs": [],
   "source": [
    "chiba_ku_pop"
   ]
  },
  {
   "cell_type": "markdown",
   "metadata": {},
   "source": [
    "## Part 4 - Choropleth map を作ろう"
   ]
  },
  {
   "cell_type": "markdown",
   "metadata": {},
   "source": [
    "いよいよマップの時間！\n",
    "\n",
    "Choropleth map を作る手順は：\n",
    "\n",
    "1. どのフィールドをマップするかを決める\n",
    "1. そのフィールドが numeric であることを確認\n",
    "1. マップを作る！"
   ]
  },
  {
   "cell_type": "markdown",
   "metadata": {},
   "source": [
    "### 4-1 フィールドを決める\n",
    "\n",
    "まずは人口マップを作りたいので `人口総数` フィールドを使おう。"
   ]
  },
  {
   "cell_type": "markdown",
   "metadata": {},
   "source": [
    "### 4-2 フィールドが numeric であることを確認"
   ]
  },
  {
   "cell_type": "code",
   "execution_count": null,
   "metadata": {},
   "outputs": [],
   "source": [
    "chiba_ku_pop.info()"
   ]
  },
  {
   "cell_type": "markdown",
   "metadata": {},
   "source": [
    "Oh no😩! やっぱり int ではなく object だった。\n",
    "\n",
    "Let's fix that!"
   ]
  },
  {
   "cell_type": "code",
   "execution_count": null,
   "metadata": {},
   "outputs": [],
   "source": [
    "chiba_ku_pop['人口総数'] = chiba_ku_pop['人口総数'].astype(int)"
   ]
  },
  {
   "cell_type": "code",
   "execution_count": null,
   "metadata": {},
   "outputs": [],
   "source": [
    "# check\n",
    "chiba_ku_pop.info()"
   ]
  },
  {
   "cell_type": "markdown",
   "metadata": {},
   "source": [
    "### 4-3 Let's map!"
   ]
  },
  {
   "cell_type": "code",
   "execution_count": null,
   "metadata": {},
   "outputs": [],
   "source": [
    "chiba_ku_pop.plot(column='人口総数',legend=True)"
   ]
  },
  {
   "cell_type": "markdown",
   "metadata": {},
   "source": []
  }
 ],
 "metadata": {
  "kernelspec": {
   "display_name": "Python 3",
   "language": "python",
   "name": "python3"
  },
  "language_info": {
   "codemirror_mode": {
    "name": "ipython",
    "version": 3
   },
   "file_extension": ".py",
   "mimetype": "text/x-python",
   "name": "python",
   "nbconvert_exporter": "python",
   "pygments_lexer": "ipython3",
   "version": "3.8.8"
  }
 },
 "nbformat": 4,
 "nbformat_minor": 2
}
