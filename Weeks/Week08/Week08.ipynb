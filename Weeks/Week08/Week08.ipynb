{
 "cells": [
  {
   "cell_type": "markdown",
   "metadata": {
    "slideshow": {
     "slide_type": "slide"
    }
   },
   "source": [
    "# 自転車犯罪マップ\n",
    "\n",
    "<img src=\"https://raw.githubusercontent.com/yohman/23-1-Reitaku-GIS/main/Weeks/Week08/images/crime map.png\" width=600>\n",
    "\n",
    "このラボの目的:\n",
    "\n",
    "- オープンデータソースからデータを取得し、Python ノートブックにインポート\n",
    "- 複数の列から単一の住所フィールドを作成\n",
    "- 緯度と経度の座標を割り当てて各行をジオコーディング\n",
    "- 美しいチャートや地図を作成"
   ]
  },
  {
   "cell_type": "markdown",
   "metadata": {
    "slideshow": {
     "slide_type": "slide"
    }
   },
   "source": [
    "## ライブラリをインポートする\n",
    "\n",
    "このラボで使うライブラリーを一気にインポートしよう。"
   ]
  },
  {
   "cell_type": "code",
   "execution_count": 1,
   "metadata": {
    "slideshow": {
     "slide_type": "fragment"
    }
   },
   "outputs": [],
   "source": [
    "## for spatial analysis\n",
    "import geopandas as gpd\n",
    "\n",
    "## for data analysis\n",
    "import pandas as pd\n",
    "\n",
    "## for pretty charts\n",
    "import plotly.express as px\n",
    "\n",
    "# for plotly themes\n",
    "import plotly.io as pio\n",
    "\n",
    "## for URL requests\n",
    "import urllib.request\n",
    "import requests\n",
    "\n",
    "## for maps\n",
    "import folium\n",
    "from folium import plugins"
   ]
  },
  {
   "cell_type": "markdown",
   "metadata": {},
   "source": [
    "# オープンデータとは？\n",
    "\n",
    "どんなプロジェクトでも、どんなマップでもデータが必要です。でも「いい」データって意外となかったりするので、イメージしていたマップが作れないことがよくある。そこで、最近政府機関がオープンデータを提供する方向性があり、あらゆる行政がCSVやEXCELフォーマットでデータをダウンロードできるように提供している。\n",
    "\n",
    "Let's find some open data!\n",
    "\n",
    "Here is an example:\n",
    "\n",
    "https://www.pref.chiba.lg.jp/shoufuku/opendata/techoutoukei.html"
   ]
  },
  {
   "cell_type": "markdown",
   "metadata": {
    "slideshow": {
     "slide_type": "slide"
    }
   },
   "source": [
    "## 自転車盗難データをダウンロード\n",
    "\n",
    "<img src=\"https://raw.githubusercontent.com/yohman/23-1-Reitaku-GIS/main/Weeks/Week08/images/Chiba%20police.png\" width=400>\n",
    "\n",
    "まずは千葉県警察のサイトにアクセス。そこから次に手順でデータをダウンロード：\n",
    "\n",
    "➡️ https://www.police.pref.chiba.jp/\n",
    "\n",
    "➡️ 安全な暮らし\n",
    "\n",
    "➡️ 地域の防犯\n",
    "\n",
    "➡️ あなたの町の犯罪情勢\n",
    "\n",
    "➡️ オープンデータ\n",
    "\n",
    "➡️ 自転車盗（CSV）"
   ]
  },
  {
   "cell_type": "markdown",
   "metadata": {
    "slideshow": {
     "slide_type": "slide"
    }
   },
   "source": [
    "ダウンロードしたファイルを `chibike.csv` と名付けて、このフォルダー（Week08) にセーブ。"
   ]
  },
  {
   "cell_type": "code",
   "execution_count": 2,
   "metadata": {},
   "outputs": [],
   "source": [
    "# ダウンロードしたデータを読み込もう\n",
    "df = pd.read_csv('chibike.csv', encoding='cp932')"
   ]
  },
  {
   "cell_type": "code",
   "execution_count": 3,
   "metadata": {
    "slideshow": {
     "slide_type": "slide"
    }
   },
   "outputs": [
    {
     "name": "stdout",
     "output_type": "stream",
     "text": [
      "<class 'pandas.core.frame.DataFrame'>\n",
      "RangeIndex: 6317 entries, 0 to 6316\n",
      "Data columns (total 15 columns):\n",
      " #   Column         Non-Null Count  Dtype  \n",
      "---  ------         --------------  -----  \n",
      " 0   罪名             6317 non-null   object \n",
      " 1   手口             6317 non-null   object \n",
      " 2   管轄警察署（発生地）     6317 non-null   object \n",
      " 3   管轄交番・駐在所（発生地）  6314 non-null   object \n",
      " 4   市区町村コード（発生地）   6316 non-null   float64\n",
      " 5   都道府県（発生地）      6316 non-null   object \n",
      " 6   市区町村（発生地）      6316 non-null   object \n",
      " 7   町丁目（発生地）       6301 non-null   object \n",
      " 8   発生年月日（始期）      6317 non-null   object \n",
      " 9   発生時（始期）        6317 non-null   object \n",
      " 10  発生場所           6317 non-null   object \n",
      " 11  発生場所の詳細        6317 non-null   object \n",
      " 12  被害者の年齢         6317 non-null   object \n",
      " 13  被害者の職業         6317 non-null   object \n",
      " 14  施錠関係           6317 non-null   object \n",
      "dtypes: float64(1), object(14)\n",
      "memory usage: 740.4+ KB\n"
     ]
    }
   ],
   "source": [
    "# データの情報\n",
    "df.info()"
   ]
  },
  {
   "cell_type": "markdown",
   "metadata": {
    "slideshow": {
     "slide_type": "slide"
    }
   },
   "source": [
    "Wow! ７千件もある！ちょっと多いので場所で絞りましょう。<h1>「柏」</h1>だけのデータフレームを作ろう。"
   ]
  },
  {
   "cell_type": "code",
   "execution_count": 4,
   "metadata": {},
   "outputs": [
    {
     "data": {
      "text/html": [
       "<div>\n",
       "<style scoped>\n",
       "    .dataframe tbody tr th:only-of-type {\n",
       "        vertical-align: middle;\n",
       "    }\n",
       "\n",
       "    .dataframe tbody tr th {\n",
       "        vertical-align: top;\n",
       "    }\n",
       "\n",
       "    .dataframe thead th {\n",
       "        text-align: right;\n",
       "    }\n",
       "</style>\n",
       "<table border=\"1\" class=\"dataframe\">\n",
       "  <thead>\n",
       "    <tr style=\"text-align: right;\">\n",
       "      <th></th>\n",
       "      <th>罪名</th>\n",
       "      <th>手口</th>\n",
       "      <th>管轄警察署（発生地）</th>\n",
       "      <th>管轄交番・駐在所（発生地）</th>\n",
       "      <th>市区町村コード（発生地）</th>\n",
       "      <th>都道府県（発生地）</th>\n",
       "      <th>市区町村（発生地）</th>\n",
       "      <th>町丁目（発生地）</th>\n",
       "      <th>発生年月日（始期）</th>\n",
       "      <th>発生時（始期）</th>\n",
       "      <th>発生場所</th>\n",
       "      <th>発生場所の詳細</th>\n",
       "      <th>被害者の年齢</th>\n",
       "      <th>被害者の職業</th>\n",
       "      <th>施錠関係</th>\n",
       "    </tr>\n",
       "  </thead>\n",
       "  <tbody>\n",
       "    <tr>\n",
       "      <th>0</th>\n",
       "      <td>窃盗</td>\n",
       "      <td>自転車盗</td>\n",
       "      <td>千葉中央</td>\n",
       "      <td>京成千葉中央駅前交番</td>\n",
       "      <td>121011.0</td>\n",
       "      <td>千葉県</td>\n",
       "      <td>千葉市中央区</td>\n",
       "      <td>新宿２丁目</td>\n",
       "      <td>2021-01-04</td>\n",
       "      <td>03</td>\n",
       "      <td>４階建て以上共同住宅</td>\n",
       "      <td>駐車（輪）場</td>\n",
       "      <td>40歳代</td>\n",
       "      <td>その他</td>\n",
       "      <td>施錠した</td>\n",
       "    </tr>\n",
       "    <tr>\n",
       "      <th>1</th>\n",
       "      <td>窃盗</td>\n",
       "      <td>自転車盗</td>\n",
       "      <td>千葉中央</td>\n",
       "      <td>京成千葉中央駅前交番</td>\n",
       "      <td>121011.0</td>\n",
       "      <td>千葉県</td>\n",
       "      <td>千葉市中央区</td>\n",
       "      <td>新宿２丁目</td>\n",
       "      <td>2021-02-15</td>\n",
       "      <td>19</td>\n",
       "      <td>その他の住宅（３階建て以下共同住宅等）</td>\n",
       "      <td>駐車（輪）場</td>\n",
       "      <td>30歳代</td>\n",
       "      <td>その他</td>\n",
       "      <td>施錠した</td>\n",
       "    </tr>\n",
       "    <tr>\n",
       "      <th>2</th>\n",
       "      <td>窃盗</td>\n",
       "      <td>自転車盗</td>\n",
       "      <td>千葉中央</td>\n",
       "      <td>京成千葉中央駅前交番</td>\n",
       "      <td>121011.0</td>\n",
       "      <td>千葉県</td>\n",
       "      <td>千葉市中央区</td>\n",
       "      <td>新宿２丁目</td>\n",
       "      <td>2021-04-07</td>\n",
       "      <td>20</td>\n",
       "      <td>４階建て以上共同住宅</td>\n",
       "      <td>駐車（輪）場</td>\n",
       "      <td>30歳代</td>\n",
       "      <td>その他</td>\n",
       "      <td>施錠した</td>\n",
       "    </tr>\n",
       "    <tr>\n",
       "      <th>3</th>\n",
       "      <td>窃盗</td>\n",
       "      <td>自転車盗</td>\n",
       "      <td>千葉中央</td>\n",
       "      <td>京成千葉中央駅前交番</td>\n",
       "      <td>121011.0</td>\n",
       "      <td>千葉県</td>\n",
       "      <td>千葉市中央区</td>\n",
       "      <td>新宿２丁目</td>\n",
       "      <td>2021-06-17</td>\n",
       "      <td>18</td>\n",
       "      <td>４階建て以上共同住宅</td>\n",
       "      <td>駐車（輪）場</td>\n",
       "      <td>10歳代</td>\n",
       "      <td>その他</td>\n",
       "      <td>施錠した</td>\n",
       "    </tr>\n",
       "    <tr>\n",
       "      <th>4</th>\n",
       "      <td>窃盗</td>\n",
       "      <td>自転車盗</td>\n",
       "      <td>千葉中央</td>\n",
       "      <td>京成千葉中央駅前交番</td>\n",
       "      <td>121011.0</td>\n",
       "      <td>千葉県</td>\n",
       "      <td>千葉市中央区</td>\n",
       "      <td>新田町</td>\n",
       "      <td>2021-10-14</td>\n",
       "      <td>16</td>\n",
       "      <td>４階建て以上共同住宅</td>\n",
       "      <td>駐車（輪）場</td>\n",
       "      <td>20歳代</td>\n",
       "      <td>その他</td>\n",
       "      <td>施錠した</td>\n",
       "    </tr>\n",
       "    <tr>\n",
       "      <th>...</th>\n",
       "      <td>...</td>\n",
       "      <td>...</td>\n",
       "      <td>...</td>\n",
       "      <td>...</td>\n",
       "      <td>...</td>\n",
       "      <td>...</td>\n",
       "      <td>...</td>\n",
       "      <td>...</td>\n",
       "      <td>...</td>\n",
       "      <td>...</td>\n",
       "      <td>...</td>\n",
       "      <td>...</td>\n",
       "      <td>...</td>\n",
       "      <td>...</td>\n",
       "      <td>...</td>\n",
       "    </tr>\n",
       "    <tr>\n",
       "      <th>6312</th>\n",
       "      <td>窃盗</td>\n",
       "      <td>自転車盗</td>\n",
       "      <td>四街道</td>\n",
       "      <td>旭交番</td>\n",
       "      <td>122289.0</td>\n",
       "      <td>千葉県</td>\n",
       "      <td>四街道市</td>\n",
       "      <td>小名木</td>\n",
       "      <td>2021-08-31</td>\n",
       "      <td>08</td>\n",
       "      <td>一戸建住宅</td>\n",
       "      <td>駐車（輪）場</td>\n",
       "      <td>30歳代</td>\n",
       "      <td>その他</td>\n",
       "      <td>施錠した</td>\n",
       "    </tr>\n",
       "    <tr>\n",
       "      <th>6313</th>\n",
       "      <td>窃盗</td>\n",
       "      <td>自転車盗</td>\n",
       "      <td>四街道</td>\n",
       "      <td>旭交番</td>\n",
       "      <td>122289.0</td>\n",
       "      <td>千葉県</td>\n",
       "      <td>四街道市</td>\n",
       "      <td>鹿渡</td>\n",
       "      <td>2021-04-13</td>\n",
       "      <td>18</td>\n",
       "      <td>一戸建住宅</td>\n",
       "      <td>駐車（輪）場</td>\n",
       "      <td>10歳代</td>\n",
       "      <td>高校生</td>\n",
       "      <td>施錠せず</td>\n",
       "    </tr>\n",
       "    <tr>\n",
       "      <th>6314</th>\n",
       "      <td>窃盗</td>\n",
       "      <td>自転車盗</td>\n",
       "      <td>四街道</td>\n",
       "      <td>旭交番</td>\n",
       "      <td>122289.0</td>\n",
       "      <td>千葉県</td>\n",
       "      <td>四街道市</td>\n",
       "      <td>鹿渡</td>\n",
       "      <td>2021-09-29</td>\n",
       "      <td>16</td>\n",
       "      <td>その他の住宅（３階建て以下共同住宅等）</td>\n",
       "      <td>その他</td>\n",
       "      <td>20歳代</td>\n",
       "      <td>その他</td>\n",
       "      <td>施錠した</td>\n",
       "    </tr>\n",
       "    <tr>\n",
       "      <th>6315</th>\n",
       "      <td>窃盗</td>\n",
       "      <td>自転車盗</td>\n",
       "      <td>四街道</td>\n",
       "      <td>旭交番</td>\n",
       "      <td>122289.0</td>\n",
       "      <td>千葉県</td>\n",
       "      <td>四街道市</td>\n",
       "      <td>みそら３丁目</td>\n",
       "      <td>2021-09-29</td>\n",
       "      <td>16</td>\n",
       "      <td>その他</td>\n",
       "      <td>その他</td>\n",
       "      <td>40歳代</td>\n",
       "      <td>その他</td>\n",
       "      <td>施錠した</td>\n",
       "    </tr>\n",
       "    <tr>\n",
       "      <th>6316</th>\n",
       "      <td>窃盗</td>\n",
       "      <td>自転車盗</td>\n",
       "      <td>四街道</td>\n",
       "      <td>旭交番</td>\n",
       "      <td>122289.0</td>\n",
       "      <td>千葉県</td>\n",
       "      <td>四街道市</td>\n",
       "      <td>鷹の台２丁目</td>\n",
       "      <td>2021-02-04</td>\n",
       "      <td>17</td>\n",
       "      <td>一戸建住宅</td>\n",
       "      <td>駐車（輪）場</td>\n",
       "      <td>10歳代</td>\n",
       "      <td>高校生</td>\n",
       "      <td>施錠せず</td>\n",
       "    </tr>\n",
       "  </tbody>\n",
       "</table>\n",
       "<p>6317 rows × 15 columns</p>\n",
       "</div>"
      ],
      "text/plain": [
       "      罪名    手口 管轄警察署（発生地） 管轄交番・駐在所（発生地）  市区町村コード（発生地） 都道府県（発生地） 市区町村（発生地）  \\\n",
       "0     窃盗  自転車盗       千葉中央    京成千葉中央駅前交番      121011.0       千葉県    千葉市中央区   \n",
       "1     窃盗  自転車盗       千葉中央    京成千葉中央駅前交番      121011.0       千葉県    千葉市中央区   \n",
       "2     窃盗  自転車盗       千葉中央    京成千葉中央駅前交番      121011.0       千葉県    千葉市中央区   \n",
       "3     窃盗  自転車盗       千葉中央    京成千葉中央駅前交番      121011.0       千葉県    千葉市中央区   \n",
       "4     窃盗  自転車盗       千葉中央    京成千葉中央駅前交番      121011.0       千葉県    千葉市中央区   \n",
       "...   ..   ...        ...           ...           ...       ...       ...   \n",
       "6312  窃盗  自転車盗        四街道           旭交番      122289.0       千葉県      四街道市   \n",
       "6313  窃盗  自転車盗        四街道           旭交番      122289.0       千葉県      四街道市   \n",
       "6314  窃盗  自転車盗        四街道           旭交番      122289.0       千葉県      四街道市   \n",
       "6315  窃盗  自転車盗        四街道           旭交番      122289.0       千葉県      四街道市   \n",
       "6316  窃盗  自転車盗        四街道           旭交番      122289.0       千葉県      四街道市   \n",
       "\n",
       "     町丁目（発生地）   発生年月日（始期） 発生時（始期）                 発生場所 発生場所の詳細 被害者の年齢 被害者の職業  \\\n",
       "0       新宿２丁目  2021-01-04      03           ４階建て以上共同住宅  駐車（輪）場   40歳代    その他   \n",
       "1       新宿２丁目  2021-02-15      19  その他の住宅（３階建て以下共同住宅等）  駐車（輪）場   30歳代    その他   \n",
       "2       新宿２丁目  2021-04-07      20           ４階建て以上共同住宅  駐車（輪）場   30歳代    その他   \n",
       "3       新宿２丁目  2021-06-17      18           ４階建て以上共同住宅  駐車（輪）場   10歳代    その他   \n",
       "4         新田町  2021-10-14      16           ４階建て以上共同住宅  駐車（輪）場   20歳代    その他   \n",
       "...       ...         ...     ...                  ...     ...    ...    ...   \n",
       "6312      小名木  2021-08-31      08                一戸建住宅  駐車（輪）場   30歳代    その他   \n",
       "6313       鹿渡  2021-04-13      18                一戸建住宅  駐車（輪）場   10歳代    高校生   \n",
       "6314       鹿渡  2021-09-29      16  その他の住宅（３階建て以下共同住宅等）     その他   20歳代    その他   \n",
       "6315   みそら３丁目  2021-09-29      16                  その他     その他   40歳代    その他   \n",
       "6316   鷹の台２丁目  2021-02-04      17                一戸建住宅  駐車（輪）場   10歳代    高校生   \n",
       "\n",
       "      施錠関係  \n",
       "0     施錠した  \n",
       "1     施錠した  \n",
       "2     施錠した  \n",
       "3     施錠した  \n",
       "4     施錠した  \n",
       "...    ...  \n",
       "6312  施錠した  \n",
       "6313  施錠せず  \n",
       "6314  施錠した  \n",
       "6315  施錠した  \n",
       "6316  施錠せず  \n",
       "\n",
       "[6317 rows x 15 columns]"
      ]
     },
     "execution_count": 4,
     "metadata": {},
     "output_type": "execute_result"
    }
   ],
   "source": [
    "df"
   ]
  },
  {
   "cell_type": "code",
   "execution_count": 5,
   "metadata": {},
   "outputs": [],
   "source": [
    "kashiwa = df[df['管轄警察署（発生地）'] == '柏'].copy()"
   ]
  },
  {
   "cell_type": "code",
   "execution_count": 11,
   "metadata": {
    "slideshow": {
     "slide_type": "slide"
    }
   },
   "outputs": [
    {
     "data": {
      "text/html": [
       "<div>\n",
       "<style scoped>\n",
       "    .dataframe tbody tr th:only-of-type {\n",
       "        vertical-align: middle;\n",
       "    }\n",
       "\n",
       "    .dataframe tbody tr th {\n",
       "        vertical-align: top;\n",
       "    }\n",
       "\n",
       "    .dataframe thead th {\n",
       "        text-align: right;\n",
       "    }\n",
       "</style>\n",
       "<table border=\"1\" class=\"dataframe\">\n",
       "  <thead>\n",
       "    <tr style=\"text-align: right;\">\n",
       "      <th></th>\n",
       "      <th>罪名</th>\n",
       "      <th>手口</th>\n",
       "      <th>管轄警察署（発生地）</th>\n",
       "      <th>管轄交番・駐在所（発生地）</th>\n",
       "      <th>市区町村コード（発生地）</th>\n",
       "      <th>都道府県（発生地）</th>\n",
       "      <th>市区町村（発生地）</th>\n",
       "      <th>町丁目（発生地）</th>\n",
       "      <th>発生年月日（始期）</th>\n",
       "      <th>発生時（始期）</th>\n",
       "      <th>発生場所</th>\n",
       "      <th>発生場所の詳細</th>\n",
       "      <th>被害者の年齢</th>\n",
       "      <th>被害者の職業</th>\n",
       "      <th>施錠関係</th>\n",
       "    </tr>\n",
       "  </thead>\n",
       "  <tbody>\n",
       "    <tr>\n",
       "      <th>2668</th>\n",
       "      <td>窃盗</td>\n",
       "      <td>自転車盗</td>\n",
       "      <td>柏</td>\n",
       "      <td>南柏駅前交番</td>\n",
       "      <td>122173.0</td>\n",
       "      <td>千葉県</td>\n",
       "      <td>柏市</td>\n",
       "      <td>豊四季</td>\n",
       "      <td>2021-04-11</td>\n",
       "      <td>18</td>\n",
       "      <td>その他の住宅（３階建て以下共同住宅等）</td>\n",
       "      <td>駐車（輪）場</td>\n",
       "      <td>20歳代</td>\n",
       "      <td>その他</td>\n",
       "      <td>施錠した</td>\n",
       "    </tr>\n",
       "  </tbody>\n",
       "</table>\n",
       "</div>"
      ],
      "text/plain": [
       "      罪名    手口 管轄警察署（発生地） 管轄交番・駐在所（発生地）  市区町村コード（発生地） 都道府県（発生地） 市区町村（発生地）  \\\n",
       "2668  窃盗  自転車盗          柏        南柏駅前交番      122173.0       千葉県        柏市   \n",
       "\n",
       "     町丁目（発生地）   発生年月日（始期） 発生時（始期）                 発生場所 発生場所の詳細 被害者の年齢 被害者の職業  \\\n",
       "2668      豊四季  2021-04-11      18  その他の住宅（３階建て以下共同住宅等）  駐車（輪）場   20歳代    その他   \n",
       "\n",
       "      施錠関係  \n",
       "2668  施錠した  "
      ]
     },
     "execution_count": 11,
     "metadata": {},
     "output_type": "execute_result"
    }
   ],
   "source": [
    "# データをチェック\n",
    "kashiwa.sample(1)"
   ]
  },
  {
   "cell_type": "code",
   "execution_count": 7,
   "metadata": {},
   "outputs": [
    {
     "name": "stdout",
     "output_type": "stream",
     "text": [
      "<class 'pandas.core.frame.DataFrame'>\n",
      "Index: 420 entries, 2577 to 2996\n",
      "Data columns (total 15 columns):\n",
      " #   Column         Non-Null Count  Dtype  \n",
      "---  ------         --------------  -----  \n",
      " 0   罪名             420 non-null    object \n",
      " 1   手口             420 non-null    object \n",
      " 2   管轄警察署（発生地）     420 non-null    object \n",
      " 3   管轄交番・駐在所（発生地）  420 non-null    object \n",
      " 4   市区町村コード（発生地）   420 non-null    float64\n",
      " 5   都道府県（発生地）      420 non-null    object \n",
      " 6   市区町村（発生地）      420 non-null    object \n",
      " 7   町丁目（発生地）       420 non-null    object \n",
      " 8   発生年月日（始期）      420 non-null    object \n",
      " 9   発生時（始期）        420 non-null    object \n",
      " 10  発生場所           420 non-null    object \n",
      " 11  発生場所の詳細        420 non-null    object \n",
      " 12  被害者の年齢         420 non-null    object \n",
      " 13  被害者の職業         420 non-null    object \n",
      " 14  施錠関係           420 non-null    object \n",
      "dtypes: float64(1), object(14)\n",
      "memory usage: 52.5+ KB\n"
     ]
    }
   ],
   "source": [
    "kashiwa.info()"
   ]
  },
  {
   "cell_type": "markdown",
   "metadata": {
    "slideshow": {
     "slide_type": "slide"
    }
   },
   "source": [
    "### `value_counts`でチャート\n",
    "\n",
    "このデータを見て、咄嗟に知りたいものってなんでしょう？\n",
    "\n",
    "例えば、<h1>「1日の何時に自転車の盗難が一番発生するの？」</h1>の質問に答えるためにはどのようなデータ分析が必要でしょうか？\n",
    "\n",
    "では、そのチャートを作ってみましょう。"
   ]
  },
  {
   "cell_type": "markdown",
   "metadata": {
    "slideshow": {
     "slide_type": "slide"
    }
   },
   "source": [
    "データには **【発生時（始期）】** のカラムがあるので、各時間帯のカウントを`value_counts()`で調べる。最後に足される`reset_index()`で結果をデータフレームに変換します。"
   ]
  },
  {
   "cell_type": "code",
   "execution_count": 23,
   "metadata": {},
   "outputs": [
    {
     "data": {
      "text/html": [
       "<div>\n",
       "<style scoped>\n",
       "    .dataframe tbody tr th:only-of-type {\n",
       "        vertical-align: middle;\n",
       "    }\n",
       "\n",
       "    .dataframe tbody tr th {\n",
       "        vertical-align: top;\n",
       "    }\n",
       "\n",
       "    .dataframe thead th {\n",
       "        text-align: right;\n",
       "    }\n",
       "</style>\n",
       "<table border=\"1\" class=\"dataframe\">\n",
       "  <thead>\n",
       "    <tr style=\"text-align: right;\">\n",
       "      <th></th>\n",
       "      <th>被害者の年齢</th>\n",
       "      <th>count</th>\n",
       "    </tr>\n",
       "  </thead>\n",
       "  <tbody>\n",
       "    <tr>\n",
       "      <th>0</th>\n",
       "      <td>10歳代</td>\n",
       "      <td>156</td>\n",
       "    </tr>\n",
       "    <tr>\n",
       "      <th>1</th>\n",
       "      <td>20歳代</td>\n",
       "      <td>113</td>\n",
       "    </tr>\n",
       "    <tr>\n",
       "      <th>2</th>\n",
       "      <td>30歳代</td>\n",
       "      <td>52</td>\n",
       "    </tr>\n",
       "    <tr>\n",
       "      <th>3</th>\n",
       "      <td>40歳代</td>\n",
       "      <td>31</td>\n",
       "    </tr>\n",
       "    <tr>\n",
       "      <th>4</th>\n",
       "      <td>50歳代</td>\n",
       "      <td>24</td>\n",
       "    </tr>\n",
       "    <tr>\n",
       "      <th>5</th>\n",
       "      <td>70歳以上</td>\n",
       "      <td>18</td>\n",
       "    </tr>\n",
       "    <tr>\n",
       "      <th>6</th>\n",
       "      <td>65-69歳</td>\n",
       "      <td>9</td>\n",
       "    </tr>\n",
       "    <tr>\n",
       "      <th>7</th>\n",
       "      <td>60-64歳</td>\n",
       "      <td>7</td>\n",
       "    </tr>\n",
       "    <tr>\n",
       "      <th>8</th>\n",
       "      <td>法人・団体、被害者なし</td>\n",
       "      <td>6</td>\n",
       "    </tr>\n",
       "    <tr>\n",
       "      <th>9</th>\n",
       "      <td>10歳未満</td>\n",
       "      <td>4</td>\n",
       "    </tr>\n",
       "  </tbody>\n",
       "</table>\n",
       "</div>"
      ],
      "text/plain": [
       "        被害者の年齢  count\n",
       "0         10歳代    156\n",
       "1         20歳代    113\n",
       "2         30歳代     52\n",
       "3         40歳代     31\n",
       "4         50歳代     24\n",
       "5        70歳以上     18\n",
       "6       65-69歳      9\n",
       "7       60-64歳      7\n",
       "8  法人・団体、被害者なし      6\n",
       "9        10歳未満      4"
      ]
     },
     "execution_count": 23,
     "metadata": {},
     "output_type": "execute_result"
    }
   ],
   "source": [
    "# create a new variable with hourly counts\n",
    "time = kashiwa['被害者の年齢'].value_counts().reset_index()\n",
    "\n",
    "time"
   ]
  },
  {
   "cell_type": "markdown",
   "metadata": {
    "slideshow": {
     "slide_type": "slide"
    }
   },
   "source": [
    "この結果は良いが、カラム名（ヘッダー）を直す必要がある。"
   ]
  },
  {
   "cell_type": "code",
   "execution_count": 24,
   "metadata": {},
   "outputs": [
    {
     "data": {
      "text/html": [
       "<div>\n",
       "<style scoped>\n",
       "    .dataframe tbody tr th:only-of-type {\n",
       "        vertical-align: middle;\n",
       "    }\n",
       "\n",
       "    .dataframe tbody tr th {\n",
       "        vertical-align: top;\n",
       "    }\n",
       "\n",
       "    .dataframe thead th {\n",
       "        text-align: right;\n",
       "    }\n",
       "</style>\n",
       "<table border=\"1\" class=\"dataframe\">\n",
       "  <thead>\n",
       "    <tr style=\"text-align: right;\">\n",
       "      <th></th>\n",
       "      <th>被害者の年齢</th>\n",
       "      <th>件数</th>\n",
       "    </tr>\n",
       "  </thead>\n",
       "  <tbody>\n",
       "    <tr>\n",
       "      <th>0</th>\n",
       "      <td>10歳代</td>\n",
       "      <td>156</td>\n",
       "    </tr>\n",
       "    <tr>\n",
       "      <th>1</th>\n",
       "      <td>20歳代</td>\n",
       "      <td>113</td>\n",
       "    </tr>\n",
       "    <tr>\n",
       "      <th>2</th>\n",
       "      <td>30歳代</td>\n",
       "      <td>52</td>\n",
       "    </tr>\n",
       "    <tr>\n",
       "      <th>3</th>\n",
       "      <td>40歳代</td>\n",
       "      <td>31</td>\n",
       "    </tr>\n",
       "    <tr>\n",
       "      <th>4</th>\n",
       "      <td>50歳代</td>\n",
       "      <td>24</td>\n",
       "    </tr>\n",
       "    <tr>\n",
       "      <th>5</th>\n",
       "      <td>70歳以上</td>\n",
       "      <td>18</td>\n",
       "    </tr>\n",
       "    <tr>\n",
       "      <th>6</th>\n",
       "      <td>65-69歳</td>\n",
       "      <td>9</td>\n",
       "    </tr>\n",
       "    <tr>\n",
       "      <th>7</th>\n",
       "      <td>60-64歳</td>\n",
       "      <td>7</td>\n",
       "    </tr>\n",
       "    <tr>\n",
       "      <th>8</th>\n",
       "      <td>法人・団体、被害者なし</td>\n",
       "      <td>6</td>\n",
       "    </tr>\n",
       "    <tr>\n",
       "      <th>9</th>\n",
       "      <td>10歳未満</td>\n",
       "      <td>4</td>\n",
       "    </tr>\n",
       "  </tbody>\n",
       "</table>\n",
       "</div>"
      ],
      "text/plain": [
       "        被害者の年齢   件数\n",
       "0         10歳代  156\n",
       "1         20歳代  113\n",
       "2         30歳代   52\n",
       "3         40歳代   31\n",
       "4         50歳代   24\n",
       "5        70歳以上   18\n",
       "6       65-69歳    9\n",
       "7       60-64歳    7\n",
       "8  法人・団体、被害者なし    6\n",
       "9        10歳未満    4"
      ]
     },
     "execution_count": 24,
     "metadata": {},
     "output_type": "execute_result"
    }
   ],
   "source": [
    "# fix headers\n",
    "time.columns = ['被害者の年齢','件数']\n",
    "time"
   ]
  },
  {
   "cell_type": "markdown",
   "metadata": {
    "slideshow": {
     "slide_type": "slide"
    }
   },
   "source": [
    "いよいよ準備万端。この新しいデータフレームでチャートを作ろう。この場合は plotly express の bar charts を参考。\n",
    "\n",
    "https://plotly.com/python/bar-charts/"
   ]
  },
  {
   "cell_type": "code",
   "execution_count": 25,
   "metadata": {},
   "outputs": [
    {
     "data": {
      "application/vnd.plotly.v1+json": {
       "config": {
        "plotlyServerURL": "https://plot.ly"
       },
       "data": [
        {
         "alignmentgroup": "True",
         "hovertemplate": "被害者の年齢=%{x}<br>件数=%{y}<extra></extra>",
         "legendgroup": "",
         "marker": {
          "color": "#636efa",
          "pattern": {
           "shape": ""
          }
         },
         "name": "",
         "offsetgroup": "",
         "orientation": "v",
         "showlegend": false,
         "textposition": "auto",
         "type": "bar",
         "x": [
          "10歳代",
          "20歳代",
          "30歳代",
          "40歳代",
          "50歳代",
          "70歳以上",
          "65-69歳",
          "60-64歳",
          "法人・団体、被害者なし",
          "10歳未満"
         ],
         "xaxis": "x",
         "y": [
          156,
          113,
          52,
          31,
          24,
          18,
          9,
          7,
          6,
          4
         ],
         "yaxis": "y"
        }
       ],
       "layout": {
        "barmode": "relative",
        "legend": {
         "tracegroupgap": 0
        },
        "margin": {
         "t": 60
        },
        "template": {
         "data": {
          "bar": [
           {
            "error_x": {
             "color": "#2a3f5f"
            },
            "error_y": {
             "color": "#2a3f5f"
            },
            "marker": {
             "line": {
              "color": "#E5ECF6",
              "width": 0.5
             },
             "pattern": {
              "fillmode": "overlay",
              "size": 10,
              "solidity": 0.2
             }
            },
            "type": "bar"
           }
          ],
          "barpolar": [
           {
            "marker": {
             "line": {
              "color": "#E5ECF6",
              "width": 0.5
             },
             "pattern": {
              "fillmode": "overlay",
              "size": 10,
              "solidity": 0.2
             }
            },
            "type": "barpolar"
           }
          ],
          "carpet": [
           {
            "aaxis": {
             "endlinecolor": "#2a3f5f",
             "gridcolor": "white",
             "linecolor": "white",
             "minorgridcolor": "white",
             "startlinecolor": "#2a3f5f"
            },
            "baxis": {
             "endlinecolor": "#2a3f5f",
             "gridcolor": "white",
             "linecolor": "white",
             "minorgridcolor": "white",
             "startlinecolor": "#2a3f5f"
            },
            "type": "carpet"
           }
          ],
          "choropleth": [
           {
            "colorbar": {
             "outlinewidth": 0,
             "ticks": ""
            },
            "type": "choropleth"
           }
          ],
          "contour": [
           {
            "colorbar": {
             "outlinewidth": 0,
             "ticks": ""
            },
            "colorscale": [
             [
              0,
              "#0d0887"
             ],
             [
              0.1111111111111111,
              "#46039f"
             ],
             [
              0.2222222222222222,
              "#7201a8"
             ],
             [
              0.3333333333333333,
              "#9c179e"
             ],
             [
              0.4444444444444444,
              "#bd3786"
             ],
             [
              0.5555555555555556,
              "#d8576b"
             ],
             [
              0.6666666666666666,
              "#ed7953"
             ],
             [
              0.7777777777777778,
              "#fb9f3a"
             ],
             [
              0.8888888888888888,
              "#fdca26"
             ],
             [
              1,
              "#f0f921"
             ]
            ],
            "type": "contour"
           }
          ],
          "contourcarpet": [
           {
            "colorbar": {
             "outlinewidth": 0,
             "ticks": ""
            },
            "type": "contourcarpet"
           }
          ],
          "heatmap": [
           {
            "colorbar": {
             "outlinewidth": 0,
             "ticks": ""
            },
            "colorscale": [
             [
              0,
              "#0d0887"
             ],
             [
              0.1111111111111111,
              "#46039f"
             ],
             [
              0.2222222222222222,
              "#7201a8"
             ],
             [
              0.3333333333333333,
              "#9c179e"
             ],
             [
              0.4444444444444444,
              "#bd3786"
             ],
             [
              0.5555555555555556,
              "#d8576b"
             ],
             [
              0.6666666666666666,
              "#ed7953"
             ],
             [
              0.7777777777777778,
              "#fb9f3a"
             ],
             [
              0.8888888888888888,
              "#fdca26"
             ],
             [
              1,
              "#f0f921"
             ]
            ],
            "type": "heatmap"
           }
          ],
          "heatmapgl": [
           {
            "colorbar": {
             "outlinewidth": 0,
             "ticks": ""
            },
            "colorscale": [
             [
              0,
              "#0d0887"
             ],
             [
              0.1111111111111111,
              "#46039f"
             ],
             [
              0.2222222222222222,
              "#7201a8"
             ],
             [
              0.3333333333333333,
              "#9c179e"
             ],
             [
              0.4444444444444444,
              "#bd3786"
             ],
             [
              0.5555555555555556,
              "#d8576b"
             ],
             [
              0.6666666666666666,
              "#ed7953"
             ],
             [
              0.7777777777777778,
              "#fb9f3a"
             ],
             [
              0.8888888888888888,
              "#fdca26"
             ],
             [
              1,
              "#f0f921"
             ]
            ],
            "type": "heatmapgl"
           }
          ],
          "histogram": [
           {
            "marker": {
             "pattern": {
              "fillmode": "overlay",
              "size": 10,
              "solidity": 0.2
             }
            },
            "type": "histogram"
           }
          ],
          "histogram2d": [
           {
            "colorbar": {
             "outlinewidth": 0,
             "ticks": ""
            },
            "colorscale": [
             [
              0,
              "#0d0887"
             ],
             [
              0.1111111111111111,
              "#46039f"
             ],
             [
              0.2222222222222222,
              "#7201a8"
             ],
             [
              0.3333333333333333,
              "#9c179e"
             ],
             [
              0.4444444444444444,
              "#bd3786"
             ],
             [
              0.5555555555555556,
              "#d8576b"
             ],
             [
              0.6666666666666666,
              "#ed7953"
             ],
             [
              0.7777777777777778,
              "#fb9f3a"
             ],
             [
              0.8888888888888888,
              "#fdca26"
             ],
             [
              1,
              "#f0f921"
             ]
            ],
            "type": "histogram2d"
           }
          ],
          "histogram2dcontour": [
           {
            "colorbar": {
             "outlinewidth": 0,
             "ticks": ""
            },
            "colorscale": [
             [
              0,
              "#0d0887"
             ],
             [
              0.1111111111111111,
              "#46039f"
             ],
             [
              0.2222222222222222,
              "#7201a8"
             ],
             [
              0.3333333333333333,
              "#9c179e"
             ],
             [
              0.4444444444444444,
              "#bd3786"
             ],
             [
              0.5555555555555556,
              "#d8576b"
             ],
             [
              0.6666666666666666,
              "#ed7953"
             ],
             [
              0.7777777777777778,
              "#fb9f3a"
             ],
             [
              0.8888888888888888,
              "#fdca26"
             ],
             [
              1,
              "#f0f921"
             ]
            ],
            "type": "histogram2dcontour"
           }
          ],
          "mesh3d": [
           {
            "colorbar": {
             "outlinewidth": 0,
             "ticks": ""
            },
            "type": "mesh3d"
           }
          ],
          "parcoords": [
           {
            "line": {
             "colorbar": {
              "outlinewidth": 0,
              "ticks": ""
             }
            },
            "type": "parcoords"
           }
          ],
          "pie": [
           {
            "automargin": true,
            "type": "pie"
           }
          ],
          "scatter": [
           {
            "fillpattern": {
             "fillmode": "overlay",
             "size": 10,
             "solidity": 0.2
            },
            "type": "scatter"
           }
          ],
          "scatter3d": [
           {
            "line": {
             "colorbar": {
              "outlinewidth": 0,
              "ticks": ""
             }
            },
            "marker": {
             "colorbar": {
              "outlinewidth": 0,
              "ticks": ""
             }
            },
            "type": "scatter3d"
           }
          ],
          "scattercarpet": [
           {
            "marker": {
             "colorbar": {
              "outlinewidth": 0,
              "ticks": ""
             }
            },
            "type": "scattercarpet"
           }
          ],
          "scattergeo": [
           {
            "marker": {
             "colorbar": {
              "outlinewidth": 0,
              "ticks": ""
             }
            },
            "type": "scattergeo"
           }
          ],
          "scattergl": [
           {
            "marker": {
             "colorbar": {
              "outlinewidth": 0,
              "ticks": ""
             }
            },
            "type": "scattergl"
           }
          ],
          "scattermapbox": [
           {
            "marker": {
             "colorbar": {
              "outlinewidth": 0,
              "ticks": ""
             }
            },
            "type": "scattermapbox"
           }
          ],
          "scatterpolar": [
           {
            "marker": {
             "colorbar": {
              "outlinewidth": 0,
              "ticks": ""
             }
            },
            "type": "scatterpolar"
           }
          ],
          "scatterpolargl": [
           {
            "marker": {
             "colorbar": {
              "outlinewidth": 0,
              "ticks": ""
             }
            },
            "type": "scatterpolargl"
           }
          ],
          "scatterternary": [
           {
            "marker": {
             "colorbar": {
              "outlinewidth": 0,
              "ticks": ""
             }
            },
            "type": "scatterternary"
           }
          ],
          "surface": [
           {
            "colorbar": {
             "outlinewidth": 0,
             "ticks": ""
            },
            "colorscale": [
             [
              0,
              "#0d0887"
             ],
             [
              0.1111111111111111,
              "#46039f"
             ],
             [
              0.2222222222222222,
              "#7201a8"
             ],
             [
              0.3333333333333333,
              "#9c179e"
             ],
             [
              0.4444444444444444,
              "#bd3786"
             ],
             [
              0.5555555555555556,
              "#d8576b"
             ],
             [
              0.6666666666666666,
              "#ed7953"
             ],
             [
              0.7777777777777778,
              "#fb9f3a"
             ],
             [
              0.8888888888888888,
              "#fdca26"
             ],
             [
              1,
              "#f0f921"
             ]
            ],
            "type": "surface"
           }
          ],
          "table": [
           {
            "cells": {
             "fill": {
              "color": "#EBF0F8"
             },
             "line": {
              "color": "white"
             }
            },
            "header": {
             "fill": {
              "color": "#C8D4E3"
             },
             "line": {
              "color": "white"
             }
            },
            "type": "table"
           }
          ]
         },
         "layout": {
          "annotationdefaults": {
           "arrowcolor": "#2a3f5f",
           "arrowhead": 0,
           "arrowwidth": 1
          },
          "autotypenumbers": "strict",
          "coloraxis": {
           "colorbar": {
            "outlinewidth": 0,
            "ticks": ""
           }
          },
          "colorscale": {
           "diverging": [
            [
             0,
             "#8e0152"
            ],
            [
             0.1,
             "#c51b7d"
            ],
            [
             0.2,
             "#de77ae"
            ],
            [
             0.3,
             "#f1b6da"
            ],
            [
             0.4,
             "#fde0ef"
            ],
            [
             0.5,
             "#f7f7f7"
            ],
            [
             0.6,
             "#e6f5d0"
            ],
            [
             0.7,
             "#b8e186"
            ],
            [
             0.8,
             "#7fbc41"
            ],
            [
             0.9,
             "#4d9221"
            ],
            [
             1,
             "#276419"
            ]
           ],
           "sequential": [
            [
             0,
             "#0d0887"
            ],
            [
             0.1111111111111111,
             "#46039f"
            ],
            [
             0.2222222222222222,
             "#7201a8"
            ],
            [
             0.3333333333333333,
             "#9c179e"
            ],
            [
             0.4444444444444444,
             "#bd3786"
            ],
            [
             0.5555555555555556,
             "#d8576b"
            ],
            [
             0.6666666666666666,
             "#ed7953"
            ],
            [
             0.7777777777777778,
             "#fb9f3a"
            ],
            [
             0.8888888888888888,
             "#fdca26"
            ],
            [
             1,
             "#f0f921"
            ]
           ],
           "sequentialminus": [
            [
             0,
             "#0d0887"
            ],
            [
             0.1111111111111111,
             "#46039f"
            ],
            [
             0.2222222222222222,
             "#7201a8"
            ],
            [
             0.3333333333333333,
             "#9c179e"
            ],
            [
             0.4444444444444444,
             "#bd3786"
            ],
            [
             0.5555555555555556,
             "#d8576b"
            ],
            [
             0.6666666666666666,
             "#ed7953"
            ],
            [
             0.7777777777777778,
             "#fb9f3a"
            ],
            [
             0.8888888888888888,
             "#fdca26"
            ],
            [
             1,
             "#f0f921"
            ]
           ]
          },
          "colorway": [
           "#636efa",
           "#EF553B",
           "#00cc96",
           "#ab63fa",
           "#FFA15A",
           "#19d3f3",
           "#FF6692",
           "#B6E880",
           "#FF97FF",
           "#FECB52"
          ],
          "font": {
           "color": "#2a3f5f"
          },
          "geo": {
           "bgcolor": "white",
           "lakecolor": "white",
           "landcolor": "#E5ECF6",
           "showlakes": true,
           "showland": true,
           "subunitcolor": "white"
          },
          "hoverlabel": {
           "align": "left"
          },
          "hovermode": "closest",
          "mapbox": {
           "style": "light"
          },
          "paper_bgcolor": "white",
          "plot_bgcolor": "#E5ECF6",
          "polar": {
           "angularaxis": {
            "gridcolor": "white",
            "linecolor": "white",
            "ticks": ""
           },
           "bgcolor": "#E5ECF6",
           "radialaxis": {
            "gridcolor": "white",
            "linecolor": "white",
            "ticks": ""
           }
          },
          "scene": {
           "xaxis": {
            "backgroundcolor": "#E5ECF6",
            "gridcolor": "white",
            "gridwidth": 2,
            "linecolor": "white",
            "showbackground": true,
            "ticks": "",
            "zerolinecolor": "white"
           },
           "yaxis": {
            "backgroundcolor": "#E5ECF6",
            "gridcolor": "white",
            "gridwidth": 2,
            "linecolor": "white",
            "showbackground": true,
            "ticks": "",
            "zerolinecolor": "white"
           },
           "zaxis": {
            "backgroundcolor": "#E5ECF6",
            "gridcolor": "white",
            "gridwidth": 2,
            "linecolor": "white",
            "showbackground": true,
            "ticks": "",
            "zerolinecolor": "white"
           }
          },
          "shapedefaults": {
           "line": {
            "color": "#2a3f5f"
           }
          },
          "ternary": {
           "aaxis": {
            "gridcolor": "white",
            "linecolor": "white",
            "ticks": ""
           },
           "baxis": {
            "gridcolor": "white",
            "linecolor": "white",
            "ticks": ""
           },
           "bgcolor": "#E5ECF6",
           "caxis": {
            "gridcolor": "white",
            "linecolor": "white",
            "ticks": ""
           }
          },
          "title": {
           "x": 0.05
          },
          "xaxis": {
           "automargin": true,
           "gridcolor": "white",
           "linecolor": "white",
           "ticks": "",
           "title": {
            "standoff": 15
           },
           "zerolinecolor": "white",
           "zerolinewidth": 2
          },
          "yaxis": {
           "automargin": true,
           "gridcolor": "white",
           "linecolor": "white",
           "ticks": "",
           "title": {
            "standoff": 15
           },
           "zerolinecolor": "white",
           "zerolinewidth": 2
          }
         }
        },
        "xaxis": {
         "anchor": "y",
         "domain": [
          0,
          1
         ],
         "title": {
          "text": "被害者の年齢"
         }
        },
        "yaxis": {
         "anchor": "x",
         "domain": [
          0,
          1
         ],
         "title": {
          "text": "件数"
         }
        }
       }
      }
     },
     "metadata": {},
     "output_type": "display_data"
    }
   ],
   "source": [
    "fig = px.bar(time,x='被害者の年齢',y='件数')\n",
    "fig.show()"
   ]
  },
  {
   "cell_type": "markdown",
   "metadata": {
    "slideshow": {
     "slide_type": "slide"
    }
   },
   "source": [
    "ありゃ？順番が件数の多い順になってる。実はx軸のオプションっていっぱいあるんだ！その中の一つでカテゴリーの順番を設定できる。\n",
    "\n",
    "https://plotly.com/python/categorical-axes/"
   ]
  },
  {
   "cell_type": "code",
   "execution_count": 15,
   "metadata": {},
   "outputs": [
    {
     "data": {
      "application/vnd.plotly.v1+json": {
       "config": {
        "plotlyServerURL": "https://plot.ly"
       },
       "data": [
        {
         "alignmentgroup": "True",
         "hovertemplate": "発生時（始期）=%{x}<br>件数=%{y}<extra></extra>",
         "legendgroup": "",
         "marker": {
          "color": "#636efa",
          "pattern": {
           "shape": ""
          }
         },
         "name": "",
         "offsetgroup": "",
         "orientation": "v",
         "showlegend": false,
         "textposition": "auto",
         "type": "bar",
         "x": [
          "18",
          "17",
          "16",
          "07",
          "20",
          "19",
          "10",
          "08",
          "22",
          "11",
          "12",
          "21",
          "09",
          "15",
          "14",
          "13",
          "06",
          "00",
          "23",
          "不明",
          "05",
          "04",
          "02"
         ],
         "xaxis": "x",
         "y": [
          39,
          35,
          31,
          30,
          29,
          27,
          26,
          23,
          22,
          22,
          21,
          19,
          19,
          18,
          16,
          15,
          8,
          6,
          5,
          4,
          3,
          1,
          1
         ],
         "yaxis": "y"
        }
       ],
       "layout": {
        "barmode": "relative",
        "legend": {
         "tracegroupgap": 0
        },
        "margin": {
         "t": 60
        },
        "template": {
         "data": {
          "bar": [
           {
            "error_x": {
             "color": "#2a3f5f"
            },
            "error_y": {
             "color": "#2a3f5f"
            },
            "marker": {
             "line": {
              "color": "#E5ECF6",
              "width": 0.5
             },
             "pattern": {
              "fillmode": "overlay",
              "size": 10,
              "solidity": 0.2
             }
            },
            "type": "bar"
           }
          ],
          "barpolar": [
           {
            "marker": {
             "line": {
              "color": "#E5ECF6",
              "width": 0.5
             },
             "pattern": {
              "fillmode": "overlay",
              "size": 10,
              "solidity": 0.2
             }
            },
            "type": "barpolar"
           }
          ],
          "carpet": [
           {
            "aaxis": {
             "endlinecolor": "#2a3f5f",
             "gridcolor": "white",
             "linecolor": "white",
             "minorgridcolor": "white",
             "startlinecolor": "#2a3f5f"
            },
            "baxis": {
             "endlinecolor": "#2a3f5f",
             "gridcolor": "white",
             "linecolor": "white",
             "minorgridcolor": "white",
             "startlinecolor": "#2a3f5f"
            },
            "type": "carpet"
           }
          ],
          "choropleth": [
           {
            "colorbar": {
             "outlinewidth": 0,
             "ticks": ""
            },
            "type": "choropleth"
           }
          ],
          "contour": [
           {
            "colorbar": {
             "outlinewidth": 0,
             "ticks": ""
            },
            "colorscale": [
             [
              0,
              "#0d0887"
             ],
             [
              0.1111111111111111,
              "#46039f"
             ],
             [
              0.2222222222222222,
              "#7201a8"
             ],
             [
              0.3333333333333333,
              "#9c179e"
             ],
             [
              0.4444444444444444,
              "#bd3786"
             ],
             [
              0.5555555555555556,
              "#d8576b"
             ],
             [
              0.6666666666666666,
              "#ed7953"
             ],
             [
              0.7777777777777778,
              "#fb9f3a"
             ],
             [
              0.8888888888888888,
              "#fdca26"
             ],
             [
              1,
              "#f0f921"
             ]
            ],
            "type": "contour"
           }
          ],
          "contourcarpet": [
           {
            "colorbar": {
             "outlinewidth": 0,
             "ticks": ""
            },
            "type": "contourcarpet"
           }
          ],
          "heatmap": [
           {
            "colorbar": {
             "outlinewidth": 0,
             "ticks": ""
            },
            "colorscale": [
             [
              0,
              "#0d0887"
             ],
             [
              0.1111111111111111,
              "#46039f"
             ],
             [
              0.2222222222222222,
              "#7201a8"
             ],
             [
              0.3333333333333333,
              "#9c179e"
             ],
             [
              0.4444444444444444,
              "#bd3786"
             ],
             [
              0.5555555555555556,
              "#d8576b"
             ],
             [
              0.6666666666666666,
              "#ed7953"
             ],
             [
              0.7777777777777778,
              "#fb9f3a"
             ],
             [
              0.8888888888888888,
              "#fdca26"
             ],
             [
              1,
              "#f0f921"
             ]
            ],
            "type": "heatmap"
           }
          ],
          "heatmapgl": [
           {
            "colorbar": {
             "outlinewidth": 0,
             "ticks": ""
            },
            "colorscale": [
             [
              0,
              "#0d0887"
             ],
             [
              0.1111111111111111,
              "#46039f"
             ],
             [
              0.2222222222222222,
              "#7201a8"
             ],
             [
              0.3333333333333333,
              "#9c179e"
             ],
             [
              0.4444444444444444,
              "#bd3786"
             ],
             [
              0.5555555555555556,
              "#d8576b"
             ],
             [
              0.6666666666666666,
              "#ed7953"
             ],
             [
              0.7777777777777778,
              "#fb9f3a"
             ],
             [
              0.8888888888888888,
              "#fdca26"
             ],
             [
              1,
              "#f0f921"
             ]
            ],
            "type": "heatmapgl"
           }
          ],
          "histogram": [
           {
            "marker": {
             "pattern": {
              "fillmode": "overlay",
              "size": 10,
              "solidity": 0.2
             }
            },
            "type": "histogram"
           }
          ],
          "histogram2d": [
           {
            "colorbar": {
             "outlinewidth": 0,
             "ticks": ""
            },
            "colorscale": [
             [
              0,
              "#0d0887"
             ],
             [
              0.1111111111111111,
              "#46039f"
             ],
             [
              0.2222222222222222,
              "#7201a8"
             ],
             [
              0.3333333333333333,
              "#9c179e"
             ],
             [
              0.4444444444444444,
              "#bd3786"
             ],
             [
              0.5555555555555556,
              "#d8576b"
             ],
             [
              0.6666666666666666,
              "#ed7953"
             ],
             [
              0.7777777777777778,
              "#fb9f3a"
             ],
             [
              0.8888888888888888,
              "#fdca26"
             ],
             [
              1,
              "#f0f921"
             ]
            ],
            "type": "histogram2d"
           }
          ],
          "histogram2dcontour": [
           {
            "colorbar": {
             "outlinewidth": 0,
             "ticks": ""
            },
            "colorscale": [
             [
              0,
              "#0d0887"
             ],
             [
              0.1111111111111111,
              "#46039f"
             ],
             [
              0.2222222222222222,
              "#7201a8"
             ],
             [
              0.3333333333333333,
              "#9c179e"
             ],
             [
              0.4444444444444444,
              "#bd3786"
             ],
             [
              0.5555555555555556,
              "#d8576b"
             ],
             [
              0.6666666666666666,
              "#ed7953"
             ],
             [
              0.7777777777777778,
              "#fb9f3a"
             ],
             [
              0.8888888888888888,
              "#fdca26"
             ],
             [
              1,
              "#f0f921"
             ]
            ],
            "type": "histogram2dcontour"
           }
          ],
          "mesh3d": [
           {
            "colorbar": {
             "outlinewidth": 0,
             "ticks": ""
            },
            "type": "mesh3d"
           }
          ],
          "parcoords": [
           {
            "line": {
             "colorbar": {
              "outlinewidth": 0,
              "ticks": ""
             }
            },
            "type": "parcoords"
           }
          ],
          "pie": [
           {
            "automargin": true,
            "type": "pie"
           }
          ],
          "scatter": [
           {
            "fillpattern": {
             "fillmode": "overlay",
             "size": 10,
             "solidity": 0.2
            },
            "type": "scatter"
           }
          ],
          "scatter3d": [
           {
            "line": {
             "colorbar": {
              "outlinewidth": 0,
              "ticks": ""
             }
            },
            "marker": {
             "colorbar": {
              "outlinewidth": 0,
              "ticks": ""
             }
            },
            "type": "scatter3d"
           }
          ],
          "scattercarpet": [
           {
            "marker": {
             "colorbar": {
              "outlinewidth": 0,
              "ticks": ""
             }
            },
            "type": "scattercarpet"
           }
          ],
          "scattergeo": [
           {
            "marker": {
             "colorbar": {
              "outlinewidth": 0,
              "ticks": ""
             }
            },
            "type": "scattergeo"
           }
          ],
          "scattergl": [
           {
            "marker": {
             "colorbar": {
              "outlinewidth": 0,
              "ticks": ""
             }
            },
            "type": "scattergl"
           }
          ],
          "scattermapbox": [
           {
            "marker": {
             "colorbar": {
              "outlinewidth": 0,
              "ticks": ""
             }
            },
            "type": "scattermapbox"
           }
          ],
          "scatterpolar": [
           {
            "marker": {
             "colorbar": {
              "outlinewidth": 0,
              "ticks": ""
             }
            },
            "type": "scatterpolar"
           }
          ],
          "scatterpolargl": [
           {
            "marker": {
             "colorbar": {
              "outlinewidth": 0,
              "ticks": ""
             }
            },
            "type": "scatterpolargl"
           }
          ],
          "scatterternary": [
           {
            "marker": {
             "colorbar": {
              "outlinewidth": 0,
              "ticks": ""
             }
            },
            "type": "scatterternary"
           }
          ],
          "surface": [
           {
            "colorbar": {
             "outlinewidth": 0,
             "ticks": ""
            },
            "colorscale": [
             [
              0,
              "#0d0887"
             ],
             [
              0.1111111111111111,
              "#46039f"
             ],
             [
              0.2222222222222222,
              "#7201a8"
             ],
             [
              0.3333333333333333,
              "#9c179e"
             ],
             [
              0.4444444444444444,
              "#bd3786"
             ],
             [
              0.5555555555555556,
              "#d8576b"
             ],
             [
              0.6666666666666666,
              "#ed7953"
             ],
             [
              0.7777777777777778,
              "#fb9f3a"
             ],
             [
              0.8888888888888888,
              "#fdca26"
             ],
             [
              1,
              "#f0f921"
             ]
            ],
            "type": "surface"
           }
          ],
          "table": [
           {
            "cells": {
             "fill": {
              "color": "#EBF0F8"
             },
             "line": {
              "color": "white"
             }
            },
            "header": {
             "fill": {
              "color": "#C8D4E3"
             },
             "line": {
              "color": "white"
             }
            },
            "type": "table"
           }
          ]
         },
         "layout": {
          "annotationdefaults": {
           "arrowcolor": "#2a3f5f",
           "arrowhead": 0,
           "arrowwidth": 1
          },
          "autotypenumbers": "strict",
          "coloraxis": {
           "colorbar": {
            "outlinewidth": 0,
            "ticks": ""
           }
          },
          "colorscale": {
           "diverging": [
            [
             0,
             "#8e0152"
            ],
            [
             0.1,
             "#c51b7d"
            ],
            [
             0.2,
             "#de77ae"
            ],
            [
             0.3,
             "#f1b6da"
            ],
            [
             0.4,
             "#fde0ef"
            ],
            [
             0.5,
             "#f7f7f7"
            ],
            [
             0.6,
             "#e6f5d0"
            ],
            [
             0.7,
             "#b8e186"
            ],
            [
             0.8,
             "#7fbc41"
            ],
            [
             0.9,
             "#4d9221"
            ],
            [
             1,
             "#276419"
            ]
           ],
           "sequential": [
            [
             0,
             "#0d0887"
            ],
            [
             0.1111111111111111,
             "#46039f"
            ],
            [
             0.2222222222222222,
             "#7201a8"
            ],
            [
             0.3333333333333333,
             "#9c179e"
            ],
            [
             0.4444444444444444,
             "#bd3786"
            ],
            [
             0.5555555555555556,
             "#d8576b"
            ],
            [
             0.6666666666666666,
             "#ed7953"
            ],
            [
             0.7777777777777778,
             "#fb9f3a"
            ],
            [
             0.8888888888888888,
             "#fdca26"
            ],
            [
             1,
             "#f0f921"
            ]
           ],
           "sequentialminus": [
            [
             0,
             "#0d0887"
            ],
            [
             0.1111111111111111,
             "#46039f"
            ],
            [
             0.2222222222222222,
             "#7201a8"
            ],
            [
             0.3333333333333333,
             "#9c179e"
            ],
            [
             0.4444444444444444,
             "#bd3786"
            ],
            [
             0.5555555555555556,
             "#d8576b"
            ],
            [
             0.6666666666666666,
             "#ed7953"
            ],
            [
             0.7777777777777778,
             "#fb9f3a"
            ],
            [
             0.8888888888888888,
             "#fdca26"
            ],
            [
             1,
             "#f0f921"
            ]
           ]
          },
          "colorway": [
           "#636efa",
           "#EF553B",
           "#00cc96",
           "#ab63fa",
           "#FFA15A",
           "#19d3f3",
           "#FF6692",
           "#B6E880",
           "#FF97FF",
           "#FECB52"
          ],
          "font": {
           "color": "#2a3f5f"
          },
          "geo": {
           "bgcolor": "white",
           "lakecolor": "white",
           "landcolor": "#E5ECF6",
           "showlakes": true,
           "showland": true,
           "subunitcolor": "white"
          },
          "hoverlabel": {
           "align": "left"
          },
          "hovermode": "closest",
          "mapbox": {
           "style": "light"
          },
          "paper_bgcolor": "white",
          "plot_bgcolor": "#E5ECF6",
          "polar": {
           "angularaxis": {
            "gridcolor": "white",
            "linecolor": "white",
            "ticks": ""
           },
           "bgcolor": "#E5ECF6",
           "radialaxis": {
            "gridcolor": "white",
            "linecolor": "white",
            "ticks": ""
           }
          },
          "scene": {
           "xaxis": {
            "backgroundcolor": "#E5ECF6",
            "gridcolor": "white",
            "gridwidth": 2,
            "linecolor": "white",
            "showbackground": true,
            "ticks": "",
            "zerolinecolor": "white"
           },
           "yaxis": {
            "backgroundcolor": "#E5ECF6",
            "gridcolor": "white",
            "gridwidth": 2,
            "linecolor": "white",
            "showbackground": true,
            "ticks": "",
            "zerolinecolor": "white"
           },
           "zaxis": {
            "backgroundcolor": "#E5ECF6",
            "gridcolor": "white",
            "gridwidth": 2,
            "linecolor": "white",
            "showbackground": true,
            "ticks": "",
            "zerolinecolor": "white"
           }
          },
          "shapedefaults": {
           "line": {
            "color": "#2a3f5f"
           }
          },
          "ternary": {
           "aaxis": {
            "gridcolor": "white",
            "linecolor": "white",
            "ticks": ""
           },
           "baxis": {
            "gridcolor": "white",
            "linecolor": "white",
            "ticks": ""
           },
           "bgcolor": "#E5ECF6",
           "caxis": {
            "gridcolor": "white",
            "linecolor": "white",
            "ticks": ""
           }
          },
          "title": {
           "x": 0.05
          },
          "xaxis": {
           "automargin": true,
           "gridcolor": "white",
           "linecolor": "white",
           "ticks": "",
           "title": {
            "standoff": 15
           },
           "zerolinecolor": "white",
           "zerolinewidth": 2
          },
          "yaxis": {
           "automargin": true,
           "gridcolor": "white",
           "linecolor": "white",
           "ticks": "",
           "title": {
            "standoff": 15
           },
           "zerolinecolor": "white",
           "zerolinewidth": 2
          }
         }
        },
        "xaxis": {
         "anchor": "y",
         "categoryorder": "category ascending",
         "domain": [
          0,
          1
         ],
         "title": {
          "text": "発生時（始期）"
         }
        },
        "yaxis": {
         "anchor": "x",
         "domain": [
          0,
          1
         ],
         "title": {
          "text": "件数"
         }
        }
       }
      }
     },
     "metadata": {},
     "output_type": "display_data"
    }
   ],
   "source": [
    "fig = px.bar(time,\n",
    "            x='発生時（始期）',\n",
    "            y='件数'\n",
    "            )\n",
    "fig.update_xaxes(categoryorder='category ascending')\n",
    "fig.show()"
   ]
  },
  {
   "cell_type": "markdown",
   "metadata": {
    "slideshow": {
     "slide_type": "slide"
    }
   },
   "source": [
    "チャートのテンプレートを変えることでルックスが変わる。\n",
    "\n",
    "`template`のオプションはこちらから：\n",
    "\n",
    "```[\"plotly\", \"plotly_white\", \"plotly_dark\", \"ggplot2\", \"seaborn\", \"simple_white\"]```\n",
    "\n",
    "一つずつ試してみよう。"
   ]
  },
  {
   "cell_type": "code",
   "execution_count": 16,
   "metadata": {
    "slideshow": {
     "slide_type": "slide"
    }
   },
   "outputs": [
    {
     "data": {
      "application/vnd.plotly.v1+json": {
       "config": {
        "plotlyServerURL": "https://plot.ly"
       },
       "data": [
        {
         "alignmentgroup": "True",
         "hovertemplate": "発生時（始期）=%{x}<br>件数=%{y}<extra></extra>",
         "legendgroup": "",
         "marker": {
          "color": "#F8766D",
          "pattern": {
           "shape": ""
          }
         },
         "name": "",
         "offsetgroup": "",
         "orientation": "v",
         "showlegend": false,
         "textposition": "auto",
         "type": "bar",
         "x": [
          "18",
          "17",
          "16",
          "07",
          "20",
          "19",
          "10",
          "08",
          "22",
          "11",
          "12",
          "21",
          "09",
          "15",
          "14",
          "13",
          "06",
          "00",
          "23",
          "不明",
          "05",
          "04",
          "02"
         ],
         "xaxis": "x",
         "y": [
          39,
          35,
          31,
          30,
          29,
          27,
          26,
          23,
          22,
          22,
          21,
          19,
          19,
          18,
          16,
          15,
          8,
          6,
          5,
          4,
          3,
          1,
          1
         ],
         "yaxis": "y"
        }
       ],
       "layout": {
        "barmode": "relative",
        "legend": {
         "tracegroupgap": 0
        },
        "margin": {
         "t": 60
        },
        "template": {
         "data": {
          "bar": [
           {
            "error_x": {
             "color": "rgb(51,51,51)"
            },
            "error_y": {
             "color": "rgb(51,51,51)"
            },
            "marker": {
             "line": {
              "color": "rgb(237,237,237)",
              "width": 0.5
             },
             "pattern": {
              "fillmode": "overlay",
              "size": 10,
              "solidity": 0.2
             }
            },
            "type": "bar"
           }
          ],
          "barpolar": [
           {
            "marker": {
             "line": {
              "color": "rgb(237,237,237)",
              "width": 0.5
             },
             "pattern": {
              "fillmode": "overlay",
              "size": 10,
              "solidity": 0.2
             }
            },
            "type": "barpolar"
           }
          ],
          "carpet": [
           {
            "aaxis": {
             "endlinecolor": "rgb(51,51,51)",
             "gridcolor": "white",
             "linecolor": "white",
             "minorgridcolor": "white",
             "startlinecolor": "rgb(51,51,51)"
            },
            "baxis": {
             "endlinecolor": "rgb(51,51,51)",
             "gridcolor": "white",
             "linecolor": "white",
             "minorgridcolor": "white",
             "startlinecolor": "rgb(51,51,51)"
            },
            "type": "carpet"
           }
          ],
          "choropleth": [
           {
            "colorbar": {
             "outlinewidth": 0,
             "tickcolor": "rgb(237,237,237)",
             "ticklen": 6,
             "ticks": "inside"
            },
            "type": "choropleth"
           }
          ],
          "contour": [
           {
            "colorbar": {
             "outlinewidth": 0,
             "tickcolor": "rgb(237,237,237)",
             "ticklen": 6,
             "ticks": "inside"
            },
            "colorscale": [
             [
              0,
              "rgb(20,44,66)"
             ],
             [
              1,
              "rgb(90,179,244)"
             ]
            ],
            "type": "contour"
           }
          ],
          "contourcarpet": [
           {
            "colorbar": {
             "outlinewidth": 0,
             "tickcolor": "rgb(237,237,237)",
             "ticklen": 6,
             "ticks": "inside"
            },
            "type": "contourcarpet"
           }
          ],
          "heatmap": [
           {
            "colorbar": {
             "outlinewidth": 0,
             "tickcolor": "rgb(237,237,237)",
             "ticklen": 6,
             "ticks": "inside"
            },
            "colorscale": [
             [
              0,
              "rgb(20,44,66)"
             ],
             [
              1,
              "rgb(90,179,244)"
             ]
            ],
            "type": "heatmap"
           }
          ],
          "heatmapgl": [
           {
            "colorbar": {
             "outlinewidth": 0,
             "tickcolor": "rgb(237,237,237)",
             "ticklen": 6,
             "ticks": "inside"
            },
            "colorscale": [
             [
              0,
              "rgb(20,44,66)"
             ],
             [
              1,
              "rgb(90,179,244)"
             ]
            ],
            "type": "heatmapgl"
           }
          ],
          "histogram": [
           {
            "marker": {
             "pattern": {
              "fillmode": "overlay",
              "size": 10,
              "solidity": 0.2
             }
            },
            "type": "histogram"
           }
          ],
          "histogram2d": [
           {
            "colorbar": {
             "outlinewidth": 0,
             "tickcolor": "rgb(237,237,237)",
             "ticklen": 6,
             "ticks": "inside"
            },
            "colorscale": [
             [
              0,
              "rgb(20,44,66)"
             ],
             [
              1,
              "rgb(90,179,244)"
             ]
            ],
            "type": "histogram2d"
           }
          ],
          "histogram2dcontour": [
           {
            "colorbar": {
             "outlinewidth": 0,
             "tickcolor": "rgb(237,237,237)",
             "ticklen": 6,
             "ticks": "inside"
            },
            "colorscale": [
             [
              0,
              "rgb(20,44,66)"
             ],
             [
              1,
              "rgb(90,179,244)"
             ]
            ],
            "type": "histogram2dcontour"
           }
          ],
          "mesh3d": [
           {
            "colorbar": {
             "outlinewidth": 0,
             "tickcolor": "rgb(237,237,237)",
             "ticklen": 6,
             "ticks": "inside"
            },
            "type": "mesh3d"
           }
          ],
          "parcoords": [
           {
            "line": {
             "colorbar": {
              "outlinewidth": 0,
              "tickcolor": "rgb(237,237,237)",
              "ticklen": 6,
              "ticks": "inside"
             }
            },
            "type": "parcoords"
           }
          ],
          "pie": [
           {
            "automargin": true,
            "type": "pie"
           }
          ],
          "scatter": [
           {
            "fillpattern": {
             "fillmode": "overlay",
             "size": 10,
             "solidity": 0.2
            },
            "type": "scatter"
           }
          ],
          "scatter3d": [
           {
            "line": {
             "colorbar": {
              "outlinewidth": 0,
              "tickcolor": "rgb(237,237,237)",
              "ticklen": 6,
              "ticks": "inside"
             }
            },
            "marker": {
             "colorbar": {
              "outlinewidth": 0,
              "tickcolor": "rgb(237,237,237)",
              "ticklen": 6,
              "ticks": "inside"
             }
            },
            "type": "scatter3d"
           }
          ],
          "scattercarpet": [
           {
            "marker": {
             "colorbar": {
              "outlinewidth": 0,
              "tickcolor": "rgb(237,237,237)",
              "ticklen": 6,
              "ticks": "inside"
             }
            },
            "type": "scattercarpet"
           }
          ],
          "scattergeo": [
           {
            "marker": {
             "colorbar": {
              "outlinewidth": 0,
              "tickcolor": "rgb(237,237,237)",
              "ticklen": 6,
              "ticks": "inside"
             }
            },
            "type": "scattergeo"
           }
          ],
          "scattergl": [
           {
            "marker": {
             "colorbar": {
              "outlinewidth": 0,
              "tickcolor": "rgb(237,237,237)",
              "ticklen": 6,
              "ticks": "inside"
             }
            },
            "type": "scattergl"
           }
          ],
          "scattermapbox": [
           {
            "marker": {
             "colorbar": {
              "outlinewidth": 0,
              "tickcolor": "rgb(237,237,237)",
              "ticklen": 6,
              "ticks": "inside"
             }
            },
            "type": "scattermapbox"
           }
          ],
          "scatterpolar": [
           {
            "marker": {
             "colorbar": {
              "outlinewidth": 0,
              "tickcolor": "rgb(237,237,237)",
              "ticklen": 6,
              "ticks": "inside"
             }
            },
            "type": "scatterpolar"
           }
          ],
          "scatterpolargl": [
           {
            "marker": {
             "colorbar": {
              "outlinewidth": 0,
              "tickcolor": "rgb(237,237,237)",
              "ticklen": 6,
              "ticks": "inside"
             }
            },
            "type": "scatterpolargl"
           }
          ],
          "scatterternary": [
           {
            "marker": {
             "colorbar": {
              "outlinewidth": 0,
              "tickcolor": "rgb(237,237,237)",
              "ticklen": 6,
              "ticks": "inside"
             }
            },
            "type": "scatterternary"
           }
          ],
          "surface": [
           {
            "colorbar": {
             "outlinewidth": 0,
             "tickcolor": "rgb(237,237,237)",
             "ticklen": 6,
             "ticks": "inside"
            },
            "colorscale": [
             [
              0,
              "rgb(20,44,66)"
             ],
             [
              1,
              "rgb(90,179,244)"
             ]
            ],
            "type": "surface"
           }
          ],
          "table": [
           {
            "cells": {
             "fill": {
              "color": "rgb(237,237,237)"
             },
             "line": {
              "color": "white"
             }
            },
            "header": {
             "fill": {
              "color": "rgb(217,217,217)"
             },
             "line": {
              "color": "white"
             }
            },
            "type": "table"
           }
          ]
         },
         "layout": {
          "annotationdefaults": {
           "arrowhead": 0,
           "arrowwidth": 1
          },
          "autotypenumbers": "strict",
          "coloraxis": {
           "colorbar": {
            "outlinewidth": 0,
            "tickcolor": "rgb(237,237,237)",
            "ticklen": 6,
            "ticks": "inside"
           }
          },
          "colorscale": {
           "sequential": [
            [
             0,
             "rgb(20,44,66)"
            ],
            [
             1,
             "rgb(90,179,244)"
            ]
           ],
           "sequentialminus": [
            [
             0,
             "rgb(20,44,66)"
            ],
            [
             1,
             "rgb(90,179,244)"
            ]
           ]
          },
          "colorway": [
           "#F8766D",
           "#A3A500",
           "#00BF7D",
           "#00B0F6",
           "#E76BF3"
          ],
          "font": {
           "color": "rgb(51,51,51)"
          },
          "geo": {
           "bgcolor": "white",
           "lakecolor": "white",
           "landcolor": "rgb(237,237,237)",
           "showlakes": true,
           "showland": true,
           "subunitcolor": "white"
          },
          "hoverlabel": {
           "align": "left"
          },
          "hovermode": "closest",
          "paper_bgcolor": "white",
          "plot_bgcolor": "rgb(237,237,237)",
          "polar": {
           "angularaxis": {
            "gridcolor": "white",
            "linecolor": "white",
            "showgrid": true,
            "tickcolor": "rgb(51,51,51)",
            "ticks": "outside"
           },
           "bgcolor": "rgb(237,237,237)",
           "radialaxis": {
            "gridcolor": "white",
            "linecolor": "white",
            "showgrid": true,
            "tickcolor": "rgb(51,51,51)",
            "ticks": "outside"
           }
          },
          "scene": {
           "xaxis": {
            "backgroundcolor": "rgb(237,237,237)",
            "gridcolor": "white",
            "gridwidth": 2,
            "linecolor": "white",
            "showbackground": true,
            "showgrid": true,
            "tickcolor": "rgb(51,51,51)",
            "ticks": "outside",
            "zerolinecolor": "white"
           },
           "yaxis": {
            "backgroundcolor": "rgb(237,237,237)",
            "gridcolor": "white",
            "gridwidth": 2,
            "linecolor": "white",
            "showbackground": true,
            "showgrid": true,
            "tickcolor": "rgb(51,51,51)",
            "ticks": "outside",
            "zerolinecolor": "white"
           },
           "zaxis": {
            "backgroundcolor": "rgb(237,237,237)",
            "gridcolor": "white",
            "gridwidth": 2,
            "linecolor": "white",
            "showbackground": true,
            "showgrid": true,
            "tickcolor": "rgb(51,51,51)",
            "ticks": "outside",
            "zerolinecolor": "white"
           }
          },
          "shapedefaults": {
           "fillcolor": "black",
           "line": {
            "width": 0
           },
           "opacity": 0.3
          },
          "ternary": {
           "aaxis": {
            "gridcolor": "white",
            "linecolor": "white",
            "showgrid": true,
            "tickcolor": "rgb(51,51,51)",
            "ticks": "outside"
           },
           "baxis": {
            "gridcolor": "white",
            "linecolor": "white",
            "showgrid": true,
            "tickcolor": "rgb(51,51,51)",
            "ticks": "outside"
           },
           "bgcolor": "rgb(237,237,237)",
           "caxis": {
            "gridcolor": "white",
            "linecolor": "white",
            "showgrid": true,
            "tickcolor": "rgb(51,51,51)",
            "ticks": "outside"
           }
          },
          "xaxis": {
           "automargin": true,
           "gridcolor": "white",
           "linecolor": "white",
           "showgrid": true,
           "tickcolor": "rgb(51,51,51)",
           "ticks": "outside",
           "title": {
            "standoff": 15
           },
           "zerolinecolor": "white"
          },
          "yaxis": {
           "automargin": true,
           "gridcolor": "white",
           "linecolor": "white",
           "showgrid": true,
           "tickcolor": "rgb(51,51,51)",
           "ticks": "outside",
           "title": {
            "standoff": 15
           },
           "zerolinecolor": "white"
          }
         }
        },
        "xaxis": {
         "anchor": "y",
         "categoryorder": "category ascending",
         "domain": [
          0,
          1
         ],
         "title": {
          "text": "発生時（始期）"
         }
        },
        "yaxis": {
         "anchor": "x",
         "domain": [
          0,
          1
         ],
         "title": {
          "text": "件数"
         }
        }
       }
      }
     },
     "metadata": {},
     "output_type": "display_data"
    }
   ],
   "source": [
    "fig = px.bar(time,\n",
    "            x='発生時（始期）',\n",
    "            y='件数',\n",
    "            template='ggplot2' # change this to see other styles\n",
    "            )\n",
    "fig.update_xaxes(categoryorder='category ascending')\n",
    "fig.show()"
   ]
  },
  {
   "cell_type": "markdown",
   "metadata": {
    "slideshow": {
     "slide_type": "slide"
    }
   },
   "source": [
    "### Make your own charts\n",
    "\n",
    "では、ここで他のチャートを作ってみよう。\n",
    "\n",
    "例：被害者の年齢、被害者の職業"
   ]
  },
  {
   "cell_type": "code",
   "execution_count": 17,
   "metadata": {},
   "outputs": [
    {
     "name": "stdout",
     "output_type": "stream",
     "text": [
      "<class 'pandas.core.frame.DataFrame'>\n",
      "Index: 420 entries, 2577 to 2996\n",
      "Data columns (total 15 columns):\n",
      " #   Column         Non-Null Count  Dtype  \n",
      "---  ------         --------------  -----  \n",
      " 0   罪名             420 non-null    object \n",
      " 1   手口             420 non-null    object \n",
      " 2   管轄警察署（発生地）     420 non-null    object \n",
      " 3   管轄交番・駐在所（発生地）  420 non-null    object \n",
      " 4   市区町村コード（発生地）   420 non-null    float64\n",
      " 5   都道府県（発生地）      420 non-null    object \n",
      " 6   市区町村（発生地）      420 non-null    object \n",
      " 7   町丁目（発生地）       420 non-null    object \n",
      " 8   発生年月日（始期）      420 non-null    object \n",
      " 9   発生時（始期）        420 non-null    object \n",
      " 10  発生場所           420 non-null    object \n",
      " 11  発生場所の詳細        420 non-null    object \n",
      " 12  被害者の年齢         420 non-null    object \n",
      " 13  被害者の職業         420 non-null    object \n",
      " 14  施錠関係           420 non-null    object \n",
      "dtypes: float64(1), object(14)\n",
      "memory usage: 52.5+ KB\n"
     ]
    }
   ],
   "source": [
    "kashiwa.info()"
   ]
  },
  {
   "cell_type": "code",
   "execution_count": 19,
   "metadata": {},
   "outputs": [
    {
     "data": {
      "text/html": [
       "<div>\n",
       "<style scoped>\n",
       "    .dataframe tbody tr th:only-of-type {\n",
       "        vertical-align: middle;\n",
       "    }\n",
       "\n",
       "    .dataframe tbody tr th {\n",
       "        vertical-align: top;\n",
       "    }\n",
       "\n",
       "    .dataframe thead th {\n",
       "        text-align: right;\n",
       "    }\n",
       "</style>\n",
       "<table border=\"1\" class=\"dataframe\">\n",
       "  <thead>\n",
       "    <tr style=\"text-align: right;\">\n",
       "      <th></th>\n",
       "      <th>被害者の職業</th>\n",
       "      <th>count</th>\n",
       "    </tr>\n",
       "  </thead>\n",
       "  <tbody>\n",
       "    <tr>\n",
       "      <th>0</th>\n",
       "      <td>その他</td>\n",
       "      <td>231</td>\n",
       "    </tr>\n",
       "    <tr>\n",
       "      <th>1</th>\n",
       "      <td>高校生</td>\n",
       "      <td>80</td>\n",
       "    </tr>\n",
       "    <tr>\n",
       "      <th>2</th>\n",
       "      <td>大学生</td>\n",
       "      <td>52</td>\n",
       "    </tr>\n",
       "    <tr>\n",
       "      <th>3</th>\n",
       "      <td>中学生</td>\n",
       "      <td>39</td>\n",
       "    </tr>\n",
       "    <tr>\n",
       "      <th>4</th>\n",
       "      <td>小学生</td>\n",
       "      <td>12</td>\n",
       "    </tr>\n",
       "    <tr>\n",
       "      <th>5</th>\n",
       "      <td>法人・団体、被害者なし</td>\n",
       "      <td>6</td>\n",
       "    </tr>\n",
       "  </tbody>\n",
       "</table>\n",
       "</div>"
      ],
      "text/plain": [
       "        被害者の職業  count\n",
       "0          その他    231\n",
       "1          高校生     80\n",
       "2          大学生     52\n",
       "3          中学生     39\n",
       "4          小学生     12\n",
       "5  法人・団体、被害者なし      6"
      ]
     },
     "execution_count": 19,
     "metadata": {},
     "output_type": "execute_result"
    }
   ],
   "source": [
    "# create a new variable with hourly counts\n",
    "work = kashiwa['被害者の職業'].value_counts().reset_index()\n",
    "\n",
    "work"
   ]
  },
  {
   "cell_type": "code",
   "execution_count": 20,
   "metadata": {},
   "outputs": [
    {
     "data": {
      "text/html": [
       "<div>\n",
       "<style scoped>\n",
       "    .dataframe tbody tr th:only-of-type {\n",
       "        vertical-align: middle;\n",
       "    }\n",
       "\n",
       "    .dataframe tbody tr th {\n",
       "        vertical-align: top;\n",
       "    }\n",
       "\n",
       "    .dataframe thead th {\n",
       "        text-align: right;\n",
       "    }\n",
       "</style>\n",
       "<table border=\"1\" class=\"dataframe\">\n",
       "  <thead>\n",
       "    <tr style=\"text-align: right;\">\n",
       "      <th></th>\n",
       "      <th>被害者の職業</th>\n",
       "      <th>件数</th>\n",
       "    </tr>\n",
       "  </thead>\n",
       "  <tbody>\n",
       "    <tr>\n",
       "      <th>0</th>\n",
       "      <td>その他</td>\n",
       "      <td>231</td>\n",
       "    </tr>\n",
       "    <tr>\n",
       "      <th>1</th>\n",
       "      <td>高校生</td>\n",
       "      <td>80</td>\n",
       "    </tr>\n",
       "    <tr>\n",
       "      <th>2</th>\n",
       "      <td>大学生</td>\n",
       "      <td>52</td>\n",
       "    </tr>\n",
       "    <tr>\n",
       "      <th>3</th>\n",
       "      <td>中学生</td>\n",
       "      <td>39</td>\n",
       "    </tr>\n",
       "    <tr>\n",
       "      <th>4</th>\n",
       "      <td>小学生</td>\n",
       "      <td>12</td>\n",
       "    </tr>\n",
       "    <tr>\n",
       "      <th>5</th>\n",
       "      <td>法人・団体、被害者なし</td>\n",
       "      <td>6</td>\n",
       "    </tr>\n",
       "  </tbody>\n",
       "</table>\n",
       "</div>"
      ],
      "text/plain": [
       "        被害者の職業   件数\n",
       "0          その他  231\n",
       "1          高校生   80\n",
       "2          大学生   52\n",
       "3          中学生   39\n",
       "4          小学生   12\n",
       "5  法人・団体、被害者なし    6"
      ]
     },
     "execution_count": 20,
     "metadata": {},
     "output_type": "execute_result"
    }
   ],
   "source": [
    "# fix headers\n",
    "work.columns = ['被害者の職業','件数']\n",
    "work"
   ]
  },
  {
   "cell_type": "code",
   "execution_count": 21,
   "metadata": {},
   "outputs": [
    {
     "data": {
      "application/vnd.plotly.v1+json": {
       "config": {
        "plotlyServerURL": "https://plot.ly"
       },
       "data": [
        {
         "alignmentgroup": "True",
         "hovertemplate": "被害者の職業=%{x}<br>件数=%{y}<extra></extra>",
         "legendgroup": "",
         "marker": {
          "color": "#636efa",
          "pattern": {
           "shape": ""
          }
         },
         "name": "",
         "offsetgroup": "",
         "orientation": "v",
         "showlegend": false,
         "textposition": "auto",
         "type": "bar",
         "x": [
          "その他",
          "高校生",
          "大学生",
          "中学生",
          "小学生",
          "法人・団体、被害者なし"
         ],
         "xaxis": "x",
         "y": [
          231,
          80,
          52,
          39,
          12,
          6
         ],
         "yaxis": "y"
        }
       ],
       "layout": {
        "barmode": "relative",
        "legend": {
         "tracegroupgap": 0
        },
        "margin": {
         "t": 60
        },
        "template": {
         "data": {
          "bar": [
           {
            "error_x": {
             "color": "#2a3f5f"
            },
            "error_y": {
             "color": "#2a3f5f"
            },
            "marker": {
             "line": {
              "color": "#E5ECF6",
              "width": 0.5
             },
             "pattern": {
              "fillmode": "overlay",
              "size": 10,
              "solidity": 0.2
             }
            },
            "type": "bar"
           }
          ],
          "barpolar": [
           {
            "marker": {
             "line": {
              "color": "#E5ECF6",
              "width": 0.5
             },
             "pattern": {
              "fillmode": "overlay",
              "size": 10,
              "solidity": 0.2
             }
            },
            "type": "barpolar"
           }
          ],
          "carpet": [
           {
            "aaxis": {
             "endlinecolor": "#2a3f5f",
             "gridcolor": "white",
             "linecolor": "white",
             "minorgridcolor": "white",
             "startlinecolor": "#2a3f5f"
            },
            "baxis": {
             "endlinecolor": "#2a3f5f",
             "gridcolor": "white",
             "linecolor": "white",
             "minorgridcolor": "white",
             "startlinecolor": "#2a3f5f"
            },
            "type": "carpet"
           }
          ],
          "choropleth": [
           {
            "colorbar": {
             "outlinewidth": 0,
             "ticks": ""
            },
            "type": "choropleth"
           }
          ],
          "contour": [
           {
            "colorbar": {
             "outlinewidth": 0,
             "ticks": ""
            },
            "colorscale": [
             [
              0,
              "#0d0887"
             ],
             [
              0.1111111111111111,
              "#46039f"
             ],
             [
              0.2222222222222222,
              "#7201a8"
             ],
             [
              0.3333333333333333,
              "#9c179e"
             ],
             [
              0.4444444444444444,
              "#bd3786"
             ],
             [
              0.5555555555555556,
              "#d8576b"
             ],
             [
              0.6666666666666666,
              "#ed7953"
             ],
             [
              0.7777777777777778,
              "#fb9f3a"
             ],
             [
              0.8888888888888888,
              "#fdca26"
             ],
             [
              1,
              "#f0f921"
             ]
            ],
            "type": "contour"
           }
          ],
          "contourcarpet": [
           {
            "colorbar": {
             "outlinewidth": 0,
             "ticks": ""
            },
            "type": "contourcarpet"
           }
          ],
          "heatmap": [
           {
            "colorbar": {
             "outlinewidth": 0,
             "ticks": ""
            },
            "colorscale": [
             [
              0,
              "#0d0887"
             ],
             [
              0.1111111111111111,
              "#46039f"
             ],
             [
              0.2222222222222222,
              "#7201a8"
             ],
             [
              0.3333333333333333,
              "#9c179e"
             ],
             [
              0.4444444444444444,
              "#bd3786"
             ],
             [
              0.5555555555555556,
              "#d8576b"
             ],
             [
              0.6666666666666666,
              "#ed7953"
             ],
             [
              0.7777777777777778,
              "#fb9f3a"
             ],
             [
              0.8888888888888888,
              "#fdca26"
             ],
             [
              1,
              "#f0f921"
             ]
            ],
            "type": "heatmap"
           }
          ],
          "heatmapgl": [
           {
            "colorbar": {
             "outlinewidth": 0,
             "ticks": ""
            },
            "colorscale": [
             [
              0,
              "#0d0887"
             ],
             [
              0.1111111111111111,
              "#46039f"
             ],
             [
              0.2222222222222222,
              "#7201a8"
             ],
             [
              0.3333333333333333,
              "#9c179e"
             ],
             [
              0.4444444444444444,
              "#bd3786"
             ],
             [
              0.5555555555555556,
              "#d8576b"
             ],
             [
              0.6666666666666666,
              "#ed7953"
             ],
             [
              0.7777777777777778,
              "#fb9f3a"
             ],
             [
              0.8888888888888888,
              "#fdca26"
             ],
             [
              1,
              "#f0f921"
             ]
            ],
            "type": "heatmapgl"
           }
          ],
          "histogram": [
           {
            "marker": {
             "pattern": {
              "fillmode": "overlay",
              "size": 10,
              "solidity": 0.2
             }
            },
            "type": "histogram"
           }
          ],
          "histogram2d": [
           {
            "colorbar": {
             "outlinewidth": 0,
             "ticks": ""
            },
            "colorscale": [
             [
              0,
              "#0d0887"
             ],
             [
              0.1111111111111111,
              "#46039f"
             ],
             [
              0.2222222222222222,
              "#7201a8"
             ],
             [
              0.3333333333333333,
              "#9c179e"
             ],
             [
              0.4444444444444444,
              "#bd3786"
             ],
             [
              0.5555555555555556,
              "#d8576b"
             ],
             [
              0.6666666666666666,
              "#ed7953"
             ],
             [
              0.7777777777777778,
              "#fb9f3a"
             ],
             [
              0.8888888888888888,
              "#fdca26"
             ],
             [
              1,
              "#f0f921"
             ]
            ],
            "type": "histogram2d"
           }
          ],
          "histogram2dcontour": [
           {
            "colorbar": {
             "outlinewidth": 0,
             "ticks": ""
            },
            "colorscale": [
             [
              0,
              "#0d0887"
             ],
             [
              0.1111111111111111,
              "#46039f"
             ],
             [
              0.2222222222222222,
              "#7201a8"
             ],
             [
              0.3333333333333333,
              "#9c179e"
             ],
             [
              0.4444444444444444,
              "#bd3786"
             ],
             [
              0.5555555555555556,
              "#d8576b"
             ],
             [
              0.6666666666666666,
              "#ed7953"
             ],
             [
              0.7777777777777778,
              "#fb9f3a"
             ],
             [
              0.8888888888888888,
              "#fdca26"
             ],
             [
              1,
              "#f0f921"
             ]
            ],
            "type": "histogram2dcontour"
           }
          ],
          "mesh3d": [
           {
            "colorbar": {
             "outlinewidth": 0,
             "ticks": ""
            },
            "type": "mesh3d"
           }
          ],
          "parcoords": [
           {
            "line": {
             "colorbar": {
              "outlinewidth": 0,
              "ticks": ""
             }
            },
            "type": "parcoords"
           }
          ],
          "pie": [
           {
            "automargin": true,
            "type": "pie"
           }
          ],
          "scatter": [
           {
            "fillpattern": {
             "fillmode": "overlay",
             "size": 10,
             "solidity": 0.2
            },
            "type": "scatter"
           }
          ],
          "scatter3d": [
           {
            "line": {
             "colorbar": {
              "outlinewidth": 0,
              "ticks": ""
             }
            },
            "marker": {
             "colorbar": {
              "outlinewidth": 0,
              "ticks": ""
             }
            },
            "type": "scatter3d"
           }
          ],
          "scattercarpet": [
           {
            "marker": {
             "colorbar": {
              "outlinewidth": 0,
              "ticks": ""
             }
            },
            "type": "scattercarpet"
           }
          ],
          "scattergeo": [
           {
            "marker": {
             "colorbar": {
              "outlinewidth": 0,
              "ticks": ""
             }
            },
            "type": "scattergeo"
           }
          ],
          "scattergl": [
           {
            "marker": {
             "colorbar": {
              "outlinewidth": 0,
              "ticks": ""
             }
            },
            "type": "scattergl"
           }
          ],
          "scattermapbox": [
           {
            "marker": {
             "colorbar": {
              "outlinewidth": 0,
              "ticks": ""
             }
            },
            "type": "scattermapbox"
           }
          ],
          "scatterpolar": [
           {
            "marker": {
             "colorbar": {
              "outlinewidth": 0,
              "ticks": ""
             }
            },
            "type": "scatterpolar"
           }
          ],
          "scatterpolargl": [
           {
            "marker": {
             "colorbar": {
              "outlinewidth": 0,
              "ticks": ""
             }
            },
            "type": "scatterpolargl"
           }
          ],
          "scatterternary": [
           {
            "marker": {
             "colorbar": {
              "outlinewidth": 0,
              "ticks": ""
             }
            },
            "type": "scatterternary"
           }
          ],
          "surface": [
           {
            "colorbar": {
             "outlinewidth": 0,
             "ticks": ""
            },
            "colorscale": [
             [
              0,
              "#0d0887"
             ],
             [
              0.1111111111111111,
              "#46039f"
             ],
             [
              0.2222222222222222,
              "#7201a8"
             ],
             [
              0.3333333333333333,
              "#9c179e"
             ],
             [
              0.4444444444444444,
              "#bd3786"
             ],
             [
              0.5555555555555556,
              "#d8576b"
             ],
             [
              0.6666666666666666,
              "#ed7953"
             ],
             [
              0.7777777777777778,
              "#fb9f3a"
             ],
             [
              0.8888888888888888,
              "#fdca26"
             ],
             [
              1,
              "#f0f921"
             ]
            ],
            "type": "surface"
           }
          ],
          "table": [
           {
            "cells": {
             "fill": {
              "color": "#EBF0F8"
             },
             "line": {
              "color": "white"
             }
            },
            "header": {
             "fill": {
              "color": "#C8D4E3"
             },
             "line": {
              "color": "white"
             }
            },
            "type": "table"
           }
          ]
         },
         "layout": {
          "annotationdefaults": {
           "arrowcolor": "#2a3f5f",
           "arrowhead": 0,
           "arrowwidth": 1
          },
          "autotypenumbers": "strict",
          "coloraxis": {
           "colorbar": {
            "outlinewidth": 0,
            "ticks": ""
           }
          },
          "colorscale": {
           "diverging": [
            [
             0,
             "#8e0152"
            ],
            [
             0.1,
             "#c51b7d"
            ],
            [
             0.2,
             "#de77ae"
            ],
            [
             0.3,
             "#f1b6da"
            ],
            [
             0.4,
             "#fde0ef"
            ],
            [
             0.5,
             "#f7f7f7"
            ],
            [
             0.6,
             "#e6f5d0"
            ],
            [
             0.7,
             "#b8e186"
            ],
            [
             0.8,
             "#7fbc41"
            ],
            [
             0.9,
             "#4d9221"
            ],
            [
             1,
             "#276419"
            ]
           ],
           "sequential": [
            [
             0,
             "#0d0887"
            ],
            [
             0.1111111111111111,
             "#46039f"
            ],
            [
             0.2222222222222222,
             "#7201a8"
            ],
            [
             0.3333333333333333,
             "#9c179e"
            ],
            [
             0.4444444444444444,
             "#bd3786"
            ],
            [
             0.5555555555555556,
             "#d8576b"
            ],
            [
             0.6666666666666666,
             "#ed7953"
            ],
            [
             0.7777777777777778,
             "#fb9f3a"
            ],
            [
             0.8888888888888888,
             "#fdca26"
            ],
            [
             1,
             "#f0f921"
            ]
           ],
           "sequentialminus": [
            [
             0,
             "#0d0887"
            ],
            [
             0.1111111111111111,
             "#46039f"
            ],
            [
             0.2222222222222222,
             "#7201a8"
            ],
            [
             0.3333333333333333,
             "#9c179e"
            ],
            [
             0.4444444444444444,
             "#bd3786"
            ],
            [
             0.5555555555555556,
             "#d8576b"
            ],
            [
             0.6666666666666666,
             "#ed7953"
            ],
            [
             0.7777777777777778,
             "#fb9f3a"
            ],
            [
             0.8888888888888888,
             "#fdca26"
            ],
            [
             1,
             "#f0f921"
            ]
           ]
          },
          "colorway": [
           "#636efa",
           "#EF553B",
           "#00cc96",
           "#ab63fa",
           "#FFA15A",
           "#19d3f3",
           "#FF6692",
           "#B6E880",
           "#FF97FF",
           "#FECB52"
          ],
          "font": {
           "color": "#2a3f5f"
          },
          "geo": {
           "bgcolor": "white",
           "lakecolor": "white",
           "landcolor": "#E5ECF6",
           "showlakes": true,
           "showland": true,
           "subunitcolor": "white"
          },
          "hoverlabel": {
           "align": "left"
          },
          "hovermode": "closest",
          "mapbox": {
           "style": "light"
          },
          "paper_bgcolor": "white",
          "plot_bgcolor": "#E5ECF6",
          "polar": {
           "angularaxis": {
            "gridcolor": "white",
            "linecolor": "white",
            "ticks": ""
           },
           "bgcolor": "#E5ECF6",
           "radialaxis": {
            "gridcolor": "white",
            "linecolor": "white",
            "ticks": ""
           }
          },
          "scene": {
           "xaxis": {
            "backgroundcolor": "#E5ECF6",
            "gridcolor": "white",
            "gridwidth": 2,
            "linecolor": "white",
            "showbackground": true,
            "ticks": "",
            "zerolinecolor": "white"
           },
           "yaxis": {
            "backgroundcolor": "#E5ECF6",
            "gridcolor": "white",
            "gridwidth": 2,
            "linecolor": "white",
            "showbackground": true,
            "ticks": "",
            "zerolinecolor": "white"
           },
           "zaxis": {
            "backgroundcolor": "#E5ECF6",
            "gridcolor": "white",
            "gridwidth": 2,
            "linecolor": "white",
            "showbackground": true,
            "ticks": "",
            "zerolinecolor": "white"
           }
          },
          "shapedefaults": {
           "line": {
            "color": "#2a3f5f"
           }
          },
          "ternary": {
           "aaxis": {
            "gridcolor": "white",
            "linecolor": "white",
            "ticks": ""
           },
           "baxis": {
            "gridcolor": "white",
            "linecolor": "white",
            "ticks": ""
           },
           "bgcolor": "#E5ECF6",
           "caxis": {
            "gridcolor": "white",
            "linecolor": "white",
            "ticks": ""
           }
          },
          "title": {
           "x": 0.05
          },
          "xaxis": {
           "automargin": true,
           "gridcolor": "white",
           "linecolor": "white",
           "ticks": "",
           "title": {
            "standoff": 15
           },
           "zerolinecolor": "white",
           "zerolinewidth": 2
          },
          "yaxis": {
           "automargin": true,
           "gridcolor": "white",
           "linecolor": "white",
           "ticks": "",
           "title": {
            "standoff": 15
           },
           "zerolinecolor": "white",
           "zerolinewidth": 2
          }
         }
        },
        "xaxis": {
         "anchor": "y",
         "domain": [
          0,
          1
         ],
         "title": {
          "text": "被害者の職業"
         }
        },
        "yaxis": {
         "anchor": "x",
         "domain": [
          0,
          1
         ],
         "title": {
          "text": "件数"
         }
        }
       }
      }
     },
     "metadata": {},
     "output_type": "display_data"
    }
   ],
   "source": [
    "fig = px.bar(work,x='被害者の職業',y='件数')\n",
    "fig.show()"
   ]
  },
  {
   "cell_type": "markdown",
   "metadata": {
    "slideshow": {
     "slide_type": "slide"
    }
   },
   "source": [
    "## その他のチャート（上級編）\n",
    "\n",
    "複数の変数でチャートを作ると、より深い分析ができる。"
   ]
  },
  {
   "cell_type": "code",
   "execution_count": 27,
   "metadata": {
    "slideshow": {
     "slide_type": "slide"
    }
   },
   "outputs": [
    {
     "data": {
      "application/vnd.plotly.v1+json": {
       "config": {
        "plotlyServerURL": "https://plot.ly"
       },
       "data": [
        {
         "alignmentgroup": "True",
         "hovertemplate": "施錠関係=施錠した<br>発生時（始期）=%{x}<br>count=%{y}<extra></extra>",
         "legendgroup": "施錠した",
         "marker": {
          "color": "rgb(76,114,176)",
          "line": {
           "width": 0
          },
          "pattern": {
           "shape": ""
          }
         },
         "name": "施錠した",
         "offsetgroup": "施錠した",
         "orientation": "v",
         "showlegend": true,
         "textposition": "auto",
         "type": "bar",
         "x": [
          "05",
          "18",
          "22",
          "20",
          "16",
          "06",
          "14",
          "19",
          "14",
          "17",
          "19",
          "11",
          "17",
          "07",
          "17",
          "08",
          "09",
          "08",
          "07",
          "08",
          "21",
          "16",
          "12",
          "10",
          "10",
          "18",
          "20",
          "17",
          "12",
          "10",
          "07",
          "17",
          "不明",
          "18",
          "07",
          "10",
          "11",
          "14",
          "10",
          "23",
          "07",
          "07",
          "18",
          "10",
          "11",
          "20",
          "10",
          "11",
          "09",
          "19",
          "08",
          "20",
          "15",
          "13",
          "18",
          "21",
          "19",
          "19",
          "22",
          "07",
          "12",
          "15",
          "22",
          "12",
          "20",
          "20",
          "07",
          "14",
          "18",
          "18",
          "10",
          "18",
          "07",
          "17",
          "18",
          "20",
          "08",
          "18",
          "16",
          "17",
          "10",
          "09",
          "19",
          "19",
          "07",
          "07",
          "13",
          "13",
          "16",
          "20",
          "06",
          "16",
          "10",
          "15",
          "21",
          "11",
          "21",
          "18",
          "18",
          "13",
          "12",
          "17",
          "15",
          "17",
          "18",
          "07",
          "15",
          "08",
          "不明",
          "00",
          "14",
          "20",
          "12",
          "17",
          "11",
          "12",
          "14",
          "19",
          "20",
          "09",
          "22",
          "12",
          "06",
          "22",
          "15",
          "10",
          "14",
          "14",
          "16",
          "11",
          "10",
          "21",
          "09",
          "12",
          "06",
          "19",
          "18",
          "18",
          "21",
          "22",
          "12",
          "13",
          "23",
          "17",
          "21",
          "13",
          "22",
          "16",
          "17",
          "08",
          "22",
          "21",
          "19",
          "13",
          "20"
         ],
         "xaxis": "x",
         "y": [
          1,
          1,
          1,
          1,
          1,
          1,
          1,
          1,
          1,
          1,
          1,
          1,
          1,
          1,
          1,
          1,
          1,
          1,
          1,
          1,
          1,
          1,
          1,
          1,
          1,
          1,
          1,
          1,
          1,
          1,
          1,
          1,
          1,
          1,
          1,
          1,
          1,
          1,
          1,
          1,
          1,
          1,
          1,
          1,
          1,
          1,
          1,
          1,
          1,
          1,
          1,
          1,
          1,
          1,
          1,
          1,
          1,
          1,
          1,
          1,
          1,
          1,
          1,
          1,
          1,
          1,
          1,
          1,
          1,
          1,
          1,
          1,
          1,
          1,
          1,
          1,
          1,
          1,
          1,
          1,
          1,
          1,
          1,
          1,
          1,
          1,
          1,
          1,
          1,
          1,
          1,
          1,
          1,
          1,
          1,
          1,
          1,
          1,
          1,
          1,
          1,
          1,
          1,
          1,
          1,
          1,
          1,
          1,
          1,
          1,
          1,
          1,
          1,
          1,
          1,
          1,
          1,
          1,
          1,
          1,
          1,
          1,
          1,
          1,
          1,
          1,
          1,
          1,
          1,
          1,
          1,
          1,
          1,
          1,
          1,
          1,
          1,
          1,
          1,
          1,
          1,
          1,
          1,
          1,
          1,
          1,
          1,
          1,
          1,
          1,
          1,
          1,
          1,
          1,
          1
         ],
         "yaxis": "y"
        },
        {
         "alignmentgroup": "True",
         "hovertemplate": "施錠関係=施錠せず<br>発生時（始期）=%{x}<br>count=%{y}<extra></extra>",
         "legendgroup": "施錠せず",
         "marker": {
          "color": "rgb(221,132,82)",
          "line": {
           "width": 0
          },
          "pattern": {
           "shape": ""
          }
         },
         "name": "施錠せず",
         "offsetgroup": "施錠せず",
         "orientation": "v",
         "showlegend": true,
         "textposition": "auto",
         "type": "bar",
         "x": [
          "18",
          "18",
          "10",
          "10",
          "08",
          "10",
          "16",
          "17",
          "22",
          "18",
          "08",
          "16",
          "22",
          "19",
          "04",
          "不明",
          "17",
          "18",
          "13",
          "08",
          "13",
          "07",
          "07",
          "07",
          "20",
          "10",
          "08",
          "08",
          "21",
          "10",
          "08",
          "17",
          "16",
          "07",
          "22",
          "07",
          "14",
          "07",
          "16",
          "15",
          "08",
          "16",
          "18",
          "15",
          "11",
          "12",
          "13",
          "16",
          "22",
          "19",
          "17",
          "07",
          "12",
          "22",
          "16",
          "16",
          "19",
          "08",
          "18",
          "06",
          "13",
          "21",
          "09",
          "11",
          "14",
          "18",
          "23",
          "20",
          "10",
          "00",
          "19",
          "11",
          "20",
          "17",
          "11",
          "10",
          "07",
          "21",
          "13",
          "14",
          "14",
          "11",
          "07",
          "07",
          "00",
          "19",
          "22",
          "09",
          "09",
          "16",
          "15",
          "10",
          "15",
          "15",
          "09",
          "17",
          "18",
          "09",
          "17",
          "22",
          "16",
          "16",
          "21",
          "16",
          "19",
          "18",
          "16",
          "23",
          "19",
          "16",
          "22",
          "20",
          "12",
          "12",
          "15",
          "18",
          "10",
          "20",
          "16",
          "12",
          "10",
          "21",
          "17",
          "12",
          "16",
          "10",
          "14",
          "11",
          "16",
          "13",
          "05",
          "16",
          "17",
          "18",
          "20",
          "11",
          "16",
          "00",
          "18",
          "20",
          "18",
          "19",
          "19",
          "18",
          "20",
          "13",
          "19",
          "22",
          "19",
          "15",
          "11",
          "20",
          "15",
          "18",
          "14",
          "09",
          "07",
          "17",
          "15",
          "22",
          "21",
          "18",
          "10",
          "15",
          "16",
          "09",
          "17",
          "22",
          "11",
          "06",
          "12",
          "14",
          "14",
          "18",
          "11",
          "07",
          "17",
          "17",
          "18",
          "11",
          "17",
          "09",
          "07",
          "09",
          "02",
          "20",
          "20",
          "17",
          "21",
          "12",
          "不明",
          "18",
          "11",
          "21",
          "11",
          "16",
          "09",
          "05",
          "09",
          "12",
          "13",
          "21",
          "20",
          "20",
          "19",
          "08",
          "16",
          "06",
          "09",
          "18",
          "19",
          "10",
          "20",
          "19",
          "16",
          "08",
          "15",
          "18",
          "23",
          "22",
          "09",
          "07",
          "08",
          "12",
          "00",
          "08",
          "18",
          "18",
          "15",
          "20",
          "19",
          "17",
          "20",
          "19",
          "11",
          "17",
          "07",
          "08",
          "22",
          "20",
          "17",
          "18",
          "21",
          "09",
          "11",
          "17",
          "06",
          "08",
          "17",
          "07",
          "20",
          "22",
          "17",
          "07",
          "12",
          "17",
          "07",
          "00",
          "08",
          "16",
          "17",
          "19",
          "10",
          "08",
          "21"
         ],
         "xaxis": "x",
         "y": [
          1,
          1,
          1,
          1,
          1,
          1,
          1,
          1,
          1,
          1,
          1,
          1,
          1,
          1,
          1,
          1,
          1,
          1,
          1,
          1,
          1,
          1,
          1,
          1,
          1,
          1,
          1,
          1,
          1,
          1,
          1,
          1,
          1,
          1,
          1,
          1,
          1,
          1,
          1,
          1,
          1,
          1,
          1,
          1,
          1,
          1,
          1,
          1,
          1,
          1,
          1,
          1,
          1,
          1,
          1,
          1,
          1,
          1,
          1,
          1,
          1,
          1,
          1,
          1,
          1,
          1,
          1,
          1,
          1,
          1,
          1,
          1,
          1,
          1,
          1,
          1,
          1,
          1,
          1,
          1,
          1,
          1,
          1,
          1,
          1,
          1,
          1,
          1,
          1,
          1,
          1,
          1,
          1,
          1,
          1,
          1,
          1,
          1,
          1,
          1,
          1,
          1,
          1,
          1,
          1,
          1,
          1,
          1,
          1,
          1,
          1,
          1,
          1,
          1,
          1,
          1,
          1,
          1,
          1,
          1,
          1,
          1,
          1,
          1,
          1,
          1,
          1,
          1,
          1,
          1,
          1,
          1,
          1,
          1,
          1,
          1,
          1,
          1,
          1,
          1,
          1,
          1,
          1,
          1,
          1,
          1,
          1,
          1,
          1,
          1,
          1,
          1,
          1,
          1,
          1,
          1,
          1,
          1,
          1,
          1,
          1,
          1,
          1,
          1,
          1,
          1,
          1,
          1,
          1,
          1,
          1,
          1,
          1,
          1,
          1,
          1,
          1,
          1,
          1,
          1,
          1,
          1,
          1,
          1,
          1,
          1,
          1,
          1,
          1,
          1,
          1,
          1,
          1,
          1,
          1,
          1,
          1,
          1,
          1,
          1,
          1,
          1,
          1,
          1,
          1,
          1,
          1,
          1,
          1,
          1,
          1,
          1,
          1,
          1,
          1,
          1,
          1,
          1,
          1,
          1,
          1,
          1,
          1,
          1,
          1,
          1,
          1,
          1,
          1,
          1,
          1,
          1,
          1,
          1,
          1,
          1,
          1,
          1,
          1,
          1,
          1,
          1,
          1,
          1,
          1,
          1,
          1,
          1,
          1,
          1,
          1,
          1,
          1,
          1,
          1,
          1,
          1,
          1,
          1,
          1,
          1,
          1,
          1,
          1,
          1
         ],
         "yaxis": "y"
        }
       ],
       "layout": {
        "barmode": "group",
        "legend": {
         "title": {
          "text": "施錠関係"
         },
         "tracegroupgap": 0
        },
        "margin": {
         "t": 60
        },
        "template": {
         "data": {
          "bar": [
           {
            "error_x": {
             "color": "rgb(36,36,36)"
            },
            "error_y": {
             "color": "rgb(36,36,36)"
            },
            "marker": {
             "line": {
              "color": "rgb(234,234,242)",
              "width": 0.5
             },
             "pattern": {
              "fillmode": "overlay",
              "size": 10,
              "solidity": 0.2
             }
            },
            "type": "bar"
           }
          ],
          "barpolar": [
           {
            "marker": {
             "line": {
              "color": "rgb(234,234,242)",
              "width": 0.5
             },
             "pattern": {
              "fillmode": "overlay",
              "size": 10,
              "solidity": 0.2
             }
            },
            "type": "barpolar"
           }
          ],
          "carpet": [
           {
            "aaxis": {
             "endlinecolor": "rgb(36,36,36)",
             "gridcolor": "white",
             "linecolor": "white",
             "minorgridcolor": "white",
             "startlinecolor": "rgb(36,36,36)"
            },
            "baxis": {
             "endlinecolor": "rgb(36,36,36)",
             "gridcolor": "white",
             "linecolor": "white",
             "minorgridcolor": "white",
             "startlinecolor": "rgb(36,36,36)"
            },
            "type": "carpet"
           }
          ],
          "choropleth": [
           {
            "colorbar": {
             "outlinewidth": 0,
             "tickcolor": "rgb(36,36,36)",
             "ticklen": 8,
             "ticks": "outside",
             "tickwidth": 2
            },
            "type": "choropleth"
           }
          ],
          "contour": [
           {
            "colorbar": {
             "outlinewidth": 0,
             "tickcolor": "rgb(36,36,36)",
             "ticklen": 8,
             "ticks": "outside",
             "tickwidth": 2
            },
            "colorscale": [
             [
              0,
              "rgb(2,4,25)"
             ],
             [
              0.06274509803921569,
              "rgb(24,15,41)"
             ],
             [
              0.12549019607843137,
              "rgb(47,23,57)"
             ],
             [
              0.18823529411764706,
              "rgb(71,28,72)"
             ],
             [
              0.25098039215686274,
              "rgb(97,30,82)"
             ],
             [
              0.3137254901960784,
              "rgb(123,30,89)"
             ],
             [
              0.3764705882352941,
              "rgb(150,27,91)"
             ],
             [
              0.4392156862745098,
              "rgb(177,22,88)"
             ],
             [
              0.5019607843137255,
              "rgb(203,26,79)"
             ],
             [
              0.5647058823529412,
              "rgb(223,47,67)"
             ],
             [
              0.6274509803921569,
              "rgb(236,76,61)"
             ],
             [
              0.6901960784313725,
              "rgb(242,107,73)"
             ],
             [
              0.7529411764705882,
              "rgb(244,135,95)"
             ],
             [
              0.8156862745098039,
              "rgb(245,162,122)"
             ],
             [
              0.8784313725490196,
              "rgb(246,188,153)"
             ],
             [
              0.9411764705882353,
              "rgb(247,212,187)"
             ],
             [
              1,
              "rgb(250,234,220)"
             ]
            ],
            "type": "contour"
           }
          ],
          "contourcarpet": [
           {
            "colorbar": {
             "outlinewidth": 0,
             "tickcolor": "rgb(36,36,36)",
             "ticklen": 8,
             "ticks": "outside",
             "tickwidth": 2
            },
            "type": "contourcarpet"
           }
          ],
          "heatmap": [
           {
            "colorbar": {
             "outlinewidth": 0,
             "tickcolor": "rgb(36,36,36)",
             "ticklen": 8,
             "ticks": "outside",
             "tickwidth": 2
            },
            "colorscale": [
             [
              0,
              "rgb(2,4,25)"
             ],
             [
              0.06274509803921569,
              "rgb(24,15,41)"
             ],
             [
              0.12549019607843137,
              "rgb(47,23,57)"
             ],
             [
              0.18823529411764706,
              "rgb(71,28,72)"
             ],
             [
              0.25098039215686274,
              "rgb(97,30,82)"
             ],
             [
              0.3137254901960784,
              "rgb(123,30,89)"
             ],
             [
              0.3764705882352941,
              "rgb(150,27,91)"
             ],
             [
              0.4392156862745098,
              "rgb(177,22,88)"
             ],
             [
              0.5019607843137255,
              "rgb(203,26,79)"
             ],
             [
              0.5647058823529412,
              "rgb(223,47,67)"
             ],
             [
              0.6274509803921569,
              "rgb(236,76,61)"
             ],
             [
              0.6901960784313725,
              "rgb(242,107,73)"
             ],
             [
              0.7529411764705882,
              "rgb(244,135,95)"
             ],
             [
              0.8156862745098039,
              "rgb(245,162,122)"
             ],
             [
              0.8784313725490196,
              "rgb(246,188,153)"
             ],
             [
              0.9411764705882353,
              "rgb(247,212,187)"
             ],
             [
              1,
              "rgb(250,234,220)"
             ]
            ],
            "type": "heatmap"
           }
          ],
          "heatmapgl": [
           {
            "colorbar": {
             "outlinewidth": 0,
             "tickcolor": "rgb(36,36,36)",
             "ticklen": 8,
             "ticks": "outside",
             "tickwidth": 2
            },
            "colorscale": [
             [
              0,
              "rgb(2,4,25)"
             ],
             [
              0.06274509803921569,
              "rgb(24,15,41)"
             ],
             [
              0.12549019607843137,
              "rgb(47,23,57)"
             ],
             [
              0.18823529411764706,
              "rgb(71,28,72)"
             ],
             [
              0.25098039215686274,
              "rgb(97,30,82)"
             ],
             [
              0.3137254901960784,
              "rgb(123,30,89)"
             ],
             [
              0.3764705882352941,
              "rgb(150,27,91)"
             ],
             [
              0.4392156862745098,
              "rgb(177,22,88)"
             ],
             [
              0.5019607843137255,
              "rgb(203,26,79)"
             ],
             [
              0.5647058823529412,
              "rgb(223,47,67)"
             ],
             [
              0.6274509803921569,
              "rgb(236,76,61)"
             ],
             [
              0.6901960784313725,
              "rgb(242,107,73)"
             ],
             [
              0.7529411764705882,
              "rgb(244,135,95)"
             ],
             [
              0.8156862745098039,
              "rgb(245,162,122)"
             ],
             [
              0.8784313725490196,
              "rgb(246,188,153)"
             ],
             [
              0.9411764705882353,
              "rgb(247,212,187)"
             ],
             [
              1,
              "rgb(250,234,220)"
             ]
            ],
            "type": "heatmapgl"
           }
          ],
          "histogram": [
           {
            "marker": {
             "pattern": {
              "fillmode": "overlay",
              "size": 10,
              "solidity": 0.2
             }
            },
            "type": "histogram"
           }
          ],
          "histogram2d": [
           {
            "colorbar": {
             "outlinewidth": 0,
             "tickcolor": "rgb(36,36,36)",
             "ticklen": 8,
             "ticks": "outside",
             "tickwidth": 2
            },
            "colorscale": [
             [
              0,
              "rgb(2,4,25)"
             ],
             [
              0.06274509803921569,
              "rgb(24,15,41)"
             ],
             [
              0.12549019607843137,
              "rgb(47,23,57)"
             ],
             [
              0.18823529411764706,
              "rgb(71,28,72)"
             ],
             [
              0.25098039215686274,
              "rgb(97,30,82)"
             ],
             [
              0.3137254901960784,
              "rgb(123,30,89)"
             ],
             [
              0.3764705882352941,
              "rgb(150,27,91)"
             ],
             [
              0.4392156862745098,
              "rgb(177,22,88)"
             ],
             [
              0.5019607843137255,
              "rgb(203,26,79)"
             ],
             [
              0.5647058823529412,
              "rgb(223,47,67)"
             ],
             [
              0.6274509803921569,
              "rgb(236,76,61)"
             ],
             [
              0.6901960784313725,
              "rgb(242,107,73)"
             ],
             [
              0.7529411764705882,
              "rgb(244,135,95)"
             ],
             [
              0.8156862745098039,
              "rgb(245,162,122)"
             ],
             [
              0.8784313725490196,
              "rgb(246,188,153)"
             ],
             [
              0.9411764705882353,
              "rgb(247,212,187)"
             ],
             [
              1,
              "rgb(250,234,220)"
             ]
            ],
            "type": "histogram2d"
           }
          ],
          "histogram2dcontour": [
           {
            "colorbar": {
             "outlinewidth": 0,
             "tickcolor": "rgb(36,36,36)",
             "ticklen": 8,
             "ticks": "outside",
             "tickwidth": 2
            },
            "colorscale": [
             [
              0,
              "rgb(2,4,25)"
             ],
             [
              0.06274509803921569,
              "rgb(24,15,41)"
             ],
             [
              0.12549019607843137,
              "rgb(47,23,57)"
             ],
             [
              0.18823529411764706,
              "rgb(71,28,72)"
             ],
             [
              0.25098039215686274,
              "rgb(97,30,82)"
             ],
             [
              0.3137254901960784,
              "rgb(123,30,89)"
             ],
             [
              0.3764705882352941,
              "rgb(150,27,91)"
             ],
             [
              0.4392156862745098,
              "rgb(177,22,88)"
             ],
             [
              0.5019607843137255,
              "rgb(203,26,79)"
             ],
             [
              0.5647058823529412,
              "rgb(223,47,67)"
             ],
             [
              0.6274509803921569,
              "rgb(236,76,61)"
             ],
             [
              0.6901960784313725,
              "rgb(242,107,73)"
             ],
             [
              0.7529411764705882,
              "rgb(244,135,95)"
             ],
             [
              0.8156862745098039,
              "rgb(245,162,122)"
             ],
             [
              0.8784313725490196,
              "rgb(246,188,153)"
             ],
             [
              0.9411764705882353,
              "rgb(247,212,187)"
             ],
             [
              1,
              "rgb(250,234,220)"
             ]
            ],
            "type": "histogram2dcontour"
           }
          ],
          "mesh3d": [
           {
            "colorbar": {
             "outlinewidth": 0,
             "tickcolor": "rgb(36,36,36)",
             "ticklen": 8,
             "ticks": "outside",
             "tickwidth": 2
            },
            "type": "mesh3d"
           }
          ],
          "parcoords": [
           {
            "line": {
             "colorbar": {
              "outlinewidth": 0,
              "tickcolor": "rgb(36,36,36)",
              "ticklen": 8,
              "ticks": "outside",
              "tickwidth": 2
             }
            },
            "type": "parcoords"
           }
          ],
          "pie": [
           {
            "automargin": true,
            "type": "pie"
           }
          ],
          "scatter": [
           {
            "fillpattern": {
             "fillmode": "overlay",
             "size": 10,
             "solidity": 0.2
            },
            "type": "scatter"
           }
          ],
          "scatter3d": [
           {
            "line": {
             "colorbar": {
              "outlinewidth": 0,
              "tickcolor": "rgb(36,36,36)",
              "ticklen": 8,
              "ticks": "outside",
              "tickwidth": 2
             }
            },
            "marker": {
             "colorbar": {
              "outlinewidth": 0,
              "tickcolor": "rgb(36,36,36)",
              "ticklen": 8,
              "ticks": "outside",
              "tickwidth": 2
             }
            },
            "type": "scatter3d"
           }
          ],
          "scattercarpet": [
           {
            "marker": {
             "colorbar": {
              "outlinewidth": 0,
              "tickcolor": "rgb(36,36,36)",
              "ticklen": 8,
              "ticks": "outside",
              "tickwidth": 2
             }
            },
            "type": "scattercarpet"
           }
          ],
          "scattergeo": [
           {
            "marker": {
             "colorbar": {
              "outlinewidth": 0,
              "tickcolor": "rgb(36,36,36)",
              "ticklen": 8,
              "ticks": "outside",
              "tickwidth": 2
             }
            },
            "type": "scattergeo"
           }
          ],
          "scattergl": [
           {
            "marker": {
             "colorbar": {
              "outlinewidth": 0,
              "tickcolor": "rgb(36,36,36)",
              "ticklen": 8,
              "ticks": "outside",
              "tickwidth": 2
             }
            },
            "type": "scattergl"
           }
          ],
          "scattermapbox": [
           {
            "marker": {
             "colorbar": {
              "outlinewidth": 0,
              "tickcolor": "rgb(36,36,36)",
              "ticklen": 8,
              "ticks": "outside",
              "tickwidth": 2
             }
            },
            "type": "scattermapbox"
           }
          ],
          "scatterpolar": [
           {
            "marker": {
             "colorbar": {
              "outlinewidth": 0,
              "tickcolor": "rgb(36,36,36)",
              "ticklen": 8,
              "ticks": "outside",
              "tickwidth": 2
             }
            },
            "type": "scatterpolar"
           }
          ],
          "scatterpolargl": [
           {
            "marker": {
             "colorbar": {
              "outlinewidth": 0,
              "tickcolor": "rgb(36,36,36)",
              "ticklen": 8,
              "ticks": "outside",
              "tickwidth": 2
             }
            },
            "type": "scatterpolargl"
           }
          ],
          "scatterternary": [
           {
            "marker": {
             "colorbar": {
              "outlinewidth": 0,
              "tickcolor": "rgb(36,36,36)",
              "ticklen": 8,
              "ticks": "outside",
              "tickwidth": 2
             }
            },
            "type": "scatterternary"
           }
          ],
          "surface": [
           {
            "colorbar": {
             "outlinewidth": 0,
             "tickcolor": "rgb(36,36,36)",
             "ticklen": 8,
             "ticks": "outside",
             "tickwidth": 2
            },
            "colorscale": [
             [
              0,
              "rgb(2,4,25)"
             ],
             [
              0.06274509803921569,
              "rgb(24,15,41)"
             ],
             [
              0.12549019607843137,
              "rgb(47,23,57)"
             ],
             [
              0.18823529411764706,
              "rgb(71,28,72)"
             ],
             [
              0.25098039215686274,
              "rgb(97,30,82)"
             ],
             [
              0.3137254901960784,
              "rgb(123,30,89)"
             ],
             [
              0.3764705882352941,
              "rgb(150,27,91)"
             ],
             [
              0.4392156862745098,
              "rgb(177,22,88)"
             ],
             [
              0.5019607843137255,
              "rgb(203,26,79)"
             ],
             [
              0.5647058823529412,
              "rgb(223,47,67)"
             ],
             [
              0.6274509803921569,
              "rgb(236,76,61)"
             ],
             [
              0.6901960784313725,
              "rgb(242,107,73)"
             ],
             [
              0.7529411764705882,
              "rgb(244,135,95)"
             ],
             [
              0.8156862745098039,
              "rgb(245,162,122)"
             ],
             [
              0.8784313725490196,
              "rgb(246,188,153)"
             ],
             [
              0.9411764705882353,
              "rgb(247,212,187)"
             ],
             [
              1,
              "rgb(250,234,220)"
             ]
            ],
            "type": "surface"
           }
          ],
          "table": [
           {
            "cells": {
             "fill": {
              "color": "rgb(231,231,240)"
             },
             "line": {
              "color": "white"
             }
            },
            "header": {
             "fill": {
              "color": "rgb(183,183,191)"
             },
             "line": {
              "color": "white"
             }
            },
            "type": "table"
           }
          ]
         },
         "layout": {
          "annotationdefaults": {
           "arrowcolor": "rgb(67,103,167)"
          },
          "autotypenumbers": "strict",
          "coloraxis": {
           "colorbar": {
            "outlinewidth": 0,
            "tickcolor": "rgb(36,36,36)",
            "ticklen": 8,
            "ticks": "outside",
            "tickwidth": 2
           }
          },
          "colorscale": {
           "sequential": [
            [
             0,
             "rgb(2,4,25)"
            ],
            [
             0.06274509803921569,
             "rgb(24,15,41)"
            ],
            [
             0.12549019607843137,
             "rgb(47,23,57)"
            ],
            [
             0.18823529411764706,
             "rgb(71,28,72)"
            ],
            [
             0.25098039215686274,
             "rgb(97,30,82)"
            ],
            [
             0.3137254901960784,
             "rgb(123,30,89)"
            ],
            [
             0.3764705882352941,
             "rgb(150,27,91)"
            ],
            [
             0.4392156862745098,
             "rgb(177,22,88)"
            ],
            [
             0.5019607843137255,
             "rgb(203,26,79)"
            ],
            [
             0.5647058823529412,
             "rgb(223,47,67)"
            ],
            [
             0.6274509803921569,
             "rgb(236,76,61)"
            ],
            [
             0.6901960784313725,
             "rgb(242,107,73)"
            ],
            [
             0.7529411764705882,
             "rgb(244,135,95)"
            ],
            [
             0.8156862745098039,
             "rgb(245,162,122)"
            ],
            [
             0.8784313725490196,
             "rgb(246,188,153)"
            ],
            [
             0.9411764705882353,
             "rgb(247,212,187)"
            ],
            [
             1,
             "rgb(250,234,220)"
            ]
           ],
           "sequentialminus": [
            [
             0,
             "rgb(2,4,25)"
            ],
            [
             0.06274509803921569,
             "rgb(24,15,41)"
            ],
            [
             0.12549019607843137,
             "rgb(47,23,57)"
            ],
            [
             0.18823529411764706,
             "rgb(71,28,72)"
            ],
            [
             0.25098039215686274,
             "rgb(97,30,82)"
            ],
            [
             0.3137254901960784,
             "rgb(123,30,89)"
            ],
            [
             0.3764705882352941,
             "rgb(150,27,91)"
            ],
            [
             0.4392156862745098,
             "rgb(177,22,88)"
            ],
            [
             0.5019607843137255,
             "rgb(203,26,79)"
            ],
            [
             0.5647058823529412,
             "rgb(223,47,67)"
            ],
            [
             0.6274509803921569,
             "rgb(236,76,61)"
            ],
            [
             0.6901960784313725,
             "rgb(242,107,73)"
            ],
            [
             0.7529411764705882,
             "rgb(244,135,95)"
            ],
            [
             0.8156862745098039,
             "rgb(245,162,122)"
            ],
            [
             0.8784313725490196,
             "rgb(246,188,153)"
            ],
            [
             0.9411764705882353,
             "rgb(247,212,187)"
            ],
            [
             1,
             "rgb(250,234,220)"
            ]
           ]
          },
          "colorway": [
           "rgb(76,114,176)",
           "rgb(221,132,82)",
           "rgb(85,168,104)",
           "rgb(196,78,82)",
           "rgb(129,114,179)",
           "rgb(147,120,96)",
           "rgb(218,139,195)",
           "rgb(140,140,140)",
           "rgb(204,185,116)",
           "rgb(100,181,205)"
          ],
          "font": {
           "color": "rgb(36,36,36)"
          },
          "geo": {
           "bgcolor": "white",
           "lakecolor": "white",
           "landcolor": "rgb(234,234,242)",
           "showlakes": true,
           "showland": true,
           "subunitcolor": "white"
          },
          "hoverlabel": {
           "align": "left"
          },
          "hovermode": "closest",
          "paper_bgcolor": "white",
          "plot_bgcolor": "rgb(234,234,242)",
          "polar": {
           "angularaxis": {
            "gridcolor": "white",
            "linecolor": "white",
            "showgrid": true,
            "ticks": ""
           },
           "bgcolor": "rgb(234,234,242)",
           "radialaxis": {
            "gridcolor": "white",
            "linecolor": "white",
            "showgrid": true,
            "ticks": ""
           }
          },
          "scene": {
           "xaxis": {
            "backgroundcolor": "rgb(234,234,242)",
            "gridcolor": "white",
            "gridwidth": 2,
            "linecolor": "white",
            "showbackground": true,
            "showgrid": true,
            "ticks": "",
            "zerolinecolor": "white"
           },
           "yaxis": {
            "backgroundcolor": "rgb(234,234,242)",
            "gridcolor": "white",
            "gridwidth": 2,
            "linecolor": "white",
            "showbackground": true,
            "showgrid": true,
            "ticks": "",
            "zerolinecolor": "white"
           },
           "zaxis": {
            "backgroundcolor": "rgb(234,234,242)",
            "gridcolor": "white",
            "gridwidth": 2,
            "linecolor": "white",
            "showbackground": true,
            "showgrid": true,
            "ticks": "",
            "zerolinecolor": "white"
           }
          },
          "shapedefaults": {
           "fillcolor": "rgb(67,103,167)",
           "line": {
            "width": 0
           },
           "opacity": 0.5
          },
          "ternary": {
           "aaxis": {
            "gridcolor": "white",
            "linecolor": "white",
            "showgrid": true,
            "ticks": ""
           },
           "baxis": {
            "gridcolor": "white",
            "linecolor": "white",
            "showgrid": true,
            "ticks": ""
           },
           "bgcolor": "rgb(234,234,242)",
           "caxis": {
            "gridcolor": "white",
            "linecolor": "white",
            "showgrid": true,
            "ticks": ""
           }
          },
          "xaxis": {
           "automargin": true,
           "gridcolor": "white",
           "linecolor": "white",
           "showgrid": true,
           "ticks": "",
           "title": {
            "standoff": 15
           },
           "zerolinecolor": "white"
          },
          "yaxis": {
           "automargin": true,
           "gridcolor": "white",
           "linecolor": "white",
           "showgrid": true,
           "ticks": "",
           "title": {
            "standoff": 15
           },
           "zerolinecolor": "white"
          }
         }
        },
        "xaxis": {
         "anchor": "y",
         "categoryorder": "category ascending",
         "domain": [
          0,
          1
         ],
         "title": {
          "text": "発生時（始期）"
         }
        },
        "yaxis": {
         "anchor": "x",
         "domain": [
          0,
          1
         ],
         "title": {
          "text": "count"
         }
        }
       }
      }
     },
     "metadata": {},
     "output_type": "display_data"
    }
   ],
   "source": [
    "fig = px.bar(kashiwa,\n",
    "            x='発生時（始期）',\n",
    "            color='施錠関係',\n",
    "            template='seaborn',\n",
    "            barmode='group')\n",
    "fig.update_traces(\n",
    "    marker_line_width=0\n",
    ")\n",
    "fig.update_xaxes(categoryorder='category ascending')\n",
    "fig.show()"
   ]
  },
  {
   "cell_type": "code",
   "execution_count": null,
   "metadata": {},
   "outputs": [],
   "source": []
  },
  {
   "cell_type": "markdown",
   "metadata": {
    "slideshow": {
     "slide_type": "slide"
    }
   },
   "source": [
    "↑上のチャートの凡例ののカテゴリーをダブルクリックするとどうなる？\n",
    "\n",
    "`barmode='group'`を足すと何がどのように変わる？"
   ]
  },
  {
   "cell_type": "code",
   "execution_count": 28,
   "metadata": {
    "slideshow": {
     "slide_type": "slide"
    }
   },
   "outputs": [
    {
     "data": {
      "application/vnd.plotly.v1+json": {
       "config": {
        "plotlyServerURL": "https://plot.ly"
       },
       "data": [
        {
         "alignmentgroup": "True",
         "hovertemplate": "施錠関係=施錠した<br>発生時（始期）=%{x}<br>count=%{y}<extra></extra>",
         "legendgroup": "施錠した",
         "marker": {
          "color": "rgb(76,114,176)",
          "line": {
           "width": 0
          },
          "pattern": {
           "shape": ""
          }
         },
         "name": "施錠した",
         "offsetgroup": "施錠した",
         "orientation": "v",
         "showlegend": true,
         "textposition": "auto",
         "type": "bar",
         "x": [
          "05",
          "18",
          "22",
          "20",
          "16",
          "06",
          "14",
          "19",
          "14",
          "17",
          "19",
          "11",
          "17",
          "07",
          "17",
          "08",
          "09",
          "08",
          "07",
          "08",
          "21",
          "16",
          "12",
          "10",
          "10",
          "18",
          "20",
          "17",
          "12",
          "10",
          "07",
          "17",
          "不明",
          "18",
          "07",
          "10",
          "11",
          "14",
          "10",
          "23",
          "07",
          "07",
          "18",
          "10",
          "11",
          "20",
          "10",
          "11",
          "09",
          "19",
          "08",
          "20",
          "15",
          "13",
          "18",
          "21",
          "19",
          "19",
          "22",
          "07",
          "12",
          "15",
          "22",
          "12",
          "20",
          "20",
          "07",
          "14",
          "18",
          "18",
          "10",
          "18",
          "07",
          "17",
          "18",
          "20",
          "08",
          "18",
          "16",
          "17",
          "10",
          "09",
          "19",
          "19",
          "07",
          "07",
          "13",
          "13",
          "16",
          "20",
          "06",
          "16",
          "10",
          "15",
          "21",
          "11",
          "21",
          "18",
          "18",
          "13",
          "12",
          "17",
          "15",
          "17",
          "18",
          "07",
          "15",
          "08",
          "不明",
          "00",
          "14",
          "20",
          "12",
          "17",
          "11",
          "12",
          "14",
          "19",
          "20",
          "09",
          "22",
          "12",
          "06",
          "22",
          "15",
          "10",
          "14",
          "14",
          "16",
          "11",
          "10",
          "21",
          "09",
          "12",
          "06",
          "19",
          "18",
          "18",
          "21",
          "22",
          "12",
          "13",
          "23",
          "17",
          "21",
          "13",
          "22",
          "16",
          "17",
          "08",
          "22",
          "21",
          "19",
          "13",
          "20"
         ],
         "xaxis": "x",
         "y": [
          1,
          1,
          1,
          1,
          1,
          1,
          1,
          1,
          1,
          1,
          1,
          1,
          1,
          1,
          1,
          1,
          1,
          1,
          1,
          1,
          1,
          1,
          1,
          1,
          1,
          1,
          1,
          1,
          1,
          1,
          1,
          1,
          1,
          1,
          1,
          1,
          1,
          1,
          1,
          1,
          1,
          1,
          1,
          1,
          1,
          1,
          1,
          1,
          1,
          1,
          1,
          1,
          1,
          1,
          1,
          1,
          1,
          1,
          1,
          1,
          1,
          1,
          1,
          1,
          1,
          1,
          1,
          1,
          1,
          1,
          1,
          1,
          1,
          1,
          1,
          1,
          1,
          1,
          1,
          1,
          1,
          1,
          1,
          1,
          1,
          1,
          1,
          1,
          1,
          1,
          1,
          1,
          1,
          1,
          1,
          1,
          1,
          1,
          1,
          1,
          1,
          1,
          1,
          1,
          1,
          1,
          1,
          1,
          1,
          1,
          1,
          1,
          1,
          1,
          1,
          1,
          1,
          1,
          1,
          1,
          1,
          1,
          1,
          1,
          1,
          1,
          1,
          1,
          1,
          1,
          1,
          1,
          1,
          1,
          1,
          1,
          1,
          1,
          1,
          1,
          1,
          1,
          1,
          1,
          1,
          1,
          1,
          1,
          1,
          1,
          1,
          1,
          1,
          1,
          1
         ],
         "yaxis": "y"
        },
        {
         "alignmentgroup": "True",
         "hovertemplate": "施錠関係=施錠せず<br>発生時（始期）=%{x}<br>count=%{y}<extra></extra>",
         "legendgroup": "施錠せず",
         "marker": {
          "color": "rgb(221,132,82)",
          "line": {
           "width": 0
          },
          "pattern": {
           "shape": ""
          }
         },
         "name": "施錠せず",
         "offsetgroup": "施錠せず",
         "orientation": "v",
         "showlegend": true,
         "textposition": "auto",
         "type": "bar",
         "x": [
          "18",
          "18",
          "10",
          "10",
          "08",
          "10",
          "16",
          "17",
          "22",
          "18",
          "08",
          "16",
          "22",
          "19",
          "04",
          "不明",
          "17",
          "18",
          "13",
          "08",
          "13",
          "07",
          "07",
          "07",
          "20",
          "10",
          "08",
          "08",
          "21",
          "10",
          "08",
          "17",
          "16",
          "07",
          "22",
          "07",
          "14",
          "07",
          "16",
          "15",
          "08",
          "16",
          "18",
          "15",
          "11",
          "12",
          "13",
          "16",
          "22",
          "19",
          "17",
          "07",
          "12",
          "22",
          "16",
          "16",
          "19",
          "08",
          "18",
          "06",
          "13",
          "21",
          "09",
          "11",
          "14",
          "18",
          "23",
          "20",
          "10",
          "00",
          "19",
          "11",
          "20",
          "17",
          "11",
          "10",
          "07",
          "21",
          "13",
          "14",
          "14",
          "11",
          "07",
          "07",
          "00",
          "19",
          "22",
          "09",
          "09",
          "16",
          "15",
          "10",
          "15",
          "15",
          "09",
          "17",
          "18",
          "09",
          "17",
          "22",
          "16",
          "16",
          "21",
          "16",
          "19",
          "18",
          "16",
          "23",
          "19",
          "16",
          "22",
          "20",
          "12",
          "12",
          "15",
          "18",
          "10",
          "20",
          "16",
          "12",
          "10",
          "21",
          "17",
          "12",
          "16",
          "10",
          "14",
          "11",
          "16",
          "13",
          "05",
          "16",
          "17",
          "18",
          "20",
          "11",
          "16",
          "00",
          "18",
          "20",
          "18",
          "19",
          "19",
          "18",
          "20",
          "13",
          "19",
          "22",
          "19",
          "15",
          "11",
          "20",
          "15",
          "18",
          "14",
          "09",
          "07",
          "17",
          "15",
          "22",
          "21",
          "18",
          "10",
          "15",
          "16",
          "09",
          "17",
          "22",
          "11",
          "06",
          "12",
          "14",
          "14",
          "18",
          "11",
          "07",
          "17",
          "17",
          "18",
          "11",
          "17",
          "09",
          "07",
          "09",
          "02",
          "20",
          "20",
          "17",
          "21",
          "12",
          "不明",
          "18",
          "11",
          "21",
          "11",
          "16",
          "09",
          "05",
          "09",
          "12",
          "13",
          "21",
          "20",
          "20",
          "19",
          "08",
          "16",
          "06",
          "09",
          "18",
          "19",
          "10",
          "20",
          "19",
          "16",
          "08",
          "15",
          "18",
          "23",
          "22",
          "09",
          "07",
          "08",
          "12",
          "00",
          "08",
          "18",
          "18",
          "15",
          "20",
          "19",
          "17",
          "20",
          "19",
          "11",
          "17",
          "07",
          "08",
          "22",
          "20",
          "17",
          "18",
          "21",
          "09",
          "11",
          "17",
          "06",
          "08",
          "17",
          "07",
          "20",
          "22",
          "17",
          "07",
          "12",
          "17",
          "07",
          "00",
          "08",
          "16",
          "17",
          "19",
          "10",
          "08",
          "21"
         ],
         "xaxis": "x",
         "y": [
          1,
          1,
          1,
          1,
          1,
          1,
          1,
          1,
          1,
          1,
          1,
          1,
          1,
          1,
          1,
          1,
          1,
          1,
          1,
          1,
          1,
          1,
          1,
          1,
          1,
          1,
          1,
          1,
          1,
          1,
          1,
          1,
          1,
          1,
          1,
          1,
          1,
          1,
          1,
          1,
          1,
          1,
          1,
          1,
          1,
          1,
          1,
          1,
          1,
          1,
          1,
          1,
          1,
          1,
          1,
          1,
          1,
          1,
          1,
          1,
          1,
          1,
          1,
          1,
          1,
          1,
          1,
          1,
          1,
          1,
          1,
          1,
          1,
          1,
          1,
          1,
          1,
          1,
          1,
          1,
          1,
          1,
          1,
          1,
          1,
          1,
          1,
          1,
          1,
          1,
          1,
          1,
          1,
          1,
          1,
          1,
          1,
          1,
          1,
          1,
          1,
          1,
          1,
          1,
          1,
          1,
          1,
          1,
          1,
          1,
          1,
          1,
          1,
          1,
          1,
          1,
          1,
          1,
          1,
          1,
          1,
          1,
          1,
          1,
          1,
          1,
          1,
          1,
          1,
          1,
          1,
          1,
          1,
          1,
          1,
          1,
          1,
          1,
          1,
          1,
          1,
          1,
          1,
          1,
          1,
          1,
          1,
          1,
          1,
          1,
          1,
          1,
          1,
          1,
          1,
          1,
          1,
          1,
          1,
          1,
          1,
          1,
          1,
          1,
          1,
          1,
          1,
          1,
          1,
          1,
          1,
          1,
          1,
          1,
          1,
          1,
          1,
          1,
          1,
          1,
          1,
          1,
          1,
          1,
          1,
          1,
          1,
          1,
          1,
          1,
          1,
          1,
          1,
          1,
          1,
          1,
          1,
          1,
          1,
          1,
          1,
          1,
          1,
          1,
          1,
          1,
          1,
          1,
          1,
          1,
          1,
          1,
          1,
          1,
          1,
          1,
          1,
          1,
          1,
          1,
          1,
          1,
          1,
          1,
          1,
          1,
          1,
          1,
          1,
          1,
          1,
          1,
          1,
          1,
          1,
          1,
          1,
          1,
          1,
          1,
          1,
          1,
          1,
          1,
          1,
          1,
          1,
          1,
          1,
          1,
          1,
          1,
          1,
          1,
          1,
          1,
          1,
          1,
          1,
          1,
          1,
          1,
          1,
          1,
          1
         ],
         "yaxis": "y"
        }
       ],
       "layout": {
        "barmode": "group",
        "legend": {
         "title": {
          "text": "施錠関係"
         },
         "tracegroupgap": 0
        },
        "margin": {
         "t": 60
        },
        "template": {
         "data": {
          "bar": [
           {
            "error_x": {
             "color": "rgb(36,36,36)"
            },
            "error_y": {
             "color": "rgb(36,36,36)"
            },
            "marker": {
             "line": {
              "color": "rgb(234,234,242)",
              "width": 0.5
             },
             "pattern": {
              "fillmode": "overlay",
              "size": 10,
              "solidity": 0.2
             }
            },
            "type": "bar"
           }
          ],
          "barpolar": [
           {
            "marker": {
             "line": {
              "color": "rgb(234,234,242)",
              "width": 0.5
             },
             "pattern": {
              "fillmode": "overlay",
              "size": 10,
              "solidity": 0.2
             }
            },
            "type": "barpolar"
           }
          ],
          "carpet": [
           {
            "aaxis": {
             "endlinecolor": "rgb(36,36,36)",
             "gridcolor": "white",
             "linecolor": "white",
             "minorgridcolor": "white",
             "startlinecolor": "rgb(36,36,36)"
            },
            "baxis": {
             "endlinecolor": "rgb(36,36,36)",
             "gridcolor": "white",
             "linecolor": "white",
             "minorgridcolor": "white",
             "startlinecolor": "rgb(36,36,36)"
            },
            "type": "carpet"
           }
          ],
          "choropleth": [
           {
            "colorbar": {
             "outlinewidth": 0,
             "tickcolor": "rgb(36,36,36)",
             "ticklen": 8,
             "ticks": "outside",
             "tickwidth": 2
            },
            "type": "choropleth"
           }
          ],
          "contour": [
           {
            "colorbar": {
             "outlinewidth": 0,
             "tickcolor": "rgb(36,36,36)",
             "ticklen": 8,
             "ticks": "outside",
             "tickwidth": 2
            },
            "colorscale": [
             [
              0,
              "rgb(2,4,25)"
             ],
             [
              0.06274509803921569,
              "rgb(24,15,41)"
             ],
             [
              0.12549019607843137,
              "rgb(47,23,57)"
             ],
             [
              0.18823529411764706,
              "rgb(71,28,72)"
             ],
             [
              0.25098039215686274,
              "rgb(97,30,82)"
             ],
             [
              0.3137254901960784,
              "rgb(123,30,89)"
             ],
             [
              0.3764705882352941,
              "rgb(150,27,91)"
             ],
             [
              0.4392156862745098,
              "rgb(177,22,88)"
             ],
             [
              0.5019607843137255,
              "rgb(203,26,79)"
             ],
             [
              0.5647058823529412,
              "rgb(223,47,67)"
             ],
             [
              0.6274509803921569,
              "rgb(236,76,61)"
             ],
             [
              0.6901960784313725,
              "rgb(242,107,73)"
             ],
             [
              0.7529411764705882,
              "rgb(244,135,95)"
             ],
             [
              0.8156862745098039,
              "rgb(245,162,122)"
             ],
             [
              0.8784313725490196,
              "rgb(246,188,153)"
             ],
             [
              0.9411764705882353,
              "rgb(247,212,187)"
             ],
             [
              1,
              "rgb(250,234,220)"
             ]
            ],
            "type": "contour"
           }
          ],
          "contourcarpet": [
           {
            "colorbar": {
             "outlinewidth": 0,
             "tickcolor": "rgb(36,36,36)",
             "ticklen": 8,
             "ticks": "outside",
             "tickwidth": 2
            },
            "type": "contourcarpet"
           }
          ],
          "heatmap": [
           {
            "colorbar": {
             "outlinewidth": 0,
             "tickcolor": "rgb(36,36,36)",
             "ticklen": 8,
             "ticks": "outside",
             "tickwidth": 2
            },
            "colorscale": [
             [
              0,
              "rgb(2,4,25)"
             ],
             [
              0.06274509803921569,
              "rgb(24,15,41)"
             ],
             [
              0.12549019607843137,
              "rgb(47,23,57)"
             ],
             [
              0.18823529411764706,
              "rgb(71,28,72)"
             ],
             [
              0.25098039215686274,
              "rgb(97,30,82)"
             ],
             [
              0.3137254901960784,
              "rgb(123,30,89)"
             ],
             [
              0.3764705882352941,
              "rgb(150,27,91)"
             ],
             [
              0.4392156862745098,
              "rgb(177,22,88)"
             ],
             [
              0.5019607843137255,
              "rgb(203,26,79)"
             ],
             [
              0.5647058823529412,
              "rgb(223,47,67)"
             ],
             [
              0.6274509803921569,
              "rgb(236,76,61)"
             ],
             [
              0.6901960784313725,
              "rgb(242,107,73)"
             ],
             [
              0.7529411764705882,
              "rgb(244,135,95)"
             ],
             [
              0.8156862745098039,
              "rgb(245,162,122)"
             ],
             [
              0.8784313725490196,
              "rgb(246,188,153)"
             ],
             [
              0.9411764705882353,
              "rgb(247,212,187)"
             ],
             [
              1,
              "rgb(250,234,220)"
             ]
            ],
            "type": "heatmap"
           }
          ],
          "heatmapgl": [
           {
            "colorbar": {
             "outlinewidth": 0,
             "tickcolor": "rgb(36,36,36)",
             "ticklen": 8,
             "ticks": "outside",
             "tickwidth": 2
            },
            "colorscale": [
             [
              0,
              "rgb(2,4,25)"
             ],
             [
              0.06274509803921569,
              "rgb(24,15,41)"
             ],
             [
              0.12549019607843137,
              "rgb(47,23,57)"
             ],
             [
              0.18823529411764706,
              "rgb(71,28,72)"
             ],
             [
              0.25098039215686274,
              "rgb(97,30,82)"
             ],
             [
              0.3137254901960784,
              "rgb(123,30,89)"
             ],
             [
              0.3764705882352941,
              "rgb(150,27,91)"
             ],
             [
              0.4392156862745098,
              "rgb(177,22,88)"
             ],
             [
              0.5019607843137255,
              "rgb(203,26,79)"
             ],
             [
              0.5647058823529412,
              "rgb(223,47,67)"
             ],
             [
              0.6274509803921569,
              "rgb(236,76,61)"
             ],
             [
              0.6901960784313725,
              "rgb(242,107,73)"
             ],
             [
              0.7529411764705882,
              "rgb(244,135,95)"
             ],
             [
              0.8156862745098039,
              "rgb(245,162,122)"
             ],
             [
              0.8784313725490196,
              "rgb(246,188,153)"
             ],
             [
              0.9411764705882353,
              "rgb(247,212,187)"
             ],
             [
              1,
              "rgb(250,234,220)"
             ]
            ],
            "type": "heatmapgl"
           }
          ],
          "histogram": [
           {
            "marker": {
             "pattern": {
              "fillmode": "overlay",
              "size": 10,
              "solidity": 0.2
             }
            },
            "type": "histogram"
           }
          ],
          "histogram2d": [
           {
            "colorbar": {
             "outlinewidth": 0,
             "tickcolor": "rgb(36,36,36)",
             "ticklen": 8,
             "ticks": "outside",
             "tickwidth": 2
            },
            "colorscale": [
             [
              0,
              "rgb(2,4,25)"
             ],
             [
              0.06274509803921569,
              "rgb(24,15,41)"
             ],
             [
              0.12549019607843137,
              "rgb(47,23,57)"
             ],
             [
              0.18823529411764706,
              "rgb(71,28,72)"
             ],
             [
              0.25098039215686274,
              "rgb(97,30,82)"
             ],
             [
              0.3137254901960784,
              "rgb(123,30,89)"
             ],
             [
              0.3764705882352941,
              "rgb(150,27,91)"
             ],
             [
              0.4392156862745098,
              "rgb(177,22,88)"
             ],
             [
              0.5019607843137255,
              "rgb(203,26,79)"
             ],
             [
              0.5647058823529412,
              "rgb(223,47,67)"
             ],
             [
              0.6274509803921569,
              "rgb(236,76,61)"
             ],
             [
              0.6901960784313725,
              "rgb(242,107,73)"
             ],
             [
              0.7529411764705882,
              "rgb(244,135,95)"
             ],
             [
              0.8156862745098039,
              "rgb(245,162,122)"
             ],
             [
              0.8784313725490196,
              "rgb(246,188,153)"
             ],
             [
              0.9411764705882353,
              "rgb(247,212,187)"
             ],
             [
              1,
              "rgb(250,234,220)"
             ]
            ],
            "type": "histogram2d"
           }
          ],
          "histogram2dcontour": [
           {
            "colorbar": {
             "outlinewidth": 0,
             "tickcolor": "rgb(36,36,36)",
             "ticklen": 8,
             "ticks": "outside",
             "tickwidth": 2
            },
            "colorscale": [
             [
              0,
              "rgb(2,4,25)"
             ],
             [
              0.06274509803921569,
              "rgb(24,15,41)"
             ],
             [
              0.12549019607843137,
              "rgb(47,23,57)"
             ],
             [
              0.18823529411764706,
              "rgb(71,28,72)"
             ],
             [
              0.25098039215686274,
              "rgb(97,30,82)"
             ],
             [
              0.3137254901960784,
              "rgb(123,30,89)"
             ],
             [
              0.3764705882352941,
              "rgb(150,27,91)"
             ],
             [
              0.4392156862745098,
              "rgb(177,22,88)"
             ],
             [
              0.5019607843137255,
              "rgb(203,26,79)"
             ],
             [
              0.5647058823529412,
              "rgb(223,47,67)"
             ],
             [
              0.6274509803921569,
              "rgb(236,76,61)"
             ],
             [
              0.6901960784313725,
              "rgb(242,107,73)"
             ],
             [
              0.7529411764705882,
              "rgb(244,135,95)"
             ],
             [
              0.8156862745098039,
              "rgb(245,162,122)"
             ],
             [
              0.8784313725490196,
              "rgb(246,188,153)"
             ],
             [
              0.9411764705882353,
              "rgb(247,212,187)"
             ],
             [
              1,
              "rgb(250,234,220)"
             ]
            ],
            "type": "histogram2dcontour"
           }
          ],
          "mesh3d": [
           {
            "colorbar": {
             "outlinewidth": 0,
             "tickcolor": "rgb(36,36,36)",
             "ticklen": 8,
             "ticks": "outside",
             "tickwidth": 2
            },
            "type": "mesh3d"
           }
          ],
          "parcoords": [
           {
            "line": {
             "colorbar": {
              "outlinewidth": 0,
              "tickcolor": "rgb(36,36,36)",
              "ticklen": 8,
              "ticks": "outside",
              "tickwidth": 2
             }
            },
            "type": "parcoords"
           }
          ],
          "pie": [
           {
            "automargin": true,
            "type": "pie"
           }
          ],
          "scatter": [
           {
            "fillpattern": {
             "fillmode": "overlay",
             "size": 10,
             "solidity": 0.2
            },
            "type": "scatter"
           }
          ],
          "scatter3d": [
           {
            "line": {
             "colorbar": {
              "outlinewidth": 0,
              "tickcolor": "rgb(36,36,36)",
              "ticklen": 8,
              "ticks": "outside",
              "tickwidth": 2
             }
            },
            "marker": {
             "colorbar": {
              "outlinewidth": 0,
              "tickcolor": "rgb(36,36,36)",
              "ticklen": 8,
              "ticks": "outside",
              "tickwidth": 2
             }
            },
            "type": "scatter3d"
           }
          ],
          "scattercarpet": [
           {
            "marker": {
             "colorbar": {
              "outlinewidth": 0,
              "tickcolor": "rgb(36,36,36)",
              "ticklen": 8,
              "ticks": "outside",
              "tickwidth": 2
             }
            },
            "type": "scattercarpet"
           }
          ],
          "scattergeo": [
           {
            "marker": {
             "colorbar": {
              "outlinewidth": 0,
              "tickcolor": "rgb(36,36,36)",
              "ticklen": 8,
              "ticks": "outside",
              "tickwidth": 2
             }
            },
            "type": "scattergeo"
           }
          ],
          "scattergl": [
           {
            "marker": {
             "colorbar": {
              "outlinewidth": 0,
              "tickcolor": "rgb(36,36,36)",
              "ticklen": 8,
              "ticks": "outside",
              "tickwidth": 2
             }
            },
            "type": "scattergl"
           }
          ],
          "scattermapbox": [
           {
            "marker": {
             "colorbar": {
              "outlinewidth": 0,
              "tickcolor": "rgb(36,36,36)",
              "ticklen": 8,
              "ticks": "outside",
              "tickwidth": 2
             }
            },
            "type": "scattermapbox"
           }
          ],
          "scatterpolar": [
           {
            "marker": {
             "colorbar": {
              "outlinewidth": 0,
              "tickcolor": "rgb(36,36,36)",
              "ticklen": 8,
              "ticks": "outside",
              "tickwidth": 2
             }
            },
            "type": "scatterpolar"
           }
          ],
          "scatterpolargl": [
           {
            "marker": {
             "colorbar": {
              "outlinewidth": 0,
              "tickcolor": "rgb(36,36,36)",
              "ticklen": 8,
              "ticks": "outside",
              "tickwidth": 2
             }
            },
            "type": "scatterpolargl"
           }
          ],
          "scatterternary": [
           {
            "marker": {
             "colorbar": {
              "outlinewidth": 0,
              "tickcolor": "rgb(36,36,36)",
              "ticklen": 8,
              "ticks": "outside",
              "tickwidth": 2
             }
            },
            "type": "scatterternary"
           }
          ],
          "surface": [
           {
            "colorbar": {
             "outlinewidth": 0,
             "tickcolor": "rgb(36,36,36)",
             "ticklen": 8,
             "ticks": "outside",
             "tickwidth": 2
            },
            "colorscale": [
             [
              0,
              "rgb(2,4,25)"
             ],
             [
              0.06274509803921569,
              "rgb(24,15,41)"
             ],
             [
              0.12549019607843137,
              "rgb(47,23,57)"
             ],
             [
              0.18823529411764706,
              "rgb(71,28,72)"
             ],
             [
              0.25098039215686274,
              "rgb(97,30,82)"
             ],
             [
              0.3137254901960784,
              "rgb(123,30,89)"
             ],
             [
              0.3764705882352941,
              "rgb(150,27,91)"
             ],
             [
              0.4392156862745098,
              "rgb(177,22,88)"
             ],
             [
              0.5019607843137255,
              "rgb(203,26,79)"
             ],
             [
              0.5647058823529412,
              "rgb(223,47,67)"
             ],
             [
              0.6274509803921569,
              "rgb(236,76,61)"
             ],
             [
              0.6901960784313725,
              "rgb(242,107,73)"
             ],
             [
              0.7529411764705882,
              "rgb(244,135,95)"
             ],
             [
              0.8156862745098039,
              "rgb(245,162,122)"
             ],
             [
              0.8784313725490196,
              "rgb(246,188,153)"
             ],
             [
              0.9411764705882353,
              "rgb(247,212,187)"
             ],
             [
              1,
              "rgb(250,234,220)"
             ]
            ],
            "type": "surface"
           }
          ],
          "table": [
           {
            "cells": {
             "fill": {
              "color": "rgb(231,231,240)"
             },
             "line": {
              "color": "white"
             }
            },
            "header": {
             "fill": {
              "color": "rgb(183,183,191)"
             },
             "line": {
              "color": "white"
             }
            },
            "type": "table"
           }
          ]
         },
         "layout": {
          "annotationdefaults": {
           "arrowcolor": "rgb(67,103,167)"
          },
          "autotypenumbers": "strict",
          "coloraxis": {
           "colorbar": {
            "outlinewidth": 0,
            "tickcolor": "rgb(36,36,36)",
            "ticklen": 8,
            "ticks": "outside",
            "tickwidth": 2
           }
          },
          "colorscale": {
           "sequential": [
            [
             0,
             "rgb(2,4,25)"
            ],
            [
             0.06274509803921569,
             "rgb(24,15,41)"
            ],
            [
             0.12549019607843137,
             "rgb(47,23,57)"
            ],
            [
             0.18823529411764706,
             "rgb(71,28,72)"
            ],
            [
             0.25098039215686274,
             "rgb(97,30,82)"
            ],
            [
             0.3137254901960784,
             "rgb(123,30,89)"
            ],
            [
             0.3764705882352941,
             "rgb(150,27,91)"
            ],
            [
             0.4392156862745098,
             "rgb(177,22,88)"
            ],
            [
             0.5019607843137255,
             "rgb(203,26,79)"
            ],
            [
             0.5647058823529412,
             "rgb(223,47,67)"
            ],
            [
             0.6274509803921569,
             "rgb(236,76,61)"
            ],
            [
             0.6901960784313725,
             "rgb(242,107,73)"
            ],
            [
             0.7529411764705882,
             "rgb(244,135,95)"
            ],
            [
             0.8156862745098039,
             "rgb(245,162,122)"
            ],
            [
             0.8784313725490196,
             "rgb(246,188,153)"
            ],
            [
             0.9411764705882353,
             "rgb(247,212,187)"
            ],
            [
             1,
             "rgb(250,234,220)"
            ]
           ],
           "sequentialminus": [
            [
             0,
             "rgb(2,4,25)"
            ],
            [
             0.06274509803921569,
             "rgb(24,15,41)"
            ],
            [
             0.12549019607843137,
             "rgb(47,23,57)"
            ],
            [
             0.18823529411764706,
             "rgb(71,28,72)"
            ],
            [
             0.25098039215686274,
             "rgb(97,30,82)"
            ],
            [
             0.3137254901960784,
             "rgb(123,30,89)"
            ],
            [
             0.3764705882352941,
             "rgb(150,27,91)"
            ],
            [
             0.4392156862745098,
             "rgb(177,22,88)"
            ],
            [
             0.5019607843137255,
             "rgb(203,26,79)"
            ],
            [
             0.5647058823529412,
             "rgb(223,47,67)"
            ],
            [
             0.6274509803921569,
             "rgb(236,76,61)"
            ],
            [
             0.6901960784313725,
             "rgb(242,107,73)"
            ],
            [
             0.7529411764705882,
             "rgb(244,135,95)"
            ],
            [
             0.8156862745098039,
             "rgb(245,162,122)"
            ],
            [
             0.8784313725490196,
             "rgb(246,188,153)"
            ],
            [
             0.9411764705882353,
             "rgb(247,212,187)"
            ],
            [
             1,
             "rgb(250,234,220)"
            ]
           ]
          },
          "colorway": [
           "rgb(76,114,176)",
           "rgb(221,132,82)",
           "rgb(85,168,104)",
           "rgb(196,78,82)",
           "rgb(129,114,179)",
           "rgb(147,120,96)",
           "rgb(218,139,195)",
           "rgb(140,140,140)",
           "rgb(204,185,116)",
           "rgb(100,181,205)"
          ],
          "font": {
           "color": "rgb(36,36,36)"
          },
          "geo": {
           "bgcolor": "white",
           "lakecolor": "white",
           "landcolor": "rgb(234,234,242)",
           "showlakes": true,
           "showland": true,
           "subunitcolor": "white"
          },
          "hoverlabel": {
           "align": "left"
          },
          "hovermode": "closest",
          "paper_bgcolor": "white",
          "plot_bgcolor": "rgb(234,234,242)",
          "polar": {
           "angularaxis": {
            "gridcolor": "white",
            "linecolor": "white",
            "showgrid": true,
            "ticks": ""
           },
           "bgcolor": "rgb(234,234,242)",
           "radialaxis": {
            "gridcolor": "white",
            "linecolor": "white",
            "showgrid": true,
            "ticks": ""
           }
          },
          "scene": {
           "xaxis": {
            "backgroundcolor": "rgb(234,234,242)",
            "gridcolor": "white",
            "gridwidth": 2,
            "linecolor": "white",
            "showbackground": true,
            "showgrid": true,
            "ticks": "",
            "zerolinecolor": "white"
           },
           "yaxis": {
            "backgroundcolor": "rgb(234,234,242)",
            "gridcolor": "white",
            "gridwidth": 2,
            "linecolor": "white",
            "showbackground": true,
            "showgrid": true,
            "ticks": "",
            "zerolinecolor": "white"
           },
           "zaxis": {
            "backgroundcolor": "rgb(234,234,242)",
            "gridcolor": "white",
            "gridwidth": 2,
            "linecolor": "white",
            "showbackground": true,
            "showgrid": true,
            "ticks": "",
            "zerolinecolor": "white"
           }
          },
          "shapedefaults": {
           "fillcolor": "rgb(67,103,167)",
           "line": {
            "width": 0
           },
           "opacity": 0.5
          },
          "ternary": {
           "aaxis": {
            "gridcolor": "white",
            "linecolor": "white",
            "showgrid": true,
            "ticks": ""
           },
           "baxis": {
            "gridcolor": "white",
            "linecolor": "white",
            "showgrid": true,
            "ticks": ""
           },
           "bgcolor": "rgb(234,234,242)",
           "caxis": {
            "gridcolor": "white",
            "linecolor": "white",
            "showgrid": true,
            "ticks": ""
           }
          },
          "xaxis": {
           "automargin": true,
           "gridcolor": "white",
           "linecolor": "white",
           "showgrid": true,
           "ticks": "",
           "title": {
            "standoff": 15
           },
           "zerolinecolor": "white"
          },
          "yaxis": {
           "automargin": true,
           "gridcolor": "white",
           "linecolor": "white",
           "showgrid": true,
           "ticks": "",
           "title": {
            "standoff": 15
           },
           "zerolinecolor": "white"
          }
         }
        },
        "xaxis": {
         "anchor": "y",
         "categoryorder": "category ascending",
         "domain": [
          0,
          1
         ],
         "title": {
          "text": "発生時（始期）"
         }
        },
        "yaxis": {
         "anchor": "x",
         "domain": [
          0,
          1
         ],
         "title": {
          "text": "count"
         }
        }
       }
      }
     },
     "metadata": {},
     "output_type": "display_data"
    }
   ],
   "source": [
    "fig = px.bar(kashiwa,\n",
    "            x='発生時（始期）',\n",
    "            color='施錠関係',\n",
    "            barmode='group', # group the categories,\n",
    "            template='seaborn'\n",
    "            )\n",
    "fig.update_traces(\n",
    "    marker_line_width=0\n",
    ")\n",
    "fig.update_xaxes(categoryorder='category ascending')\n",
    "fig.show()"
   ]
  },
  {
   "cell_type": "markdown",
   "metadata": {},
   "source": [
    "# Python Lesson: Functions 関数\n",
    "\n",
    "突然だが、ちょっとここでPythonのレッスンを投入！次のステップでFunction (関数)を使うので、まずは簡単に学ぼう。\n",
    "\n",
    "関数とは、特定のタスクを実行するために組織化され<span style=\"font-size:2em\">【再利用可能】</span>なコードのブロックです。例えば、繰り返し同じ作業をするぞ！と分かったら、同じコードブロックをコピペするよりかは関数を作った方が良い。\n"
   ]
  },
  {
   "cell_type": "code",
   "execution_count": 29,
   "metadata": {},
   "outputs": [],
   "source": [
    "# example of a simple function\n",
    "def hello():\n",
    "    print('こんにちは😀')"
   ]
  },
  {
   "cell_type": "code",
   "execution_count": 30,
   "metadata": {},
   "outputs": [
    {
     "name": "stdout",
     "output_type": "stream",
     "text": [
      "こんにちは😀\n"
     ]
    }
   ],
   "source": [
    "hello()"
   ]
  },
  {
   "cell_type": "code",
   "execution_count": null,
   "metadata": {},
   "outputs": [],
   "source": [
    "# call the function\n",
    "hello()"
   ]
  },
  {
   "cell_type": "code",
   "execution_count": 31,
   "metadata": {},
   "outputs": [],
   "source": [
    "# example of a function with an argument\n",
    "def hello(name):\n",
    "    print(f'✨こんにちは {name}✨!')"
   ]
  },
  {
   "cell_type": "code",
   "execution_count": 33,
   "metadata": {},
   "outputs": [
    {
     "name": "stdout",
     "output_type": "stream",
     "text": [
      "✨こんにちは Saki✨!\n"
     ]
    }
   ],
   "source": [
    "# call the function\n",
    "hello('Saki')"
   ]
  },
  {
   "cell_type": "code",
   "execution_count": 34,
   "metadata": {},
   "outputs": [],
   "source": [
    "def add(a,b):\n",
    "    print(a+b)"
   ]
  },
  {
   "cell_type": "code",
   "execution_count": 35,
   "metadata": {},
   "outputs": [
    {
     "name": "stdout",
     "output_type": "stream",
     "text": [
      "155\n"
     ]
    }
   ],
   "source": [
    "add(100,55)"
   ]
  },
  {
   "cell_type": "markdown",
   "metadata": {},
   "source": [
    "## チャレンジ問題\n",
    "\n",
    "メジャーリーグの野球の試合でピッチャーの時速が画面で表示されるが、これは大体MPH (miles per hour)なので、日本人には分かりにくい。\n",
    "\n",
    "<img src=\"https://raw.githubusercontent.com/yohman/24-1-Reitaku-GIS/229177aa00887ceccb2a6d0cf2b0cd1263298cc4/Weeks/Week08/images/mlb%20mpg.jpeg\" width=600>\n",
    "\n",
    "では、このMilesをKilometersに変える関数を書きましょう！計算は：\n",
    "\n",
    "`1 miles = 1.60934 kilometers`"
   ]
  },
  {
   "cell_type": "code",
   "execution_count": 50,
   "metadata": {},
   "outputs": [],
   "source": [
    "# create the function\n",
    "def mtokm(miles):\n",
    "    km = miles * 1.60934\n",
    "    return km\n"
   ]
  },
  {
   "cell_type": "code",
   "execution_count": 51,
   "metadata": {},
   "outputs": [
    {
     "data": {
      "text/plain": [
       "167.37136"
      ]
     },
     "execution_count": 51,
     "metadata": {},
     "output_type": "execute_result"
    }
   ],
   "source": [
    "# call the function\n",
    "mtokm(104)"
   ]
  },
  {
   "cell_type": "markdown",
   "metadata": {
    "slideshow": {
     "slide_type": "slide"
    }
   },
   "source": [
    "# Geocoding\n",
    "\n",
    "<img src=\"https://raw.githubusercontent.com/yohman/23-1-Reitaku-GIS/main/Weeks/Week08/images/Geocoding_01.png\" width=400>\n",
    "\n",
    "住所だけではマップイングできません。座標が必要です。なので、住所から座標を特定するプロセスが必要である。このプロセスを<h1>【ジオコーティング】</h1>という。\n"
   ]
  },
  {
   "cell_type": "markdown",
   "metadata": {
    "slideshow": {
     "slide_type": "slide"
    }
   },
   "source": [
    "ジオコーティングと言えば、色んな方法があります。現在、日本で無料でジオコーティングサービスを提供しているのが国土地理院のジオコーティングAPI。\n",
    "\n",
    "試してみよう。このようにURLをブラウザーで記入するだけで座標が返ってくるサービスである。国土地理院さん、とても便利なサービス、ありがとうございます！\n",
    "\n",
    "https://msearch.gsi.go.jp/address-search/AddressSearch?q=麗澤大学"
   ]
  },
  {
   "cell_type": "markdown",
   "metadata": {
    "slideshow": {
     "slide_type": "slide"
    }
   },
   "source": [
    "では、このプロセスに従って、アドレスから座標を出力する Python 関数を作成します。"
   ]
  },
  {
   "cell_type": "code",
   "execution_count": 52,
   "metadata": {},
   "outputs": [],
   "source": [
    "# 関数を作成\n",
    "def geocode(address):\n",
    "\n",
    "    # ジオコーティングURL\n",
    "    url = \"https://msearch.gsi.go.jp/address-search/AddressSearch?q=\"\n",
    "\n",
    "    # try/exceptでエラーをキャッチ\n",
    "    # 成功の場合\n",
    "    try:\n",
    "        s_quote = urllib.parse.quote(address)\n",
    "        response = requests.get(url + s_quote)\n",
    "        if len(response.json())>0:\n",
    "            return response.json()[0][\"geometry\"][\"coordinates\"] \n",
    "        else:\n",
    "            return False\n",
    "        \n",
    "    # 失敗の場合\n",
    "    except:\n",
    "        return False"
   ]
  },
  {
   "cell_type": "markdown",
   "metadata": {
    "slideshow": {
     "slide_type": "slide"
    }
   },
   "source": [
    "関数の使い方は簡単！"
   ]
  },
  {
   "cell_type": "code",
   "execution_count": 57,
   "metadata": {},
   "outputs": [
    {
     "data": {
      "text/plain": [
       "[141.363617, 43.076111]"
      ]
     },
     "execution_count": 57,
     "metadata": {},
     "output_type": "execute_result"
    }
   ],
   "source": [
    "geocode('東京')"
   ]
  },
  {
   "cell_type": "markdown",
   "metadata": {
    "slideshow": {
     "slide_type": "slide"
    }
   },
   "source": [
    "## データフレームの準備\n",
    "\n",
    "`kashiwa`のデータフレームの各行の住所をジオコーティングする前に`住所`と座標（`lat`,`lon`）のフィールドを作りましょう。"
   ]
  },
  {
   "cell_type": "code",
   "execution_count": 58,
   "metadata": {},
   "outputs": [
    {
     "name": "stdout",
     "output_type": "stream",
     "text": [
      "<class 'pandas.core.frame.DataFrame'>\n",
      "Index: 420 entries, 2577 to 2996\n",
      "Data columns (total 15 columns):\n",
      " #   Column         Non-Null Count  Dtype  \n",
      "---  ------         --------------  -----  \n",
      " 0   罪名             420 non-null    object \n",
      " 1   手口             420 non-null    object \n",
      " 2   管轄警察署（発生地）     420 non-null    object \n",
      " 3   管轄交番・駐在所（発生地）  420 non-null    object \n",
      " 4   市区町村コード（発生地）   420 non-null    float64\n",
      " 5   都道府県（発生地）      420 non-null    object \n",
      " 6   市区町村（発生地）      420 non-null    object \n",
      " 7   町丁目（発生地）       420 non-null    object \n",
      " 8   発生年月日（始期）      420 non-null    object \n",
      " 9   発生時（始期）        420 non-null    object \n",
      " 10  発生場所           420 non-null    object \n",
      " 11  発生場所の詳細        420 non-null    object \n",
      " 12  被害者の年齢         420 non-null    object \n",
      " 13  被害者の職業         420 non-null    object \n",
      " 14  施錠関係           420 non-null    object \n",
      "dtypes: float64(1), object(14)\n",
      "memory usage: 52.5+ KB\n"
     ]
    }
   ],
   "source": [
    "kashiwa.info()"
   ]
  },
  {
   "cell_type": "code",
   "execution_count": 59,
   "metadata": {},
   "outputs": [],
   "source": [
    "# 空の住所フィールドを作成\n",
    "kashiwa['住所'] = ''"
   ]
  },
  {
   "cell_type": "code",
   "execution_count": 60,
   "metadata": {},
   "outputs": [
    {
     "name": "stdout",
     "output_type": "stream",
     "text": [
      "<class 'pandas.core.frame.DataFrame'>\n",
      "Index: 420 entries, 2577 to 2996\n",
      "Data columns (total 16 columns):\n",
      " #   Column         Non-Null Count  Dtype  \n",
      "---  ------         --------------  -----  \n",
      " 0   罪名             420 non-null    object \n",
      " 1   手口             420 non-null    object \n",
      " 2   管轄警察署（発生地）     420 non-null    object \n",
      " 3   管轄交番・駐在所（発生地）  420 non-null    object \n",
      " 4   市区町村コード（発生地）   420 non-null    float64\n",
      " 5   都道府県（発生地）      420 non-null    object \n",
      " 6   市区町村（発生地）      420 non-null    object \n",
      " 7   町丁目（発生地）       420 non-null    object \n",
      " 8   発生年月日（始期）      420 non-null    object \n",
      " 9   発生時（始期）        420 non-null    object \n",
      " 10  発生場所           420 non-null    object \n",
      " 11  発生場所の詳細        420 non-null    object \n",
      " 12  被害者の年齢         420 non-null    object \n",
      " 13  被害者の職業         420 non-null    object \n",
      " 14  施錠関係           420 non-null    object \n",
      " 15  住所             420 non-null    object \n",
      "dtypes: float64(1), object(15)\n",
      "memory usage: 55.8+ KB\n"
     ]
    }
   ],
   "source": [
    "kashiwa.info()"
   ]
  },
  {
   "cell_type": "code",
   "execution_count": 61,
   "metadata": {},
   "outputs": [],
   "source": [
    "# 空だがfloatとしてフィールドを作成\n",
    "kashiwa['lat'] = pd.Series(dtype=float)\n",
    "kashiwa['lon'] = pd.Series(dtype=float)"
   ]
  },
  {
   "cell_type": "markdown",
   "metadata": {
    "slideshow": {
     "slide_type": "slide"
    }
   },
   "source": [
    "<img src=\"https://raw.githubusercontent.com/yohman/23-1-Reitaku-GIS/main/Weeks/Week08/images/concat.png\" width=600>\n",
    "\n",
    "↑で作った住所フィールドに次の 3 つのフィールドを連結します。\n",
    "\n",
    "1. 都道府県（発生地）\n",
    "1. 市区町村（発生地）\n",
    "1. 町丁目（発生地）"
   ]
  },
  {
   "cell_type": "code",
   "execution_count": 62,
   "metadata": {},
   "outputs": [],
   "source": [
    "# 住所フィールドを作成\n",
    "kashiwa['住所'] = kashiwa['都道府県（発生地）']+kashiwa['市区町村（発生地）']+kashiwa['町丁目（発生地）']"
   ]
  },
  {
   "cell_type": "code",
   "execution_count": 63,
   "metadata": {
    "slideshow": {
     "slide_type": "slide"
    }
   },
   "outputs": [
    {
     "data": {
      "text/html": [
       "<div>\n",
       "<style scoped>\n",
       "    .dataframe tbody tr th:only-of-type {\n",
       "        vertical-align: middle;\n",
       "    }\n",
       "\n",
       "    .dataframe tbody tr th {\n",
       "        vertical-align: top;\n",
       "    }\n",
       "\n",
       "    .dataframe thead th {\n",
       "        text-align: right;\n",
       "    }\n",
       "</style>\n",
       "<table border=\"1\" class=\"dataframe\">\n",
       "  <thead>\n",
       "    <tr style=\"text-align: right;\">\n",
       "      <th></th>\n",
       "      <th>都道府県（発生地）</th>\n",
       "      <th>市区町村（発生地）</th>\n",
       "      <th>町丁目（発生地）</th>\n",
       "      <th>住所</th>\n",
       "    </tr>\n",
       "  </thead>\n",
       "  <tbody>\n",
       "    <tr>\n",
       "      <th>2985</th>\n",
       "      <td>千葉県</td>\n",
       "      <td>柏市</td>\n",
       "      <td>高柳</td>\n",
       "      <td>千葉県柏市高柳</td>\n",
       "    </tr>\n",
       "    <tr>\n",
       "      <th>2608</th>\n",
       "      <td>千葉県</td>\n",
       "      <td>柏市</td>\n",
       "      <td>根戸</td>\n",
       "      <td>千葉県柏市根戸</td>\n",
       "    </tr>\n",
       "    <tr>\n",
       "      <th>2863</th>\n",
       "      <td>千葉県</td>\n",
       "      <td>柏市</td>\n",
       "      <td>若柴</td>\n",
       "      <td>千葉県柏市若柴</td>\n",
       "    </tr>\n",
       "    <tr>\n",
       "      <th>2972</th>\n",
       "      <td>千葉県</td>\n",
       "      <td>柏市</td>\n",
       "      <td>豊四季</td>\n",
       "      <td>千葉県柏市豊四季</td>\n",
       "    </tr>\n",
       "    <tr>\n",
       "      <th>2984</th>\n",
       "      <td>千葉県</td>\n",
       "      <td>柏市</td>\n",
       "      <td>高柳</td>\n",
       "      <td>千葉県柏市高柳</td>\n",
       "    </tr>\n",
       "  </tbody>\n",
       "</table>\n",
       "</div>"
      ],
      "text/plain": [
       "     都道府県（発生地） 市区町村（発生地） 町丁目（発生地）        住所\n",
       "2985       千葉県        柏市       高柳   千葉県柏市高柳\n",
       "2608       千葉県        柏市       根戸   千葉県柏市根戸\n",
       "2863       千葉県        柏市       若柴   千葉県柏市若柴\n",
       "2972       千葉県        柏市      豊四季  千葉県柏市豊四季\n",
       "2984       千葉県        柏市       高柳   千葉県柏市高柳"
      ]
     },
     "execution_count": 63,
     "metadata": {},
     "output_type": "execute_result"
    }
   ],
   "source": [
    "# random sampleで上手く行ったかどうかをチェック\n",
    "kashiwa[['都道府県（発生地）','市区町村（発生地）','町丁目（発生地）','住所']].sample(5)\n"
   ]
  },
  {
   "cell_type": "markdown",
   "metadata": {
    "slideshow": {
     "slide_type": "slide"
    }
   },
   "source": [
    "これで準備は整えました。`kashiwa` のデータフレームを for loop に入れて住所を一つずつジオコーティングしよう。\n",
    "\n",
    "この作業は数分かかるので注意。千件以上のデータフレームはなるべく避けよう。"
   ]
  },
  {
   "cell_type": "code",
   "execution_count": 64,
   "metadata": {},
   "outputs": [
    {
     "name": "stdout",
     "output_type": "stream",
     "text": [
      "千葉県柏市今谷上町 139.956406 35.841019\n",
      "千葉県柏市今谷上町 139.956406 35.841019\n",
      "千葉県柏市今谷上町 139.956406 35.841019\n",
      "千葉県柏市今谷上町 139.956406 35.841019\n",
      "千葉県柏市今谷上町 139.956406 35.841019\n",
      "千葉県柏市今谷上町 139.956406 35.841019\n",
      "千葉県柏市今谷南町 ジオコーティング失敗\n",
      "千葉県柏市今谷南町 ジオコーティング失敗\n",
      "千葉県柏市今谷南町 ジオコーティング失敗\n",
      "千葉県柏市酒井根 139.957825 35.81815\n",
      "千葉県柏市酒井根２丁目 139.967194 35.821594\n",
      "千葉県柏市酒井根２丁目 139.967194 35.821594\n",
      "千葉県柏市酒井根４丁目 139.960007 35.820488\n",
      "千葉県柏市酒井根４丁目 139.960007 35.820488\n",
      "千葉県柏市酒井根４丁目 139.960007 35.820488\n",
      "千葉県柏市中新宿１丁目 139.943588 35.834564\n",
      "千葉県柏市光ケ丘２丁目 139.951508 35.830315\n",
      "千葉県柏市光ケ丘団地 ジオコーティング失敗\n",
      "千葉県柏市光ケ丘団地 ジオコーティング失敗\n",
      "千葉県柏市光ケ丘団地 ジオコーティング失敗\n",
      "千葉県柏市光ケ丘団地 ジオコーティング失敗\n",
      "千葉県柏市光ケ丘団地 ジオコーティング失敗\n",
      "千葉県柏市東中新宿１丁目 ジオコーティング失敗\n",
      "千葉県柏市柏 139.986511 35.864445\n",
      "千葉県柏市柏 139.986511 35.864445\n",
      "千葉県柏市北柏１丁目 139.985413 35.874477\n",
      "千葉県柏市北柏２丁目 139.989914 35.872643\n",
      "千葉県柏市北柏３丁目 139.987793 35.872192\n",
      "千葉県柏市宿連寺 139.985229 35.887501\n",
      "千葉県柏市根戸 139.98645 35.88113\n",
      "千葉県柏市根戸 139.98645 35.88113\n",
      "千葉県柏市根戸 139.98645 35.88113\n",
      "千葉県柏市根戸 139.98645 35.88113\n",
      "千葉県柏市根戸 139.98645 35.88113\n",
      "千葉県柏市根戸 139.98645 35.88113\n",
      "千葉県柏市根戸 139.98645 35.88113\n",
      "千葉県柏市根戸 139.98645 35.88113\n",
      "千葉県柏市根戸 139.98645 35.88113\n",
      "千葉県柏市根戸 139.98645 35.88113\n",
      "千葉県柏市根戸 139.98645 35.88113\n",
      "千葉県柏市根戸 139.98645 35.88113\n",
      "千葉県柏市根戸 139.98645 35.88113\n",
      "千葉県柏市根戸 139.98645 35.88113\n",
      "千葉県柏市根戸 139.98645 35.88113\n",
      "千葉県柏市根戸 139.98645 35.88113\n",
      "千葉県柏市根戸 139.98645 35.88113\n",
      "千葉県柏市根戸 139.98645 35.88113\n",
      "千葉県柏市根戸 139.98645 35.88113\n",
      "千葉県柏市根戸 139.98645 35.88113\n",
      "千葉県柏市逆井 139.982468 35.815441\n",
      "千葉県柏市逆井 139.982468 35.815441\n",
      "千葉県柏市逆井 139.982468 35.815441\n",
      "千葉県柏市逆井 139.982468 35.815441\n",
      "千葉県柏市逆井 139.982468 35.815441\n",
      "千葉県柏市逆井 139.982468 35.815441\n",
      "千葉県柏市逆井 139.982468 35.815441\n",
      "千葉県柏市逆井 139.982468 35.815441\n",
      "千葉県柏市逆井１丁目 139.983444 35.822018\n",
      "千葉県柏市逆井１丁目 139.983444 35.822018\n",
      "千葉県柏市逆井２丁目 ジオコーティング失敗\n",
      "千葉県柏市逆井２丁目 ジオコーティング失敗\n",
      "千葉県柏市逆井２丁目 ジオコーティング失敗\n",
      "千葉県柏市逆井２丁目 ジオコーティング失敗\n",
      "千葉県柏市逆井２丁目 ジオコーティング失敗\n",
      "千葉県柏市逆井２丁目 ジオコーティング失敗\n",
      "千葉県柏市逆井２丁目 ジオコーティング失敗\n",
      "千葉県柏市逆井２丁目 ジオコーティング失敗\n",
      "千葉県柏市増尾６丁目 139.981293 35.830414\n",
      "千葉県柏市南増尾 139.974075 35.816387\n",
      "千葉県柏市南増尾 139.974075 35.816387\n",
      "千葉県柏市南増尾１丁目 139.971741 35.818909\n",
      "千葉県柏市南増尾１丁目 139.971741 35.818909\n",
      "千葉県柏市南増尾３丁目 ジオコーティング失敗\n",
      "千葉県柏市南増尾６丁目 139.963562 35.811157\n",
      "千葉県柏市南増尾６丁目 139.963562 35.811157\n",
      "千葉県柏市南増尾７丁目 ジオコーティング失敗\n",
      "千葉県柏市南増尾７丁目 ジオコーティング失敗\n",
      "千葉県柏市南増尾７丁目 ジオコーティング失敗\n",
      "千葉県柏市新柏１丁目 139.968597 35.839211\n",
      "千葉県柏市南逆井３丁目 139.970001 35.802795\n",
      "千葉県柏市南逆井３丁目 139.970001 35.802795\n",
      "千葉県柏市南逆井４丁目 ジオコーティング失敗\n",
      "千葉県柏市南逆井４丁目 ジオコーティング失敗\n",
      "千葉県柏市南逆井４丁目 ジオコーティング失敗\n",
      "千葉県柏市南逆井４丁目 ジオコーティング失敗\n",
      "千葉県柏市南逆井４丁目 ジオコーティング失敗\n",
      "千葉県柏市南逆井６丁目 139.977905 35.805508\n",
      "千葉県柏市南逆井７丁目 139.981033 35.807434\n",
      "千葉県柏市青葉台１丁目 139.962723 35.814934\n",
      "千葉県柏市青葉台２丁目 139.957855 35.813534\n",
      "千葉県柏市豊四季 ジオコーティング失敗\n",
      "千葉県柏市豊四季 ジオコーティング失敗\n",
      "千葉県柏市豊四季 ジオコーティング失敗\n",
      "千葉県柏市豊四季 ジオコーティング失敗\n",
      "千葉県柏市豊四季 ジオコーティング失敗\n",
      "千葉県柏市豊四季 ジオコーティング失敗\n",
      "千葉県柏市豊四季 ジオコーティング失敗\n",
      "千葉県柏市豊四季 ジオコーティング失敗\n",
      "千葉県柏市豊四季 ジオコーティング失敗\n",
      "千葉県柏市南柏１丁目 139.953476 35.845783\n",
      "千葉県柏市南柏１丁目 139.953476 35.845783\n",
      "千葉県柏市南柏１丁目 139.953476 35.845783\n",
      "千葉県柏市南柏１丁目 139.953476 35.845783\n",
      "千葉県柏市南柏１丁目 139.953476 35.845783\n",
      "千葉県柏市南柏１丁目 139.953476 35.845783\n",
      "千葉県柏市南柏１丁目 139.953476 35.845783\n",
      "千葉県柏市南柏１丁目 139.953476 35.845783\n",
      "千葉県柏市南柏２丁目 139.955032 35.847271\n",
      "千葉県柏市南柏２丁目 139.955032 35.847271\n",
      "千葉県柏市南柏２丁目 139.955032 35.847271\n",
      "千葉県柏市南柏２丁目 139.955032 35.847271\n",
      "千葉県柏市南柏２丁目 139.955032 35.847271\n",
      "千葉県柏市南柏２丁目 139.955032 35.847271\n",
      "千葉県柏市南柏２丁目 139.955032 35.847271\n",
      "千葉県柏市豊町２丁目 139.960251 35.851013\n",
      "千葉県柏市豊町２丁目 139.960251 35.851013\n",
      "千葉県柏市豊町２丁目 139.960251 35.851013\n",
      "千葉県柏市豊町２丁目 139.960251 35.851013\n",
      "千葉県柏市吉野沢 139.958679 35.852959\n",
      "千葉県柏市南柏中央 ジオコーティング失敗\n",
      "千葉県柏市南柏中央 ジオコーティング失敗\n",
      "千葉県柏市南柏中央 ジオコーティング失敗\n",
      "千葉県柏市南柏中央 ジオコーティング失敗\n",
      "千葉県柏市加賀３丁目 139.97319 35.830082\n",
      "千葉県柏市加賀３丁目 139.97319 35.830082\n",
      "千葉県柏市加賀３丁目 139.97319 35.830082\n",
      "千葉県柏市藤心 139.995834 35.820541\n",
      "千葉県柏市藤心３丁目 ジオコーティング失敗\n",
      "千葉県柏市増尾１丁目 ジオコーティング失敗\n",
      "千葉県柏市増尾１丁目 ジオコーティング失敗\n",
      "千葉県柏市増尾１丁目 ジオコーティング失敗\n",
      "千葉県柏市増尾１丁目 ジオコーティング失敗\n",
      "千葉県柏市増尾１丁目 ジオコーティング失敗\n",
      "千葉県柏市藤心５丁目 139.99144 35.823658\n",
      "千葉県柏市大井 140.00441 35.850155\n",
      "千葉県柏市大井 140.00441 35.850155\n",
      "千葉県柏市大島田 ジオコーティング失敗\n",
      "千葉県柏市大島田 ジオコーティング失敗\n",
      "千葉県柏市大島田１丁目 140.011703 35.833759\n",
      "千葉県柏市大島田１丁目 140.011703 35.833759\n",
      "千葉県柏市大島田１丁目 140.011703 35.833759\n",
      "千葉県柏市大島田１丁目 140.011703 35.833759\n",
      "千葉県柏市大島田１丁目 140.011703 35.833759\n",
      "千葉県柏市大島田１丁目 140.011703 35.833759\n",
      "千葉県柏市大島田１丁目 140.011703 35.833759\n",
      "千葉県柏市大島田１丁目 140.011703 35.833759\n",
      "千葉県柏市大島田１丁目 140.011703 35.833759\n",
      "千葉県柏市大津ケ丘１丁目 140.003662 35.84325\n",
      "千葉県柏市大津ケ丘１丁目 140.003662 35.84325\n",
      "千葉県柏市大津ケ丘１丁目 140.003662 35.84325\n",
      "千葉県柏市大津ケ丘１丁目 140.003662 35.84325\n",
      "千葉県柏市大津ケ丘２丁目 ジオコーティング失敗\n",
      "千葉県柏市大津ケ丘２丁目 ジオコーティング失敗\n",
      "千葉県柏市大津ケ丘３丁目 139.995621 35.840942\n",
      "千葉県柏市大津ケ丘３丁目 139.995621 35.840942\n",
      "千葉県柏市大津ケ丘４丁目 ジオコーティング失敗\n",
      "千葉県柏市大津ケ丘４丁目 ジオコーティング失敗\n",
      "千葉県柏市高柳 ジオコーティング失敗\n",
      "千葉県柏市手賀の杜３丁目 ジオコーティング失敗\n",
      "千葉県柏市手賀の杜５丁目 140.018982 35.844128\n",
      "千葉県柏市布施 ジオコーティング失敗\n",
      "千葉県柏市亀甲台町１丁目 139.98053 35.848293\n",
      "千葉県柏市つくしが丘１丁目 ジオコーティング失敗\n",
      "千葉県柏市つくしが丘１丁目 ジオコーティング失敗\n",
      "千葉県柏市つくしが丘１丁目 ジオコーティング失敗\n",
      "千葉県柏市豊四季 ジオコーティング失敗\n",
      "千葉県柏市豊住１丁目 139.961716 35.839748\n",
      "千葉県柏市豊住３丁目 139.963547 35.838268\n",
      "千葉県柏市豊住３丁目 139.963547 35.838268\n",
      "千葉県柏市豊住３丁目 139.963547 35.838268\n",
      "千葉県柏市豊住３丁目 139.963547 35.838268\n",
      "千葉県柏市豊住３丁目 139.963547 35.838268\n",
      "千葉県柏市豊住５丁目 139.966721 35.840786\n",
      "千葉県柏市豊住５丁目 139.966721 35.840786\n",
      "千葉県柏市名戸ケ谷 139.981064 35.843285\n",
      "千葉県柏市名戸ケ谷 139.981064 35.843285\n",
      "千葉県柏市名戸ケ谷１丁目 139.976089 35.845604\n",
      "千葉県柏市新柏１丁目 139.968597 35.839211\n",
      "千葉県柏市新柏１丁目 139.968597 35.839211\n",
      "千葉県柏市新柏１丁目 139.968597 35.839211\n",
      "千葉県柏市新柏１丁目 139.968597 35.839211\n",
      "千葉県柏市新柏１丁目 139.968597 35.839211\n",
      "千葉県柏市新柏４丁目 139.976852 35.843964\n",
      "千葉県柏市明原１丁目 139.966171 35.863686\n",
      "千葉県柏市明原２丁目 139.967041 35.866077\n",
      "千葉県柏市明原３丁目 139.963196 35.867088\n",
      "千葉県柏市明原３丁目 139.963196 35.867088\n",
      "千葉県柏市明原４丁目 139.962662 35.864574\n",
      "千葉県柏市あけぼの１丁目 139.971985 35.865929\n",
      "千葉県柏市あけぼの１丁目 139.971985 35.865929\n",
      "千葉県柏市あけぼの２丁目 139.974197 35.868034\n",
      "千葉県柏市あけぼの３丁目 ジオコーティング失敗\n",
      "千葉県柏市あけぼの４丁目 139.968948 35.866798\n",
      "千葉県柏市旭町１丁目 ジオコーティング失敗\n",
      "千葉県柏市旭町１丁目 ジオコーティング失敗\n",
      "千葉県柏市旭町１丁目 ジオコーティング失敗\n",
      "千葉県柏市旭町１丁目 ジオコーティング失敗\n",
      "千葉県柏市旭町１丁目 ジオコーティング失敗\n",
      "千葉県柏市旭町１丁目 ジオコーティング失敗\n",
      "千葉県柏市旭町１丁目 ジオコーティング失敗\n",
      "千葉県柏市旭町１丁目 ジオコーティング失敗\n",
      "千葉県柏市旭町１丁目 ジオコーティング失敗\n",
      "千葉県柏市旭町１丁目 ジオコーティング失敗\n",
      "千葉県柏市旭町１丁目 ジオコーティング失敗\n",
      "千葉県柏市旭町１丁目 ジオコーティング失敗\n",
      "千葉県柏市旭町１丁目 ジオコーティング失敗\n",
      "千葉県柏市旭町１丁目 ジオコーティング失敗\n",
      "千葉県柏市旭町１丁目 ジオコーティング失敗\n",
      "千葉県柏市旭町４丁目 139.962036 35.858974\n",
      "千葉県柏市旭町４丁目 139.962036 35.858974\n",
      "千葉県柏市旭町４丁目 139.962036 35.858974\n",
      "千葉県柏市旭町４丁目 139.962036 35.858974\n",
      "千葉県柏市旭町５丁目 139.962128 35.85675\n",
      "千葉県柏市旭町５丁目 139.962128 35.85675\n",
      "千葉県柏市旭町５丁目 139.962128 35.85675\n",
      "千葉県柏市旭町７丁目 139.958176 35.860016\n",
      "千葉県柏市旭町７丁目 139.958176 35.860016\n",
      "千葉県柏市篠籠田 139.943359 35.868122\n",
      "千葉県柏市末広町 ジオコーティング失敗\n",
      "千葉県柏市末広町 ジオコーティング失敗\n",
      "千葉県柏市末広町 ジオコーティング失敗\n",
      "千葉県柏市末広町 ジオコーティング失敗\n",
      "千葉県柏市末広町 ジオコーティング失敗\n",
      "千葉県柏市末広町 ジオコーティング失敗\n",
      "千葉県柏市末広町 ジオコーティング失敗\n",
      "千葉県柏市末広町 ジオコーティング失敗\n",
      "千葉県柏市末広町 ジオコーティング失敗\n",
      "千葉県柏市末広町 ジオコーティング失敗\n",
      "千葉県柏市末広町 ジオコーティング失敗\n",
      "千葉県柏市末広町 ジオコーティング失敗\n",
      "千葉県柏市末広町 ジオコーティング失敗\n",
      "千葉県柏市末広町 ジオコーティング失敗\n",
      "千葉県柏市末広町 ジオコーティング失敗\n",
      "千葉県柏市末広町 ジオコーティング失敗\n",
      "千葉県柏市末広町 ジオコーティング失敗\n",
      "千葉県柏市末広町 ジオコーティング失敗\n",
      "千葉県柏市末広町 ジオコーティング失敗\n",
      "千葉県柏市末広町 ジオコーティング失敗\n",
      "千葉県柏市末広町 ジオコーティング失敗\n",
      "千葉県柏市末広町 ジオコーティング失敗\n",
      "千葉県柏市末広町 ジオコーティング失敗\n",
      "千葉県柏市末広町 ジオコーティング失敗\n",
      "千葉県柏市末広町 ジオコーティング失敗\n",
      "千葉県柏市末広町 ジオコーティング失敗\n",
      "千葉県柏市末広町 ジオコーティング失敗\n",
      "千葉県柏市末広町 ジオコーティング失敗\n",
      "千葉県柏市末広町 ジオコーティング失敗\n",
      "千葉県柏市末広町 ジオコーティング失敗\n",
      "千葉県柏市富里３丁目 139.962891 35.854397\n",
      "千葉県柏市富里３丁目 139.962891 35.854397\n",
      "千葉県柏市富里３丁目 139.962891 35.854397\n",
      "千葉県柏市富里３丁目 139.962891 35.854397\n",
      "千葉県柏市豊四季 ジオコーティング失敗\n",
      "千葉県柏市豊四季台１丁目 139.957932 35.866894\n",
      "千葉県柏市柏の葉５丁目 139.93605 35.902\n",
      "千葉県柏市篠籠田 139.943359 35.868122\n",
      "千葉県柏市十余二 139.959305 35.882629\n",
      "千葉県柏市十余二 139.959305 35.882629\n",
      "千葉県柏市松ケ崎 139.975952 35.879082\n",
      "千葉県柏市松ケ崎 139.975952 35.879082\n",
      "千葉県柏市松ケ崎 139.975952 35.879082\n",
      "千葉県柏市松ケ崎 139.975952 35.879082\n",
      "千葉県柏市松ケ崎 139.975952 35.879082\n",
      "千葉県柏市松葉町１丁目 139.980759 35.886456\n",
      "千葉県柏市松葉町１丁目 139.980759 35.886456\n",
      "千葉県柏市松葉町１丁目 139.980759 35.886456\n",
      "千葉県柏市松葉町３丁目 139.970963 35.886009\n",
      "千葉県柏市松葉町４丁目 139.971802 35.889114\n",
      "千葉県柏市松葉町４丁目 139.971802 35.889114\n",
      "千葉県柏市松葉町７丁目 139.963287 35.889534\n",
      "千葉県柏市大山台１丁目 139.967804 35.880825\n",
      "千葉県柏市大山台１丁目 139.967804 35.880825\n",
      "千葉県柏市大山台１丁目 139.967804 35.880825\n",
      "千葉県柏市大山台１丁目 139.967804 35.880825\n",
      "千葉県柏市大山台２丁目 139.969193 35.88258\n",
      "千葉県柏市大山台２丁目 139.969193 35.88258\n",
      "千葉県柏市大山台２丁目 139.969193 35.88258\n",
      "千葉県柏市大山台２丁目 139.969193 35.88258\n",
      "千葉県柏市大室 139.95816 35.90826\n",
      "千葉県柏市若柴 139.953995 35.891659\n",
      "千葉県柏市若柴 139.953995 35.891659\n",
      "千葉県柏市若柴 139.953995 35.891659\n",
      "千葉県柏市若柴 139.953995 35.891659\n",
      "千葉県柏市若柴 139.953995 35.891659\n",
      "千葉県柏市若柴 139.953995 35.891659\n",
      "千葉県柏市若柴 139.953995 35.891659\n",
      "千葉県柏市若柴 139.953995 35.891659\n",
      "千葉県柏市若柴 139.953995 35.891659\n",
      "千葉県柏市若柴 139.953995 35.891659\n",
      "千葉県柏市若柴 139.953995 35.891659\n",
      "千葉県柏市若柴 139.953995 35.891659\n",
      "千葉県柏市東１丁目 139.97847 35.857388\n",
      "千葉県柏市東３丁目 139.982056 35.854141\n",
      "千葉県柏市東上町 139.977722 35.859604\n",
      "千葉県柏市東上町 139.977722 35.859604\n",
      "千葉県柏市東上町 139.977722 35.859604\n",
      "千葉県柏市東上町 139.977722 35.859604\n",
      "千葉県柏市泉町 ジオコーティング失敗\n",
      "千葉県柏市泉町 ジオコーティング失敗\n",
      "千葉県柏市泉町 ジオコーティング失敗\n",
      "千葉県柏市泉町 ジオコーティング失敗\n",
      "千葉県柏市泉町 ジオコーティング失敗\n",
      "千葉県柏市泉町 ジオコーティング失敗\n",
      "千葉県柏市泉町 ジオコーティング失敗\n",
      "千葉県柏市柏 139.986511 35.864445\n",
      "千葉県柏市柏 139.986511 35.864445\n",
      "千葉県柏市柏１丁目 139.97142 35.861809\n",
      "千葉県柏市柏１丁目 139.97142 35.861809\n",
      "千葉県柏市柏１丁目 139.97142 35.861809\n",
      "千葉県柏市柏２丁目 139.973999 35.861694\n",
      "千葉県柏市柏２丁目 139.973999 35.861694\n",
      "千葉県柏市柏２丁目 139.973999 35.861694\n",
      "千葉県柏市柏２丁目 139.973999 35.861694\n",
      "千葉県柏市柏２丁目 139.973999 35.861694\n",
      "千葉県柏市柏２丁目 139.973999 35.861694\n",
      "千葉県柏市柏２丁目 139.973999 35.861694\n",
      "千葉県柏市柏３丁目 139.975159 35.860302\n",
      "千葉県柏市柏３丁目 139.975159 35.860302\n",
      "千葉県柏市柏３丁目 139.975159 35.860302\n",
      "千葉県柏市柏３丁目 139.975159 35.860302\n",
      "千葉県柏市柏３丁目 139.975159 35.860302\n",
      "千葉県柏市柏３丁目 139.975159 35.860302\n",
      "千葉県柏市柏３丁目 139.975159 35.860302\n",
      "千葉県柏市柏３丁目 139.975159 35.860302\n",
      "千葉県柏市柏４丁目 139.974228 35.863529\n",
      "千葉県柏市柏５丁目 ジオコーティング失敗\n",
      "千葉県柏市柏５丁目 ジオコーティング失敗\n",
      "千葉県柏市柏５丁目 ジオコーティング失敗\n",
      "千葉県柏市柏５丁目 ジオコーティング失敗\n",
      "千葉県柏市柏５丁目 ジオコーティング失敗\n",
      "千葉県柏市柏５丁目 ジオコーティング失敗\n",
      "千葉県柏市柏５丁目 ジオコーティング失敗\n",
      "千葉県柏市柏５丁目 ジオコーティング失敗\n",
      "千葉県柏市柏５丁目 ジオコーティング失敗\n",
      "千葉県柏市中央１丁目 ジオコーティング失敗\n",
      "千葉県柏市中央１丁目 ジオコーティング失敗\n",
      "千葉県柏市中央２丁目 139.972137 35.855583\n",
      "千葉県柏市中央２丁目 139.972137 35.855583\n",
      "千葉県柏市中央町 139.970566 35.859303\n",
      "千葉県柏市中央町 139.970566 35.859303\n",
      "千葉県柏市中央町 139.970566 35.859303\n",
      "千葉県柏市中央町 139.970566 35.859303\n",
      "千葉県柏市中央町 139.970566 35.859303\n",
      "千葉県柏市富里１丁目 ジオコーティング失敗\n",
      "千葉県柏市富里２丁目 ジオコーティング失敗\n",
      "千葉県柏市新柏３丁目 ジオコーティング失敗\n",
      "千葉県柏市岩井 140.034134 35.84705\n",
      "千葉県柏市あかね町 ジオコーティング失敗\n",
      "千葉県柏市東２丁目 139.981491 35.856987\n",
      "千葉県柏市東３丁目 139.982056 35.854141\n",
      "千葉県柏市東台本町 139.983749 35.858639\n",
      "千葉県柏市東台本町 139.983749 35.858639\n",
      "千葉県柏市柏 139.986511 35.864445\n",
      "千葉県柏市千代田１丁目 ジオコーティング失敗\n",
      "千葉県柏市千代田１丁目 ジオコーティング失敗\n",
      "千葉県柏市千代田２丁目 ジオコーティング失敗\n",
      "千葉県柏市千代田２丁目 ジオコーティング失敗\n",
      "千葉県柏市千代田３丁目 139.977646 35.853451\n",
      "千葉県柏市戸張 ジオコーティング失敗\n",
      "千葉県柏市戸張 ジオコーティング失敗\n",
      "千葉県柏市八幡町 139.985901 35.853882\n",
      "千葉県柏市緑ケ丘 ジオコーティング失敗\n",
      "千葉県柏市緑ケ丘 ジオコーティング失敗\n",
      "千葉県柏市弥生町 ジオコーティング失敗\n",
      "千葉県柏市若葉町 139.971054 35.85392\n",
      "千葉県柏市東柏２丁目 ジオコーティング失敗\n",
      "千葉県柏市東柏２丁目 ジオコーティング失敗\n",
      "千葉県柏市大室 139.95816 35.90826\n",
      "千葉県柏市小青田２丁目 139.953461 35.912533\n",
      "千葉県柏市小青田５丁目 139.959076 35.915054\n",
      "千葉県柏市小青田５丁目 139.959076 35.915054\n",
      "千葉県柏市花野井 139.974243 35.896736\n",
      "千葉県柏市花野井 139.974243 35.896736\n",
      "千葉県柏市花野井 139.974243 35.896736\n",
      "千葉県柏市花野井 139.974243 35.896736\n",
      "千葉県柏市花野井 139.974243 35.896736\n",
      "千葉県柏市花野井 139.974243 35.896736\n",
      "千葉県柏市花野井 139.974243 35.896736\n",
      "千葉県柏市篠籠田 139.943359 35.868122\n",
      "千葉県柏市篠籠田 139.943359 35.868122\n",
      "千葉県柏市篠籠田 139.943359 35.868122\n",
      "千葉県柏市新富町２丁目 139.952621 35.855282\n",
      "千葉県柏市高田 ジオコーティング失敗\n",
      "千葉県柏市高田 ジオコーティング失敗\n",
      "千葉県柏市高田 ジオコーティング失敗\n",
      "千葉県柏市高田 ジオコーティング失敗\n",
      "千葉県柏市高田 ジオコーティング失敗\n",
      "千葉県柏市豊四季 ジオコーティング失敗\n",
      "千葉県柏市豊四季 ジオコーティング失敗\n",
      "千葉県柏市豊四季 ジオコーティング失敗\n",
      "千葉県柏市豊四季 ジオコーティング失敗\n",
      "千葉県柏市豊四季 ジオコーティング失敗\n",
      "千葉県柏市豊四季 ジオコーティング失敗\n",
      "千葉県柏市豊四季 ジオコーティング失敗\n",
      "千葉県柏市豊四季 ジオコーティング失敗\n",
      "千葉県柏市豊四季 ジオコーティング失敗\n",
      "千葉県柏市豊四季 ジオコーティング失敗\n",
      "千葉県柏市豊四季 ジオコーティング失敗\n",
      "千葉県柏市豊四季 ジオコーティング失敗\n",
      "千葉県柏市豊四季 ジオコーティング失敗\n",
      "千葉県柏市高南台１丁目 139.996078 35.804619\n",
      "千葉県柏市高南台１丁目 139.996078 35.804619\n",
      "千葉県柏市高南台３丁目 ジオコーティング失敗\n",
      "千葉県柏市高南台３丁目 ジオコーティング失敗\n",
      "千葉県柏市しいの木台５丁目 ジオコーティング失敗\n",
      "千葉県柏市しいの木台５丁目 ジオコーティング失敗\n",
      "千葉県柏市高柳 ジオコーティング失敗\n",
      "千葉県柏市高柳 ジオコーティング失敗\n",
      "千葉県柏市高柳 ジオコーティング失敗\n",
      "千葉県柏市高柳 ジオコーティング失敗\n",
      "千葉県柏市高柳 ジオコーティング失敗\n",
      "千葉県柏市高柳１丁目 139.99794 35.8078\n",
      "千葉県柏市高柳新田 ジオコーティング失敗\n",
      "千葉県柏市高田 ジオコーティング失敗\n",
      "千葉県柏市高田 ジオコーティング失敗\n",
      "千葉県柏市高田 ジオコーティング失敗\n",
      "千葉県柏市十余二 139.959305 35.882629\n",
      "千葉県柏市西原１丁目 139.915878 35.89653\n",
      "千葉県柏市みどり台２丁目 139.9216 35.904537\n",
      "千葉県柏市みどり台２丁目 139.9216 35.904537\n"
     ]
    }
   ],
   "source": [
    "# kashiwaデータフレームをループ\n",
    "for i,row in kashiwa.iterrows():\n",
    "\n",
    "    # ジオコーティング成功\n",
    "    if geocode(row['住所']) != False:\n",
    "        # 座標を変数に\n",
    "        lon = geocode(row['住所'])[0]\n",
    "        lat = geocode(row['住所'])[1]\n",
    "\n",
    "        # データフレームに値をインプット        \n",
    "        kashiwa.loc[i,'lon'] = lon\n",
    "        kashiwa.loc[i,'lat'] = lat\n",
    "\n",
    "        # 結果をprint\n",
    "        print(row['住所'],lon,lat)\n",
    "    \n",
    "    # ジオコーティング失敗\n",
    "    else:\n",
    "        print(row['住所'],'ジオコーティング失敗')\n",
    "        continue"
   ]
  },
  {
   "cell_type": "code",
   "execution_count": 65,
   "metadata": {
    "slideshow": {
     "slide_type": "slide"
    }
   },
   "outputs": [
    {
     "data": {
      "text/html": [
       "<div>\n",
       "<style scoped>\n",
       "    .dataframe tbody tr th:only-of-type {\n",
       "        vertical-align: middle;\n",
       "    }\n",
       "\n",
       "    .dataframe tbody tr th {\n",
       "        vertical-align: top;\n",
       "    }\n",
       "\n",
       "    .dataframe thead th {\n",
       "        text-align: right;\n",
       "    }\n",
       "</style>\n",
       "<table border=\"1\" class=\"dataframe\">\n",
       "  <thead>\n",
       "    <tr style=\"text-align: right;\">\n",
       "      <th></th>\n",
       "      <th>住所</th>\n",
       "      <th>lat</th>\n",
       "      <th>lon</th>\n",
       "    </tr>\n",
       "  </thead>\n",
       "  <tbody>\n",
       "    <tr>\n",
       "      <th>2739</th>\n",
       "      <td>千葉県柏市つくしが丘１丁目</td>\n",
       "      <td>NaN</td>\n",
       "      <td>NaN</td>\n",
       "    </tr>\n",
       "    <tr>\n",
       "      <th>2726</th>\n",
       "      <td>千葉県柏市大津ケ丘１丁目</td>\n",
       "      <td>35.843250</td>\n",
       "      <td>140.003662</td>\n",
       "    </tr>\n",
       "    <tr>\n",
       "      <th>2624</th>\n",
       "      <td>千葉県柏市根戸</td>\n",
       "      <td>35.881130</td>\n",
       "      <td>139.986450</td>\n",
       "    </tr>\n",
       "    <tr>\n",
       "      <th>2588</th>\n",
       "      <td>千葉県柏市酒井根２丁目</td>\n",
       "      <td>35.821594</td>\n",
       "      <td>139.967194</td>\n",
       "    </tr>\n",
       "    <tr>\n",
       "      <th>2597</th>\n",
       "      <td>千葉県柏市光ケ丘団地</td>\n",
       "      <td>NaN</td>\n",
       "      <td>NaN</td>\n",
       "    </tr>\n",
       "  </tbody>\n",
       "</table>\n",
       "</div>"
      ],
      "text/plain": [
       "                 住所        lat         lon\n",
       "2739  千葉県柏市つくしが丘１丁目        NaN         NaN\n",
       "2726   千葉県柏市大津ケ丘１丁目  35.843250  140.003662\n",
       "2624        千葉県柏市根戸  35.881130  139.986450\n",
       "2588    千葉県柏市酒井根２丁目  35.821594  139.967194\n",
       "2597     千葉県柏市光ケ丘団地        NaN         NaN"
      ]
     },
     "execution_count": 65,
     "metadata": {},
     "output_type": "execute_result"
    }
   ],
   "source": [
    "# check your output, show address and lat/lon for 5 samples\n",
    "kashiwa[['住所','lat','lon']].sample(5)\n"
   ]
  },
  {
   "cell_type": "code",
   "execution_count": 66,
   "metadata": {},
   "outputs": [],
   "source": [
    "# geocode出来なかったデータ、latがNaNを削除\n",
    "kashiwa = kashiwa[kashiwa['lat'].notna()]\n"
   ]
  },
  {
   "cell_type": "markdown",
   "metadata": {
    "slideshow": {
     "slide_type": "slide"
    }
   },
   "source": [
    "## Let's map it!\n",
    "\n",
    "待ってました、いよいよマップタイム！"
   ]
  },
  {
   "cell_type": "code",
   "execution_count": 67,
   "metadata": {
    "slideshow": {
     "slide_type": "fragment"
    }
   },
   "outputs": [],
   "source": [
    "# 全データの中央座標\n",
    "center_lat = kashiwa.lat.mean()\n",
    "center_lon = kashiwa.lon.mean() "
   ]
  },
  {
   "cell_type": "code",
   "execution_count": 68,
   "metadata": {
    "slideshow": {
     "slide_type": "slide"
    }
   },
   "outputs": [
    {
     "data": {
      "text/html": [
       "<div style=\"width:100%;\"><div style=\"position:relative;width:100%;height:0;padding-bottom:60%;\"><span style=\"color:#565656\">Make this Notebook Trusted to load map: File -> Trust Notebook</span><iframe srcdoc=\"&lt;!DOCTYPE html&gt;\n",
       "&lt;html&gt;\n",
       "&lt;head&gt;\n",
       "    \n",
       "    &lt;meta http-equiv=&quot;content-type&quot; content=&quot;text/html; charset=UTF-8&quot; /&gt;\n",
       "    \n",
       "        &lt;script&gt;\n",
       "            L_NO_TOUCH = false;\n",
       "            L_DISABLE_3D = false;\n",
       "        &lt;/script&gt;\n",
       "    \n",
       "    &lt;style&gt;html, body {width: 100%;height: 100%;margin: 0;padding: 0;}&lt;/style&gt;\n",
       "    &lt;style&gt;#map {position:absolute;top:0;bottom:0;right:0;left:0;}&lt;/style&gt;\n",
       "    &lt;script src=&quot;https://cdn.jsdelivr.net/npm/leaflet@1.9.3/dist/leaflet.js&quot;&gt;&lt;/script&gt;\n",
       "    &lt;script src=&quot;https://code.jquery.com/jquery-3.7.1.min.js&quot;&gt;&lt;/script&gt;\n",
       "    &lt;script src=&quot;https://cdn.jsdelivr.net/npm/bootstrap@5.2.2/dist/js/bootstrap.bundle.min.js&quot;&gt;&lt;/script&gt;\n",
       "    &lt;script src=&quot;https://cdnjs.cloudflare.com/ajax/libs/Leaflet.awesome-markers/2.0.2/leaflet.awesome-markers.js&quot;&gt;&lt;/script&gt;\n",
       "    &lt;link rel=&quot;stylesheet&quot; href=&quot;https://cdn.jsdelivr.net/npm/leaflet@1.9.3/dist/leaflet.css&quot;/&gt;\n",
       "    &lt;link rel=&quot;stylesheet&quot; href=&quot;https://cdn.jsdelivr.net/npm/bootstrap@5.2.2/dist/css/bootstrap.min.css&quot;/&gt;\n",
       "    &lt;link rel=&quot;stylesheet&quot; href=&quot;https://netdna.bootstrapcdn.com/bootstrap/3.0.0/css/bootstrap.min.css&quot;/&gt;\n",
       "    &lt;link rel=&quot;stylesheet&quot; href=&quot;https://cdn.jsdelivr.net/npm/@fortawesome/fontawesome-free@6.2.0/css/all.min.css&quot;/&gt;\n",
       "    &lt;link rel=&quot;stylesheet&quot; href=&quot;https://cdnjs.cloudflare.com/ajax/libs/Leaflet.awesome-markers/2.0.2/leaflet.awesome-markers.css&quot;/&gt;\n",
       "    &lt;link rel=&quot;stylesheet&quot; href=&quot;https://cdn.jsdelivr.net/gh/python-visualization/folium/folium/templates/leaflet.awesome.rotate.min.css&quot;/&gt;\n",
       "    \n",
       "            &lt;meta name=&quot;viewport&quot; content=&quot;width=device-width,\n",
       "                initial-scale=1.0, maximum-scale=1.0, user-scalable=no&quot; /&gt;\n",
       "            &lt;style&gt;\n",
       "                #map_548fd52cf82a9b33009aaeb2cc6ac806 {\n",
       "                    position: relative;\n",
       "                    width: 100.0%;\n",
       "                    height: 100.0%;\n",
       "                    left: 0.0%;\n",
       "                    top: 0.0%;\n",
       "                }\n",
       "                .leaflet-container { font-size: 1rem; }\n",
       "            &lt;/style&gt;\n",
       "        \n",
       "    &lt;script src=&quot;https://cdnjs.cloudflare.com/ajax/libs/leaflet.markercluster/1.1.0/leaflet.markercluster.js&quot;&gt;&lt;/script&gt;\n",
       "    &lt;link rel=&quot;stylesheet&quot; href=&quot;https://cdnjs.cloudflare.com/ajax/libs/leaflet.markercluster/1.1.0/MarkerCluster.css&quot;/&gt;\n",
       "    &lt;link rel=&quot;stylesheet&quot; href=&quot;https://cdnjs.cloudflare.com/ajax/libs/leaflet.markercluster/1.1.0/MarkerCluster.Default.css&quot;/&gt;\n",
       "&lt;/head&gt;\n",
       "&lt;body&gt;\n",
       "    \n",
       "    \n",
       "            &lt;div class=&quot;folium-map&quot; id=&quot;map_548fd52cf82a9b33009aaeb2cc6ac806&quot; &gt;&lt;/div&gt;\n",
       "        \n",
       "&lt;/body&gt;\n",
       "&lt;script&gt;\n",
       "    \n",
       "    \n",
       "            var map_548fd52cf82a9b33009aaeb2cc6ac806 = L.map(\n",
       "                &quot;map_548fd52cf82a9b33009aaeb2cc6ac806&quot;,\n",
       "                {\n",
       "                    center: [35.857440968127484, 139.97220054581672],\n",
       "                    crs: L.CRS.EPSG3857,\n",
       "                    zoom: 12,\n",
       "                    zoomControl: true,\n",
       "                    preferCanvas: false,\n",
       "                }\n",
       "            );\n",
       "\n",
       "            \n",
       "\n",
       "        \n",
       "    \n",
       "            var tile_layer_6310a0af5bfa444ff7f140cdf5d2b880 = L.tileLayer(\n",
       "                &quot;https://tile.openstreetmap.org/{z}/{x}/{y}.png&quot;,\n",
       "                {&quot;attribution&quot;: &quot;\\u0026copy; \\u003ca href=\\&quot;https://www.openstreetmap.org/copyright\\&quot;\\u003eOpenStreetMap\\u003c/a\\u003e contributors&quot;, &quot;detectRetina&quot;: false, &quot;maxNativeZoom&quot;: 19, &quot;maxZoom&quot;: 19, &quot;minZoom&quot;: 0, &quot;noWrap&quot;: false, &quot;opacity&quot;: 1, &quot;subdomains&quot;: &quot;abc&quot;, &quot;tms&quot;: false}\n",
       "            );\n",
       "        \n",
       "    \n",
       "            tile_layer_6310a0af5bfa444ff7f140cdf5d2b880.addTo(map_548fd52cf82a9b33009aaeb2cc6ac806);\n",
       "        \n",
       "    \n",
       "            var marker_cluster_8cba42893ed16ea535ba5741477d20d1 = L.markerClusterGroup(\n",
       "                {}\n",
       "            );\n",
       "        \n",
       "    \n",
       "            var marker_47d5ac06c5747e1c875a4f0acceb6027 = L.marker(\n",
       "                [35.841019, 139.956406],\n",
       "                {}\n",
       "            ).addTo(marker_cluster_8cba42893ed16ea535ba5741477d20d1);\n",
       "        \n",
       "    \n",
       "            marker_47d5ac06c5747e1c875a4f0acceb6027.bindTooltip(\n",
       "                `&lt;div&gt;\n",
       "                     法人・団体、被害者なし\n",
       "                 &lt;/div&gt;`,\n",
       "                {&quot;sticky&quot;: true}\n",
       "            );\n",
       "        \n",
       "    \n",
       "            var marker_bd29e1052c9805a2596f28ce5ca753d1 = L.marker(\n",
       "                [35.841019, 139.956406],\n",
       "                {}\n",
       "            ).addTo(marker_cluster_8cba42893ed16ea535ba5741477d20d1);\n",
       "        \n",
       "    \n",
       "            marker_bd29e1052c9805a2596f28ce5ca753d1.bindTooltip(\n",
       "                `&lt;div&gt;\n",
       "                     10歳代\n",
       "                 &lt;/div&gt;`,\n",
       "                {&quot;sticky&quot;: true}\n",
       "            );\n",
       "        \n",
       "    \n",
       "            var marker_9e9f15d0dbe234118b5a037c5b3a98cc = L.marker(\n",
       "                [35.841019, 139.956406],\n",
       "                {}\n",
       "            ).addTo(marker_cluster_8cba42893ed16ea535ba5741477d20d1);\n",
       "        \n",
       "    \n",
       "            marker_9e9f15d0dbe234118b5a037c5b3a98cc.bindTooltip(\n",
       "                `&lt;div&gt;\n",
       "                     20歳代\n",
       "                 &lt;/div&gt;`,\n",
       "                {&quot;sticky&quot;: true}\n",
       "            );\n",
       "        \n",
       "    \n",
       "            var marker_383f6eedacddd666a2a7e99f56eb45e0 = L.marker(\n",
       "                [35.841019, 139.956406],\n",
       "                {}\n",
       "            ).addTo(marker_cluster_8cba42893ed16ea535ba5741477d20d1);\n",
       "        \n",
       "    \n",
       "            marker_383f6eedacddd666a2a7e99f56eb45e0.bindTooltip(\n",
       "                `&lt;div&gt;\n",
       "                     20歳代\n",
       "                 &lt;/div&gt;`,\n",
       "                {&quot;sticky&quot;: true}\n",
       "            );\n",
       "        \n",
       "    \n",
       "            var marker_b62ddcff115b71aa12638cb5d49bff3a = L.marker(\n",
       "                [35.841019, 139.956406],\n",
       "                {}\n",
       "            ).addTo(marker_cluster_8cba42893ed16ea535ba5741477d20d1);\n",
       "        \n",
       "    \n",
       "            marker_b62ddcff115b71aa12638cb5d49bff3a.bindTooltip(\n",
       "                `&lt;div&gt;\n",
       "                     10歳未満\n",
       "                 &lt;/div&gt;`,\n",
       "                {&quot;sticky&quot;: true}\n",
       "            );\n",
       "        \n",
       "    \n",
       "            var marker_64cef3c613cc9438613fedbd6a823362 = L.marker(\n",
       "                [35.841019, 139.956406],\n",
       "                {}\n",
       "            ).addTo(marker_cluster_8cba42893ed16ea535ba5741477d20d1);\n",
       "        \n",
       "    \n",
       "            marker_64cef3c613cc9438613fedbd6a823362.bindTooltip(\n",
       "                `&lt;div&gt;\n",
       "                     30歳代\n",
       "                 &lt;/div&gt;`,\n",
       "                {&quot;sticky&quot;: true}\n",
       "            );\n",
       "        \n",
       "    \n",
       "            var marker_37be8fa873703e80ffdb9c991001c1d1 = L.marker(\n",
       "                [35.81815, 139.957825],\n",
       "                {}\n",
       "            ).addTo(marker_cluster_8cba42893ed16ea535ba5741477d20d1);\n",
       "        \n",
       "    \n",
       "            marker_37be8fa873703e80ffdb9c991001c1d1.bindTooltip(\n",
       "                `&lt;div&gt;\n",
       "                     20歳代\n",
       "                 &lt;/div&gt;`,\n",
       "                {&quot;sticky&quot;: true}\n",
       "            );\n",
       "        \n",
       "    \n",
       "            var marker_2b16e7f9090f367cb5c7803ba1b45286 = L.marker(\n",
       "                [35.821594, 139.967194],\n",
       "                {}\n",
       "            ).addTo(marker_cluster_8cba42893ed16ea535ba5741477d20d1);\n",
       "        \n",
       "    \n",
       "            marker_2b16e7f9090f367cb5c7803ba1b45286.bindTooltip(\n",
       "                `&lt;div&gt;\n",
       "                     10歳代\n",
       "                 &lt;/div&gt;`,\n",
       "                {&quot;sticky&quot;: true}\n",
       "            );\n",
       "        \n",
       "    \n",
       "            var marker_b06b54f89ae232abb2abf213d8165468 = L.marker(\n",
       "                [35.821594, 139.967194],\n",
       "                {}\n",
       "            ).addTo(marker_cluster_8cba42893ed16ea535ba5741477d20d1);\n",
       "        \n",
       "    \n",
       "            marker_b06b54f89ae232abb2abf213d8165468.bindTooltip(\n",
       "                `&lt;div&gt;\n",
       "                     10歳代\n",
       "                 &lt;/div&gt;`,\n",
       "                {&quot;sticky&quot;: true}\n",
       "            );\n",
       "        \n",
       "    \n",
       "            var marker_ac78b1e30d6002b83abd39986196b19a = L.marker(\n",
       "                [35.820488, 139.960007],\n",
       "                {}\n",
       "            ).addTo(marker_cluster_8cba42893ed16ea535ba5741477d20d1);\n",
       "        \n",
       "    \n",
       "            marker_ac78b1e30d6002b83abd39986196b19a.bindTooltip(\n",
       "                `&lt;div&gt;\n",
       "                     50歳代\n",
       "                 &lt;/div&gt;`,\n",
       "                {&quot;sticky&quot;: true}\n",
       "            );\n",
       "        \n",
       "    \n",
       "            var marker_c564045d0c51f5babca896ce9fc15c95 = L.marker(\n",
       "                [35.820488, 139.960007],\n",
       "                {}\n",
       "            ).addTo(marker_cluster_8cba42893ed16ea535ba5741477d20d1);\n",
       "        \n",
       "    \n",
       "            marker_c564045d0c51f5babca896ce9fc15c95.bindTooltip(\n",
       "                `&lt;div&gt;\n",
       "                     10歳代\n",
       "                 &lt;/div&gt;`,\n",
       "                {&quot;sticky&quot;: true}\n",
       "            );\n",
       "        \n",
       "    \n",
       "            var marker_6e4955fbda8b5ca788acb9b00bc6f032 = L.marker(\n",
       "                [35.820488, 139.960007],\n",
       "                {}\n",
       "            ).addTo(marker_cluster_8cba42893ed16ea535ba5741477d20d1);\n",
       "        \n",
       "    \n",
       "            marker_6e4955fbda8b5ca788acb9b00bc6f032.bindTooltip(\n",
       "                `&lt;div&gt;\n",
       "                     30歳代\n",
       "                 &lt;/div&gt;`,\n",
       "                {&quot;sticky&quot;: true}\n",
       "            );\n",
       "        \n",
       "    \n",
       "            var marker_39bfb3166443bee50b26aa0d2e18506c = L.marker(\n",
       "                [35.834564, 139.943588],\n",
       "                {}\n",
       "            ).addTo(marker_cluster_8cba42893ed16ea535ba5741477d20d1);\n",
       "        \n",
       "    \n",
       "            marker_39bfb3166443bee50b26aa0d2e18506c.bindTooltip(\n",
       "                `&lt;div&gt;\n",
       "                     65-69歳\n",
       "                 &lt;/div&gt;`,\n",
       "                {&quot;sticky&quot;: true}\n",
       "            );\n",
       "        \n",
       "    \n",
       "            var marker_bc8089cda58df09f3758821a79412a07 = L.marker(\n",
       "                [35.830315, 139.951508],\n",
       "                {}\n",
       "            ).addTo(marker_cluster_8cba42893ed16ea535ba5741477d20d1);\n",
       "        \n",
       "    \n",
       "            marker_bc8089cda58df09f3758821a79412a07.bindTooltip(\n",
       "                `&lt;div&gt;\n",
       "                     10歳代\n",
       "                 &lt;/div&gt;`,\n",
       "                {&quot;sticky&quot;: true}\n",
       "            );\n",
       "        \n",
       "    \n",
       "            var marker_163abc0915b1cce828e76dccc4d86ded = L.marker(\n",
       "                [35.864445, 139.986511],\n",
       "                {}\n",
       "            ).addTo(marker_cluster_8cba42893ed16ea535ba5741477d20d1);\n",
       "        \n",
       "    \n",
       "            marker_163abc0915b1cce828e76dccc4d86ded.bindTooltip(\n",
       "                `&lt;div&gt;\n",
       "                     20歳代\n",
       "                 &lt;/div&gt;`,\n",
       "                {&quot;sticky&quot;: true}\n",
       "            );\n",
       "        \n",
       "    \n",
       "            var marker_b64808062e66c221c9462083e3dbcf9e = L.marker(\n",
       "                [35.864445, 139.986511],\n",
       "                {}\n",
       "            ).addTo(marker_cluster_8cba42893ed16ea535ba5741477d20d1);\n",
       "        \n",
       "    \n",
       "            marker_b64808062e66c221c9462083e3dbcf9e.bindTooltip(\n",
       "                `&lt;div&gt;\n",
       "                     20歳代\n",
       "                 &lt;/div&gt;`,\n",
       "                {&quot;sticky&quot;: true}\n",
       "            );\n",
       "        \n",
       "    \n",
       "            var marker_bca0f4f52c19f433d35920b19b33be4d = L.marker(\n",
       "                [35.874477, 139.985413],\n",
       "                {}\n",
       "            ).addTo(marker_cluster_8cba42893ed16ea535ba5741477d20d1);\n",
       "        \n",
       "    \n",
       "            marker_bca0f4f52c19f433d35920b19b33be4d.bindTooltip(\n",
       "                `&lt;div&gt;\n",
       "                     20歳代\n",
       "                 &lt;/div&gt;`,\n",
       "                {&quot;sticky&quot;: true}\n",
       "            );\n",
       "        \n",
       "    \n",
       "            var marker_476b78c0582edfef223e6f6033ce1df7 = L.marker(\n",
       "                [35.872643, 139.989914],\n",
       "                {}\n",
       "            ).addTo(marker_cluster_8cba42893ed16ea535ba5741477d20d1);\n",
       "        \n",
       "    \n",
       "            marker_476b78c0582edfef223e6f6033ce1df7.bindTooltip(\n",
       "                `&lt;div&gt;\n",
       "                     20歳代\n",
       "                 &lt;/div&gt;`,\n",
       "                {&quot;sticky&quot;: true}\n",
       "            );\n",
       "        \n",
       "    \n",
       "            var marker_7c9f13f80846ed39a27fb3776423aca5 = L.marker(\n",
       "                [35.872192, 139.987793],\n",
       "                {}\n",
       "            ).addTo(marker_cluster_8cba42893ed16ea535ba5741477d20d1);\n",
       "        \n",
       "    \n",
       "            marker_7c9f13f80846ed39a27fb3776423aca5.bindTooltip(\n",
       "                `&lt;div&gt;\n",
       "                     10歳代\n",
       "                 &lt;/div&gt;`,\n",
       "                {&quot;sticky&quot;: true}\n",
       "            );\n",
       "        \n",
       "    \n",
       "            var marker_a2c027190fe306af9f8960d14dcbe1f7 = L.marker(\n",
       "                [35.887501, 139.985229],\n",
       "                {}\n",
       "            ).addTo(marker_cluster_8cba42893ed16ea535ba5741477d20d1);\n",
       "        \n",
       "    \n",
       "            marker_a2c027190fe306af9f8960d14dcbe1f7.bindTooltip(\n",
       "                `&lt;div&gt;\n",
       "                     20歳代\n",
       "                 &lt;/div&gt;`,\n",
       "                {&quot;sticky&quot;: true}\n",
       "            );\n",
       "        \n",
       "    \n",
       "            var marker_ff5d8b69673d4877b958181e62029ab6 = L.marker(\n",
       "                [35.88113, 139.98645],\n",
       "                {}\n",
       "            ).addTo(marker_cluster_8cba42893ed16ea535ba5741477d20d1);\n",
       "        \n",
       "    \n",
       "            marker_ff5d8b69673d4877b958181e62029ab6.bindTooltip(\n",
       "                `&lt;div&gt;\n",
       "                     40歳代\n",
       "                 &lt;/div&gt;`,\n",
       "                {&quot;sticky&quot;: true}\n",
       "            );\n",
       "        \n",
       "    \n",
       "            var marker_34fc24a992f74b2d7f4e2801c4f56b64 = L.marker(\n",
       "                [35.88113, 139.98645],\n",
       "                {}\n",
       "            ).addTo(marker_cluster_8cba42893ed16ea535ba5741477d20d1);\n",
       "        \n",
       "    \n",
       "            marker_34fc24a992f74b2d7f4e2801c4f56b64.bindTooltip(\n",
       "                `&lt;div&gt;\n",
       "                     10歳代\n",
       "                 &lt;/div&gt;`,\n",
       "                {&quot;sticky&quot;: true}\n",
       "            );\n",
       "        \n",
       "    \n",
       "            var marker_afbd8c6d9b09d1e942d4845744cbf5ab = L.marker(\n",
       "                [35.88113, 139.98645],\n",
       "                {}\n",
       "            ).addTo(marker_cluster_8cba42893ed16ea535ba5741477d20d1);\n",
       "        \n",
       "    \n",
       "            marker_afbd8c6d9b09d1e942d4845744cbf5ab.bindTooltip(\n",
       "                `&lt;div&gt;\n",
       "                     10歳代\n",
       "                 &lt;/div&gt;`,\n",
       "                {&quot;sticky&quot;: true}\n",
       "            );\n",
       "        \n",
       "    \n",
       "            var marker_c1988ebce9ce633b533598feebc3079c = L.marker(\n",
       "                [35.88113, 139.98645],\n",
       "                {}\n",
       "            ).addTo(marker_cluster_8cba42893ed16ea535ba5741477d20d1);\n",
       "        \n",
       "    \n",
       "            marker_c1988ebce9ce633b533598feebc3079c.bindTooltip(\n",
       "                `&lt;div&gt;\n",
       "                     30歳代\n",
       "                 &lt;/div&gt;`,\n",
       "                {&quot;sticky&quot;: true}\n",
       "            );\n",
       "        \n",
       "    \n",
       "            var marker_fc904906b5728511651a71f7a19079e3 = L.marker(\n",
       "                [35.88113, 139.98645],\n",
       "                {}\n",
       "            ).addTo(marker_cluster_8cba42893ed16ea535ba5741477d20d1);\n",
       "        \n",
       "    \n",
       "            marker_fc904906b5728511651a71f7a19079e3.bindTooltip(\n",
       "                `&lt;div&gt;\n",
       "                     10歳代\n",
       "                 &lt;/div&gt;`,\n",
       "                {&quot;sticky&quot;: true}\n",
       "            );\n",
       "        \n",
       "    \n",
       "            var marker_3979d844048930e4f01fa4cc49efd804 = L.marker(\n",
       "                [35.88113, 139.98645],\n",
       "                {}\n",
       "            ).addTo(marker_cluster_8cba42893ed16ea535ba5741477d20d1);\n",
       "        \n",
       "    \n",
       "            marker_3979d844048930e4f01fa4cc49efd804.bindTooltip(\n",
       "                `&lt;div&gt;\n",
       "                     10歳代\n",
       "                 &lt;/div&gt;`,\n",
       "                {&quot;sticky&quot;: true}\n",
       "            );\n",
       "        \n",
       "    \n",
       "            var marker_06074dbf9701b5b9d79275bbad6c77df = L.marker(\n",
       "                [35.88113, 139.98645],\n",
       "                {}\n",
       "            ).addTo(marker_cluster_8cba42893ed16ea535ba5741477d20d1);\n",
       "        \n",
       "    \n",
       "            marker_06074dbf9701b5b9d79275bbad6c77df.bindTooltip(\n",
       "                `&lt;div&gt;\n",
       "                     20歳代\n",
       "                 &lt;/div&gt;`,\n",
       "                {&quot;sticky&quot;: true}\n",
       "            );\n",
       "        \n",
       "    \n",
       "            var marker_5027346d49858ca862342cbe6eb9c276 = L.marker(\n",
       "                [35.88113, 139.98645],\n",
       "                {}\n",
       "            ).addTo(marker_cluster_8cba42893ed16ea535ba5741477d20d1);\n",
       "        \n",
       "    \n",
       "            marker_5027346d49858ca862342cbe6eb9c276.bindTooltip(\n",
       "                `&lt;div&gt;\n",
       "                     10歳代\n",
       "                 &lt;/div&gt;`,\n",
       "                {&quot;sticky&quot;: true}\n",
       "            );\n",
       "        \n",
       "    \n",
       "            var marker_5550a87135a1350d7f36a0e4bff4c66b = L.marker(\n",
       "                [35.88113, 139.98645],\n",
       "                {}\n",
       "            ).addTo(marker_cluster_8cba42893ed16ea535ba5741477d20d1);\n",
       "        \n",
       "    \n",
       "            marker_5550a87135a1350d7f36a0e4bff4c66b.bindTooltip(\n",
       "                `&lt;div&gt;\n",
       "                     10歳代\n",
       "                 &lt;/div&gt;`,\n",
       "                {&quot;sticky&quot;: true}\n",
       "            );\n",
       "        \n",
       "    \n",
       "            var marker_ffcd5c302577f8e7ca808c82747325f4 = L.marker(\n",
       "                [35.88113, 139.98645],\n",
       "                {}\n",
       "            ).addTo(marker_cluster_8cba42893ed16ea535ba5741477d20d1);\n",
       "        \n",
       "    \n",
       "            marker_ffcd5c302577f8e7ca808c82747325f4.bindTooltip(\n",
       "                `&lt;div&gt;\n",
       "                     20歳代\n",
       "                 &lt;/div&gt;`,\n",
       "                {&quot;sticky&quot;: true}\n",
       "            );\n",
       "        \n",
       "    \n",
       "            var marker_02278f949dd6bcd952bde9cb9efc65d7 = L.marker(\n",
       "                [35.88113, 139.98645],\n",
       "                {}\n",
       "            ).addTo(marker_cluster_8cba42893ed16ea535ba5741477d20d1);\n",
       "        \n",
       "    \n",
       "            marker_02278f949dd6bcd952bde9cb9efc65d7.bindTooltip(\n",
       "                `&lt;div&gt;\n",
       "                     50歳代\n",
       "                 &lt;/div&gt;`,\n",
       "                {&quot;sticky&quot;: true}\n",
       "            );\n",
       "        \n",
       "    \n",
       "            var marker_032f239e171ea0d390b65b18c2afbd14 = L.marker(\n",
       "                [35.88113, 139.98645],\n",
       "                {}\n",
       "            ).addTo(marker_cluster_8cba42893ed16ea535ba5741477d20d1);\n",
       "        \n",
       "    \n",
       "            marker_032f239e171ea0d390b65b18c2afbd14.bindTooltip(\n",
       "                `&lt;div&gt;\n",
       "                     10歳代\n",
       "                 &lt;/div&gt;`,\n",
       "                {&quot;sticky&quot;: true}\n",
       "            );\n",
       "        \n",
       "    \n",
       "            var marker_740502264864d10c48d60c61390dc3f3 = L.marker(\n",
       "                [35.88113, 139.98645],\n",
       "                {}\n",
       "            ).addTo(marker_cluster_8cba42893ed16ea535ba5741477d20d1);\n",
       "        \n",
       "    \n",
       "            marker_740502264864d10c48d60c61390dc3f3.bindTooltip(\n",
       "                `&lt;div&gt;\n",
       "                     50歳代\n",
       "                 &lt;/div&gt;`,\n",
       "                {&quot;sticky&quot;: true}\n",
       "            );\n",
       "        \n",
       "    \n",
       "            var marker_67efa649ee5c25be1fbd752a71d290dc = L.marker(\n",
       "                [35.88113, 139.98645],\n",
       "                {}\n",
       "            ).addTo(marker_cluster_8cba42893ed16ea535ba5741477d20d1);\n",
       "        \n",
       "    \n",
       "            marker_67efa649ee5c25be1fbd752a71d290dc.bindTooltip(\n",
       "                `&lt;div&gt;\n",
       "                     30歳代\n",
       "                 &lt;/div&gt;`,\n",
       "                {&quot;sticky&quot;: true}\n",
       "            );\n",
       "        \n",
       "    \n",
       "            var marker_1e539e5b69bd49d1dc30d7a555944431 = L.marker(\n",
       "                [35.88113, 139.98645],\n",
       "                {}\n",
       "            ).addTo(marker_cluster_8cba42893ed16ea535ba5741477d20d1);\n",
       "        \n",
       "    \n",
       "            marker_1e539e5b69bd49d1dc30d7a555944431.bindTooltip(\n",
       "                `&lt;div&gt;\n",
       "                     10歳代\n",
       "                 &lt;/div&gt;`,\n",
       "                {&quot;sticky&quot;: true}\n",
       "            );\n",
       "        \n",
       "    \n",
       "            var marker_2d25b47257a1824388121c9ce6399264 = L.marker(\n",
       "                [35.88113, 139.98645],\n",
       "                {}\n",
       "            ).addTo(marker_cluster_8cba42893ed16ea535ba5741477d20d1);\n",
       "        \n",
       "    \n",
       "            marker_2d25b47257a1824388121c9ce6399264.bindTooltip(\n",
       "                `&lt;div&gt;\n",
       "                     20歳代\n",
       "                 &lt;/div&gt;`,\n",
       "                {&quot;sticky&quot;: true}\n",
       "            );\n",
       "        \n",
       "    \n",
       "            var marker_8f6e2c7b709bacc9a4bc68b294aba2a1 = L.marker(\n",
       "                [35.88113, 139.98645],\n",
       "                {}\n",
       "            ).addTo(marker_cluster_8cba42893ed16ea535ba5741477d20d1);\n",
       "        \n",
       "    \n",
       "            marker_8f6e2c7b709bacc9a4bc68b294aba2a1.bindTooltip(\n",
       "                `&lt;div&gt;\n",
       "                     20歳代\n",
       "                 &lt;/div&gt;`,\n",
       "                {&quot;sticky&quot;: true}\n",
       "            );\n",
       "        \n",
       "    \n",
       "            var marker_8654f79da94427b035209c6ee2f25c8a = L.marker(\n",
       "                [35.88113, 139.98645],\n",
       "                {}\n",
       "            ).addTo(marker_cluster_8cba42893ed16ea535ba5741477d20d1);\n",
       "        \n",
       "    \n",
       "            marker_8654f79da94427b035209c6ee2f25c8a.bindTooltip(\n",
       "                `&lt;div&gt;\n",
       "                     20歳代\n",
       "                 &lt;/div&gt;`,\n",
       "                {&quot;sticky&quot;: true}\n",
       "            );\n",
       "        \n",
       "    \n",
       "            var marker_ad6e76813a48c9aeafa07b931d05dc18 = L.marker(\n",
       "                [35.88113, 139.98645],\n",
       "                {}\n",
       "            ).addTo(marker_cluster_8cba42893ed16ea535ba5741477d20d1);\n",
       "        \n",
       "    \n",
       "            marker_ad6e76813a48c9aeafa07b931d05dc18.bindTooltip(\n",
       "                `&lt;div&gt;\n",
       "                     10歳代\n",
       "                 &lt;/div&gt;`,\n",
       "                {&quot;sticky&quot;: true}\n",
       "            );\n",
       "        \n",
       "    \n",
       "            var marker_fcdc8547a783b162dc6955fbb59f4cc9 = L.marker(\n",
       "                [35.88113, 139.98645],\n",
       "                {}\n",
       "            ).addTo(marker_cluster_8cba42893ed16ea535ba5741477d20d1);\n",
       "        \n",
       "    \n",
       "            marker_fcdc8547a783b162dc6955fbb59f4cc9.bindTooltip(\n",
       "                `&lt;div&gt;\n",
       "                     70歳以上\n",
       "                 &lt;/div&gt;`,\n",
       "                {&quot;sticky&quot;: true}\n",
       "            );\n",
       "        \n",
       "    \n",
       "            var marker_a6f5f546bd4e09d81ae00f4c7cbadfac = L.marker(\n",
       "                [35.815441, 139.982468],\n",
       "                {}\n",
       "            ).addTo(marker_cluster_8cba42893ed16ea535ba5741477d20d1);\n",
       "        \n",
       "    \n",
       "            marker_a6f5f546bd4e09d81ae00f4c7cbadfac.bindTooltip(\n",
       "                `&lt;div&gt;\n",
       "                     10歳代\n",
       "                 &lt;/div&gt;`,\n",
       "                {&quot;sticky&quot;: true}\n",
       "            );\n",
       "        \n",
       "    \n",
       "            var marker_373ba964bb46677f13c538896bcc1c87 = L.marker(\n",
       "                [35.815441, 139.982468],\n",
       "                {}\n",
       "            ).addTo(marker_cluster_8cba42893ed16ea535ba5741477d20d1);\n",
       "        \n",
       "    \n",
       "            marker_373ba964bb46677f13c538896bcc1c87.bindTooltip(\n",
       "                `&lt;div&gt;\n",
       "                     10歳代\n",
       "                 &lt;/div&gt;`,\n",
       "                {&quot;sticky&quot;: true}\n",
       "            );\n",
       "        \n",
       "    \n",
       "            var marker_df0b5044f3386223f4ddc2f36ca3598b = L.marker(\n",
       "                [35.815441, 139.982468],\n",
       "                {}\n",
       "            ).addTo(marker_cluster_8cba42893ed16ea535ba5741477d20d1);\n",
       "        \n",
       "    \n",
       "            marker_df0b5044f3386223f4ddc2f36ca3598b.bindTooltip(\n",
       "                `&lt;div&gt;\n",
       "                     20歳代\n",
       "                 &lt;/div&gt;`,\n",
       "                {&quot;sticky&quot;: true}\n",
       "            );\n",
       "        \n",
       "    \n",
       "            var marker_1ae1f8b6c82d035c0ebecd6e211a95bf = L.marker(\n",
       "                [35.815441, 139.982468],\n",
       "                {}\n",
       "            ).addTo(marker_cluster_8cba42893ed16ea535ba5741477d20d1);\n",
       "        \n",
       "    \n",
       "            marker_1ae1f8b6c82d035c0ebecd6e211a95bf.bindTooltip(\n",
       "                `&lt;div&gt;\n",
       "                     10歳代\n",
       "                 &lt;/div&gt;`,\n",
       "                {&quot;sticky&quot;: true}\n",
       "            );\n",
       "        \n",
       "    \n",
       "            var marker_2776dd7ffb865999a28ef7174c900f6e = L.marker(\n",
       "                [35.815441, 139.982468],\n",
       "                {}\n",
       "            ).addTo(marker_cluster_8cba42893ed16ea535ba5741477d20d1);\n",
       "        \n",
       "    \n",
       "            marker_2776dd7ffb865999a28ef7174c900f6e.bindTooltip(\n",
       "                `&lt;div&gt;\n",
       "                     10歳代\n",
       "                 &lt;/div&gt;`,\n",
       "                {&quot;sticky&quot;: true}\n",
       "            );\n",
       "        \n",
       "    \n",
       "            var marker_6686b082e17c7a939948301308831303 = L.marker(\n",
       "                [35.815441, 139.982468],\n",
       "                {}\n",
       "            ).addTo(marker_cluster_8cba42893ed16ea535ba5741477d20d1);\n",
       "        \n",
       "    \n",
       "            marker_6686b082e17c7a939948301308831303.bindTooltip(\n",
       "                `&lt;div&gt;\n",
       "                     10歳代\n",
       "                 &lt;/div&gt;`,\n",
       "                {&quot;sticky&quot;: true}\n",
       "            );\n",
       "        \n",
       "    \n",
       "            var marker_7dbefe81a8085ef063bd5f100a31a609 = L.marker(\n",
       "                [35.815441, 139.982468],\n",
       "                {}\n",
       "            ).addTo(marker_cluster_8cba42893ed16ea535ba5741477d20d1);\n",
       "        \n",
       "    \n",
       "            marker_7dbefe81a8085ef063bd5f100a31a609.bindTooltip(\n",
       "                `&lt;div&gt;\n",
       "                     10歳代\n",
       "                 &lt;/div&gt;`,\n",
       "                {&quot;sticky&quot;: true}\n",
       "            );\n",
       "        \n",
       "    \n",
       "            var marker_6269718a216677073f2c699e43244d50 = L.marker(\n",
       "                [35.815441, 139.982468],\n",
       "                {}\n",
       "            ).addTo(marker_cluster_8cba42893ed16ea535ba5741477d20d1);\n",
       "        \n",
       "    \n",
       "            marker_6269718a216677073f2c699e43244d50.bindTooltip(\n",
       "                `&lt;div&gt;\n",
       "                     10歳代\n",
       "                 &lt;/div&gt;`,\n",
       "                {&quot;sticky&quot;: true}\n",
       "            );\n",
       "        \n",
       "    \n",
       "            var marker_ede03a55905f8c5d0712f05c815c7b5b = L.marker(\n",
       "                [35.822018, 139.983444],\n",
       "                {}\n",
       "            ).addTo(marker_cluster_8cba42893ed16ea535ba5741477d20d1);\n",
       "        \n",
       "    \n",
       "            marker_ede03a55905f8c5d0712f05c815c7b5b.bindTooltip(\n",
       "                `&lt;div&gt;\n",
       "                     10歳代\n",
       "                 &lt;/div&gt;`,\n",
       "                {&quot;sticky&quot;: true}\n",
       "            );\n",
       "        \n",
       "    \n",
       "            var marker_9d3a70ee754a0e0493bd4895bcd50901 = L.marker(\n",
       "                [35.822018, 139.983444],\n",
       "                {}\n",
       "            ).addTo(marker_cluster_8cba42893ed16ea535ba5741477d20d1);\n",
       "        \n",
       "    \n",
       "            marker_9d3a70ee754a0e0493bd4895bcd50901.bindTooltip(\n",
       "                `&lt;div&gt;\n",
       "                     10歳代\n",
       "                 &lt;/div&gt;`,\n",
       "                {&quot;sticky&quot;: true}\n",
       "            );\n",
       "        \n",
       "    \n",
       "            var marker_d14166c63379d8a0345cf31d4f41d033 = L.marker(\n",
       "                [35.830414, 139.981293],\n",
       "                {}\n",
       "            ).addTo(marker_cluster_8cba42893ed16ea535ba5741477d20d1);\n",
       "        \n",
       "    \n",
       "            marker_d14166c63379d8a0345cf31d4f41d033.bindTooltip(\n",
       "                `&lt;div&gt;\n",
       "                     70歳以上\n",
       "                 &lt;/div&gt;`,\n",
       "                {&quot;sticky&quot;: true}\n",
       "            );\n",
       "        \n",
       "    \n",
       "            var marker_c2a6591fab390e539e110abcfc559989 = L.marker(\n",
       "                [35.816387, 139.974075],\n",
       "                {}\n",
       "            ).addTo(marker_cluster_8cba42893ed16ea535ba5741477d20d1);\n",
       "        \n",
       "    \n",
       "            marker_c2a6591fab390e539e110abcfc559989.bindTooltip(\n",
       "                `&lt;div&gt;\n",
       "                     50歳代\n",
       "                 &lt;/div&gt;`,\n",
       "                {&quot;sticky&quot;: true}\n",
       "            );\n",
       "        \n",
       "    \n",
       "            var marker_9c73234c3eb2407a9a525a79bb4dafbd = L.marker(\n",
       "                [35.816387, 139.974075],\n",
       "                {}\n",
       "            ).addTo(marker_cluster_8cba42893ed16ea535ba5741477d20d1);\n",
       "        \n",
       "    \n",
       "            marker_9c73234c3eb2407a9a525a79bb4dafbd.bindTooltip(\n",
       "                `&lt;div&gt;\n",
       "                     10歳代\n",
       "                 &lt;/div&gt;`,\n",
       "                {&quot;sticky&quot;: true}\n",
       "            );\n",
       "        \n",
       "    \n",
       "            var marker_760b8433008414121cf560ccf5d10094 = L.marker(\n",
       "                [35.818909, 139.971741],\n",
       "                {}\n",
       "            ).addTo(marker_cluster_8cba42893ed16ea535ba5741477d20d1);\n",
       "        \n",
       "    \n",
       "            marker_760b8433008414121cf560ccf5d10094.bindTooltip(\n",
       "                `&lt;div&gt;\n",
       "                     30歳代\n",
       "                 &lt;/div&gt;`,\n",
       "                {&quot;sticky&quot;: true}\n",
       "            );\n",
       "        \n",
       "    \n",
       "            var marker_1904829b6b299eacfa202205b41a847f = L.marker(\n",
       "                [35.818909, 139.971741],\n",
       "                {}\n",
       "            ).addTo(marker_cluster_8cba42893ed16ea535ba5741477d20d1);\n",
       "        \n",
       "    \n",
       "            marker_1904829b6b299eacfa202205b41a847f.bindTooltip(\n",
       "                `&lt;div&gt;\n",
       "                     10歳代\n",
       "                 &lt;/div&gt;`,\n",
       "                {&quot;sticky&quot;: true}\n",
       "            );\n",
       "        \n",
       "    \n",
       "            var marker_7018f686c05cde72ae05b5bb06bda7d3 = L.marker(\n",
       "                [35.811157, 139.963562],\n",
       "                {}\n",
       "            ).addTo(marker_cluster_8cba42893ed16ea535ba5741477d20d1);\n",
       "        \n",
       "    \n",
       "            marker_7018f686c05cde72ae05b5bb06bda7d3.bindTooltip(\n",
       "                `&lt;div&gt;\n",
       "                     50歳代\n",
       "                 &lt;/div&gt;`,\n",
       "                {&quot;sticky&quot;: true}\n",
       "            );\n",
       "        \n",
       "    \n",
       "            var marker_7aabfe24e1803958c2e4d16e8704dd0b = L.marker(\n",
       "                [35.811157, 139.963562],\n",
       "                {}\n",
       "            ).addTo(marker_cluster_8cba42893ed16ea535ba5741477d20d1);\n",
       "        \n",
       "    \n",
       "            marker_7aabfe24e1803958c2e4d16e8704dd0b.bindTooltip(\n",
       "                `&lt;div&gt;\n",
       "                     10歳代\n",
       "                 &lt;/div&gt;`,\n",
       "                {&quot;sticky&quot;: true}\n",
       "            );\n",
       "        \n",
       "    \n",
       "            var marker_d39183f33490e3e876745bd2e521bfd8 = L.marker(\n",
       "                [35.839211, 139.968597],\n",
       "                {}\n",
       "            ).addTo(marker_cluster_8cba42893ed16ea535ba5741477d20d1);\n",
       "        \n",
       "    \n",
       "            marker_d39183f33490e3e876745bd2e521bfd8.bindTooltip(\n",
       "                `&lt;div&gt;\n",
       "                     10歳代\n",
       "                 &lt;/div&gt;`,\n",
       "                {&quot;sticky&quot;: true}\n",
       "            );\n",
       "        \n",
       "    \n",
       "            var marker_fb82603cecfb0a2b243daa093cea86d4 = L.marker(\n",
       "                [35.802795, 139.970001],\n",
       "                {}\n",
       "            ).addTo(marker_cluster_8cba42893ed16ea535ba5741477d20d1);\n",
       "        \n",
       "    \n",
       "            marker_fb82603cecfb0a2b243daa093cea86d4.bindTooltip(\n",
       "                `&lt;div&gt;\n",
       "                     20歳代\n",
       "                 &lt;/div&gt;`,\n",
       "                {&quot;sticky&quot;: true}\n",
       "            );\n",
       "        \n",
       "    \n",
       "            var marker_f1f37543e08e61ff1cc7a3d1105861c4 = L.marker(\n",
       "                [35.802795, 139.970001],\n",
       "                {}\n",
       "            ).addTo(marker_cluster_8cba42893ed16ea535ba5741477d20d1);\n",
       "        \n",
       "    \n",
       "            marker_f1f37543e08e61ff1cc7a3d1105861c4.bindTooltip(\n",
       "                `&lt;div&gt;\n",
       "                     20歳代\n",
       "                 &lt;/div&gt;`,\n",
       "                {&quot;sticky&quot;: true}\n",
       "            );\n",
       "        \n",
       "    \n",
       "            var marker_f080b0f19537beedab1f185332621294 = L.marker(\n",
       "                [35.805508, 139.977905],\n",
       "                {}\n",
       "            ).addTo(marker_cluster_8cba42893ed16ea535ba5741477d20d1);\n",
       "        \n",
       "    \n",
       "            marker_f080b0f19537beedab1f185332621294.bindTooltip(\n",
       "                `&lt;div&gt;\n",
       "                     10歳代\n",
       "                 &lt;/div&gt;`,\n",
       "                {&quot;sticky&quot;: true}\n",
       "            );\n",
       "        \n",
       "    \n",
       "            var marker_addfd1fc3b789587ad6c2319d74c1d4e = L.marker(\n",
       "                [35.807434, 139.981033],\n",
       "                {}\n",
       "            ).addTo(marker_cluster_8cba42893ed16ea535ba5741477d20d1);\n",
       "        \n",
       "    \n",
       "            marker_addfd1fc3b789587ad6c2319d74c1d4e.bindTooltip(\n",
       "                `&lt;div&gt;\n",
       "                     10歳代\n",
       "                 &lt;/div&gt;`,\n",
       "                {&quot;sticky&quot;: true}\n",
       "            );\n",
       "        \n",
       "    \n",
       "            var marker_f056a6095fbc26cedc9bb679ddd7badc = L.marker(\n",
       "                [35.814934, 139.962723],\n",
       "                {}\n",
       "            ).addTo(marker_cluster_8cba42893ed16ea535ba5741477d20d1);\n",
       "        \n",
       "    \n",
       "            marker_f056a6095fbc26cedc9bb679ddd7badc.bindTooltip(\n",
       "                `&lt;div&gt;\n",
       "                     10歳代\n",
       "                 &lt;/div&gt;`,\n",
       "                {&quot;sticky&quot;: true}\n",
       "            );\n",
       "        \n",
       "    \n",
       "            var marker_11032d0cdfb6801488be54dc959d647e = L.marker(\n",
       "                [35.813534, 139.957855],\n",
       "                {}\n",
       "            ).addTo(marker_cluster_8cba42893ed16ea535ba5741477d20d1);\n",
       "        \n",
       "    \n",
       "            marker_11032d0cdfb6801488be54dc959d647e.bindTooltip(\n",
       "                `&lt;div&gt;\n",
       "                     70歳以上\n",
       "                 &lt;/div&gt;`,\n",
       "                {&quot;sticky&quot;: true}\n",
       "            );\n",
       "        \n",
       "    \n",
       "            var marker_1ad78f2861283f17ffdbd072d3f15781 = L.marker(\n",
       "                [35.845783, 139.953476],\n",
       "                {}\n",
       "            ).addTo(marker_cluster_8cba42893ed16ea535ba5741477d20d1);\n",
       "        \n",
       "    \n",
       "            marker_1ad78f2861283f17ffdbd072d3f15781.bindTooltip(\n",
       "                `&lt;div&gt;\n",
       "                     10歳代\n",
       "                 &lt;/div&gt;`,\n",
       "                {&quot;sticky&quot;: true}\n",
       "            );\n",
       "        \n",
       "    \n",
       "            var marker_9981c45e4ead29b026625e85651dc52e = L.marker(\n",
       "                [35.845783, 139.953476],\n",
       "                {}\n",
       "            ).addTo(marker_cluster_8cba42893ed16ea535ba5741477d20d1);\n",
       "        \n",
       "    \n",
       "            marker_9981c45e4ead29b026625e85651dc52e.bindTooltip(\n",
       "                `&lt;div&gt;\n",
       "                     20歳代\n",
       "                 &lt;/div&gt;`,\n",
       "                {&quot;sticky&quot;: true}\n",
       "            );\n",
       "        \n",
       "    \n",
       "            var marker_30f50b116eda1d4dc3a1fa5b3831ba88 = L.marker(\n",
       "                [35.845783, 139.953476],\n",
       "                {}\n",
       "            ).addTo(marker_cluster_8cba42893ed16ea535ba5741477d20d1);\n",
       "        \n",
       "    \n",
       "            marker_30f50b116eda1d4dc3a1fa5b3831ba88.bindTooltip(\n",
       "                `&lt;div&gt;\n",
       "                     20歳代\n",
       "                 &lt;/div&gt;`,\n",
       "                {&quot;sticky&quot;: true}\n",
       "            );\n",
       "        \n",
       "    \n",
       "            var marker_788efed73d0012db22e322f6e1ed5e85 = L.marker(\n",
       "                [35.845783, 139.953476],\n",
       "                {}\n",
       "            ).addTo(marker_cluster_8cba42893ed16ea535ba5741477d20d1);\n",
       "        \n",
       "    \n",
       "            marker_788efed73d0012db22e322f6e1ed5e85.bindTooltip(\n",
       "                `&lt;div&gt;\n",
       "                     20歳代\n",
       "                 &lt;/div&gt;`,\n",
       "                {&quot;sticky&quot;: true}\n",
       "            );\n",
       "        \n",
       "    \n",
       "            var marker_011b7fcebad7f57ffe55c8da2f844a8f = L.marker(\n",
       "                [35.845783, 139.953476],\n",
       "                {}\n",
       "            ).addTo(marker_cluster_8cba42893ed16ea535ba5741477d20d1);\n",
       "        \n",
       "    \n",
       "            marker_011b7fcebad7f57ffe55c8da2f844a8f.bindTooltip(\n",
       "                `&lt;div&gt;\n",
       "                     20歳代\n",
       "                 &lt;/div&gt;`,\n",
       "                {&quot;sticky&quot;: true}\n",
       "            );\n",
       "        \n",
       "    \n",
       "            var marker_4bf3944b689c4fe22798e070c31141d7 = L.marker(\n",
       "                [35.845783, 139.953476],\n",
       "                {}\n",
       "            ).addTo(marker_cluster_8cba42893ed16ea535ba5741477d20d1);\n",
       "        \n",
       "    \n",
       "            marker_4bf3944b689c4fe22798e070c31141d7.bindTooltip(\n",
       "                `&lt;div&gt;\n",
       "                     20歳代\n",
       "                 &lt;/div&gt;`,\n",
       "                {&quot;sticky&quot;: true}\n",
       "            );\n",
       "        \n",
       "    \n",
       "            var marker_970080b6e5154cd3f01ed5524681dfed = L.marker(\n",
       "                [35.845783, 139.953476],\n",
       "                {}\n",
       "            ).addTo(marker_cluster_8cba42893ed16ea535ba5741477d20d1);\n",
       "        \n",
       "    \n",
       "            marker_970080b6e5154cd3f01ed5524681dfed.bindTooltip(\n",
       "                `&lt;div&gt;\n",
       "                     10歳代\n",
       "                 &lt;/div&gt;`,\n",
       "                {&quot;sticky&quot;: true}\n",
       "            );\n",
       "        \n",
       "    \n",
       "            var marker_f591b7af973e69423dfca0911f57b7ec = L.marker(\n",
       "                [35.845783, 139.953476],\n",
       "                {}\n",
       "            ).addTo(marker_cluster_8cba42893ed16ea535ba5741477d20d1);\n",
       "        \n",
       "    \n",
       "            marker_f591b7af973e69423dfca0911f57b7ec.bindTooltip(\n",
       "                `&lt;div&gt;\n",
       "                     20歳代\n",
       "                 &lt;/div&gt;`,\n",
       "                {&quot;sticky&quot;: true}\n",
       "            );\n",
       "        \n",
       "    \n",
       "            var marker_69d0d73f73838a9297f2ae7a302b0099 = L.marker(\n",
       "                [35.847271, 139.955032],\n",
       "                {}\n",
       "            ).addTo(marker_cluster_8cba42893ed16ea535ba5741477d20d1);\n",
       "        \n",
       "    \n",
       "            marker_69d0d73f73838a9297f2ae7a302b0099.bindTooltip(\n",
       "                `&lt;div&gt;\n",
       "                     20歳代\n",
       "                 &lt;/div&gt;`,\n",
       "                {&quot;sticky&quot;: true}\n",
       "            );\n",
       "        \n",
       "    \n",
       "            var marker_e6d2418b7db4f5c80f2d13cf8d26b9d9 = L.marker(\n",
       "                [35.847271, 139.955032],\n",
       "                {}\n",
       "            ).addTo(marker_cluster_8cba42893ed16ea535ba5741477d20d1);\n",
       "        \n",
       "    \n",
       "            marker_e6d2418b7db4f5c80f2d13cf8d26b9d9.bindTooltip(\n",
       "                `&lt;div&gt;\n",
       "                     30歳代\n",
       "                 &lt;/div&gt;`,\n",
       "                {&quot;sticky&quot;: true}\n",
       "            );\n",
       "        \n",
       "    \n",
       "            var marker_35ae7f27fb95beace6d2b3f530b51cce = L.marker(\n",
       "                [35.847271, 139.955032],\n",
       "                {}\n",
       "            ).addTo(marker_cluster_8cba42893ed16ea535ba5741477d20d1);\n",
       "        \n",
       "    \n",
       "            marker_35ae7f27fb95beace6d2b3f530b51cce.bindTooltip(\n",
       "                `&lt;div&gt;\n",
       "                     40歳代\n",
       "                 &lt;/div&gt;`,\n",
       "                {&quot;sticky&quot;: true}\n",
       "            );\n",
       "        \n",
       "    \n",
       "            var marker_5e5a1e8e8ab2ef8c4564e6e50ffe2377 = L.marker(\n",
       "                [35.847271, 139.955032],\n",
       "                {}\n",
       "            ).addTo(marker_cluster_8cba42893ed16ea535ba5741477d20d1);\n",
       "        \n",
       "    \n",
       "            marker_5e5a1e8e8ab2ef8c4564e6e50ffe2377.bindTooltip(\n",
       "                `&lt;div&gt;\n",
       "                     50歳代\n",
       "                 &lt;/div&gt;`,\n",
       "                {&quot;sticky&quot;: true}\n",
       "            );\n",
       "        \n",
       "    \n",
       "            var marker_f54897087a1ff4e42eb459f07a473685 = L.marker(\n",
       "                [35.847271, 139.955032],\n",
       "                {}\n",
       "            ).addTo(marker_cluster_8cba42893ed16ea535ba5741477d20d1);\n",
       "        \n",
       "    \n",
       "            marker_f54897087a1ff4e42eb459f07a473685.bindTooltip(\n",
       "                `&lt;div&gt;\n",
       "                     20歳代\n",
       "                 &lt;/div&gt;`,\n",
       "                {&quot;sticky&quot;: true}\n",
       "            );\n",
       "        \n",
       "    \n",
       "            var marker_c5ff11685c6e2671f8bcb4eba9223978 = L.marker(\n",
       "                [35.847271, 139.955032],\n",
       "                {}\n",
       "            ).addTo(marker_cluster_8cba42893ed16ea535ba5741477d20d1);\n",
       "        \n",
       "    \n",
       "            marker_c5ff11685c6e2671f8bcb4eba9223978.bindTooltip(\n",
       "                `&lt;div&gt;\n",
       "                     10歳代\n",
       "                 &lt;/div&gt;`,\n",
       "                {&quot;sticky&quot;: true}\n",
       "            );\n",
       "        \n",
       "    \n",
       "            var marker_219722bb4577f56da6bc2b948bc936a0 = L.marker(\n",
       "                [35.847271, 139.955032],\n",
       "                {}\n",
       "            ).addTo(marker_cluster_8cba42893ed16ea535ba5741477d20d1);\n",
       "        \n",
       "    \n",
       "            marker_219722bb4577f56da6bc2b948bc936a0.bindTooltip(\n",
       "                `&lt;div&gt;\n",
       "                     20歳代\n",
       "                 &lt;/div&gt;`,\n",
       "                {&quot;sticky&quot;: true}\n",
       "            );\n",
       "        \n",
       "    \n",
       "            var marker_f4c556715c6260ab186ad554281cf490 = L.marker(\n",
       "                [35.851013, 139.960251],\n",
       "                {}\n",
       "            ).addTo(marker_cluster_8cba42893ed16ea535ba5741477d20d1);\n",
       "        \n",
       "    \n",
       "            marker_f4c556715c6260ab186ad554281cf490.bindTooltip(\n",
       "                `&lt;div&gt;\n",
       "                     20歳代\n",
       "                 &lt;/div&gt;`,\n",
       "                {&quot;sticky&quot;: true}\n",
       "            );\n",
       "        \n",
       "    \n",
       "            var marker_1101be143112ce621ac6524f6de06e93 = L.marker(\n",
       "                [35.851013, 139.960251],\n",
       "                {}\n",
       "            ).addTo(marker_cluster_8cba42893ed16ea535ba5741477d20d1);\n",
       "        \n",
       "    \n",
       "            marker_1101be143112ce621ac6524f6de06e93.bindTooltip(\n",
       "                `&lt;div&gt;\n",
       "                     10歳代\n",
       "                 &lt;/div&gt;`,\n",
       "                {&quot;sticky&quot;: true}\n",
       "            );\n",
       "        \n",
       "    \n",
       "            var marker_3d24cd375cc731fa676971167fbe3ddd = L.marker(\n",
       "                [35.851013, 139.960251],\n",
       "                {}\n",
       "            ).addTo(marker_cluster_8cba42893ed16ea535ba5741477d20d1);\n",
       "        \n",
       "    \n",
       "            marker_3d24cd375cc731fa676971167fbe3ddd.bindTooltip(\n",
       "                `&lt;div&gt;\n",
       "                     10歳代\n",
       "                 &lt;/div&gt;`,\n",
       "                {&quot;sticky&quot;: true}\n",
       "            );\n",
       "        \n",
       "    \n",
       "            var marker_2420d032b2b75605a1aa087df920d099 = L.marker(\n",
       "                [35.851013, 139.960251],\n",
       "                {}\n",
       "            ).addTo(marker_cluster_8cba42893ed16ea535ba5741477d20d1);\n",
       "        \n",
       "    \n",
       "            marker_2420d032b2b75605a1aa087df920d099.bindTooltip(\n",
       "                `&lt;div&gt;\n",
       "                     30歳代\n",
       "                 &lt;/div&gt;`,\n",
       "                {&quot;sticky&quot;: true}\n",
       "            );\n",
       "        \n",
       "    \n",
       "            var marker_06ae522b9945e1fa74fd50e63db4bb1b = L.marker(\n",
       "                [35.852959, 139.958679],\n",
       "                {}\n",
       "            ).addTo(marker_cluster_8cba42893ed16ea535ba5741477d20d1);\n",
       "        \n",
       "    \n",
       "            marker_06ae522b9945e1fa74fd50e63db4bb1b.bindTooltip(\n",
       "                `&lt;div&gt;\n",
       "                     70歳以上\n",
       "                 &lt;/div&gt;`,\n",
       "                {&quot;sticky&quot;: true}\n",
       "            );\n",
       "        \n",
       "    \n",
       "            var marker_dfb1c5d9f74b270e7f3665572607b630 = L.marker(\n",
       "                [35.830082, 139.97319],\n",
       "                {}\n",
       "            ).addTo(marker_cluster_8cba42893ed16ea535ba5741477d20d1);\n",
       "        \n",
       "    \n",
       "            marker_dfb1c5d9f74b270e7f3665572607b630.bindTooltip(\n",
       "                `&lt;div&gt;\n",
       "                     10歳代\n",
       "                 &lt;/div&gt;`,\n",
       "                {&quot;sticky&quot;: true}\n",
       "            );\n",
       "        \n",
       "    \n",
       "            var marker_9c8ee0db40a61736f85a6072757ea6c1 = L.marker(\n",
       "                [35.830082, 139.97319],\n",
       "                {}\n",
       "            ).addTo(marker_cluster_8cba42893ed16ea535ba5741477d20d1);\n",
       "        \n",
       "    \n",
       "            marker_9c8ee0db40a61736f85a6072757ea6c1.bindTooltip(\n",
       "                `&lt;div&gt;\n",
       "                     20歳代\n",
       "                 &lt;/div&gt;`,\n",
       "                {&quot;sticky&quot;: true}\n",
       "            );\n",
       "        \n",
       "    \n",
       "            var marker_45bd9bcc201f43e3832fdf3ba0823956 = L.marker(\n",
       "                [35.830082, 139.97319],\n",
       "                {}\n",
       "            ).addTo(marker_cluster_8cba42893ed16ea535ba5741477d20d1);\n",
       "        \n",
       "    \n",
       "            marker_45bd9bcc201f43e3832fdf3ba0823956.bindTooltip(\n",
       "                `&lt;div&gt;\n",
       "                     10歳代\n",
       "                 &lt;/div&gt;`,\n",
       "                {&quot;sticky&quot;: true}\n",
       "            );\n",
       "        \n",
       "    \n",
       "            var marker_df290ca311fe692b61c20cb23888a253 = L.marker(\n",
       "                [35.820541, 139.995834],\n",
       "                {}\n",
       "            ).addTo(marker_cluster_8cba42893ed16ea535ba5741477d20d1);\n",
       "        \n",
       "    \n",
       "            marker_df290ca311fe692b61c20cb23888a253.bindTooltip(\n",
       "                `&lt;div&gt;\n",
       "                     10歳代\n",
       "                 &lt;/div&gt;`,\n",
       "                {&quot;sticky&quot;: true}\n",
       "            );\n",
       "        \n",
       "    \n",
       "            var marker_fc1bc1a33bc09fff751a0bb8c0925c05 = L.marker(\n",
       "                [35.823658, 139.99144],\n",
       "                {}\n",
       "            ).addTo(marker_cluster_8cba42893ed16ea535ba5741477d20d1);\n",
       "        \n",
       "    \n",
       "            marker_fc1bc1a33bc09fff751a0bb8c0925c05.bindTooltip(\n",
       "                `&lt;div&gt;\n",
       "                     30歳代\n",
       "                 &lt;/div&gt;`,\n",
       "                {&quot;sticky&quot;: true}\n",
       "            );\n",
       "        \n",
       "    \n",
       "            var marker_7b9006c0f7fc24a2d693c911c3620ba8 = L.marker(\n",
       "                [35.850155, 140.00441],\n",
       "                {}\n",
       "            ).addTo(marker_cluster_8cba42893ed16ea535ba5741477d20d1);\n",
       "        \n",
       "    \n",
       "            marker_7b9006c0f7fc24a2d693c911c3620ba8.bindTooltip(\n",
       "                `&lt;div&gt;\n",
       "                     10歳代\n",
       "                 &lt;/div&gt;`,\n",
       "                {&quot;sticky&quot;: true}\n",
       "            );\n",
       "        \n",
       "    \n",
       "            var marker_2d5ae2db268afdddbe7d02fac97f9f35 = L.marker(\n",
       "                [35.850155, 140.00441],\n",
       "                {}\n",
       "            ).addTo(marker_cluster_8cba42893ed16ea535ba5741477d20d1);\n",
       "        \n",
       "    \n",
       "            marker_2d5ae2db268afdddbe7d02fac97f9f35.bindTooltip(\n",
       "                `&lt;div&gt;\n",
       "                     10歳代\n",
       "                 &lt;/div&gt;`,\n",
       "                {&quot;sticky&quot;: true}\n",
       "            );\n",
       "        \n",
       "    \n",
       "            var marker_bd1fff8e604faa63f663794713612547 = L.marker(\n",
       "                [35.833759, 140.011703],\n",
       "                {}\n",
       "            ).addTo(marker_cluster_8cba42893ed16ea535ba5741477d20d1);\n",
       "        \n",
       "    \n",
       "            marker_bd1fff8e604faa63f663794713612547.bindTooltip(\n",
       "                `&lt;div&gt;\n",
       "                     10歳代\n",
       "                 &lt;/div&gt;`,\n",
       "                {&quot;sticky&quot;: true}\n",
       "            );\n",
       "        \n",
       "    \n",
       "            var marker_46b5e973c0540e08c24bf23a2b7ad22b = L.marker(\n",
       "                [35.833759, 140.011703],\n",
       "                {}\n",
       "            ).addTo(marker_cluster_8cba42893ed16ea535ba5741477d20d1);\n",
       "        \n",
       "    \n",
       "            marker_46b5e973c0540e08c24bf23a2b7ad22b.bindTooltip(\n",
       "                `&lt;div&gt;\n",
       "                     10歳代\n",
       "                 &lt;/div&gt;`,\n",
       "                {&quot;sticky&quot;: true}\n",
       "            );\n",
       "        \n",
       "    \n",
       "            var marker_d5b69ff4f02a2206f05739d922e0c6eb = L.marker(\n",
       "                [35.833759, 140.011703],\n",
       "                {}\n",
       "            ).addTo(marker_cluster_8cba42893ed16ea535ba5741477d20d1);\n",
       "        \n",
       "    \n",
       "            marker_d5b69ff4f02a2206f05739d922e0c6eb.bindTooltip(\n",
       "                `&lt;div&gt;\n",
       "                     10歳代\n",
       "                 &lt;/div&gt;`,\n",
       "                {&quot;sticky&quot;: true}\n",
       "            );\n",
       "        \n",
       "    \n",
       "            var marker_c3e770cfb069dd5534a90204d3831fd8 = L.marker(\n",
       "                [35.833759, 140.011703],\n",
       "                {}\n",
       "            ).addTo(marker_cluster_8cba42893ed16ea535ba5741477d20d1);\n",
       "        \n",
       "    \n",
       "            marker_c3e770cfb069dd5534a90204d3831fd8.bindTooltip(\n",
       "                `&lt;div&gt;\n",
       "                     20歳代\n",
       "                 &lt;/div&gt;`,\n",
       "                {&quot;sticky&quot;: true}\n",
       "            );\n",
       "        \n",
       "    \n",
       "            var marker_742d457bd215bba109c0955b6a86b5f7 = L.marker(\n",
       "                [35.833759, 140.011703],\n",
       "                {}\n",
       "            ).addTo(marker_cluster_8cba42893ed16ea535ba5741477d20d1);\n",
       "        \n",
       "    \n",
       "            marker_742d457bd215bba109c0955b6a86b5f7.bindTooltip(\n",
       "                `&lt;div&gt;\n",
       "                     30歳代\n",
       "                 &lt;/div&gt;`,\n",
       "                {&quot;sticky&quot;: true}\n",
       "            );\n",
       "        \n",
       "    \n",
       "            var marker_c7820815d3b59618e18113b84409c062 = L.marker(\n",
       "                [35.833759, 140.011703],\n",
       "                {}\n",
       "            ).addTo(marker_cluster_8cba42893ed16ea535ba5741477d20d1);\n",
       "        \n",
       "    \n",
       "            marker_c7820815d3b59618e18113b84409c062.bindTooltip(\n",
       "                `&lt;div&gt;\n",
       "                     10歳代\n",
       "                 &lt;/div&gt;`,\n",
       "                {&quot;sticky&quot;: true}\n",
       "            );\n",
       "        \n",
       "    \n",
       "            var marker_89a36a8dea70bc81de0f94338955530a = L.marker(\n",
       "                [35.833759, 140.011703],\n",
       "                {}\n",
       "            ).addTo(marker_cluster_8cba42893ed16ea535ba5741477d20d1);\n",
       "        \n",
       "    \n",
       "            marker_89a36a8dea70bc81de0f94338955530a.bindTooltip(\n",
       "                `&lt;div&gt;\n",
       "                     10歳代\n",
       "                 &lt;/div&gt;`,\n",
       "                {&quot;sticky&quot;: true}\n",
       "            );\n",
       "        \n",
       "    \n",
       "            var marker_5b17d38a7dab6cdd7ee3c8afa8676b7d = L.marker(\n",
       "                [35.833759, 140.011703],\n",
       "                {}\n",
       "            ).addTo(marker_cluster_8cba42893ed16ea535ba5741477d20d1);\n",
       "        \n",
       "    \n",
       "            marker_5b17d38a7dab6cdd7ee3c8afa8676b7d.bindTooltip(\n",
       "                `&lt;div&gt;\n",
       "                     50歳代\n",
       "                 &lt;/div&gt;`,\n",
       "                {&quot;sticky&quot;: true}\n",
       "            );\n",
       "        \n",
       "    \n",
       "            var marker_38d00eb4d8b79780bdba7587ff414d04 = L.marker(\n",
       "                [35.833759, 140.011703],\n",
       "                {}\n",
       "            ).addTo(marker_cluster_8cba42893ed16ea535ba5741477d20d1);\n",
       "        \n",
       "    \n",
       "            marker_38d00eb4d8b79780bdba7587ff414d04.bindTooltip(\n",
       "                `&lt;div&gt;\n",
       "                     10歳代\n",
       "                 &lt;/div&gt;`,\n",
       "                {&quot;sticky&quot;: true}\n",
       "            );\n",
       "        \n",
       "    \n",
       "            var marker_d1c7faf63abcc20c42ba305af6659472 = L.marker(\n",
       "                [35.84325, 140.003662],\n",
       "                {}\n",
       "            ).addTo(marker_cluster_8cba42893ed16ea535ba5741477d20d1);\n",
       "        \n",
       "    \n",
       "            marker_d1c7faf63abcc20c42ba305af6659472.bindTooltip(\n",
       "                `&lt;div&gt;\n",
       "                     10歳代\n",
       "                 &lt;/div&gt;`,\n",
       "                {&quot;sticky&quot;: true}\n",
       "            );\n",
       "        \n",
       "    \n",
       "            var marker_b01eee4402c4c4698e8f0fa7cd2ff297 = L.marker(\n",
       "                [35.84325, 140.003662],\n",
       "                {}\n",
       "            ).addTo(marker_cluster_8cba42893ed16ea535ba5741477d20d1);\n",
       "        \n",
       "    \n",
       "            marker_b01eee4402c4c4698e8f0fa7cd2ff297.bindTooltip(\n",
       "                `&lt;div&gt;\n",
       "                     20歳代\n",
       "                 &lt;/div&gt;`,\n",
       "                {&quot;sticky&quot;: true}\n",
       "            );\n",
       "        \n",
       "    \n",
       "            var marker_f28798db5fcae5f03f08d0a257a48600 = L.marker(\n",
       "                [35.84325, 140.003662],\n",
       "                {}\n",
       "            ).addTo(marker_cluster_8cba42893ed16ea535ba5741477d20d1);\n",
       "        \n",
       "    \n",
       "            marker_f28798db5fcae5f03f08d0a257a48600.bindTooltip(\n",
       "                `&lt;div&gt;\n",
       "                     50歳代\n",
       "                 &lt;/div&gt;`,\n",
       "                {&quot;sticky&quot;: true}\n",
       "            );\n",
       "        \n",
       "    \n",
       "            var marker_1b0181551735d884647fba15a23e6a77 = L.marker(\n",
       "                [35.84325, 140.003662],\n",
       "                {}\n",
       "            ).addTo(marker_cluster_8cba42893ed16ea535ba5741477d20d1);\n",
       "        \n",
       "    \n",
       "            marker_1b0181551735d884647fba15a23e6a77.bindTooltip(\n",
       "                `&lt;div&gt;\n",
       "                     70歳以上\n",
       "                 &lt;/div&gt;`,\n",
       "                {&quot;sticky&quot;: true}\n",
       "            );\n",
       "        \n",
       "    \n",
       "            var marker_d1e1529dc7840a3a23016e765736c3a4 = L.marker(\n",
       "                [35.840942, 139.995621],\n",
       "                {}\n",
       "            ).addTo(marker_cluster_8cba42893ed16ea535ba5741477d20d1);\n",
       "        \n",
       "    \n",
       "            marker_d1e1529dc7840a3a23016e765736c3a4.bindTooltip(\n",
       "                `&lt;div&gt;\n",
       "                     10歳代\n",
       "                 &lt;/div&gt;`,\n",
       "                {&quot;sticky&quot;: true}\n",
       "            );\n",
       "        \n",
       "    \n",
       "            var marker_2c7bbecf64fbf1c0b07833ccedddf838 = L.marker(\n",
       "                [35.840942, 139.995621],\n",
       "                {}\n",
       "            ).addTo(marker_cluster_8cba42893ed16ea535ba5741477d20d1);\n",
       "        \n",
       "    \n",
       "            marker_2c7bbecf64fbf1c0b07833ccedddf838.bindTooltip(\n",
       "                `&lt;div&gt;\n",
       "                     20歳代\n",
       "                 &lt;/div&gt;`,\n",
       "                {&quot;sticky&quot;: true}\n",
       "            );\n",
       "        \n",
       "    \n",
       "            var marker_8721c115a19c60a2cbe19f34fcb8e88e = L.marker(\n",
       "                [35.844128, 140.018982],\n",
       "                {}\n",
       "            ).addTo(marker_cluster_8cba42893ed16ea535ba5741477d20d1);\n",
       "        \n",
       "    \n",
       "            marker_8721c115a19c60a2cbe19f34fcb8e88e.bindTooltip(\n",
       "                `&lt;div&gt;\n",
       "                     10歳代\n",
       "                 &lt;/div&gt;`,\n",
       "                {&quot;sticky&quot;: true}\n",
       "            );\n",
       "        \n",
       "    \n",
       "            var marker_ebe6859fcc5f9b73f893e4222822e367 = L.marker(\n",
       "                [35.848293, 139.98053],\n",
       "                {}\n",
       "            ).addTo(marker_cluster_8cba42893ed16ea535ba5741477d20d1);\n",
       "        \n",
       "    \n",
       "            marker_ebe6859fcc5f9b73f893e4222822e367.bindTooltip(\n",
       "                `&lt;div&gt;\n",
       "                     40歳代\n",
       "                 &lt;/div&gt;`,\n",
       "                {&quot;sticky&quot;: true}\n",
       "            );\n",
       "        \n",
       "    \n",
       "            var marker_b5b25dd06facfc493d0f6bbc3a28f8d6 = L.marker(\n",
       "                [35.839748, 139.961716],\n",
       "                {}\n",
       "            ).addTo(marker_cluster_8cba42893ed16ea535ba5741477d20d1);\n",
       "        \n",
       "    \n",
       "            marker_b5b25dd06facfc493d0f6bbc3a28f8d6.bindTooltip(\n",
       "                `&lt;div&gt;\n",
       "                     30歳代\n",
       "                 &lt;/div&gt;`,\n",
       "                {&quot;sticky&quot;: true}\n",
       "            );\n",
       "        \n",
       "    \n",
       "            var marker_291a87119a079c29a1b2f04793172068 = L.marker(\n",
       "                [35.838268, 139.963547],\n",
       "                {}\n",
       "            ).addTo(marker_cluster_8cba42893ed16ea535ba5741477d20d1);\n",
       "        \n",
       "    \n",
       "            marker_291a87119a079c29a1b2f04793172068.bindTooltip(\n",
       "                `&lt;div&gt;\n",
       "                     10歳代\n",
       "                 &lt;/div&gt;`,\n",
       "                {&quot;sticky&quot;: true}\n",
       "            );\n",
       "        \n",
       "    \n",
       "            var marker_9cde2070a8403dc260486a803525a9f1 = L.marker(\n",
       "                [35.838268, 139.963547],\n",
       "                {}\n",
       "            ).addTo(marker_cluster_8cba42893ed16ea535ba5741477d20d1);\n",
       "        \n",
       "    \n",
       "            marker_9cde2070a8403dc260486a803525a9f1.bindTooltip(\n",
       "                `&lt;div&gt;\n",
       "                     50歳代\n",
       "                 &lt;/div&gt;`,\n",
       "                {&quot;sticky&quot;: true}\n",
       "            );\n",
       "        \n",
       "    \n",
       "            var marker_187b5e087fee1bd094e9665845d84a86 = L.marker(\n",
       "                [35.838268, 139.963547],\n",
       "                {}\n",
       "            ).addTo(marker_cluster_8cba42893ed16ea535ba5741477d20d1);\n",
       "        \n",
       "    \n",
       "            marker_187b5e087fee1bd094e9665845d84a86.bindTooltip(\n",
       "                `&lt;div&gt;\n",
       "                     10歳代\n",
       "                 &lt;/div&gt;`,\n",
       "                {&quot;sticky&quot;: true}\n",
       "            );\n",
       "        \n",
       "    \n",
       "            var marker_ca1db86136f7a9fec8f87abb40c93f7f = L.marker(\n",
       "                [35.838268, 139.963547],\n",
       "                {}\n",
       "            ).addTo(marker_cluster_8cba42893ed16ea535ba5741477d20d1);\n",
       "        \n",
       "    \n",
       "            marker_ca1db86136f7a9fec8f87abb40c93f7f.bindTooltip(\n",
       "                `&lt;div&gt;\n",
       "                     10歳代\n",
       "                 &lt;/div&gt;`,\n",
       "                {&quot;sticky&quot;: true}\n",
       "            );\n",
       "        \n",
       "    \n",
       "            var marker_f73b6cbdc3cd8b7327bceab1a50237db = L.marker(\n",
       "                [35.838268, 139.963547],\n",
       "                {}\n",
       "            ).addTo(marker_cluster_8cba42893ed16ea535ba5741477d20d1);\n",
       "        \n",
       "    \n",
       "            marker_f73b6cbdc3cd8b7327bceab1a50237db.bindTooltip(\n",
       "                `&lt;div&gt;\n",
       "                     10歳未満\n",
       "                 &lt;/div&gt;`,\n",
       "                {&quot;sticky&quot;: true}\n",
       "            );\n",
       "        \n",
       "    \n",
       "            var marker_4a6e3f7388eb651ec01db3c3fdd4b6b9 = L.marker(\n",
       "                [35.840786, 139.966721],\n",
       "                {}\n",
       "            ).addTo(marker_cluster_8cba42893ed16ea535ba5741477d20d1);\n",
       "        \n",
       "    \n",
       "            marker_4a6e3f7388eb651ec01db3c3fdd4b6b9.bindTooltip(\n",
       "                `&lt;div&gt;\n",
       "                     10歳代\n",
       "                 &lt;/div&gt;`,\n",
       "                {&quot;sticky&quot;: true}\n",
       "            );\n",
       "        \n",
       "    \n",
       "            var marker_f5b9b117c1432ec45099fd0022ca8b34 = L.marker(\n",
       "                [35.840786, 139.966721],\n",
       "                {}\n",
       "            ).addTo(marker_cluster_8cba42893ed16ea535ba5741477d20d1);\n",
       "        \n",
       "    \n",
       "            marker_f5b9b117c1432ec45099fd0022ca8b34.bindTooltip(\n",
       "                `&lt;div&gt;\n",
       "                     10歳代\n",
       "                 &lt;/div&gt;`,\n",
       "                {&quot;sticky&quot;: true}\n",
       "            );\n",
       "        \n",
       "    \n",
       "            var marker_70ec0f91a60b79cc457128394f44124e = L.marker(\n",
       "                [35.843285, 139.981064],\n",
       "                {}\n",
       "            ).addTo(marker_cluster_8cba42893ed16ea535ba5741477d20d1);\n",
       "        \n",
       "    \n",
       "            marker_70ec0f91a60b79cc457128394f44124e.bindTooltip(\n",
       "                `&lt;div&gt;\n",
       "                     10歳代\n",
       "                 &lt;/div&gt;`,\n",
       "                {&quot;sticky&quot;: true}\n",
       "            );\n",
       "        \n",
       "    \n",
       "            var marker_b9dcc7a5406c168f88bc09136060f2aa = L.marker(\n",
       "                [35.843285, 139.981064],\n",
       "                {}\n",
       "            ).addTo(marker_cluster_8cba42893ed16ea535ba5741477d20d1);\n",
       "        \n",
       "    \n",
       "            marker_b9dcc7a5406c168f88bc09136060f2aa.bindTooltip(\n",
       "                `&lt;div&gt;\n",
       "                     20歳代\n",
       "                 &lt;/div&gt;`,\n",
       "                {&quot;sticky&quot;: true}\n",
       "            );\n",
       "        \n",
       "    \n",
       "            var marker_3c30bbbb845c10f14e57d5b1fff0a8e9 = L.marker(\n",
       "                [35.845604, 139.976089],\n",
       "                {}\n",
       "            ).addTo(marker_cluster_8cba42893ed16ea535ba5741477d20d1);\n",
       "        \n",
       "    \n",
       "            marker_3c30bbbb845c10f14e57d5b1fff0a8e9.bindTooltip(\n",
       "                `&lt;div&gt;\n",
       "                     10歳代\n",
       "                 &lt;/div&gt;`,\n",
       "                {&quot;sticky&quot;: true}\n",
       "            );\n",
       "        \n",
       "    \n",
       "            var marker_dcb6b7a43a3e0ebc8cceae3f7d76d72d = L.marker(\n",
       "                [35.839211, 139.968597],\n",
       "                {}\n",
       "            ).addTo(marker_cluster_8cba42893ed16ea535ba5741477d20d1);\n",
       "        \n",
       "    \n",
       "            marker_dcb6b7a43a3e0ebc8cceae3f7d76d72d.bindTooltip(\n",
       "                `&lt;div&gt;\n",
       "                     60-64歳\n",
       "                 &lt;/div&gt;`,\n",
       "                {&quot;sticky&quot;: true}\n",
       "            );\n",
       "        \n",
       "    \n",
       "            var marker_2ba83297126e07797983ff468979d066 = L.marker(\n",
       "                [35.839211, 139.968597],\n",
       "                {}\n",
       "            ).addTo(marker_cluster_8cba42893ed16ea535ba5741477d20d1);\n",
       "        \n",
       "    \n",
       "            marker_2ba83297126e07797983ff468979d066.bindTooltip(\n",
       "                `&lt;div&gt;\n",
       "                     10歳代\n",
       "                 &lt;/div&gt;`,\n",
       "                {&quot;sticky&quot;: true}\n",
       "            );\n",
       "        \n",
       "    \n",
       "            var marker_f71a6c829f31582532e1d420d9cba515 = L.marker(\n",
       "                [35.839211, 139.968597],\n",
       "                {}\n",
       "            ).addTo(marker_cluster_8cba42893ed16ea535ba5741477d20d1);\n",
       "        \n",
       "    \n",
       "            marker_f71a6c829f31582532e1d420d9cba515.bindTooltip(\n",
       "                `&lt;div&gt;\n",
       "                     10歳代\n",
       "                 &lt;/div&gt;`,\n",
       "                {&quot;sticky&quot;: true}\n",
       "            );\n",
       "        \n",
       "    \n",
       "            var marker_9652fc9bde3947643e9b600cee47aa91 = L.marker(\n",
       "                [35.839211, 139.968597],\n",
       "                {}\n",
       "            ).addTo(marker_cluster_8cba42893ed16ea535ba5741477d20d1);\n",
       "        \n",
       "    \n",
       "            marker_9652fc9bde3947643e9b600cee47aa91.bindTooltip(\n",
       "                `&lt;div&gt;\n",
       "                     10歳代\n",
       "                 &lt;/div&gt;`,\n",
       "                {&quot;sticky&quot;: true}\n",
       "            );\n",
       "        \n",
       "    \n",
       "            var marker_ec2dcb8a353eae345b9013491f4d3ba5 = L.marker(\n",
       "                [35.839211, 139.968597],\n",
       "                {}\n",
       "            ).addTo(marker_cluster_8cba42893ed16ea535ba5741477d20d1);\n",
       "        \n",
       "    \n",
       "            marker_ec2dcb8a353eae345b9013491f4d3ba5.bindTooltip(\n",
       "                `&lt;div&gt;\n",
       "                     10歳代\n",
       "                 &lt;/div&gt;`,\n",
       "                {&quot;sticky&quot;: true}\n",
       "            );\n",
       "        \n",
       "    \n",
       "            var marker_40e03019e713b2123492329ad91572a7 = L.marker(\n",
       "                [35.843964, 139.976852],\n",
       "                {}\n",
       "            ).addTo(marker_cluster_8cba42893ed16ea535ba5741477d20d1);\n",
       "        \n",
       "    \n",
       "            marker_40e03019e713b2123492329ad91572a7.bindTooltip(\n",
       "                `&lt;div&gt;\n",
       "                     40歳代\n",
       "                 &lt;/div&gt;`,\n",
       "                {&quot;sticky&quot;: true}\n",
       "            );\n",
       "        \n",
       "    \n",
       "            var marker_3e823c81fe464e68cc9250943f96c823 = L.marker(\n",
       "                [35.863686, 139.966171],\n",
       "                {}\n",
       "            ).addTo(marker_cluster_8cba42893ed16ea535ba5741477d20d1);\n",
       "        \n",
       "    \n",
       "            marker_3e823c81fe464e68cc9250943f96c823.bindTooltip(\n",
       "                `&lt;div&gt;\n",
       "                     10歳代\n",
       "                 &lt;/div&gt;`,\n",
       "                {&quot;sticky&quot;: true}\n",
       "            );\n",
       "        \n",
       "    \n",
       "            var marker_6b4dd52c8617b5da8f2de24486c32960 = L.marker(\n",
       "                [35.866077, 139.967041],\n",
       "                {}\n",
       "            ).addTo(marker_cluster_8cba42893ed16ea535ba5741477d20d1);\n",
       "        \n",
       "    \n",
       "            marker_6b4dd52c8617b5da8f2de24486c32960.bindTooltip(\n",
       "                `&lt;div&gt;\n",
       "                     30歳代\n",
       "                 &lt;/div&gt;`,\n",
       "                {&quot;sticky&quot;: true}\n",
       "            );\n",
       "        \n",
       "    \n",
       "            var marker_77f4f13a1490934293f284a0f86173c8 = L.marker(\n",
       "                [35.867088, 139.963196],\n",
       "                {}\n",
       "            ).addTo(marker_cluster_8cba42893ed16ea535ba5741477d20d1);\n",
       "        \n",
       "    \n",
       "            marker_77f4f13a1490934293f284a0f86173c8.bindTooltip(\n",
       "                `&lt;div&gt;\n",
       "                     20歳代\n",
       "                 &lt;/div&gt;`,\n",
       "                {&quot;sticky&quot;: true}\n",
       "            );\n",
       "        \n",
       "    \n",
       "            var marker_f97fe35e67708ec63d331d1c9538f4af = L.marker(\n",
       "                [35.867088, 139.963196],\n",
       "                {}\n",
       "            ).addTo(marker_cluster_8cba42893ed16ea535ba5741477d20d1);\n",
       "        \n",
       "    \n",
       "            marker_f97fe35e67708ec63d331d1c9538f4af.bindTooltip(\n",
       "                `&lt;div&gt;\n",
       "                     20歳代\n",
       "                 &lt;/div&gt;`,\n",
       "                {&quot;sticky&quot;: true}\n",
       "            );\n",
       "        \n",
       "    \n",
       "            var marker_dd12c966caa198b83c13bc2f749220d4 = L.marker(\n",
       "                [35.864574, 139.962662],\n",
       "                {}\n",
       "            ).addTo(marker_cluster_8cba42893ed16ea535ba5741477d20d1);\n",
       "        \n",
       "    \n",
       "            marker_dd12c966caa198b83c13bc2f749220d4.bindTooltip(\n",
       "                `&lt;div&gt;\n",
       "                     20歳代\n",
       "                 &lt;/div&gt;`,\n",
       "                {&quot;sticky&quot;: true}\n",
       "            );\n",
       "        \n",
       "    \n",
       "            var marker_ce370ebf6613a2267304a8820a3eb2b9 = L.marker(\n",
       "                [35.865929, 139.971985],\n",
       "                {}\n",
       "            ).addTo(marker_cluster_8cba42893ed16ea535ba5741477d20d1);\n",
       "        \n",
       "    \n",
       "            marker_ce370ebf6613a2267304a8820a3eb2b9.bindTooltip(\n",
       "                `&lt;div&gt;\n",
       "                     10歳代\n",
       "                 &lt;/div&gt;`,\n",
       "                {&quot;sticky&quot;: true}\n",
       "            );\n",
       "        \n",
       "    \n",
       "            var marker_412992b20ff6dcf349084c0c1c708651 = L.marker(\n",
       "                [35.865929, 139.971985],\n",
       "                {}\n",
       "            ).addTo(marker_cluster_8cba42893ed16ea535ba5741477d20d1);\n",
       "        \n",
       "    \n",
       "            marker_412992b20ff6dcf349084c0c1c708651.bindTooltip(\n",
       "                `&lt;div&gt;\n",
       "                     10歳代\n",
       "                 &lt;/div&gt;`,\n",
       "                {&quot;sticky&quot;: true}\n",
       "            );\n",
       "        \n",
       "    \n",
       "            var marker_7a64b4974ad10cde60c1b8f2b7cbc524 = L.marker(\n",
       "                [35.868034, 139.974197],\n",
       "                {}\n",
       "            ).addTo(marker_cluster_8cba42893ed16ea535ba5741477d20d1);\n",
       "        \n",
       "    \n",
       "            marker_7a64b4974ad10cde60c1b8f2b7cbc524.bindTooltip(\n",
       "                `&lt;div&gt;\n",
       "                     20歳代\n",
       "                 &lt;/div&gt;`,\n",
       "                {&quot;sticky&quot;: true}\n",
       "            );\n",
       "        \n",
       "    \n",
       "            var marker_6c8008e7d7c8506215ff121d5ff55769 = L.marker(\n",
       "                [35.866798, 139.968948],\n",
       "                {}\n",
       "            ).addTo(marker_cluster_8cba42893ed16ea535ba5741477d20d1);\n",
       "        \n",
       "    \n",
       "            marker_6c8008e7d7c8506215ff121d5ff55769.bindTooltip(\n",
       "                `&lt;div&gt;\n",
       "                     40歳代\n",
       "                 &lt;/div&gt;`,\n",
       "                {&quot;sticky&quot;: true}\n",
       "            );\n",
       "        \n",
       "    \n",
       "            var marker_df948bb74e53c6e479c271c4f743318a = L.marker(\n",
       "                [35.858974, 139.962036],\n",
       "                {}\n",
       "            ).addTo(marker_cluster_8cba42893ed16ea535ba5741477d20d1);\n",
       "        \n",
       "    \n",
       "            marker_df948bb74e53c6e479c271c4f743318a.bindTooltip(\n",
       "                `&lt;div&gt;\n",
       "                     50歳代\n",
       "                 &lt;/div&gt;`,\n",
       "                {&quot;sticky&quot;: true}\n",
       "            );\n",
       "        \n",
       "    \n",
       "            var marker_1e513c947f32c83e56ccb7cc82e75aa2 = L.marker(\n",
       "                [35.858974, 139.962036],\n",
       "                {}\n",
       "            ).addTo(marker_cluster_8cba42893ed16ea535ba5741477d20d1);\n",
       "        \n",
       "    \n",
       "            marker_1e513c947f32c83e56ccb7cc82e75aa2.bindTooltip(\n",
       "                `&lt;div&gt;\n",
       "                     20歳代\n",
       "                 &lt;/div&gt;`,\n",
       "                {&quot;sticky&quot;: true}\n",
       "            );\n",
       "        \n",
       "    \n",
       "            var marker_a9eaa37a0c44816e2838a61051d1c538 = L.marker(\n",
       "                [35.858974, 139.962036],\n",
       "                {}\n",
       "            ).addTo(marker_cluster_8cba42893ed16ea535ba5741477d20d1);\n",
       "        \n",
       "    \n",
       "            marker_a9eaa37a0c44816e2838a61051d1c538.bindTooltip(\n",
       "                `&lt;div&gt;\n",
       "                     10歳代\n",
       "                 &lt;/div&gt;`,\n",
       "                {&quot;sticky&quot;: true}\n",
       "            );\n",
       "        \n",
       "    \n",
       "            var marker_fcaefaae435fe963a13ccadbcc62cfbd = L.marker(\n",
       "                [35.858974, 139.962036],\n",
       "                {}\n",
       "            ).addTo(marker_cluster_8cba42893ed16ea535ba5741477d20d1);\n",
       "        \n",
       "    \n",
       "            marker_fcaefaae435fe963a13ccadbcc62cfbd.bindTooltip(\n",
       "                `&lt;div&gt;\n",
       "                     40歳代\n",
       "                 &lt;/div&gt;`,\n",
       "                {&quot;sticky&quot;: true}\n",
       "            );\n",
       "        \n",
       "    \n",
       "            var marker_ed2ea1ac59694374a9640adf2b6953dd = L.marker(\n",
       "                [35.85675, 139.962128],\n",
       "                {}\n",
       "            ).addTo(marker_cluster_8cba42893ed16ea535ba5741477d20d1);\n",
       "        \n",
       "    \n",
       "            marker_ed2ea1ac59694374a9640adf2b6953dd.bindTooltip(\n",
       "                `&lt;div&gt;\n",
       "                     20歳代\n",
       "                 &lt;/div&gt;`,\n",
       "                {&quot;sticky&quot;: true}\n",
       "            );\n",
       "        \n",
       "    \n",
       "            var marker_c697bb2e1add955704701142fc724d02 = L.marker(\n",
       "                [35.85675, 139.962128],\n",
       "                {}\n",
       "            ).addTo(marker_cluster_8cba42893ed16ea535ba5741477d20d1);\n",
       "        \n",
       "    \n",
       "            marker_c697bb2e1add955704701142fc724d02.bindTooltip(\n",
       "                `&lt;div&gt;\n",
       "                     10歳代\n",
       "                 &lt;/div&gt;`,\n",
       "                {&quot;sticky&quot;: true}\n",
       "            );\n",
       "        \n",
       "    \n",
       "            var marker_21490266c4855e6db08242860fb19b3e = L.marker(\n",
       "                [35.85675, 139.962128],\n",
       "                {}\n",
       "            ).addTo(marker_cluster_8cba42893ed16ea535ba5741477d20d1);\n",
       "        \n",
       "    \n",
       "            marker_21490266c4855e6db08242860fb19b3e.bindTooltip(\n",
       "                `&lt;div&gt;\n",
       "                     30歳代\n",
       "                 &lt;/div&gt;`,\n",
       "                {&quot;sticky&quot;: true}\n",
       "            );\n",
       "        \n",
       "    \n",
       "            var marker_bc8278c1e9bd6a959bc32d83dc8958ab = L.marker(\n",
       "                [35.860016, 139.958176],\n",
       "                {}\n",
       "            ).addTo(marker_cluster_8cba42893ed16ea535ba5741477d20d1);\n",
       "        \n",
       "    \n",
       "            marker_bc8278c1e9bd6a959bc32d83dc8958ab.bindTooltip(\n",
       "                `&lt;div&gt;\n",
       "                     30歳代\n",
       "                 &lt;/div&gt;`,\n",
       "                {&quot;sticky&quot;: true}\n",
       "            );\n",
       "        \n",
       "    \n",
       "            var marker_053b44d5535761f28a9effe42add7e8a = L.marker(\n",
       "                [35.860016, 139.958176],\n",
       "                {}\n",
       "            ).addTo(marker_cluster_8cba42893ed16ea535ba5741477d20d1);\n",
       "        \n",
       "    \n",
       "            marker_053b44d5535761f28a9effe42add7e8a.bindTooltip(\n",
       "                `&lt;div&gt;\n",
       "                     10歳代\n",
       "                 &lt;/div&gt;`,\n",
       "                {&quot;sticky&quot;: true}\n",
       "            );\n",
       "        \n",
       "    \n",
       "            var marker_41d28ca94c2a5604cad8dde235672684 = L.marker(\n",
       "                [35.868122, 139.943359],\n",
       "                {}\n",
       "            ).addTo(marker_cluster_8cba42893ed16ea535ba5741477d20d1);\n",
       "        \n",
       "    \n",
       "            marker_41d28ca94c2a5604cad8dde235672684.bindTooltip(\n",
       "                `&lt;div&gt;\n",
       "                     50歳代\n",
       "                 &lt;/div&gt;`,\n",
       "                {&quot;sticky&quot;: true}\n",
       "            );\n",
       "        \n",
       "    \n",
       "            var marker_3c648f5545d71195f7c15f2f7d9cd814 = L.marker(\n",
       "                [35.854397, 139.962891],\n",
       "                {}\n",
       "            ).addTo(marker_cluster_8cba42893ed16ea535ba5741477d20d1);\n",
       "        \n",
       "    \n",
       "            marker_3c648f5545d71195f7c15f2f7d9cd814.bindTooltip(\n",
       "                `&lt;div&gt;\n",
       "                     20歳代\n",
       "                 &lt;/div&gt;`,\n",
       "                {&quot;sticky&quot;: true}\n",
       "            );\n",
       "        \n",
       "    \n",
       "            var marker_666b5f5172e476ac95fb7c37b398968a = L.marker(\n",
       "                [35.854397, 139.962891],\n",
       "                {}\n",
       "            ).addTo(marker_cluster_8cba42893ed16ea535ba5741477d20d1);\n",
       "        \n",
       "    \n",
       "            marker_666b5f5172e476ac95fb7c37b398968a.bindTooltip(\n",
       "                `&lt;div&gt;\n",
       "                     10歳代\n",
       "                 &lt;/div&gt;`,\n",
       "                {&quot;sticky&quot;: true}\n",
       "            );\n",
       "        \n",
       "    \n",
       "            var marker_75b928a7fe559eb8a34c740247a3c427 = L.marker(\n",
       "                [35.854397, 139.962891],\n",
       "                {}\n",
       "            ).addTo(marker_cluster_8cba42893ed16ea535ba5741477d20d1);\n",
       "        \n",
       "    \n",
       "            marker_75b928a7fe559eb8a34c740247a3c427.bindTooltip(\n",
       "                `&lt;div&gt;\n",
       "                     10歳代\n",
       "                 &lt;/div&gt;`,\n",
       "                {&quot;sticky&quot;: true}\n",
       "            );\n",
       "        \n",
       "    \n",
       "            var marker_ec5c7e3789aec00ebf5202774c4a82b5 = L.marker(\n",
       "                [35.854397, 139.962891],\n",
       "                {}\n",
       "            ).addTo(marker_cluster_8cba42893ed16ea535ba5741477d20d1);\n",
       "        \n",
       "    \n",
       "            marker_ec5c7e3789aec00ebf5202774c4a82b5.bindTooltip(\n",
       "                `&lt;div&gt;\n",
       "                     20歳代\n",
       "                 &lt;/div&gt;`,\n",
       "                {&quot;sticky&quot;: true}\n",
       "            );\n",
       "        \n",
       "    \n",
       "            var marker_80d71616e0481cacdf4ea6bba074d9b8 = L.marker(\n",
       "                [35.866894, 139.957932],\n",
       "                {}\n",
       "            ).addTo(marker_cluster_8cba42893ed16ea535ba5741477d20d1);\n",
       "        \n",
       "    \n",
       "            marker_80d71616e0481cacdf4ea6bba074d9b8.bindTooltip(\n",
       "                `&lt;div&gt;\n",
       "                     65-69歳\n",
       "                 &lt;/div&gt;`,\n",
       "                {&quot;sticky&quot;: true}\n",
       "            );\n",
       "        \n",
       "    \n",
       "            var marker_51758bb9ff48b336e876f6fae7ba029d = L.marker(\n",
       "                [35.902, 139.93605],\n",
       "                {}\n",
       "            ).addTo(marker_cluster_8cba42893ed16ea535ba5741477d20d1);\n",
       "        \n",
       "    \n",
       "            marker_51758bb9ff48b336e876f6fae7ba029d.bindTooltip(\n",
       "                `&lt;div&gt;\n",
       "                     20歳代\n",
       "                 &lt;/div&gt;`,\n",
       "                {&quot;sticky&quot;: true}\n",
       "            );\n",
       "        \n",
       "    \n",
       "            var marker_901e36db85f82fc4084104a04312f3e9 = L.marker(\n",
       "                [35.868122, 139.943359],\n",
       "                {}\n",
       "            ).addTo(marker_cluster_8cba42893ed16ea535ba5741477d20d1);\n",
       "        \n",
       "    \n",
       "            marker_901e36db85f82fc4084104a04312f3e9.bindTooltip(\n",
       "                `&lt;div&gt;\n",
       "                     30歳代\n",
       "                 &lt;/div&gt;`,\n",
       "                {&quot;sticky&quot;: true}\n",
       "            );\n",
       "        \n",
       "    \n",
       "            var marker_65f76f12b79f5b3063c9c9aa11573ee6 = L.marker(\n",
       "                [35.882629, 139.959305],\n",
       "                {}\n",
       "            ).addTo(marker_cluster_8cba42893ed16ea535ba5741477d20d1);\n",
       "        \n",
       "    \n",
       "            marker_65f76f12b79f5b3063c9c9aa11573ee6.bindTooltip(\n",
       "                `&lt;div&gt;\n",
       "                     20歳代\n",
       "                 &lt;/div&gt;`,\n",
       "                {&quot;sticky&quot;: true}\n",
       "            );\n",
       "        \n",
       "    \n",
       "            var marker_023628ca587a9069a7223b88f3ac3e8a = L.marker(\n",
       "                [35.882629, 139.959305],\n",
       "                {}\n",
       "            ).addTo(marker_cluster_8cba42893ed16ea535ba5741477d20d1);\n",
       "        \n",
       "    \n",
       "            marker_023628ca587a9069a7223b88f3ac3e8a.bindTooltip(\n",
       "                `&lt;div&gt;\n",
       "                     60-64歳\n",
       "                 &lt;/div&gt;`,\n",
       "                {&quot;sticky&quot;: true}\n",
       "            );\n",
       "        \n",
       "    \n",
       "            var marker_ace00eeb3171a3b5c30a2f6289ddbe6b = L.marker(\n",
       "                [35.879082, 139.975952],\n",
       "                {}\n",
       "            ).addTo(marker_cluster_8cba42893ed16ea535ba5741477d20d1);\n",
       "        \n",
       "    \n",
       "            marker_ace00eeb3171a3b5c30a2f6289ddbe6b.bindTooltip(\n",
       "                `&lt;div&gt;\n",
       "                     20歳代\n",
       "                 &lt;/div&gt;`,\n",
       "                {&quot;sticky&quot;: true}\n",
       "            );\n",
       "        \n",
       "    \n",
       "            var marker_8984ad9d0d04716a1e617c9071c29553 = L.marker(\n",
       "                [35.879082, 139.975952],\n",
       "                {}\n",
       "            ).addTo(marker_cluster_8cba42893ed16ea535ba5741477d20d1);\n",
       "        \n",
       "    \n",
       "            marker_8984ad9d0d04716a1e617c9071c29553.bindTooltip(\n",
       "                `&lt;div&gt;\n",
       "                     30歳代\n",
       "                 &lt;/div&gt;`,\n",
       "                {&quot;sticky&quot;: true}\n",
       "            );\n",
       "        \n",
       "    \n",
       "            var marker_50b74b377573622f48b0096434080079 = L.marker(\n",
       "                [35.879082, 139.975952],\n",
       "                {}\n",
       "            ).addTo(marker_cluster_8cba42893ed16ea535ba5741477d20d1);\n",
       "        \n",
       "    \n",
       "            marker_50b74b377573622f48b0096434080079.bindTooltip(\n",
       "                `&lt;div&gt;\n",
       "                     65-69歳\n",
       "                 &lt;/div&gt;`,\n",
       "                {&quot;sticky&quot;: true}\n",
       "            );\n",
       "        \n",
       "    \n",
       "            var marker_c2fb74b8c32a29c0b8ec7935f4c4f1b4 = L.marker(\n",
       "                [35.879082, 139.975952],\n",
       "                {}\n",
       "            ).addTo(marker_cluster_8cba42893ed16ea535ba5741477d20d1);\n",
       "        \n",
       "    \n",
       "            marker_c2fb74b8c32a29c0b8ec7935f4c4f1b4.bindTooltip(\n",
       "                `&lt;div&gt;\n",
       "                     50歳代\n",
       "                 &lt;/div&gt;`,\n",
       "                {&quot;sticky&quot;: true}\n",
       "            );\n",
       "        \n",
       "    \n",
       "            var marker_45e86cc1b66fc76701d7492b0635f114 = L.marker(\n",
       "                [35.879082, 139.975952],\n",
       "                {}\n",
       "            ).addTo(marker_cluster_8cba42893ed16ea535ba5741477d20d1);\n",
       "        \n",
       "    \n",
       "            marker_45e86cc1b66fc76701d7492b0635f114.bindTooltip(\n",
       "                `&lt;div&gt;\n",
       "                     20歳代\n",
       "                 &lt;/div&gt;`,\n",
       "                {&quot;sticky&quot;: true}\n",
       "            );\n",
       "        \n",
       "    \n",
       "            var marker_b10efc215a85a803ed4f23e21ef48a04 = L.marker(\n",
       "                [35.886456, 139.980759],\n",
       "                {}\n",
       "            ).addTo(marker_cluster_8cba42893ed16ea535ba5741477d20d1);\n",
       "        \n",
       "    \n",
       "            marker_b10efc215a85a803ed4f23e21ef48a04.bindTooltip(\n",
       "                `&lt;div&gt;\n",
       "                     20歳代\n",
       "                 &lt;/div&gt;`,\n",
       "                {&quot;sticky&quot;: true}\n",
       "            );\n",
       "        \n",
       "    \n",
       "            var marker_33cd5d3583bfcc8cdb6c4a8b6e0703fa = L.marker(\n",
       "                [35.886456, 139.980759],\n",
       "                {}\n",
       "            ).addTo(marker_cluster_8cba42893ed16ea535ba5741477d20d1);\n",
       "        \n",
       "    \n",
       "            marker_33cd5d3583bfcc8cdb6c4a8b6e0703fa.bindTooltip(\n",
       "                `&lt;div&gt;\n",
       "                     70歳以上\n",
       "                 &lt;/div&gt;`,\n",
       "                {&quot;sticky&quot;: true}\n",
       "            );\n",
       "        \n",
       "    \n",
       "            var marker_887f108431f7fc0af5752049cccdc0d4 = L.marker(\n",
       "                [35.886456, 139.980759],\n",
       "                {}\n",
       "            ).addTo(marker_cluster_8cba42893ed16ea535ba5741477d20d1);\n",
       "        \n",
       "    \n",
       "            marker_887f108431f7fc0af5752049cccdc0d4.bindTooltip(\n",
       "                `&lt;div&gt;\n",
       "                     40歳代\n",
       "                 &lt;/div&gt;`,\n",
       "                {&quot;sticky&quot;: true}\n",
       "            );\n",
       "        \n",
       "    \n",
       "            var marker_c08b25ea9c0a5fbdaab3fdc3b8de353d = L.marker(\n",
       "                [35.886009, 139.970963],\n",
       "                {}\n",
       "            ).addTo(marker_cluster_8cba42893ed16ea535ba5741477d20d1);\n",
       "        \n",
       "    \n",
       "            marker_c08b25ea9c0a5fbdaab3fdc3b8de353d.bindTooltip(\n",
       "                `&lt;div&gt;\n",
       "                     10歳代\n",
       "                 &lt;/div&gt;`,\n",
       "                {&quot;sticky&quot;: true}\n",
       "            );\n",
       "        \n",
       "    \n",
       "            var marker_de89b5bda8f77d4d3479e7e5c072ecff = L.marker(\n",
       "                [35.889114, 139.971802],\n",
       "                {}\n",
       "            ).addTo(marker_cluster_8cba42893ed16ea535ba5741477d20d1);\n",
       "        \n",
       "    \n",
       "            marker_de89b5bda8f77d4d3479e7e5c072ecff.bindTooltip(\n",
       "                `&lt;div&gt;\n",
       "                     50歳代\n",
       "                 &lt;/div&gt;`,\n",
       "                {&quot;sticky&quot;: true}\n",
       "            );\n",
       "        \n",
       "    \n",
       "            var marker_a4dd86c81b0e5603617f5f4613db9ba9 = L.marker(\n",
       "                [35.889114, 139.971802],\n",
       "                {}\n",
       "            ).addTo(marker_cluster_8cba42893ed16ea535ba5741477d20d1);\n",
       "        \n",
       "    \n",
       "            marker_a4dd86c81b0e5603617f5f4613db9ba9.bindTooltip(\n",
       "                `&lt;div&gt;\n",
       "                     60-64歳\n",
       "                 &lt;/div&gt;`,\n",
       "                {&quot;sticky&quot;: true}\n",
       "            );\n",
       "        \n",
       "    \n",
       "            var marker_ba07f35f3992e995d39324ce4d5ac455 = L.marker(\n",
       "                [35.889534, 139.963287],\n",
       "                {}\n",
       "            ).addTo(marker_cluster_8cba42893ed16ea535ba5741477d20d1);\n",
       "        \n",
       "    \n",
       "            marker_ba07f35f3992e995d39324ce4d5ac455.bindTooltip(\n",
       "                `&lt;div&gt;\n",
       "                     20歳代\n",
       "                 &lt;/div&gt;`,\n",
       "                {&quot;sticky&quot;: true}\n",
       "            );\n",
       "        \n",
       "    \n",
       "            var marker_12cd4ed7b669bb487a5c3dd94290c85c = L.marker(\n",
       "                [35.880825, 139.967804],\n",
       "                {}\n",
       "            ).addTo(marker_cluster_8cba42893ed16ea535ba5741477d20d1);\n",
       "        \n",
       "    \n",
       "            marker_12cd4ed7b669bb487a5c3dd94290c85c.bindTooltip(\n",
       "                `&lt;div&gt;\n",
       "                     10歳代\n",
       "                 &lt;/div&gt;`,\n",
       "                {&quot;sticky&quot;: true}\n",
       "            );\n",
       "        \n",
       "    \n",
       "            var marker_3945beed0096ced68fe7ae71a86aa027 = L.marker(\n",
       "                [35.880825, 139.967804],\n",
       "                {}\n",
       "            ).addTo(marker_cluster_8cba42893ed16ea535ba5741477d20d1);\n",
       "        \n",
       "    \n",
       "            marker_3945beed0096ced68fe7ae71a86aa027.bindTooltip(\n",
       "                `&lt;div&gt;\n",
       "                     法人・団体、被害者なし\n",
       "                 &lt;/div&gt;`,\n",
       "                {&quot;sticky&quot;: true}\n",
       "            );\n",
       "        \n",
       "    \n",
       "            var marker_921c8d602e90f7e06518097ebb191604 = L.marker(\n",
       "                [35.880825, 139.967804],\n",
       "                {}\n",
       "            ).addTo(marker_cluster_8cba42893ed16ea535ba5741477d20d1);\n",
       "        \n",
       "    \n",
       "            marker_921c8d602e90f7e06518097ebb191604.bindTooltip(\n",
       "                `&lt;div&gt;\n",
       "                     70歳以上\n",
       "                 &lt;/div&gt;`,\n",
       "                {&quot;sticky&quot;: true}\n",
       "            );\n",
       "        \n",
       "    \n",
       "            var marker_8ffc1c17cd1beea5df5d5678bc71a678 = L.marker(\n",
       "                [35.880825, 139.967804],\n",
       "                {}\n",
       "            ).addTo(marker_cluster_8cba42893ed16ea535ba5741477d20d1);\n",
       "        \n",
       "    \n",
       "            marker_8ffc1c17cd1beea5df5d5678bc71a678.bindTooltip(\n",
       "                `&lt;div&gt;\n",
       "                     20歳代\n",
       "                 &lt;/div&gt;`,\n",
       "                {&quot;sticky&quot;: true}\n",
       "            );\n",
       "        \n",
       "    \n",
       "            var marker_e1f24e3b9ff9c5f009ffc55d2a52171e = L.marker(\n",
       "                [35.88258, 139.969193],\n",
       "                {}\n",
       "            ).addTo(marker_cluster_8cba42893ed16ea535ba5741477d20d1);\n",
       "        \n",
       "    \n",
       "            marker_e1f24e3b9ff9c5f009ffc55d2a52171e.bindTooltip(\n",
       "                `&lt;div&gt;\n",
       "                     10歳代\n",
       "                 &lt;/div&gt;`,\n",
       "                {&quot;sticky&quot;: true}\n",
       "            );\n",
       "        \n",
       "    \n",
       "            var marker_25b992f18102b3f9b026c4e8c7916f35 = L.marker(\n",
       "                [35.88258, 139.969193],\n",
       "                {}\n",
       "            ).addTo(marker_cluster_8cba42893ed16ea535ba5741477d20d1);\n",
       "        \n",
       "    \n",
       "            marker_25b992f18102b3f9b026c4e8c7916f35.bindTooltip(\n",
       "                `&lt;div&gt;\n",
       "                     10歳代\n",
       "                 &lt;/div&gt;`,\n",
       "                {&quot;sticky&quot;: true}\n",
       "            );\n",
       "        \n",
       "    \n",
       "            var marker_cd968a46e9104036bea5f1252d1a08a0 = L.marker(\n",
       "                [35.88258, 139.969193],\n",
       "                {}\n",
       "            ).addTo(marker_cluster_8cba42893ed16ea535ba5741477d20d1);\n",
       "        \n",
       "    \n",
       "            marker_cd968a46e9104036bea5f1252d1a08a0.bindTooltip(\n",
       "                `&lt;div&gt;\n",
       "                     10歳代\n",
       "                 &lt;/div&gt;`,\n",
       "                {&quot;sticky&quot;: true}\n",
       "            );\n",
       "        \n",
       "    \n",
       "            var marker_f956b0eea5fd5973fefd51b1dacbbdd5 = L.marker(\n",
       "                [35.88258, 139.969193],\n",
       "                {}\n",
       "            ).addTo(marker_cluster_8cba42893ed16ea535ba5741477d20d1);\n",
       "        \n",
       "    \n",
       "            marker_f956b0eea5fd5973fefd51b1dacbbdd5.bindTooltip(\n",
       "                `&lt;div&gt;\n",
       "                     10歳代\n",
       "                 &lt;/div&gt;`,\n",
       "                {&quot;sticky&quot;: true}\n",
       "            );\n",
       "        \n",
       "    \n",
       "            var marker_cf5172e2dc0ca3672040097775af7e79 = L.marker(\n",
       "                [35.90826, 139.95816],\n",
       "                {}\n",
       "            ).addTo(marker_cluster_8cba42893ed16ea535ba5741477d20d1);\n",
       "        \n",
       "    \n",
       "            marker_cf5172e2dc0ca3672040097775af7e79.bindTooltip(\n",
       "                `&lt;div&gt;\n",
       "                     10歳代\n",
       "                 &lt;/div&gt;`,\n",
       "                {&quot;sticky&quot;: true}\n",
       "            );\n",
       "        \n",
       "    \n",
       "            var marker_11ce43b90b193eb111d80d020e46674c = L.marker(\n",
       "                [35.891659, 139.953995],\n",
       "                {}\n",
       "            ).addTo(marker_cluster_8cba42893ed16ea535ba5741477d20d1);\n",
       "        \n",
       "    \n",
       "            marker_11ce43b90b193eb111d80d020e46674c.bindTooltip(\n",
       "                `&lt;div&gt;\n",
       "                     30歳代\n",
       "                 &lt;/div&gt;`,\n",
       "                {&quot;sticky&quot;: true}\n",
       "            );\n",
       "        \n",
       "    \n",
       "            var marker_4996325a0ef074b54f37a37a3c503b1b = L.marker(\n",
       "                [35.891659, 139.953995],\n",
       "                {}\n",
       "            ).addTo(marker_cluster_8cba42893ed16ea535ba5741477d20d1);\n",
       "        \n",
       "    \n",
       "            marker_4996325a0ef074b54f37a37a3c503b1b.bindTooltip(\n",
       "                `&lt;div&gt;\n",
       "                     20歳代\n",
       "                 &lt;/div&gt;`,\n",
       "                {&quot;sticky&quot;: true}\n",
       "            );\n",
       "        \n",
       "    \n",
       "            var marker_0a25ef858933aeea9ffcd1d07e1de3d1 = L.marker(\n",
       "                [35.891659, 139.953995],\n",
       "                {}\n",
       "            ).addTo(marker_cluster_8cba42893ed16ea535ba5741477d20d1);\n",
       "        \n",
       "    \n",
       "            marker_0a25ef858933aeea9ffcd1d07e1de3d1.bindTooltip(\n",
       "                `&lt;div&gt;\n",
       "                     20歳代\n",
       "                 &lt;/div&gt;`,\n",
       "                {&quot;sticky&quot;: true}\n",
       "            );\n",
       "        \n",
       "    \n",
       "            var marker_8abaa5c5834477a3ce65150f8dce335f = L.marker(\n",
       "                [35.891659, 139.953995],\n",
       "                {}\n",
       "            ).addTo(marker_cluster_8cba42893ed16ea535ba5741477d20d1);\n",
       "        \n",
       "    \n",
       "            marker_8abaa5c5834477a3ce65150f8dce335f.bindTooltip(\n",
       "                `&lt;div&gt;\n",
       "                     10歳代\n",
       "                 &lt;/div&gt;`,\n",
       "                {&quot;sticky&quot;: true}\n",
       "            );\n",
       "        \n",
       "    \n",
       "            var marker_49c083e294054258ae8f680ba8a8fd5b = L.marker(\n",
       "                [35.891659, 139.953995],\n",
       "                {}\n",
       "            ).addTo(marker_cluster_8cba42893ed16ea535ba5741477d20d1);\n",
       "        \n",
       "    \n",
       "            marker_49c083e294054258ae8f680ba8a8fd5b.bindTooltip(\n",
       "                `&lt;div&gt;\n",
       "                     10歳代\n",
       "                 &lt;/div&gt;`,\n",
       "                {&quot;sticky&quot;: true}\n",
       "            );\n",
       "        \n",
       "    \n",
       "            var marker_992114b28c0c108ade4635fd8cc6ca77 = L.marker(\n",
       "                [35.891659, 139.953995],\n",
       "                {}\n",
       "            ).addTo(marker_cluster_8cba42893ed16ea535ba5741477d20d1);\n",
       "        \n",
       "    \n",
       "            marker_992114b28c0c108ade4635fd8cc6ca77.bindTooltip(\n",
       "                `&lt;div&gt;\n",
       "                     10歳代\n",
       "                 &lt;/div&gt;`,\n",
       "                {&quot;sticky&quot;: true}\n",
       "            );\n",
       "        \n",
       "    \n",
       "            var marker_7ba9d5f25cf203ac2311122662b1ade7 = L.marker(\n",
       "                [35.891659, 139.953995],\n",
       "                {}\n",
       "            ).addTo(marker_cluster_8cba42893ed16ea535ba5741477d20d1);\n",
       "        \n",
       "    \n",
       "            marker_7ba9d5f25cf203ac2311122662b1ade7.bindTooltip(\n",
       "                `&lt;div&gt;\n",
       "                     65-69歳\n",
       "                 &lt;/div&gt;`,\n",
       "                {&quot;sticky&quot;: true}\n",
       "            );\n",
       "        \n",
       "    \n",
       "            var marker_d71fd95f707b7ce1fac939411a7e76e7 = L.marker(\n",
       "                [35.891659, 139.953995],\n",
       "                {}\n",
       "            ).addTo(marker_cluster_8cba42893ed16ea535ba5741477d20d1);\n",
       "        \n",
       "    \n",
       "            marker_d71fd95f707b7ce1fac939411a7e76e7.bindTooltip(\n",
       "                `&lt;div&gt;\n",
       "                     20歳代\n",
       "                 &lt;/div&gt;`,\n",
       "                {&quot;sticky&quot;: true}\n",
       "            );\n",
       "        \n",
       "    \n",
       "            var marker_40fe575b4747aefc099e82d8f4cb6fcc = L.marker(\n",
       "                [35.891659, 139.953995],\n",
       "                {}\n",
       "            ).addTo(marker_cluster_8cba42893ed16ea535ba5741477d20d1);\n",
       "        \n",
       "    \n",
       "            marker_40fe575b4747aefc099e82d8f4cb6fcc.bindTooltip(\n",
       "                `&lt;div&gt;\n",
       "                     10歳代\n",
       "                 &lt;/div&gt;`,\n",
       "                {&quot;sticky&quot;: true}\n",
       "            );\n",
       "        \n",
       "    \n",
       "            var marker_8ece24811759cf6d7b1128936607edb1 = L.marker(\n",
       "                [35.891659, 139.953995],\n",
       "                {}\n",
       "            ).addTo(marker_cluster_8cba42893ed16ea535ba5741477d20d1);\n",
       "        \n",
       "    \n",
       "            marker_8ece24811759cf6d7b1128936607edb1.bindTooltip(\n",
       "                `&lt;div&gt;\n",
       "                     法人・団体、被害者なし\n",
       "                 &lt;/div&gt;`,\n",
       "                {&quot;sticky&quot;: true}\n",
       "            );\n",
       "        \n",
       "    \n",
       "            var marker_e848d5fcac2aee4265cbcf3f71b3b6ce = L.marker(\n",
       "                [35.891659, 139.953995],\n",
       "                {}\n",
       "            ).addTo(marker_cluster_8cba42893ed16ea535ba5741477d20d1);\n",
       "        \n",
       "    \n",
       "            marker_e848d5fcac2aee4265cbcf3f71b3b6ce.bindTooltip(\n",
       "                `&lt;div&gt;\n",
       "                     30歳代\n",
       "                 &lt;/div&gt;`,\n",
       "                {&quot;sticky&quot;: true}\n",
       "            );\n",
       "        \n",
       "    \n",
       "            var marker_67d7a7580e3326d2ad324744a5c0bf5c = L.marker(\n",
       "                [35.891659, 139.953995],\n",
       "                {}\n",
       "            ).addTo(marker_cluster_8cba42893ed16ea535ba5741477d20d1);\n",
       "        \n",
       "    \n",
       "            marker_67d7a7580e3326d2ad324744a5c0bf5c.bindTooltip(\n",
       "                `&lt;div&gt;\n",
       "                     20歳代\n",
       "                 &lt;/div&gt;`,\n",
       "                {&quot;sticky&quot;: true}\n",
       "            );\n",
       "        \n",
       "    \n",
       "            var marker_dc92d3591195d99886743a4bab93ac3f = L.marker(\n",
       "                [35.857388, 139.97847],\n",
       "                {}\n",
       "            ).addTo(marker_cluster_8cba42893ed16ea535ba5741477d20d1);\n",
       "        \n",
       "    \n",
       "            marker_dc92d3591195d99886743a4bab93ac3f.bindTooltip(\n",
       "                `&lt;div&gt;\n",
       "                     20歳代\n",
       "                 &lt;/div&gt;`,\n",
       "                {&quot;sticky&quot;: true}\n",
       "            );\n",
       "        \n",
       "    \n",
       "            var marker_f7f09cff3503693973674b7ab844f0d3 = L.marker(\n",
       "                [35.854141, 139.982056],\n",
       "                {}\n",
       "            ).addTo(marker_cluster_8cba42893ed16ea535ba5741477d20d1);\n",
       "        \n",
       "    \n",
       "            marker_f7f09cff3503693973674b7ab844f0d3.bindTooltip(\n",
       "                `&lt;div&gt;\n",
       "                     20歳代\n",
       "                 &lt;/div&gt;`,\n",
       "                {&quot;sticky&quot;: true}\n",
       "            );\n",
       "        \n",
       "    \n",
       "            var marker_d19e57f49581f0b566cce5c2ff3b2fcb = L.marker(\n",
       "                [35.859604, 139.977722],\n",
       "                {}\n",
       "            ).addTo(marker_cluster_8cba42893ed16ea535ba5741477d20d1);\n",
       "        \n",
       "    \n",
       "            marker_d19e57f49581f0b566cce5c2ff3b2fcb.bindTooltip(\n",
       "                `&lt;div&gt;\n",
       "                     20歳代\n",
       "                 &lt;/div&gt;`,\n",
       "                {&quot;sticky&quot;: true}\n",
       "            );\n",
       "        \n",
       "    \n",
       "            var marker_d42cf0d7fd17b6724ee857a382c99720 = L.marker(\n",
       "                [35.859604, 139.977722],\n",
       "                {}\n",
       "            ).addTo(marker_cluster_8cba42893ed16ea535ba5741477d20d1);\n",
       "        \n",
       "    \n",
       "            marker_d42cf0d7fd17b6724ee857a382c99720.bindTooltip(\n",
       "                `&lt;div&gt;\n",
       "                     30歳代\n",
       "                 &lt;/div&gt;`,\n",
       "                {&quot;sticky&quot;: true}\n",
       "            );\n",
       "        \n",
       "    \n",
       "            var marker_38c2d0d34c97fc3071513c4d36e8e948 = L.marker(\n",
       "                [35.859604, 139.977722],\n",
       "                {}\n",
       "            ).addTo(marker_cluster_8cba42893ed16ea535ba5741477d20d1);\n",
       "        \n",
       "    \n",
       "            marker_38c2d0d34c97fc3071513c4d36e8e948.bindTooltip(\n",
       "                `&lt;div&gt;\n",
       "                     20歳代\n",
       "                 &lt;/div&gt;`,\n",
       "                {&quot;sticky&quot;: true}\n",
       "            );\n",
       "        \n",
       "    \n",
       "            var marker_db1f80d46a77476babf4380ed5688942 = L.marker(\n",
       "                [35.859604, 139.977722],\n",
       "                {}\n",
       "            ).addTo(marker_cluster_8cba42893ed16ea535ba5741477d20d1);\n",
       "        \n",
       "    \n",
       "            marker_db1f80d46a77476babf4380ed5688942.bindTooltip(\n",
       "                `&lt;div&gt;\n",
       "                     30歳代\n",
       "                 &lt;/div&gt;`,\n",
       "                {&quot;sticky&quot;: true}\n",
       "            );\n",
       "        \n",
       "    \n",
       "            var marker_e01f78a74f027ad272f05fac884fddf8 = L.marker(\n",
       "                [35.864445, 139.986511],\n",
       "                {}\n",
       "            ).addTo(marker_cluster_8cba42893ed16ea535ba5741477d20d1);\n",
       "        \n",
       "    \n",
       "            marker_e01f78a74f027ad272f05fac884fddf8.bindTooltip(\n",
       "                `&lt;div&gt;\n",
       "                     10歳代\n",
       "                 &lt;/div&gt;`,\n",
       "                {&quot;sticky&quot;: true}\n",
       "            );\n",
       "        \n",
       "    \n",
       "            var marker_93b71427bea74cdd312612217344de76 = L.marker(\n",
       "                [35.864445, 139.986511],\n",
       "                {}\n",
       "            ).addTo(marker_cluster_8cba42893ed16ea535ba5741477d20d1);\n",
       "        \n",
       "    \n",
       "            marker_93b71427bea74cdd312612217344de76.bindTooltip(\n",
       "                `&lt;div&gt;\n",
       "                     20歳代\n",
       "                 &lt;/div&gt;`,\n",
       "                {&quot;sticky&quot;: true}\n",
       "            );\n",
       "        \n",
       "    \n",
       "            var marker_e17398fae09375779971fe7598e8a958 = L.marker(\n",
       "                [35.861809, 139.97142],\n",
       "                {}\n",
       "            ).addTo(marker_cluster_8cba42893ed16ea535ba5741477d20d1);\n",
       "        \n",
       "    \n",
       "            marker_e17398fae09375779971fe7598e8a958.bindTooltip(\n",
       "                `&lt;div&gt;\n",
       "                     65-69歳\n",
       "                 &lt;/div&gt;`,\n",
       "                {&quot;sticky&quot;: true}\n",
       "            );\n",
       "        \n",
       "    \n",
       "            var marker_1076341e1df8c7459259f5f056c60fe5 = L.marker(\n",
       "                [35.861809, 139.97142],\n",
       "                {}\n",
       "            ).addTo(marker_cluster_8cba42893ed16ea535ba5741477d20d1);\n",
       "        \n",
       "    \n",
       "            marker_1076341e1df8c7459259f5f056c60fe5.bindTooltip(\n",
       "                `&lt;div&gt;\n",
       "                     20歳代\n",
       "                 &lt;/div&gt;`,\n",
       "                {&quot;sticky&quot;: true}\n",
       "            );\n",
       "        \n",
       "    \n",
       "            var marker_a20f1b88395da0164435d77e5d59dfa6 = L.marker(\n",
       "                [35.861809, 139.97142],\n",
       "                {}\n",
       "            ).addTo(marker_cluster_8cba42893ed16ea535ba5741477d20d1);\n",
       "        \n",
       "    \n",
       "            marker_a20f1b88395da0164435d77e5d59dfa6.bindTooltip(\n",
       "                `&lt;div&gt;\n",
       "                     10歳代\n",
       "                 &lt;/div&gt;`,\n",
       "                {&quot;sticky&quot;: true}\n",
       "            );\n",
       "        \n",
       "    \n",
       "            var marker_1f74aa2512f525e235ff0bee71e1a6e4 = L.marker(\n",
       "                [35.861694, 139.973999],\n",
       "                {}\n",
       "            ).addTo(marker_cluster_8cba42893ed16ea535ba5741477d20d1);\n",
       "        \n",
       "    \n",
       "            marker_1f74aa2512f525e235ff0bee71e1a6e4.bindTooltip(\n",
       "                `&lt;div&gt;\n",
       "                     70歳以上\n",
       "                 &lt;/div&gt;`,\n",
       "                {&quot;sticky&quot;: true}\n",
       "            );\n",
       "        \n",
       "    \n",
       "            var marker_e1b578ef8c89889dea1defc3bfaeefd7 = L.marker(\n",
       "                [35.861694, 139.973999],\n",
       "                {}\n",
       "            ).addTo(marker_cluster_8cba42893ed16ea535ba5741477d20d1);\n",
       "        \n",
       "    \n",
       "            marker_e1b578ef8c89889dea1defc3bfaeefd7.bindTooltip(\n",
       "                `&lt;div&gt;\n",
       "                     70歳以上\n",
       "                 &lt;/div&gt;`,\n",
       "                {&quot;sticky&quot;: true}\n",
       "            );\n",
       "        \n",
       "    \n",
       "            var marker_718700f3d43672d9b389c75092c7b1af = L.marker(\n",
       "                [35.861694, 139.973999],\n",
       "                {}\n",
       "            ).addTo(marker_cluster_8cba42893ed16ea535ba5741477d20d1);\n",
       "        \n",
       "    \n",
       "            marker_718700f3d43672d9b389c75092c7b1af.bindTooltip(\n",
       "                `&lt;div&gt;\n",
       "                     20歳代\n",
       "                 &lt;/div&gt;`,\n",
       "                {&quot;sticky&quot;: true}\n",
       "            );\n",
       "        \n",
       "    \n",
       "            var marker_2056da864a427b52d86bbf7b731284e9 = L.marker(\n",
       "                [35.861694, 139.973999],\n",
       "                {}\n",
       "            ).addTo(marker_cluster_8cba42893ed16ea535ba5741477d20d1);\n",
       "        \n",
       "    \n",
       "            marker_2056da864a427b52d86bbf7b731284e9.bindTooltip(\n",
       "                `&lt;div&gt;\n",
       "                     法人・団体、被害者なし\n",
       "                 &lt;/div&gt;`,\n",
       "                {&quot;sticky&quot;: true}\n",
       "            );\n",
       "        \n",
       "    \n",
       "            var marker_d73dad3cb4b9e5af57bd2b4b6dae00f7 = L.marker(\n",
       "                [35.861694, 139.973999],\n",
       "                {}\n",
       "            ).addTo(marker_cluster_8cba42893ed16ea535ba5741477d20d1);\n",
       "        \n",
       "    \n",
       "            marker_d73dad3cb4b9e5af57bd2b4b6dae00f7.bindTooltip(\n",
       "                `&lt;div&gt;\n",
       "                     10歳代\n",
       "                 &lt;/div&gt;`,\n",
       "                {&quot;sticky&quot;: true}\n",
       "            );\n",
       "        \n",
       "    \n",
       "            var marker_9a01a5528a023ccab86f69c9fe05c676 = L.marker(\n",
       "                [35.861694, 139.973999],\n",
       "                {}\n",
       "            ).addTo(marker_cluster_8cba42893ed16ea535ba5741477d20d1);\n",
       "        \n",
       "    \n",
       "            marker_9a01a5528a023ccab86f69c9fe05c676.bindTooltip(\n",
       "                `&lt;div&gt;\n",
       "                     10歳代\n",
       "                 &lt;/div&gt;`,\n",
       "                {&quot;sticky&quot;: true}\n",
       "            );\n",
       "        \n",
       "    \n",
       "            var marker_04e806fcc658aad62e8c0679ec0dae57 = L.marker(\n",
       "                [35.861694, 139.973999],\n",
       "                {}\n",
       "            ).addTo(marker_cluster_8cba42893ed16ea535ba5741477d20d1);\n",
       "        \n",
       "    \n",
       "            marker_04e806fcc658aad62e8c0679ec0dae57.bindTooltip(\n",
       "                `&lt;div&gt;\n",
       "                     70歳以上\n",
       "                 &lt;/div&gt;`,\n",
       "                {&quot;sticky&quot;: true}\n",
       "            );\n",
       "        \n",
       "    \n",
       "            var marker_b3051be271c56efd375e17d9b7174023 = L.marker(\n",
       "                [35.860302, 139.975159],\n",
       "                {}\n",
       "            ).addTo(marker_cluster_8cba42893ed16ea535ba5741477d20d1);\n",
       "        \n",
       "    \n",
       "            marker_b3051be271c56efd375e17d9b7174023.bindTooltip(\n",
       "                `&lt;div&gt;\n",
       "                     20歳代\n",
       "                 &lt;/div&gt;`,\n",
       "                {&quot;sticky&quot;: true}\n",
       "            );\n",
       "        \n",
       "    \n",
       "            var marker_89b6833dfccab4ddcc8ece3cccdea813 = L.marker(\n",
       "                [35.860302, 139.975159],\n",
       "                {}\n",
       "            ).addTo(marker_cluster_8cba42893ed16ea535ba5741477d20d1);\n",
       "        \n",
       "    \n",
       "            marker_89b6833dfccab4ddcc8ece3cccdea813.bindTooltip(\n",
       "                `&lt;div&gt;\n",
       "                     30歳代\n",
       "                 &lt;/div&gt;`,\n",
       "                {&quot;sticky&quot;: true}\n",
       "            );\n",
       "        \n",
       "    \n",
       "            var marker_8fdbb6f1bf6a0694c4c4d099fd6dc746 = L.marker(\n",
       "                [35.860302, 139.975159],\n",
       "                {}\n",
       "            ).addTo(marker_cluster_8cba42893ed16ea535ba5741477d20d1);\n",
       "        \n",
       "    \n",
       "            marker_8fdbb6f1bf6a0694c4c4d099fd6dc746.bindTooltip(\n",
       "                `&lt;div&gt;\n",
       "                     40歳代\n",
       "                 &lt;/div&gt;`,\n",
       "                {&quot;sticky&quot;: true}\n",
       "            );\n",
       "        \n",
       "    \n",
       "            var marker_32b8732aa631e635d4a5ebe8dadcb1b0 = L.marker(\n",
       "                [35.860302, 139.975159],\n",
       "                {}\n",
       "            ).addTo(marker_cluster_8cba42893ed16ea535ba5741477d20d1);\n",
       "        \n",
       "    \n",
       "            marker_32b8732aa631e635d4a5ebe8dadcb1b0.bindTooltip(\n",
       "                `&lt;div&gt;\n",
       "                     40歳代\n",
       "                 &lt;/div&gt;`,\n",
       "                {&quot;sticky&quot;: true}\n",
       "            );\n",
       "        \n",
       "    \n",
       "            var marker_ac049cbabef2c2fafda51d1798f8d2d3 = L.marker(\n",
       "                [35.860302, 139.975159],\n",
       "                {}\n",
       "            ).addTo(marker_cluster_8cba42893ed16ea535ba5741477d20d1);\n",
       "        \n",
       "    \n",
       "            marker_ac049cbabef2c2fafda51d1798f8d2d3.bindTooltip(\n",
       "                `&lt;div&gt;\n",
       "                     50歳代\n",
       "                 &lt;/div&gt;`,\n",
       "                {&quot;sticky&quot;: true}\n",
       "            );\n",
       "        \n",
       "    \n",
       "            var marker_cc5f8ec438a0c68427e75fe390ffa774 = L.marker(\n",
       "                [35.860302, 139.975159],\n",
       "                {}\n",
       "            ).addTo(marker_cluster_8cba42893ed16ea535ba5741477d20d1);\n",
       "        \n",
       "    \n",
       "            marker_cc5f8ec438a0c68427e75fe390ffa774.bindTooltip(\n",
       "                `&lt;div&gt;\n",
       "                     60-64歳\n",
       "                 &lt;/div&gt;`,\n",
       "                {&quot;sticky&quot;: true}\n",
       "            );\n",
       "        \n",
       "    \n",
       "            var marker_923307ce83ad34e5f7829bc43b7bbf84 = L.marker(\n",
       "                [35.860302, 139.975159],\n",
       "                {}\n",
       "            ).addTo(marker_cluster_8cba42893ed16ea535ba5741477d20d1);\n",
       "        \n",
       "    \n",
       "            marker_923307ce83ad34e5f7829bc43b7bbf84.bindTooltip(\n",
       "                `&lt;div&gt;\n",
       "                     20歳代\n",
       "                 &lt;/div&gt;`,\n",
       "                {&quot;sticky&quot;: true}\n",
       "            );\n",
       "        \n",
       "    \n",
       "            var marker_fd6865a27c060d30729608091615df0c = L.marker(\n",
       "                [35.860302, 139.975159],\n",
       "                {}\n",
       "            ).addTo(marker_cluster_8cba42893ed16ea535ba5741477d20d1);\n",
       "        \n",
       "    \n",
       "            marker_fd6865a27c060d30729608091615df0c.bindTooltip(\n",
       "                `&lt;div&gt;\n",
       "                     50歳代\n",
       "                 &lt;/div&gt;`,\n",
       "                {&quot;sticky&quot;: true}\n",
       "            );\n",
       "        \n",
       "    \n",
       "            var marker_aef4b447c567cd4e4bd2359d46d6d77a = L.marker(\n",
       "                [35.863529, 139.974228],\n",
       "                {}\n",
       "            ).addTo(marker_cluster_8cba42893ed16ea535ba5741477d20d1);\n",
       "        \n",
       "    \n",
       "            marker_aef4b447c567cd4e4bd2359d46d6d77a.bindTooltip(\n",
       "                `&lt;div&gt;\n",
       "                     20歳代\n",
       "                 &lt;/div&gt;`,\n",
       "                {&quot;sticky&quot;: true}\n",
       "            );\n",
       "        \n",
       "    \n",
       "            var marker_a980e33d7bcdb7a60174e296257ef204 = L.marker(\n",
       "                [35.855583, 139.972137],\n",
       "                {}\n",
       "            ).addTo(marker_cluster_8cba42893ed16ea535ba5741477d20d1);\n",
       "        \n",
       "    \n",
       "            marker_a980e33d7bcdb7a60174e296257ef204.bindTooltip(\n",
       "                `&lt;div&gt;\n",
       "                     20歳代\n",
       "                 &lt;/div&gt;`,\n",
       "                {&quot;sticky&quot;: true}\n",
       "            );\n",
       "        \n",
       "    \n",
       "            var marker_a244ec8b4ec39b0a77d1c49b7cc698d0 = L.marker(\n",
       "                [35.855583, 139.972137],\n",
       "                {}\n",
       "            ).addTo(marker_cluster_8cba42893ed16ea535ba5741477d20d1);\n",
       "        \n",
       "    \n",
       "            marker_a244ec8b4ec39b0a77d1c49b7cc698d0.bindTooltip(\n",
       "                `&lt;div&gt;\n",
       "                     70歳以上\n",
       "                 &lt;/div&gt;`,\n",
       "                {&quot;sticky&quot;: true}\n",
       "            );\n",
       "        \n",
       "    \n",
       "            var marker_fbfe1a6de660f8fd84c9f909ea8a52cb = L.marker(\n",
       "                [35.859303, 139.970566],\n",
       "                {}\n",
       "            ).addTo(marker_cluster_8cba42893ed16ea535ba5741477d20d1);\n",
       "        \n",
       "    \n",
       "            marker_fbfe1a6de660f8fd84c9f909ea8a52cb.bindTooltip(\n",
       "                `&lt;div&gt;\n",
       "                     40歳代\n",
       "                 &lt;/div&gt;`,\n",
       "                {&quot;sticky&quot;: true}\n",
       "            );\n",
       "        \n",
       "    \n",
       "            var marker_ef9e22f363deac589e1843ca11489f93 = L.marker(\n",
       "                [35.859303, 139.970566],\n",
       "                {}\n",
       "            ).addTo(marker_cluster_8cba42893ed16ea535ba5741477d20d1);\n",
       "        \n",
       "    \n",
       "            marker_ef9e22f363deac589e1843ca11489f93.bindTooltip(\n",
       "                `&lt;div&gt;\n",
       "                     10歳代\n",
       "                 &lt;/div&gt;`,\n",
       "                {&quot;sticky&quot;: true}\n",
       "            );\n",
       "        \n",
       "    \n",
       "            var marker_2c0ba931c759d556a5b1d1375b629cb9 = L.marker(\n",
       "                [35.859303, 139.970566],\n",
       "                {}\n",
       "            ).addTo(marker_cluster_8cba42893ed16ea535ba5741477d20d1);\n",
       "        \n",
       "    \n",
       "            marker_2c0ba931c759d556a5b1d1375b629cb9.bindTooltip(\n",
       "                `&lt;div&gt;\n",
       "                     20歳代\n",
       "                 &lt;/div&gt;`,\n",
       "                {&quot;sticky&quot;: true}\n",
       "            );\n",
       "        \n",
       "    \n",
       "            var marker_f7a8c4d67222bac5ed5dc9e03586739a = L.marker(\n",
       "                [35.859303, 139.970566],\n",
       "                {}\n",
       "            ).addTo(marker_cluster_8cba42893ed16ea535ba5741477d20d1);\n",
       "        \n",
       "    \n",
       "            marker_f7a8c4d67222bac5ed5dc9e03586739a.bindTooltip(\n",
       "                `&lt;div&gt;\n",
       "                     20歳代\n",
       "                 &lt;/div&gt;`,\n",
       "                {&quot;sticky&quot;: true}\n",
       "            );\n",
       "        \n",
       "    \n",
       "            var marker_5785d66843de4c7ecccaf8beb5b582c9 = L.marker(\n",
       "                [35.859303, 139.970566],\n",
       "                {}\n",
       "            ).addTo(marker_cluster_8cba42893ed16ea535ba5741477d20d1);\n",
       "        \n",
       "    \n",
       "            marker_5785d66843de4c7ecccaf8beb5b582c9.bindTooltip(\n",
       "                `&lt;div&gt;\n",
       "                     30歳代\n",
       "                 &lt;/div&gt;`,\n",
       "                {&quot;sticky&quot;: true}\n",
       "            );\n",
       "        \n",
       "    \n",
       "            var marker_05805a7515b2fc259d44fe3a055846e3 = L.marker(\n",
       "                [35.84705, 140.034134],\n",
       "                {}\n",
       "            ).addTo(marker_cluster_8cba42893ed16ea535ba5741477d20d1);\n",
       "        \n",
       "    \n",
       "            marker_05805a7515b2fc259d44fe3a055846e3.bindTooltip(\n",
       "                `&lt;div&gt;\n",
       "                     10歳代\n",
       "                 &lt;/div&gt;`,\n",
       "                {&quot;sticky&quot;: true}\n",
       "            );\n",
       "        \n",
       "    \n",
       "            var marker_4d98435fd31ef16e82332d4343372ca7 = L.marker(\n",
       "                [35.856987, 139.981491],\n",
       "                {}\n",
       "            ).addTo(marker_cluster_8cba42893ed16ea535ba5741477d20d1);\n",
       "        \n",
       "    \n",
       "            marker_4d98435fd31ef16e82332d4343372ca7.bindTooltip(\n",
       "                `&lt;div&gt;\n",
       "                     30歳代\n",
       "                 &lt;/div&gt;`,\n",
       "                {&quot;sticky&quot;: true}\n",
       "            );\n",
       "        \n",
       "    \n",
       "            var marker_fc35e49acc8f5a26c9d63733a1ae0f53 = L.marker(\n",
       "                [35.854141, 139.982056],\n",
       "                {}\n",
       "            ).addTo(marker_cluster_8cba42893ed16ea535ba5741477d20d1);\n",
       "        \n",
       "    \n",
       "            marker_fc35e49acc8f5a26c9d63733a1ae0f53.bindTooltip(\n",
       "                `&lt;div&gt;\n",
       "                     30歳代\n",
       "                 &lt;/div&gt;`,\n",
       "                {&quot;sticky&quot;: true}\n",
       "            );\n",
       "        \n",
       "    \n",
       "            var marker_040186f934001c720cfc4e2b131ce02d = L.marker(\n",
       "                [35.858639, 139.983749],\n",
       "                {}\n",
       "            ).addTo(marker_cluster_8cba42893ed16ea535ba5741477d20d1);\n",
       "        \n",
       "    \n",
       "            marker_040186f934001c720cfc4e2b131ce02d.bindTooltip(\n",
       "                `&lt;div&gt;\n",
       "                     20歳代\n",
       "                 &lt;/div&gt;`,\n",
       "                {&quot;sticky&quot;: true}\n",
       "            );\n",
       "        \n",
       "    \n",
       "            var marker_cdfbef840657114e978c9b387bbfcae4 = L.marker(\n",
       "                [35.858639, 139.983749],\n",
       "                {}\n",
       "            ).addTo(marker_cluster_8cba42893ed16ea535ba5741477d20d1);\n",
       "        \n",
       "    \n",
       "            marker_cdfbef840657114e978c9b387bbfcae4.bindTooltip(\n",
       "                `&lt;div&gt;\n",
       "                     20歳代\n",
       "                 &lt;/div&gt;`,\n",
       "                {&quot;sticky&quot;: true}\n",
       "            );\n",
       "        \n",
       "    \n",
       "            var marker_5695461a2b1689000bce93b6138f4f82 = L.marker(\n",
       "                [35.864445, 139.986511],\n",
       "                {}\n",
       "            ).addTo(marker_cluster_8cba42893ed16ea535ba5741477d20d1);\n",
       "        \n",
       "    \n",
       "            marker_5695461a2b1689000bce93b6138f4f82.bindTooltip(\n",
       "                `&lt;div&gt;\n",
       "                     10歳代\n",
       "                 &lt;/div&gt;`,\n",
       "                {&quot;sticky&quot;: true}\n",
       "            );\n",
       "        \n",
       "    \n",
       "            var marker_6c00a310cb8fcb39d1969f01ba3c8f68 = L.marker(\n",
       "                [35.853451, 139.977646],\n",
       "                {}\n",
       "            ).addTo(marker_cluster_8cba42893ed16ea535ba5741477d20d1);\n",
       "        \n",
       "    \n",
       "            marker_6c00a310cb8fcb39d1969f01ba3c8f68.bindTooltip(\n",
       "                `&lt;div&gt;\n",
       "                     40歳代\n",
       "                 &lt;/div&gt;`,\n",
       "                {&quot;sticky&quot;: true}\n",
       "            );\n",
       "        \n",
       "    \n",
       "            var marker_75ee200fd3c9706799f6f79a4c58dc3b = L.marker(\n",
       "                [35.853882, 139.985901],\n",
       "                {}\n",
       "            ).addTo(marker_cluster_8cba42893ed16ea535ba5741477d20d1);\n",
       "        \n",
       "    \n",
       "            marker_75ee200fd3c9706799f6f79a4c58dc3b.bindTooltip(\n",
       "                `&lt;div&gt;\n",
       "                     70歳以上\n",
       "                 &lt;/div&gt;`,\n",
       "                {&quot;sticky&quot;: true}\n",
       "            );\n",
       "        \n",
       "    \n",
       "            var marker_2982f1a04039c0db011175edeaeb45cd = L.marker(\n",
       "                [35.85392, 139.971054],\n",
       "                {}\n",
       "            ).addTo(marker_cluster_8cba42893ed16ea535ba5741477d20d1);\n",
       "        \n",
       "    \n",
       "            marker_2982f1a04039c0db011175edeaeb45cd.bindTooltip(\n",
       "                `&lt;div&gt;\n",
       "                     10歳代\n",
       "                 &lt;/div&gt;`,\n",
       "                {&quot;sticky&quot;: true}\n",
       "            );\n",
       "        \n",
       "    \n",
       "            var marker_e681ef8559cb104cd6701c1b70ca9e68 = L.marker(\n",
       "                [35.90826, 139.95816],\n",
       "                {}\n",
       "            ).addTo(marker_cluster_8cba42893ed16ea535ba5741477d20d1);\n",
       "        \n",
       "    \n",
       "            marker_e681ef8559cb104cd6701c1b70ca9e68.bindTooltip(\n",
       "                `&lt;div&gt;\n",
       "                     30歳代\n",
       "                 &lt;/div&gt;`,\n",
       "                {&quot;sticky&quot;: true}\n",
       "            );\n",
       "        \n",
       "    \n",
       "            var marker_cf8be86114b704217f2e9cd09943ea7d = L.marker(\n",
       "                [35.912533, 139.953461],\n",
       "                {}\n",
       "            ).addTo(marker_cluster_8cba42893ed16ea535ba5741477d20d1);\n",
       "        \n",
       "    \n",
       "            marker_cf8be86114b704217f2e9cd09943ea7d.bindTooltip(\n",
       "                `&lt;div&gt;\n",
       "                     10歳代\n",
       "                 &lt;/div&gt;`,\n",
       "                {&quot;sticky&quot;: true}\n",
       "            );\n",
       "        \n",
       "    \n",
       "            var marker_99d117e6654351cc6b1021671d393625 = L.marker(\n",
       "                [35.915054, 139.959076],\n",
       "                {}\n",
       "            ).addTo(marker_cluster_8cba42893ed16ea535ba5741477d20d1);\n",
       "        \n",
       "    \n",
       "            marker_99d117e6654351cc6b1021671d393625.bindTooltip(\n",
       "                `&lt;div&gt;\n",
       "                     10歳代\n",
       "                 &lt;/div&gt;`,\n",
       "                {&quot;sticky&quot;: true}\n",
       "            );\n",
       "        \n",
       "    \n",
       "            var marker_a9ca9c796a112525803605c134e32173 = L.marker(\n",
       "                [35.915054, 139.959076],\n",
       "                {}\n",
       "            ).addTo(marker_cluster_8cba42893ed16ea535ba5741477d20d1);\n",
       "        \n",
       "    \n",
       "            marker_a9ca9c796a112525803605c134e32173.bindTooltip(\n",
       "                `&lt;div&gt;\n",
       "                     10歳代\n",
       "                 &lt;/div&gt;`,\n",
       "                {&quot;sticky&quot;: true}\n",
       "            );\n",
       "        \n",
       "    \n",
       "            var marker_4e714ca9aeb314f69f730bdc280ba862 = L.marker(\n",
       "                [35.896736, 139.974243],\n",
       "                {}\n",
       "            ).addTo(marker_cluster_8cba42893ed16ea535ba5741477d20d1);\n",
       "        \n",
       "    \n",
       "            marker_4e714ca9aeb314f69f730bdc280ba862.bindTooltip(\n",
       "                `&lt;div&gt;\n",
       "                     30歳代\n",
       "                 &lt;/div&gt;`,\n",
       "                {&quot;sticky&quot;: true}\n",
       "            );\n",
       "        \n",
       "    \n",
       "            var marker_8c7489a91a896ff71894c400d553985c = L.marker(\n",
       "                [35.896736, 139.974243],\n",
       "                {}\n",
       "            ).addTo(marker_cluster_8cba42893ed16ea535ba5741477d20d1);\n",
       "        \n",
       "    \n",
       "            marker_8c7489a91a896ff71894c400d553985c.bindTooltip(\n",
       "                `&lt;div&gt;\n",
       "                     50歳代\n",
       "                 &lt;/div&gt;`,\n",
       "                {&quot;sticky&quot;: true}\n",
       "            );\n",
       "        \n",
       "    \n",
       "            var marker_eed0b86b817e5a3e5fe6aadf72b54941 = L.marker(\n",
       "                [35.896736, 139.974243],\n",
       "                {}\n",
       "            ).addTo(marker_cluster_8cba42893ed16ea535ba5741477d20d1);\n",
       "        \n",
       "    \n",
       "            marker_eed0b86b817e5a3e5fe6aadf72b54941.bindTooltip(\n",
       "                `&lt;div&gt;\n",
       "                     30歳代\n",
       "                 &lt;/div&gt;`,\n",
       "                {&quot;sticky&quot;: true}\n",
       "            );\n",
       "        \n",
       "    \n",
       "            var marker_8a00cd96bca80dcc0d33f4951fbc9c4c = L.marker(\n",
       "                [35.896736, 139.974243],\n",
       "                {}\n",
       "            ).addTo(marker_cluster_8cba42893ed16ea535ba5741477d20d1);\n",
       "        \n",
       "    \n",
       "            marker_8a00cd96bca80dcc0d33f4951fbc9c4c.bindTooltip(\n",
       "                `&lt;div&gt;\n",
       "                     40歳代\n",
       "                 &lt;/div&gt;`,\n",
       "                {&quot;sticky&quot;: true}\n",
       "            );\n",
       "        \n",
       "    \n",
       "            var marker_b43eb8a06871ae23e55be6e29531aed3 = L.marker(\n",
       "                [35.896736, 139.974243],\n",
       "                {}\n",
       "            ).addTo(marker_cluster_8cba42893ed16ea535ba5741477d20d1);\n",
       "        \n",
       "    \n",
       "            marker_b43eb8a06871ae23e55be6e29531aed3.bindTooltip(\n",
       "                `&lt;div&gt;\n",
       "                     20歳代\n",
       "                 &lt;/div&gt;`,\n",
       "                {&quot;sticky&quot;: true}\n",
       "            );\n",
       "        \n",
       "    \n",
       "            var marker_eef9e6a4edd25faaac70328d9e7557c3 = L.marker(\n",
       "                [35.896736, 139.974243],\n",
       "                {}\n",
       "            ).addTo(marker_cluster_8cba42893ed16ea535ba5741477d20d1);\n",
       "        \n",
       "    \n",
       "            marker_eef9e6a4edd25faaac70328d9e7557c3.bindTooltip(\n",
       "                `&lt;div&gt;\n",
       "                     10歳代\n",
       "                 &lt;/div&gt;`,\n",
       "                {&quot;sticky&quot;: true}\n",
       "            );\n",
       "        \n",
       "    \n",
       "            var marker_cada8a414341746d2d5b42f80b54c49e = L.marker(\n",
       "                [35.896736, 139.974243],\n",
       "                {}\n",
       "            ).addTo(marker_cluster_8cba42893ed16ea535ba5741477d20d1);\n",
       "        \n",
       "    \n",
       "            marker_cada8a414341746d2d5b42f80b54c49e.bindTooltip(\n",
       "                `&lt;div&gt;\n",
       "                     10歳代\n",
       "                 &lt;/div&gt;`,\n",
       "                {&quot;sticky&quot;: true}\n",
       "            );\n",
       "        \n",
       "    \n",
       "            var marker_01fc1d256b6064e2841a86355ba1f5ad = L.marker(\n",
       "                [35.868122, 139.943359],\n",
       "                {}\n",
       "            ).addTo(marker_cluster_8cba42893ed16ea535ba5741477d20d1);\n",
       "        \n",
       "    \n",
       "            marker_01fc1d256b6064e2841a86355ba1f5ad.bindTooltip(\n",
       "                `&lt;div&gt;\n",
       "                     20歳代\n",
       "                 &lt;/div&gt;`,\n",
       "                {&quot;sticky&quot;: true}\n",
       "            );\n",
       "        \n",
       "    \n",
       "            var marker_28145cee264f2d877336b02332804cfc = L.marker(\n",
       "                [35.868122, 139.943359],\n",
       "                {}\n",
       "            ).addTo(marker_cluster_8cba42893ed16ea535ba5741477d20d1);\n",
       "        \n",
       "    \n",
       "            marker_28145cee264f2d877336b02332804cfc.bindTooltip(\n",
       "                `&lt;div&gt;\n",
       "                     40歳代\n",
       "                 &lt;/div&gt;`,\n",
       "                {&quot;sticky&quot;: true}\n",
       "            );\n",
       "        \n",
       "    \n",
       "            var marker_182cc139f4a26e527bbf3745836a2277 = L.marker(\n",
       "                [35.868122, 139.943359],\n",
       "                {}\n",
       "            ).addTo(marker_cluster_8cba42893ed16ea535ba5741477d20d1);\n",
       "        \n",
       "    \n",
       "            marker_182cc139f4a26e527bbf3745836a2277.bindTooltip(\n",
       "                `&lt;div&gt;\n",
       "                     10歳代\n",
       "                 &lt;/div&gt;`,\n",
       "                {&quot;sticky&quot;: true}\n",
       "            );\n",
       "        \n",
       "    \n",
       "            var marker_649d05dde53a1b79dd930a18408b1f94 = L.marker(\n",
       "                [35.855282, 139.952621],\n",
       "                {}\n",
       "            ).addTo(marker_cluster_8cba42893ed16ea535ba5741477d20d1);\n",
       "        \n",
       "    \n",
       "            marker_649d05dde53a1b79dd930a18408b1f94.bindTooltip(\n",
       "                `&lt;div&gt;\n",
       "                     40歳代\n",
       "                 &lt;/div&gt;`,\n",
       "                {&quot;sticky&quot;: true}\n",
       "            );\n",
       "        \n",
       "    \n",
       "            var marker_fc0c7a11a56ba634d29a76aab8e3f8ea = L.marker(\n",
       "                [35.804619, 139.996078],\n",
       "                {}\n",
       "            ).addTo(marker_cluster_8cba42893ed16ea535ba5741477d20d1);\n",
       "        \n",
       "    \n",
       "            marker_fc0c7a11a56ba634d29a76aab8e3f8ea.bindTooltip(\n",
       "                `&lt;div&gt;\n",
       "                     30歳代\n",
       "                 &lt;/div&gt;`,\n",
       "                {&quot;sticky&quot;: true}\n",
       "            );\n",
       "        \n",
       "    \n",
       "            var marker_99e37971fa4288483a1dae40288f868d = L.marker(\n",
       "                [35.804619, 139.996078],\n",
       "                {}\n",
       "            ).addTo(marker_cluster_8cba42893ed16ea535ba5741477d20d1);\n",
       "        \n",
       "    \n",
       "            marker_99e37971fa4288483a1dae40288f868d.bindTooltip(\n",
       "                `&lt;div&gt;\n",
       "                     50歳代\n",
       "                 &lt;/div&gt;`,\n",
       "                {&quot;sticky&quot;: true}\n",
       "            );\n",
       "        \n",
       "    \n",
       "            var marker_1fe20e46ea4d28d07fc376fe3ded1b12 = L.marker(\n",
       "                [35.8078, 139.99794],\n",
       "                {}\n",
       "            ).addTo(marker_cluster_8cba42893ed16ea535ba5741477d20d1);\n",
       "        \n",
       "    \n",
       "            marker_1fe20e46ea4d28d07fc376fe3ded1b12.bindTooltip(\n",
       "                `&lt;div&gt;\n",
       "                     30歳代\n",
       "                 &lt;/div&gt;`,\n",
       "                {&quot;sticky&quot;: true}\n",
       "            );\n",
       "        \n",
       "    \n",
       "            var marker_cc43a0470c5685dc474adcb32662a9be = L.marker(\n",
       "                [35.882629, 139.959305],\n",
       "                {}\n",
       "            ).addTo(marker_cluster_8cba42893ed16ea535ba5741477d20d1);\n",
       "        \n",
       "    \n",
       "            marker_cc43a0470c5685dc474adcb32662a9be.bindTooltip(\n",
       "                `&lt;div&gt;\n",
       "                     30歳代\n",
       "                 &lt;/div&gt;`,\n",
       "                {&quot;sticky&quot;: true}\n",
       "            );\n",
       "        \n",
       "    \n",
       "            var marker_9f0eeef7367e1065eac4ed8e3451ad0d = L.marker(\n",
       "                [35.89653, 139.915878],\n",
       "                {}\n",
       "            ).addTo(marker_cluster_8cba42893ed16ea535ba5741477d20d1);\n",
       "        \n",
       "    \n",
       "            marker_9f0eeef7367e1065eac4ed8e3451ad0d.bindTooltip(\n",
       "                `&lt;div&gt;\n",
       "                     20歳代\n",
       "                 &lt;/div&gt;`,\n",
       "                {&quot;sticky&quot;: true}\n",
       "            );\n",
       "        \n",
       "    \n",
       "            var marker_4312d7c969e3e05d1c91df062ec294b6 = L.marker(\n",
       "                [35.904537, 139.9216],\n",
       "                {}\n",
       "            ).addTo(marker_cluster_8cba42893ed16ea535ba5741477d20d1);\n",
       "        \n",
       "    \n",
       "            marker_4312d7c969e3e05d1c91df062ec294b6.bindTooltip(\n",
       "                `&lt;div&gt;\n",
       "                     10歳代\n",
       "                 &lt;/div&gt;`,\n",
       "                {&quot;sticky&quot;: true}\n",
       "            );\n",
       "        \n",
       "    \n",
       "            var marker_ac6263dbadd0367ce54014ddd6c9c46c = L.marker(\n",
       "                [35.904537, 139.9216],\n",
       "                {}\n",
       "            ).addTo(marker_cluster_8cba42893ed16ea535ba5741477d20d1);\n",
       "        \n",
       "    \n",
       "            marker_ac6263dbadd0367ce54014ddd6c9c46c.bindTooltip(\n",
       "                `&lt;div&gt;\n",
       "                     20歳代\n",
       "                 &lt;/div&gt;`,\n",
       "                {&quot;sticky&quot;: true}\n",
       "            );\n",
       "        \n",
       "    \n",
       "            marker_cluster_8cba42893ed16ea535ba5741477d20d1.addTo(map_548fd52cf82a9b33009aaeb2cc6ac806);\n",
       "        \n",
       "&lt;/script&gt;\n",
       "&lt;/html&gt;\" style=\"position:absolute;width:100%;height:100%;left:0;top:0;border:none !important;\" allowfullscreen webkitallowfullscreen mozallowfullscreen></iframe></div></div>"
      ],
      "text/plain": [
       "<folium.folium.Map at 0x2a147c990>"
      ]
     },
     "execution_count": 68,
     "metadata": {},
     "output_type": "execute_result"
    }
   ],
   "source": [
    "# make the map\n",
    "m = folium.Map(location=[center_lat,center_lon], \n",
    "               zoom_start=12)\n",
    "\n",
    "# マーカーがメチャクチャ多い場合はclusterで処理！\n",
    "marker_cluster = plugins.MarkerCluster().add_to(m)\n",
    " \n",
    "# kashiwaのデータフレームをループしてマーカーを作る\n",
    "for index, row in kashiwa.iterrows():\n",
    "    latlon = [row['lat'],row['lon']]\n",
    "    folium.Marker(latlon, \n",
    "                  tooltip=row['被害者の年齢'],\n",
    "                ).add_to(marker_cluster) # mapにではなくmarker_clusterに足す\n",
    "\n",
    "# show the map\n",
    "m\n"
   ]
  },
  {
   "cell_type": "markdown",
   "metadata": {},
   "source": [
    "## Heatmap\n",
    "\n",
    "Foliumのエキストラ機能としてヒートマップが作れる！では、やって見よう。\n",
    "\n",
    "まずはデータをヒートマップが必要とする形式を作る。"
   ]
  },
  {
   "cell_type": "code",
   "execution_count": 69,
   "metadata": {},
   "outputs": [
    {
     "data": {
      "text/plain": [
       "[[35.841019, 139.956406],\n",
       " [35.841019, 139.956406],\n",
       " [35.841019, 139.956406],\n",
       " [35.841019, 139.956406],\n",
       " [35.841019, 139.956406],\n",
       " [35.841019, 139.956406],\n",
       " [35.81815, 139.957825],\n",
       " [35.821594, 139.967194],\n",
       " [35.821594, 139.967194],\n",
       " [35.820488, 139.960007],\n",
       " [35.820488, 139.960007],\n",
       " [35.820488, 139.960007],\n",
       " [35.834564, 139.943588],\n",
       " [35.830315, 139.951508],\n",
       " [35.864445, 139.986511],\n",
       " [35.864445, 139.986511],\n",
       " [35.874477, 139.985413],\n",
       " [35.872643, 139.989914],\n",
       " [35.872192, 139.987793],\n",
       " [35.887501, 139.985229],\n",
       " [35.88113, 139.98645],\n",
       " [35.88113, 139.98645],\n",
       " [35.88113, 139.98645],\n",
       " [35.88113, 139.98645],\n",
       " [35.88113, 139.98645],\n",
       " [35.88113, 139.98645],\n",
       " [35.88113, 139.98645],\n",
       " [35.88113, 139.98645],\n",
       " [35.88113, 139.98645],\n",
       " [35.88113, 139.98645],\n",
       " [35.88113, 139.98645],\n",
       " [35.88113, 139.98645],\n",
       " [35.88113, 139.98645],\n",
       " [35.88113, 139.98645],\n",
       " [35.88113, 139.98645],\n",
       " [35.88113, 139.98645],\n",
       " [35.88113, 139.98645],\n",
       " [35.88113, 139.98645],\n",
       " [35.88113, 139.98645],\n",
       " [35.88113, 139.98645],\n",
       " [35.815441, 139.982468],\n",
       " [35.815441, 139.982468],\n",
       " [35.815441, 139.982468],\n",
       " [35.815441, 139.982468],\n",
       " [35.815441, 139.982468],\n",
       " [35.815441, 139.982468],\n",
       " [35.815441, 139.982468],\n",
       " [35.815441, 139.982468],\n",
       " [35.822018, 139.983444],\n",
       " [35.822018, 139.983444],\n",
       " [35.830414, 139.981293],\n",
       " [35.816387, 139.974075],\n",
       " [35.816387, 139.974075],\n",
       " [35.818909, 139.971741],\n",
       " [35.818909, 139.971741],\n",
       " [35.811157, 139.963562],\n",
       " [35.811157, 139.963562],\n",
       " [35.839211, 139.968597],\n",
       " [35.802795, 139.970001],\n",
       " [35.802795, 139.970001],\n",
       " [35.805508, 139.977905],\n",
       " [35.807434, 139.981033],\n",
       " [35.814934, 139.962723],\n",
       " [35.813534, 139.957855],\n",
       " [35.845783, 139.953476],\n",
       " [35.845783, 139.953476],\n",
       " [35.845783, 139.953476],\n",
       " [35.845783, 139.953476],\n",
       " [35.845783, 139.953476],\n",
       " [35.845783, 139.953476],\n",
       " [35.845783, 139.953476],\n",
       " [35.845783, 139.953476],\n",
       " [35.847271, 139.955032],\n",
       " [35.847271, 139.955032],\n",
       " [35.847271, 139.955032],\n",
       " [35.847271, 139.955032],\n",
       " [35.847271, 139.955032],\n",
       " [35.847271, 139.955032],\n",
       " [35.847271, 139.955032],\n",
       " [35.851013, 139.960251],\n",
       " [35.851013, 139.960251],\n",
       " [35.851013, 139.960251],\n",
       " [35.851013, 139.960251],\n",
       " [35.852959, 139.958679],\n",
       " [35.830082, 139.97319],\n",
       " [35.830082, 139.97319],\n",
       " [35.830082, 139.97319],\n",
       " [35.820541, 139.995834],\n",
       " [35.823658, 139.99144],\n",
       " [35.850155, 140.00441],\n",
       " [35.850155, 140.00441],\n",
       " [35.833759, 140.011703],\n",
       " [35.833759, 140.011703],\n",
       " [35.833759, 140.011703],\n",
       " [35.833759, 140.011703],\n",
       " [35.833759, 140.011703],\n",
       " [35.833759, 140.011703],\n",
       " [35.833759, 140.011703],\n",
       " [35.833759, 140.011703],\n",
       " [35.833759, 140.011703],\n",
       " [35.84325, 140.003662],\n",
       " [35.84325, 140.003662],\n",
       " [35.84325, 140.003662],\n",
       " [35.84325, 140.003662],\n",
       " [35.840942, 139.995621],\n",
       " [35.840942, 139.995621],\n",
       " [35.844128, 140.018982],\n",
       " [35.848293, 139.98053],\n",
       " [35.839748, 139.961716],\n",
       " [35.838268, 139.963547],\n",
       " [35.838268, 139.963547],\n",
       " [35.838268, 139.963547],\n",
       " [35.838268, 139.963547],\n",
       " [35.838268, 139.963547],\n",
       " [35.840786, 139.966721],\n",
       " [35.840786, 139.966721],\n",
       " [35.843285, 139.981064],\n",
       " [35.843285, 139.981064],\n",
       " [35.845604, 139.976089],\n",
       " [35.839211, 139.968597],\n",
       " [35.839211, 139.968597],\n",
       " [35.839211, 139.968597],\n",
       " [35.839211, 139.968597],\n",
       " [35.839211, 139.968597],\n",
       " [35.843964, 139.976852],\n",
       " [35.863686, 139.966171],\n",
       " [35.866077, 139.967041],\n",
       " [35.867088, 139.963196],\n",
       " [35.867088, 139.963196],\n",
       " [35.864574, 139.962662],\n",
       " [35.865929, 139.971985],\n",
       " [35.865929, 139.971985],\n",
       " [35.868034, 139.974197],\n",
       " [35.866798, 139.968948],\n",
       " [35.858974, 139.962036],\n",
       " [35.858974, 139.962036],\n",
       " [35.858974, 139.962036],\n",
       " [35.858974, 139.962036],\n",
       " [35.85675, 139.962128],\n",
       " [35.85675, 139.962128],\n",
       " [35.85675, 139.962128],\n",
       " [35.860016, 139.958176],\n",
       " [35.860016, 139.958176],\n",
       " [35.868122, 139.943359],\n",
       " [35.854397, 139.962891],\n",
       " [35.854397, 139.962891],\n",
       " [35.854397, 139.962891],\n",
       " [35.854397, 139.962891],\n",
       " [35.866894, 139.957932],\n",
       " [35.902, 139.93605],\n",
       " [35.868122, 139.943359],\n",
       " [35.882629, 139.959305],\n",
       " [35.882629, 139.959305],\n",
       " [35.879082, 139.975952],\n",
       " [35.879082, 139.975952],\n",
       " [35.879082, 139.975952],\n",
       " [35.879082, 139.975952],\n",
       " [35.879082, 139.975952],\n",
       " [35.886456, 139.980759],\n",
       " [35.886456, 139.980759],\n",
       " [35.886456, 139.980759],\n",
       " [35.886009, 139.970963],\n",
       " [35.889114, 139.971802],\n",
       " [35.889114, 139.971802],\n",
       " [35.889534, 139.963287],\n",
       " [35.880825, 139.967804],\n",
       " [35.880825, 139.967804],\n",
       " [35.880825, 139.967804],\n",
       " [35.880825, 139.967804],\n",
       " [35.88258, 139.969193],\n",
       " [35.88258, 139.969193],\n",
       " [35.88258, 139.969193],\n",
       " [35.88258, 139.969193],\n",
       " [35.90826, 139.95816],\n",
       " [35.891659, 139.953995],\n",
       " [35.891659, 139.953995],\n",
       " [35.891659, 139.953995],\n",
       " [35.891659, 139.953995],\n",
       " [35.891659, 139.953995],\n",
       " [35.891659, 139.953995],\n",
       " [35.891659, 139.953995],\n",
       " [35.891659, 139.953995],\n",
       " [35.891659, 139.953995],\n",
       " [35.891659, 139.953995],\n",
       " [35.891659, 139.953995],\n",
       " [35.891659, 139.953995],\n",
       " [35.857388, 139.97847],\n",
       " [35.854141, 139.982056],\n",
       " [35.859604, 139.977722],\n",
       " [35.859604, 139.977722],\n",
       " [35.859604, 139.977722],\n",
       " [35.859604, 139.977722],\n",
       " [35.864445, 139.986511],\n",
       " [35.864445, 139.986511],\n",
       " [35.861809, 139.97142],\n",
       " [35.861809, 139.97142],\n",
       " [35.861809, 139.97142],\n",
       " [35.861694, 139.973999],\n",
       " [35.861694, 139.973999],\n",
       " [35.861694, 139.973999],\n",
       " [35.861694, 139.973999],\n",
       " [35.861694, 139.973999],\n",
       " [35.861694, 139.973999],\n",
       " [35.861694, 139.973999],\n",
       " [35.860302, 139.975159],\n",
       " [35.860302, 139.975159],\n",
       " [35.860302, 139.975159],\n",
       " [35.860302, 139.975159],\n",
       " [35.860302, 139.975159],\n",
       " [35.860302, 139.975159],\n",
       " [35.860302, 139.975159],\n",
       " [35.860302, 139.975159],\n",
       " [35.863529, 139.974228],\n",
       " [35.855583, 139.972137],\n",
       " [35.855583, 139.972137],\n",
       " [35.859303, 139.970566],\n",
       " [35.859303, 139.970566],\n",
       " [35.859303, 139.970566],\n",
       " [35.859303, 139.970566],\n",
       " [35.859303, 139.970566],\n",
       " [35.84705, 140.034134],\n",
       " [35.856987, 139.981491],\n",
       " [35.854141, 139.982056],\n",
       " [35.858639, 139.983749],\n",
       " [35.858639, 139.983749],\n",
       " [35.864445, 139.986511],\n",
       " [35.853451, 139.977646],\n",
       " [35.853882, 139.985901],\n",
       " [35.85392, 139.971054],\n",
       " [35.90826, 139.95816],\n",
       " [35.912533, 139.953461],\n",
       " [35.915054, 139.959076],\n",
       " [35.915054, 139.959076],\n",
       " [35.896736, 139.974243],\n",
       " [35.896736, 139.974243],\n",
       " [35.896736, 139.974243],\n",
       " [35.896736, 139.974243],\n",
       " [35.896736, 139.974243],\n",
       " [35.896736, 139.974243],\n",
       " [35.896736, 139.974243],\n",
       " [35.868122, 139.943359],\n",
       " [35.868122, 139.943359],\n",
       " [35.868122, 139.943359],\n",
       " [35.855282, 139.952621],\n",
       " [35.804619, 139.996078],\n",
       " [35.804619, 139.996078],\n",
       " [35.8078, 139.99794],\n",
       " [35.882629, 139.959305],\n",
       " [35.89653, 139.915878],\n",
       " [35.904537, 139.9216],\n",
       " [35.904537, 139.9216]]"
      ]
     },
     "execution_count": 69,
     "metadata": {},
     "output_type": "execute_result"
    }
   ],
   "source": [
    "# make a list of lat/lon's\n",
    "heatmap_lat_lon = kashiwa[['lat','lon']].values.tolist()\n",
    "\n",
    "# view the list\n",
    "heatmap_lat_lon"
   ]
  },
  {
   "cell_type": "code",
   "execution_count": 70,
   "metadata": {},
   "outputs": [
    {
     "data": {
      "text/html": [
       "<div style=\"width:100%;\"><div style=\"position:relative;width:100%;height:0;padding-bottom:60%;\"><span style=\"color:#565656\">Make this Notebook Trusted to load map: File -> Trust Notebook</span><iframe srcdoc=\"&lt;!DOCTYPE html&gt;\n",
       "&lt;html&gt;\n",
       "&lt;head&gt;\n",
       "    \n",
       "    &lt;meta http-equiv=&quot;content-type&quot; content=&quot;text/html; charset=UTF-8&quot; /&gt;\n",
       "    \n",
       "        &lt;script&gt;\n",
       "            L_NO_TOUCH = false;\n",
       "            L_DISABLE_3D = false;\n",
       "        &lt;/script&gt;\n",
       "    \n",
       "    &lt;style&gt;html, body {width: 100%;height: 100%;margin: 0;padding: 0;}&lt;/style&gt;\n",
       "    &lt;style&gt;#map {position:absolute;top:0;bottom:0;right:0;left:0;}&lt;/style&gt;\n",
       "    &lt;script src=&quot;https://cdn.jsdelivr.net/npm/leaflet@1.9.3/dist/leaflet.js&quot;&gt;&lt;/script&gt;\n",
       "    &lt;script src=&quot;https://code.jquery.com/jquery-3.7.1.min.js&quot;&gt;&lt;/script&gt;\n",
       "    &lt;script src=&quot;https://cdn.jsdelivr.net/npm/bootstrap@5.2.2/dist/js/bootstrap.bundle.min.js&quot;&gt;&lt;/script&gt;\n",
       "    &lt;script src=&quot;https://cdnjs.cloudflare.com/ajax/libs/Leaflet.awesome-markers/2.0.2/leaflet.awesome-markers.js&quot;&gt;&lt;/script&gt;\n",
       "    &lt;link rel=&quot;stylesheet&quot; href=&quot;https://cdn.jsdelivr.net/npm/leaflet@1.9.3/dist/leaflet.css&quot;/&gt;\n",
       "    &lt;link rel=&quot;stylesheet&quot; href=&quot;https://cdn.jsdelivr.net/npm/bootstrap@5.2.2/dist/css/bootstrap.min.css&quot;/&gt;\n",
       "    &lt;link rel=&quot;stylesheet&quot; href=&quot;https://netdna.bootstrapcdn.com/bootstrap/3.0.0/css/bootstrap.min.css&quot;/&gt;\n",
       "    &lt;link rel=&quot;stylesheet&quot; href=&quot;https://cdn.jsdelivr.net/npm/@fortawesome/fontawesome-free@6.2.0/css/all.min.css&quot;/&gt;\n",
       "    &lt;link rel=&quot;stylesheet&quot; href=&quot;https://cdnjs.cloudflare.com/ajax/libs/Leaflet.awesome-markers/2.0.2/leaflet.awesome-markers.css&quot;/&gt;\n",
       "    &lt;link rel=&quot;stylesheet&quot; href=&quot;https://cdn.jsdelivr.net/gh/python-visualization/folium/folium/templates/leaflet.awesome.rotate.min.css&quot;/&gt;\n",
       "    \n",
       "            &lt;meta name=&quot;viewport&quot; content=&quot;width=device-width,\n",
       "                initial-scale=1.0, maximum-scale=1.0, user-scalable=no&quot; /&gt;\n",
       "            &lt;style&gt;\n",
       "                #map_46f4f42c8ea80f1115bb71fd5fd805a0 {\n",
       "                    position: relative;\n",
       "                    width: 100.0%;\n",
       "                    height: 100.0%;\n",
       "                    left: 0.0%;\n",
       "                    top: 0.0%;\n",
       "                }\n",
       "                .leaflet-container { font-size: 1rem; }\n",
       "            &lt;/style&gt;\n",
       "        \n",
       "    &lt;script src=&quot;https://cdn.jsdelivr.net/gh/python-visualization/folium@main/folium/templates/leaflet_heat.min.js&quot;&gt;&lt;/script&gt;\n",
       "    &lt;script src=&quot;https://cdnjs.cloudflare.com/ajax/libs/leaflet.markercluster/1.1.0/leaflet.markercluster.js&quot;&gt;&lt;/script&gt;\n",
       "    &lt;link rel=&quot;stylesheet&quot; href=&quot;https://cdnjs.cloudflare.com/ajax/libs/leaflet.markercluster/1.1.0/MarkerCluster.css&quot;/&gt;\n",
       "    &lt;link rel=&quot;stylesheet&quot; href=&quot;https://cdnjs.cloudflare.com/ajax/libs/leaflet.markercluster/1.1.0/MarkerCluster.Default.css&quot;/&gt;\n",
       "&lt;/head&gt;\n",
       "&lt;body&gt;\n",
       "    \n",
       "    \n",
       "            &lt;div class=&quot;folium-map&quot; id=&quot;map_46f4f42c8ea80f1115bb71fd5fd805a0&quot; &gt;&lt;/div&gt;\n",
       "        \n",
       "&lt;/body&gt;\n",
       "&lt;script&gt;\n",
       "    \n",
       "    \n",
       "            var map_46f4f42c8ea80f1115bb71fd5fd805a0 = L.map(\n",
       "                &quot;map_46f4f42c8ea80f1115bb71fd5fd805a0&quot;,\n",
       "                {\n",
       "                    center: [35.857440968127484, 139.97220054581672],\n",
       "                    crs: L.CRS.EPSG3857,\n",
       "                    zoom: 12,\n",
       "                    zoomControl: true,\n",
       "                    preferCanvas: false,\n",
       "                }\n",
       "            );\n",
       "\n",
       "            \n",
       "\n",
       "        \n",
       "    \n",
       "            var tile_layer_42a51448000dfb7cdd46f29e318ffb22 = L.tileLayer(\n",
       "                &quot;https://{s}.basemaps.cartocdn.com/dark_all/{z}/{x}/{y}{r}.png&quot;,\n",
       "                {&quot;attribution&quot;: &quot;\\u0026copy; \\u003ca href=\\&quot;https://www.openstreetmap.org/copyright\\&quot;\\u003eOpenStreetMap\\u003c/a\\u003e contributors \\u0026copy; \\u003ca href=\\&quot;https://carto.com/attributions\\&quot;\\u003eCARTO\\u003c/a\\u003e&quot;, &quot;detectRetina&quot;: false, &quot;maxNativeZoom&quot;: 20, &quot;maxZoom&quot;: 20, &quot;minZoom&quot;: 0, &quot;noWrap&quot;: false, &quot;opacity&quot;: 1, &quot;subdomains&quot;: &quot;abcd&quot;, &quot;tms&quot;: false}\n",
       "            );\n",
       "        \n",
       "    \n",
       "            tile_layer_42a51448000dfb7cdd46f29e318ffb22.addTo(map_46f4f42c8ea80f1115bb71fd5fd805a0);\n",
       "        \n",
       "    \n",
       "            var heat_map_7c127b238e99ba8af083500a514b183a = L.heatLayer(\n",
       "                [[35.841019, 139.956406], [35.841019, 139.956406], [35.841019, 139.956406], [35.841019, 139.956406], [35.841019, 139.956406], [35.841019, 139.956406], [35.81815, 139.957825], [35.821594, 139.967194], [35.821594, 139.967194], [35.820488, 139.960007], [35.820488, 139.960007], [35.820488, 139.960007], [35.834564, 139.943588], [35.830315, 139.951508], [35.864445, 139.986511], [35.864445, 139.986511], [35.874477, 139.985413], [35.872643, 139.989914], [35.872192, 139.987793], [35.887501, 139.985229], [35.88113, 139.98645], [35.88113, 139.98645], [35.88113, 139.98645], [35.88113, 139.98645], [35.88113, 139.98645], [35.88113, 139.98645], [35.88113, 139.98645], [35.88113, 139.98645], [35.88113, 139.98645], [35.88113, 139.98645], [35.88113, 139.98645], [35.88113, 139.98645], [35.88113, 139.98645], [35.88113, 139.98645], [35.88113, 139.98645], [35.88113, 139.98645], [35.88113, 139.98645], [35.88113, 139.98645], [35.88113, 139.98645], [35.88113, 139.98645], [35.815441, 139.982468], [35.815441, 139.982468], [35.815441, 139.982468], [35.815441, 139.982468], [35.815441, 139.982468], [35.815441, 139.982468], [35.815441, 139.982468], [35.815441, 139.982468], [35.822018, 139.983444], [35.822018, 139.983444], [35.830414, 139.981293], [35.816387, 139.974075], [35.816387, 139.974075], [35.818909, 139.971741], [35.818909, 139.971741], [35.811157, 139.963562], [35.811157, 139.963562], [35.839211, 139.968597], [35.802795, 139.970001], [35.802795, 139.970001], [35.805508, 139.977905], [35.807434, 139.981033], [35.814934, 139.962723], [35.813534, 139.957855], [35.845783, 139.953476], [35.845783, 139.953476], [35.845783, 139.953476], [35.845783, 139.953476], [35.845783, 139.953476], [35.845783, 139.953476], [35.845783, 139.953476], [35.845783, 139.953476], [35.847271, 139.955032], [35.847271, 139.955032], [35.847271, 139.955032], [35.847271, 139.955032], [35.847271, 139.955032], [35.847271, 139.955032], [35.847271, 139.955032], [35.851013, 139.960251], [35.851013, 139.960251], [35.851013, 139.960251], [35.851013, 139.960251], [35.852959, 139.958679], [35.830082, 139.97319], [35.830082, 139.97319], [35.830082, 139.97319], [35.820541, 139.995834], [35.823658, 139.99144], [35.850155, 140.00441], [35.850155, 140.00441], [35.833759, 140.011703], [35.833759, 140.011703], [35.833759, 140.011703], [35.833759, 140.011703], [35.833759, 140.011703], [35.833759, 140.011703], [35.833759, 140.011703], [35.833759, 140.011703], [35.833759, 140.011703], [35.84325, 140.003662], [35.84325, 140.003662], [35.84325, 140.003662], [35.84325, 140.003662], [35.840942, 139.995621], [35.840942, 139.995621], [35.844128, 140.018982], [35.848293, 139.98053], [35.839748, 139.961716], [35.838268, 139.963547], [35.838268, 139.963547], [35.838268, 139.963547], [35.838268, 139.963547], [35.838268, 139.963547], [35.840786, 139.966721], [35.840786, 139.966721], [35.843285, 139.981064], [35.843285, 139.981064], [35.845604, 139.976089], [35.839211, 139.968597], [35.839211, 139.968597], [35.839211, 139.968597], [35.839211, 139.968597], [35.839211, 139.968597], [35.843964, 139.976852], [35.863686, 139.966171], [35.866077, 139.967041], [35.867088, 139.963196], [35.867088, 139.963196], [35.864574, 139.962662], [35.865929, 139.971985], [35.865929, 139.971985], [35.868034, 139.974197], [35.866798, 139.968948], [35.858974, 139.962036], [35.858974, 139.962036], [35.858974, 139.962036], [35.858974, 139.962036], [35.85675, 139.962128], [35.85675, 139.962128], [35.85675, 139.962128], [35.860016, 139.958176], [35.860016, 139.958176], [35.868122, 139.943359], [35.854397, 139.962891], [35.854397, 139.962891], [35.854397, 139.962891], [35.854397, 139.962891], [35.866894, 139.957932], [35.902, 139.93605], [35.868122, 139.943359], [35.882629, 139.959305], [35.882629, 139.959305], [35.879082, 139.975952], [35.879082, 139.975952], [35.879082, 139.975952], [35.879082, 139.975952], [35.879082, 139.975952], [35.886456, 139.980759], [35.886456, 139.980759], [35.886456, 139.980759], [35.886009, 139.970963], [35.889114, 139.971802], [35.889114, 139.971802], [35.889534, 139.963287], [35.880825, 139.967804], [35.880825, 139.967804], [35.880825, 139.967804], [35.880825, 139.967804], [35.88258, 139.969193], [35.88258, 139.969193], [35.88258, 139.969193], [35.88258, 139.969193], [35.90826, 139.95816], [35.891659, 139.953995], [35.891659, 139.953995], [35.891659, 139.953995], [35.891659, 139.953995], [35.891659, 139.953995], [35.891659, 139.953995], [35.891659, 139.953995], [35.891659, 139.953995], [35.891659, 139.953995], [35.891659, 139.953995], [35.891659, 139.953995], [35.891659, 139.953995], [35.857388, 139.97847], [35.854141, 139.982056], [35.859604, 139.977722], [35.859604, 139.977722], [35.859604, 139.977722], [35.859604, 139.977722], [35.864445, 139.986511], [35.864445, 139.986511], [35.861809, 139.97142], [35.861809, 139.97142], [35.861809, 139.97142], [35.861694, 139.973999], [35.861694, 139.973999], [35.861694, 139.973999], [35.861694, 139.973999], [35.861694, 139.973999], [35.861694, 139.973999], [35.861694, 139.973999], [35.860302, 139.975159], [35.860302, 139.975159], [35.860302, 139.975159], [35.860302, 139.975159], [35.860302, 139.975159], [35.860302, 139.975159], [35.860302, 139.975159], [35.860302, 139.975159], [35.863529, 139.974228], [35.855583, 139.972137], [35.855583, 139.972137], [35.859303, 139.970566], [35.859303, 139.970566], [35.859303, 139.970566], [35.859303, 139.970566], [35.859303, 139.970566], [35.84705, 140.034134], [35.856987, 139.981491], [35.854141, 139.982056], [35.858639, 139.983749], [35.858639, 139.983749], [35.864445, 139.986511], [35.853451, 139.977646], [35.853882, 139.985901], [35.85392, 139.971054], [35.90826, 139.95816], [35.912533, 139.953461], [35.915054, 139.959076], [35.915054, 139.959076], [35.896736, 139.974243], [35.896736, 139.974243], [35.896736, 139.974243], [35.896736, 139.974243], [35.896736, 139.974243], [35.896736, 139.974243], [35.896736, 139.974243], [35.868122, 139.943359], [35.868122, 139.943359], [35.868122, 139.943359], [35.855282, 139.952621], [35.804619, 139.996078], [35.804619, 139.996078], [35.8078, 139.99794], [35.882629, 139.959305], [35.89653, 139.915878], [35.904537, 139.9216], [35.904537, 139.9216]],\n",
       "                {&quot;blur&quot;: 15, &quot;maxZoom&quot;: 18, &quot;minOpacity&quot;: 0.5, &quot;radius&quot;: 15}\n",
       "            );\n",
       "        \n",
       "    \n",
       "            heat_map_7c127b238e99ba8af083500a514b183a.addTo(map_46f4f42c8ea80f1115bb71fd5fd805a0);\n",
       "        \n",
       "    \n",
       "            var marker_cluster_939523b88a13c50ccd99e5951ea2c97f = L.markerClusterGroup(\n",
       "                {}\n",
       "            );\n",
       "        \n",
       "    \n",
       "            var marker_dcec7e1f60f10ae2bfa6d24a316beea2 = L.marker(\n",
       "                [35.841019, 139.956406],\n",
       "                {}\n",
       "            ).addTo(marker_cluster_939523b88a13c50ccd99e5951ea2c97f);\n",
       "        \n",
       "    \n",
       "            marker_dcec7e1f60f10ae2bfa6d24a316beea2.bindTooltip(\n",
       "                `&lt;div&gt;\n",
       "                     法人・団体、被害者なし\n",
       "                 &lt;/div&gt;`,\n",
       "                {&quot;sticky&quot;: true}\n",
       "            );\n",
       "        \n",
       "    \n",
       "            var marker_a00be98703fbb6d533e798dcdc45c765 = L.marker(\n",
       "                [35.841019, 139.956406],\n",
       "                {}\n",
       "            ).addTo(marker_cluster_939523b88a13c50ccd99e5951ea2c97f);\n",
       "        \n",
       "    \n",
       "            marker_a00be98703fbb6d533e798dcdc45c765.bindTooltip(\n",
       "                `&lt;div&gt;\n",
       "                     10歳代\n",
       "                 &lt;/div&gt;`,\n",
       "                {&quot;sticky&quot;: true}\n",
       "            );\n",
       "        \n",
       "    \n",
       "            var marker_ca55756ad644617431b19c29b7c43ddd = L.marker(\n",
       "                [35.841019, 139.956406],\n",
       "                {}\n",
       "            ).addTo(marker_cluster_939523b88a13c50ccd99e5951ea2c97f);\n",
       "        \n",
       "    \n",
       "            marker_ca55756ad644617431b19c29b7c43ddd.bindTooltip(\n",
       "                `&lt;div&gt;\n",
       "                     20歳代\n",
       "                 &lt;/div&gt;`,\n",
       "                {&quot;sticky&quot;: true}\n",
       "            );\n",
       "        \n",
       "    \n",
       "            var marker_ed57a48c7925d374baed5529f599d12f = L.marker(\n",
       "                [35.841019, 139.956406],\n",
       "                {}\n",
       "            ).addTo(marker_cluster_939523b88a13c50ccd99e5951ea2c97f);\n",
       "        \n",
       "    \n",
       "            marker_ed57a48c7925d374baed5529f599d12f.bindTooltip(\n",
       "                `&lt;div&gt;\n",
       "                     20歳代\n",
       "                 &lt;/div&gt;`,\n",
       "                {&quot;sticky&quot;: true}\n",
       "            );\n",
       "        \n",
       "    \n",
       "            var marker_ea09319ed96ee0880a983ba2ac63a74b = L.marker(\n",
       "                [35.841019, 139.956406],\n",
       "                {}\n",
       "            ).addTo(marker_cluster_939523b88a13c50ccd99e5951ea2c97f);\n",
       "        \n",
       "    \n",
       "            marker_ea09319ed96ee0880a983ba2ac63a74b.bindTooltip(\n",
       "                `&lt;div&gt;\n",
       "                     10歳未満\n",
       "                 &lt;/div&gt;`,\n",
       "                {&quot;sticky&quot;: true}\n",
       "            );\n",
       "        \n",
       "    \n",
       "            var marker_a399736916209c8db43e62fe6835b123 = L.marker(\n",
       "                [35.841019, 139.956406],\n",
       "                {}\n",
       "            ).addTo(marker_cluster_939523b88a13c50ccd99e5951ea2c97f);\n",
       "        \n",
       "    \n",
       "            marker_a399736916209c8db43e62fe6835b123.bindTooltip(\n",
       "                `&lt;div&gt;\n",
       "                     30歳代\n",
       "                 &lt;/div&gt;`,\n",
       "                {&quot;sticky&quot;: true}\n",
       "            );\n",
       "        \n",
       "    \n",
       "            var marker_71bcb245137a193ee114b23c389b2fc8 = L.marker(\n",
       "                [35.81815, 139.957825],\n",
       "                {}\n",
       "            ).addTo(marker_cluster_939523b88a13c50ccd99e5951ea2c97f);\n",
       "        \n",
       "    \n",
       "            marker_71bcb245137a193ee114b23c389b2fc8.bindTooltip(\n",
       "                `&lt;div&gt;\n",
       "                     20歳代\n",
       "                 &lt;/div&gt;`,\n",
       "                {&quot;sticky&quot;: true}\n",
       "            );\n",
       "        \n",
       "    \n",
       "            var marker_c68ce1172495b5e338c37c41ab247229 = L.marker(\n",
       "                [35.821594, 139.967194],\n",
       "                {}\n",
       "            ).addTo(marker_cluster_939523b88a13c50ccd99e5951ea2c97f);\n",
       "        \n",
       "    \n",
       "            marker_c68ce1172495b5e338c37c41ab247229.bindTooltip(\n",
       "                `&lt;div&gt;\n",
       "                     10歳代\n",
       "                 &lt;/div&gt;`,\n",
       "                {&quot;sticky&quot;: true}\n",
       "            );\n",
       "        \n",
       "    \n",
       "            var marker_cabed88085b0d925937d8756460e4844 = L.marker(\n",
       "                [35.821594, 139.967194],\n",
       "                {}\n",
       "            ).addTo(marker_cluster_939523b88a13c50ccd99e5951ea2c97f);\n",
       "        \n",
       "    \n",
       "            marker_cabed88085b0d925937d8756460e4844.bindTooltip(\n",
       "                `&lt;div&gt;\n",
       "                     10歳代\n",
       "                 &lt;/div&gt;`,\n",
       "                {&quot;sticky&quot;: true}\n",
       "            );\n",
       "        \n",
       "    \n",
       "            var marker_d121e04b656ef5f636b40b66634e1d6c = L.marker(\n",
       "                [35.820488, 139.960007],\n",
       "                {}\n",
       "            ).addTo(marker_cluster_939523b88a13c50ccd99e5951ea2c97f);\n",
       "        \n",
       "    \n",
       "            marker_d121e04b656ef5f636b40b66634e1d6c.bindTooltip(\n",
       "                `&lt;div&gt;\n",
       "                     50歳代\n",
       "                 &lt;/div&gt;`,\n",
       "                {&quot;sticky&quot;: true}\n",
       "            );\n",
       "        \n",
       "    \n",
       "            var marker_2ed8a40bb2f4fce522097bf70eb599bc = L.marker(\n",
       "                [35.820488, 139.960007],\n",
       "                {}\n",
       "            ).addTo(marker_cluster_939523b88a13c50ccd99e5951ea2c97f);\n",
       "        \n",
       "    \n",
       "            marker_2ed8a40bb2f4fce522097bf70eb599bc.bindTooltip(\n",
       "                `&lt;div&gt;\n",
       "                     10歳代\n",
       "                 &lt;/div&gt;`,\n",
       "                {&quot;sticky&quot;: true}\n",
       "            );\n",
       "        \n",
       "    \n",
       "            var marker_4bc02d2a8ba1d3ce19498a8e170e2c19 = L.marker(\n",
       "                [35.820488, 139.960007],\n",
       "                {}\n",
       "            ).addTo(marker_cluster_939523b88a13c50ccd99e5951ea2c97f);\n",
       "        \n",
       "    \n",
       "            marker_4bc02d2a8ba1d3ce19498a8e170e2c19.bindTooltip(\n",
       "                `&lt;div&gt;\n",
       "                     30歳代\n",
       "                 &lt;/div&gt;`,\n",
       "                {&quot;sticky&quot;: true}\n",
       "            );\n",
       "        \n",
       "    \n",
       "            var marker_7ccc6482e4b3a2a0703cb95e6367163e = L.marker(\n",
       "                [35.834564, 139.943588],\n",
       "                {}\n",
       "            ).addTo(marker_cluster_939523b88a13c50ccd99e5951ea2c97f);\n",
       "        \n",
       "    \n",
       "            marker_7ccc6482e4b3a2a0703cb95e6367163e.bindTooltip(\n",
       "                `&lt;div&gt;\n",
       "                     65-69歳\n",
       "                 &lt;/div&gt;`,\n",
       "                {&quot;sticky&quot;: true}\n",
       "            );\n",
       "        \n",
       "    \n",
       "            var marker_051e435db109c6fb85e45cbc381e969d = L.marker(\n",
       "                [35.830315, 139.951508],\n",
       "                {}\n",
       "            ).addTo(marker_cluster_939523b88a13c50ccd99e5951ea2c97f);\n",
       "        \n",
       "    \n",
       "            marker_051e435db109c6fb85e45cbc381e969d.bindTooltip(\n",
       "                `&lt;div&gt;\n",
       "                     10歳代\n",
       "                 &lt;/div&gt;`,\n",
       "                {&quot;sticky&quot;: true}\n",
       "            );\n",
       "        \n",
       "    \n",
       "            var marker_f2d6852d8cd5b0be720e3fd0ca6f29ec = L.marker(\n",
       "                [35.864445, 139.986511],\n",
       "                {}\n",
       "            ).addTo(marker_cluster_939523b88a13c50ccd99e5951ea2c97f);\n",
       "        \n",
       "    \n",
       "            marker_f2d6852d8cd5b0be720e3fd0ca6f29ec.bindTooltip(\n",
       "                `&lt;div&gt;\n",
       "                     20歳代\n",
       "                 &lt;/div&gt;`,\n",
       "                {&quot;sticky&quot;: true}\n",
       "            );\n",
       "        \n",
       "    \n",
       "            var marker_8f879e82f9fe691366d8dbf5986a3c8a = L.marker(\n",
       "                [35.864445, 139.986511],\n",
       "                {}\n",
       "            ).addTo(marker_cluster_939523b88a13c50ccd99e5951ea2c97f);\n",
       "        \n",
       "    \n",
       "            marker_8f879e82f9fe691366d8dbf5986a3c8a.bindTooltip(\n",
       "                `&lt;div&gt;\n",
       "                     20歳代\n",
       "                 &lt;/div&gt;`,\n",
       "                {&quot;sticky&quot;: true}\n",
       "            );\n",
       "        \n",
       "    \n",
       "            var marker_ba75711ef127d1b67b08c0f13faae660 = L.marker(\n",
       "                [35.874477, 139.985413],\n",
       "                {}\n",
       "            ).addTo(marker_cluster_939523b88a13c50ccd99e5951ea2c97f);\n",
       "        \n",
       "    \n",
       "            marker_ba75711ef127d1b67b08c0f13faae660.bindTooltip(\n",
       "                `&lt;div&gt;\n",
       "                     20歳代\n",
       "                 &lt;/div&gt;`,\n",
       "                {&quot;sticky&quot;: true}\n",
       "            );\n",
       "        \n",
       "    \n",
       "            var marker_8416859cd1753eeb86438f4d1b7f9b2c = L.marker(\n",
       "                [35.872643, 139.989914],\n",
       "                {}\n",
       "            ).addTo(marker_cluster_939523b88a13c50ccd99e5951ea2c97f);\n",
       "        \n",
       "    \n",
       "            marker_8416859cd1753eeb86438f4d1b7f9b2c.bindTooltip(\n",
       "                `&lt;div&gt;\n",
       "                     20歳代\n",
       "                 &lt;/div&gt;`,\n",
       "                {&quot;sticky&quot;: true}\n",
       "            );\n",
       "        \n",
       "    \n",
       "            var marker_18041612cccbd38c02b4107f3036abc9 = L.marker(\n",
       "                [35.872192, 139.987793],\n",
       "                {}\n",
       "            ).addTo(marker_cluster_939523b88a13c50ccd99e5951ea2c97f);\n",
       "        \n",
       "    \n",
       "            marker_18041612cccbd38c02b4107f3036abc9.bindTooltip(\n",
       "                `&lt;div&gt;\n",
       "                     10歳代\n",
       "                 &lt;/div&gt;`,\n",
       "                {&quot;sticky&quot;: true}\n",
       "            );\n",
       "        \n",
       "    \n",
       "            var marker_ca5d46924fb903e3d96a55ab43a10885 = L.marker(\n",
       "                [35.887501, 139.985229],\n",
       "                {}\n",
       "            ).addTo(marker_cluster_939523b88a13c50ccd99e5951ea2c97f);\n",
       "        \n",
       "    \n",
       "            marker_ca5d46924fb903e3d96a55ab43a10885.bindTooltip(\n",
       "                `&lt;div&gt;\n",
       "                     20歳代\n",
       "                 &lt;/div&gt;`,\n",
       "                {&quot;sticky&quot;: true}\n",
       "            );\n",
       "        \n",
       "    \n",
       "            var marker_cd5e47576207d58e9aef3f17d8a14d53 = L.marker(\n",
       "                [35.88113, 139.98645],\n",
       "                {}\n",
       "            ).addTo(marker_cluster_939523b88a13c50ccd99e5951ea2c97f);\n",
       "        \n",
       "    \n",
       "            marker_cd5e47576207d58e9aef3f17d8a14d53.bindTooltip(\n",
       "                `&lt;div&gt;\n",
       "                     40歳代\n",
       "                 &lt;/div&gt;`,\n",
       "                {&quot;sticky&quot;: true}\n",
       "            );\n",
       "        \n",
       "    \n",
       "            var marker_fb5c42954a6b7c8220656a65cc344bba = L.marker(\n",
       "                [35.88113, 139.98645],\n",
       "                {}\n",
       "            ).addTo(marker_cluster_939523b88a13c50ccd99e5951ea2c97f);\n",
       "        \n",
       "    \n",
       "            marker_fb5c42954a6b7c8220656a65cc344bba.bindTooltip(\n",
       "                `&lt;div&gt;\n",
       "                     10歳代\n",
       "                 &lt;/div&gt;`,\n",
       "                {&quot;sticky&quot;: true}\n",
       "            );\n",
       "        \n",
       "    \n",
       "            var marker_2b52774498d1b073ad055abb5a21d603 = L.marker(\n",
       "                [35.88113, 139.98645],\n",
       "                {}\n",
       "            ).addTo(marker_cluster_939523b88a13c50ccd99e5951ea2c97f);\n",
       "        \n",
       "    \n",
       "            marker_2b52774498d1b073ad055abb5a21d603.bindTooltip(\n",
       "                `&lt;div&gt;\n",
       "                     10歳代\n",
       "                 &lt;/div&gt;`,\n",
       "                {&quot;sticky&quot;: true}\n",
       "            );\n",
       "        \n",
       "    \n",
       "            var marker_baefc7cccd4b24248f029ddb65d5ab7c = L.marker(\n",
       "                [35.88113, 139.98645],\n",
       "                {}\n",
       "            ).addTo(marker_cluster_939523b88a13c50ccd99e5951ea2c97f);\n",
       "        \n",
       "    \n",
       "            marker_baefc7cccd4b24248f029ddb65d5ab7c.bindTooltip(\n",
       "                `&lt;div&gt;\n",
       "                     30歳代\n",
       "                 &lt;/div&gt;`,\n",
       "                {&quot;sticky&quot;: true}\n",
       "            );\n",
       "        \n",
       "    \n",
       "            var marker_241f1a3900fba4ec5ecec242c6103db4 = L.marker(\n",
       "                [35.88113, 139.98645],\n",
       "                {}\n",
       "            ).addTo(marker_cluster_939523b88a13c50ccd99e5951ea2c97f);\n",
       "        \n",
       "    \n",
       "            marker_241f1a3900fba4ec5ecec242c6103db4.bindTooltip(\n",
       "                `&lt;div&gt;\n",
       "                     10歳代\n",
       "                 &lt;/div&gt;`,\n",
       "                {&quot;sticky&quot;: true}\n",
       "            );\n",
       "        \n",
       "    \n",
       "            var marker_0d3daf63c32262efeeb6aa81782d022c = L.marker(\n",
       "                [35.88113, 139.98645],\n",
       "                {}\n",
       "            ).addTo(marker_cluster_939523b88a13c50ccd99e5951ea2c97f);\n",
       "        \n",
       "    \n",
       "            marker_0d3daf63c32262efeeb6aa81782d022c.bindTooltip(\n",
       "                `&lt;div&gt;\n",
       "                     10歳代\n",
       "                 &lt;/div&gt;`,\n",
       "                {&quot;sticky&quot;: true}\n",
       "            );\n",
       "        \n",
       "    \n",
       "            var marker_84e3569a3c2c594db678110851c7d277 = L.marker(\n",
       "                [35.88113, 139.98645],\n",
       "                {}\n",
       "            ).addTo(marker_cluster_939523b88a13c50ccd99e5951ea2c97f);\n",
       "        \n",
       "    \n",
       "            marker_84e3569a3c2c594db678110851c7d277.bindTooltip(\n",
       "                `&lt;div&gt;\n",
       "                     20歳代\n",
       "                 &lt;/div&gt;`,\n",
       "                {&quot;sticky&quot;: true}\n",
       "            );\n",
       "        \n",
       "    \n",
       "            var marker_3deb44959bea555e0fcb270c797dea7b = L.marker(\n",
       "                [35.88113, 139.98645],\n",
       "                {}\n",
       "            ).addTo(marker_cluster_939523b88a13c50ccd99e5951ea2c97f);\n",
       "        \n",
       "    \n",
       "            marker_3deb44959bea555e0fcb270c797dea7b.bindTooltip(\n",
       "                `&lt;div&gt;\n",
       "                     10歳代\n",
       "                 &lt;/div&gt;`,\n",
       "                {&quot;sticky&quot;: true}\n",
       "            );\n",
       "        \n",
       "    \n",
       "            var marker_04b99ff2219a7705311a83e152d87ea4 = L.marker(\n",
       "                [35.88113, 139.98645],\n",
       "                {}\n",
       "            ).addTo(marker_cluster_939523b88a13c50ccd99e5951ea2c97f);\n",
       "        \n",
       "    \n",
       "            marker_04b99ff2219a7705311a83e152d87ea4.bindTooltip(\n",
       "                `&lt;div&gt;\n",
       "                     10歳代\n",
       "                 &lt;/div&gt;`,\n",
       "                {&quot;sticky&quot;: true}\n",
       "            );\n",
       "        \n",
       "    \n",
       "            var marker_5e775799c61205609e85141ed89c9edc = L.marker(\n",
       "                [35.88113, 139.98645],\n",
       "                {}\n",
       "            ).addTo(marker_cluster_939523b88a13c50ccd99e5951ea2c97f);\n",
       "        \n",
       "    \n",
       "            marker_5e775799c61205609e85141ed89c9edc.bindTooltip(\n",
       "                `&lt;div&gt;\n",
       "                     20歳代\n",
       "                 &lt;/div&gt;`,\n",
       "                {&quot;sticky&quot;: true}\n",
       "            );\n",
       "        \n",
       "    \n",
       "            var marker_1d82667a974752b85551f40efbdd1cb0 = L.marker(\n",
       "                [35.88113, 139.98645],\n",
       "                {}\n",
       "            ).addTo(marker_cluster_939523b88a13c50ccd99e5951ea2c97f);\n",
       "        \n",
       "    \n",
       "            marker_1d82667a974752b85551f40efbdd1cb0.bindTooltip(\n",
       "                `&lt;div&gt;\n",
       "                     50歳代\n",
       "                 &lt;/div&gt;`,\n",
       "                {&quot;sticky&quot;: true}\n",
       "            );\n",
       "        \n",
       "    \n",
       "            var marker_965837c30943d577771c9d6d5a31acb8 = L.marker(\n",
       "                [35.88113, 139.98645],\n",
       "                {}\n",
       "            ).addTo(marker_cluster_939523b88a13c50ccd99e5951ea2c97f);\n",
       "        \n",
       "    \n",
       "            marker_965837c30943d577771c9d6d5a31acb8.bindTooltip(\n",
       "                `&lt;div&gt;\n",
       "                     10歳代\n",
       "                 &lt;/div&gt;`,\n",
       "                {&quot;sticky&quot;: true}\n",
       "            );\n",
       "        \n",
       "    \n",
       "            var marker_a029b6421f591e5399cb16db558b91ae = L.marker(\n",
       "                [35.88113, 139.98645],\n",
       "                {}\n",
       "            ).addTo(marker_cluster_939523b88a13c50ccd99e5951ea2c97f);\n",
       "        \n",
       "    \n",
       "            marker_a029b6421f591e5399cb16db558b91ae.bindTooltip(\n",
       "                `&lt;div&gt;\n",
       "                     50歳代\n",
       "                 &lt;/div&gt;`,\n",
       "                {&quot;sticky&quot;: true}\n",
       "            );\n",
       "        \n",
       "    \n",
       "            var marker_25c66cec6f882f7e3e0cff093f320cd5 = L.marker(\n",
       "                [35.88113, 139.98645],\n",
       "                {}\n",
       "            ).addTo(marker_cluster_939523b88a13c50ccd99e5951ea2c97f);\n",
       "        \n",
       "    \n",
       "            marker_25c66cec6f882f7e3e0cff093f320cd5.bindTooltip(\n",
       "                `&lt;div&gt;\n",
       "                     30歳代\n",
       "                 &lt;/div&gt;`,\n",
       "                {&quot;sticky&quot;: true}\n",
       "            );\n",
       "        \n",
       "    \n",
       "            var marker_9e31f3dcf4b7ade1c114b212606b39b6 = L.marker(\n",
       "                [35.88113, 139.98645],\n",
       "                {}\n",
       "            ).addTo(marker_cluster_939523b88a13c50ccd99e5951ea2c97f);\n",
       "        \n",
       "    \n",
       "            marker_9e31f3dcf4b7ade1c114b212606b39b6.bindTooltip(\n",
       "                `&lt;div&gt;\n",
       "                     10歳代\n",
       "                 &lt;/div&gt;`,\n",
       "                {&quot;sticky&quot;: true}\n",
       "            );\n",
       "        \n",
       "    \n",
       "            var marker_2c0f2190e8beab8e3f88c2ad9f6d1f79 = L.marker(\n",
       "                [35.88113, 139.98645],\n",
       "                {}\n",
       "            ).addTo(marker_cluster_939523b88a13c50ccd99e5951ea2c97f);\n",
       "        \n",
       "    \n",
       "            marker_2c0f2190e8beab8e3f88c2ad9f6d1f79.bindTooltip(\n",
       "                `&lt;div&gt;\n",
       "                     20歳代\n",
       "                 &lt;/div&gt;`,\n",
       "                {&quot;sticky&quot;: true}\n",
       "            );\n",
       "        \n",
       "    \n",
       "            var marker_416a071504faf2df7f39e8f47bddbf0c = L.marker(\n",
       "                [35.88113, 139.98645],\n",
       "                {}\n",
       "            ).addTo(marker_cluster_939523b88a13c50ccd99e5951ea2c97f);\n",
       "        \n",
       "    \n",
       "            marker_416a071504faf2df7f39e8f47bddbf0c.bindTooltip(\n",
       "                `&lt;div&gt;\n",
       "                     20歳代\n",
       "                 &lt;/div&gt;`,\n",
       "                {&quot;sticky&quot;: true}\n",
       "            );\n",
       "        \n",
       "    \n",
       "            var marker_39f3d9dcdfa4bb507952c13c5f4babb6 = L.marker(\n",
       "                [35.88113, 139.98645],\n",
       "                {}\n",
       "            ).addTo(marker_cluster_939523b88a13c50ccd99e5951ea2c97f);\n",
       "        \n",
       "    \n",
       "            marker_39f3d9dcdfa4bb507952c13c5f4babb6.bindTooltip(\n",
       "                `&lt;div&gt;\n",
       "                     20歳代\n",
       "                 &lt;/div&gt;`,\n",
       "                {&quot;sticky&quot;: true}\n",
       "            );\n",
       "        \n",
       "    \n",
       "            var marker_d0bfcce620cdb3f9092d3fec61b8aa52 = L.marker(\n",
       "                [35.88113, 139.98645],\n",
       "                {}\n",
       "            ).addTo(marker_cluster_939523b88a13c50ccd99e5951ea2c97f);\n",
       "        \n",
       "    \n",
       "            marker_d0bfcce620cdb3f9092d3fec61b8aa52.bindTooltip(\n",
       "                `&lt;div&gt;\n",
       "                     10歳代\n",
       "                 &lt;/div&gt;`,\n",
       "                {&quot;sticky&quot;: true}\n",
       "            );\n",
       "        \n",
       "    \n",
       "            var marker_3bf8cf79eb432de76ba3011f8a35b679 = L.marker(\n",
       "                [35.88113, 139.98645],\n",
       "                {}\n",
       "            ).addTo(marker_cluster_939523b88a13c50ccd99e5951ea2c97f);\n",
       "        \n",
       "    \n",
       "            marker_3bf8cf79eb432de76ba3011f8a35b679.bindTooltip(\n",
       "                `&lt;div&gt;\n",
       "                     70歳以上\n",
       "                 &lt;/div&gt;`,\n",
       "                {&quot;sticky&quot;: true}\n",
       "            );\n",
       "        \n",
       "    \n",
       "            var marker_5a9453564313b363d2f55dd3c466926c = L.marker(\n",
       "                [35.815441, 139.982468],\n",
       "                {}\n",
       "            ).addTo(marker_cluster_939523b88a13c50ccd99e5951ea2c97f);\n",
       "        \n",
       "    \n",
       "            marker_5a9453564313b363d2f55dd3c466926c.bindTooltip(\n",
       "                `&lt;div&gt;\n",
       "                     10歳代\n",
       "                 &lt;/div&gt;`,\n",
       "                {&quot;sticky&quot;: true}\n",
       "            );\n",
       "        \n",
       "    \n",
       "            var marker_fe19f8041313f999e6d18e28303414b9 = L.marker(\n",
       "                [35.815441, 139.982468],\n",
       "                {}\n",
       "            ).addTo(marker_cluster_939523b88a13c50ccd99e5951ea2c97f);\n",
       "        \n",
       "    \n",
       "            marker_fe19f8041313f999e6d18e28303414b9.bindTooltip(\n",
       "                `&lt;div&gt;\n",
       "                     10歳代\n",
       "                 &lt;/div&gt;`,\n",
       "                {&quot;sticky&quot;: true}\n",
       "            );\n",
       "        \n",
       "    \n",
       "            var marker_b933bc3a92151558222ab05e2a6e2b7b = L.marker(\n",
       "                [35.815441, 139.982468],\n",
       "                {}\n",
       "            ).addTo(marker_cluster_939523b88a13c50ccd99e5951ea2c97f);\n",
       "        \n",
       "    \n",
       "            marker_b933bc3a92151558222ab05e2a6e2b7b.bindTooltip(\n",
       "                `&lt;div&gt;\n",
       "                     20歳代\n",
       "                 &lt;/div&gt;`,\n",
       "                {&quot;sticky&quot;: true}\n",
       "            );\n",
       "        \n",
       "    \n",
       "            var marker_63fb182cc11be41bb5717574ff5e96db = L.marker(\n",
       "                [35.815441, 139.982468],\n",
       "                {}\n",
       "            ).addTo(marker_cluster_939523b88a13c50ccd99e5951ea2c97f);\n",
       "        \n",
       "    \n",
       "            marker_63fb182cc11be41bb5717574ff5e96db.bindTooltip(\n",
       "                `&lt;div&gt;\n",
       "                     10歳代\n",
       "                 &lt;/div&gt;`,\n",
       "                {&quot;sticky&quot;: true}\n",
       "            );\n",
       "        \n",
       "    \n",
       "            var marker_38995cccb03ddf00d319732bf54b4a41 = L.marker(\n",
       "                [35.815441, 139.982468],\n",
       "                {}\n",
       "            ).addTo(marker_cluster_939523b88a13c50ccd99e5951ea2c97f);\n",
       "        \n",
       "    \n",
       "            marker_38995cccb03ddf00d319732bf54b4a41.bindTooltip(\n",
       "                `&lt;div&gt;\n",
       "                     10歳代\n",
       "                 &lt;/div&gt;`,\n",
       "                {&quot;sticky&quot;: true}\n",
       "            );\n",
       "        \n",
       "    \n",
       "            var marker_4a5c0a242032c53bdf6d42a86bb9eec0 = L.marker(\n",
       "                [35.815441, 139.982468],\n",
       "                {}\n",
       "            ).addTo(marker_cluster_939523b88a13c50ccd99e5951ea2c97f);\n",
       "        \n",
       "    \n",
       "            marker_4a5c0a242032c53bdf6d42a86bb9eec0.bindTooltip(\n",
       "                `&lt;div&gt;\n",
       "                     10歳代\n",
       "                 &lt;/div&gt;`,\n",
       "                {&quot;sticky&quot;: true}\n",
       "            );\n",
       "        \n",
       "    \n",
       "            var marker_0b8ee694fef61f657c06351b3bb4c1bc = L.marker(\n",
       "                [35.815441, 139.982468],\n",
       "                {}\n",
       "            ).addTo(marker_cluster_939523b88a13c50ccd99e5951ea2c97f);\n",
       "        \n",
       "    \n",
       "            marker_0b8ee694fef61f657c06351b3bb4c1bc.bindTooltip(\n",
       "                `&lt;div&gt;\n",
       "                     10歳代\n",
       "                 &lt;/div&gt;`,\n",
       "                {&quot;sticky&quot;: true}\n",
       "            );\n",
       "        \n",
       "    \n",
       "            var marker_955a76a2443e23e7a71e7c49915acf78 = L.marker(\n",
       "                [35.815441, 139.982468],\n",
       "                {}\n",
       "            ).addTo(marker_cluster_939523b88a13c50ccd99e5951ea2c97f);\n",
       "        \n",
       "    \n",
       "            marker_955a76a2443e23e7a71e7c49915acf78.bindTooltip(\n",
       "                `&lt;div&gt;\n",
       "                     10歳代\n",
       "                 &lt;/div&gt;`,\n",
       "                {&quot;sticky&quot;: true}\n",
       "            );\n",
       "        \n",
       "    \n",
       "            var marker_be786bd50a44bc36f343c3490bd160f9 = L.marker(\n",
       "                [35.822018, 139.983444],\n",
       "                {}\n",
       "            ).addTo(marker_cluster_939523b88a13c50ccd99e5951ea2c97f);\n",
       "        \n",
       "    \n",
       "            marker_be786bd50a44bc36f343c3490bd160f9.bindTooltip(\n",
       "                `&lt;div&gt;\n",
       "                     10歳代\n",
       "                 &lt;/div&gt;`,\n",
       "                {&quot;sticky&quot;: true}\n",
       "            );\n",
       "        \n",
       "    \n",
       "            var marker_5981531cc8757f41bfd2d6501a77ad90 = L.marker(\n",
       "                [35.822018, 139.983444],\n",
       "                {}\n",
       "            ).addTo(marker_cluster_939523b88a13c50ccd99e5951ea2c97f);\n",
       "        \n",
       "    \n",
       "            marker_5981531cc8757f41bfd2d6501a77ad90.bindTooltip(\n",
       "                `&lt;div&gt;\n",
       "                     10歳代\n",
       "                 &lt;/div&gt;`,\n",
       "                {&quot;sticky&quot;: true}\n",
       "            );\n",
       "        \n",
       "    \n",
       "            var marker_1e4ee6e61428583b97bcb5aca29142bb = L.marker(\n",
       "                [35.830414, 139.981293],\n",
       "                {}\n",
       "            ).addTo(marker_cluster_939523b88a13c50ccd99e5951ea2c97f);\n",
       "        \n",
       "    \n",
       "            marker_1e4ee6e61428583b97bcb5aca29142bb.bindTooltip(\n",
       "                `&lt;div&gt;\n",
       "                     70歳以上\n",
       "                 &lt;/div&gt;`,\n",
       "                {&quot;sticky&quot;: true}\n",
       "            );\n",
       "        \n",
       "    \n",
       "            var marker_5c5ad889fed592c7560933df8e6800ab = L.marker(\n",
       "                [35.816387, 139.974075],\n",
       "                {}\n",
       "            ).addTo(marker_cluster_939523b88a13c50ccd99e5951ea2c97f);\n",
       "        \n",
       "    \n",
       "            marker_5c5ad889fed592c7560933df8e6800ab.bindTooltip(\n",
       "                `&lt;div&gt;\n",
       "                     50歳代\n",
       "                 &lt;/div&gt;`,\n",
       "                {&quot;sticky&quot;: true}\n",
       "            );\n",
       "        \n",
       "    \n",
       "            var marker_6aa6d11216adbf8e703f9ab940e476f7 = L.marker(\n",
       "                [35.816387, 139.974075],\n",
       "                {}\n",
       "            ).addTo(marker_cluster_939523b88a13c50ccd99e5951ea2c97f);\n",
       "        \n",
       "    \n",
       "            marker_6aa6d11216adbf8e703f9ab940e476f7.bindTooltip(\n",
       "                `&lt;div&gt;\n",
       "                     10歳代\n",
       "                 &lt;/div&gt;`,\n",
       "                {&quot;sticky&quot;: true}\n",
       "            );\n",
       "        \n",
       "    \n",
       "            var marker_2a1fabdb0e51ff6ed4f096bde45d9e1b = L.marker(\n",
       "                [35.818909, 139.971741],\n",
       "                {}\n",
       "            ).addTo(marker_cluster_939523b88a13c50ccd99e5951ea2c97f);\n",
       "        \n",
       "    \n",
       "            marker_2a1fabdb0e51ff6ed4f096bde45d9e1b.bindTooltip(\n",
       "                `&lt;div&gt;\n",
       "                     30歳代\n",
       "                 &lt;/div&gt;`,\n",
       "                {&quot;sticky&quot;: true}\n",
       "            );\n",
       "        \n",
       "    \n",
       "            var marker_493b6453c5231cb9dfd4355f8f53dded = L.marker(\n",
       "                [35.818909, 139.971741],\n",
       "                {}\n",
       "            ).addTo(marker_cluster_939523b88a13c50ccd99e5951ea2c97f);\n",
       "        \n",
       "    \n",
       "            marker_493b6453c5231cb9dfd4355f8f53dded.bindTooltip(\n",
       "                `&lt;div&gt;\n",
       "                     10歳代\n",
       "                 &lt;/div&gt;`,\n",
       "                {&quot;sticky&quot;: true}\n",
       "            );\n",
       "        \n",
       "    \n",
       "            var marker_df8844926c4cd91bd0aa939f01483624 = L.marker(\n",
       "                [35.811157, 139.963562],\n",
       "                {}\n",
       "            ).addTo(marker_cluster_939523b88a13c50ccd99e5951ea2c97f);\n",
       "        \n",
       "    \n",
       "            marker_df8844926c4cd91bd0aa939f01483624.bindTooltip(\n",
       "                `&lt;div&gt;\n",
       "                     50歳代\n",
       "                 &lt;/div&gt;`,\n",
       "                {&quot;sticky&quot;: true}\n",
       "            );\n",
       "        \n",
       "    \n",
       "            var marker_268a565ceeb04c0c5d86e0c4e00e85ec = L.marker(\n",
       "                [35.811157, 139.963562],\n",
       "                {}\n",
       "            ).addTo(marker_cluster_939523b88a13c50ccd99e5951ea2c97f);\n",
       "        \n",
       "    \n",
       "            marker_268a565ceeb04c0c5d86e0c4e00e85ec.bindTooltip(\n",
       "                `&lt;div&gt;\n",
       "                     10歳代\n",
       "                 &lt;/div&gt;`,\n",
       "                {&quot;sticky&quot;: true}\n",
       "            );\n",
       "        \n",
       "    \n",
       "            var marker_903ac98fbbf14f2a8ec7dde8072dac04 = L.marker(\n",
       "                [35.839211, 139.968597],\n",
       "                {}\n",
       "            ).addTo(marker_cluster_939523b88a13c50ccd99e5951ea2c97f);\n",
       "        \n",
       "    \n",
       "            marker_903ac98fbbf14f2a8ec7dde8072dac04.bindTooltip(\n",
       "                `&lt;div&gt;\n",
       "                     10歳代\n",
       "                 &lt;/div&gt;`,\n",
       "                {&quot;sticky&quot;: true}\n",
       "            );\n",
       "        \n",
       "    \n",
       "            var marker_be664b83080d340b5169318ef894f5ff = L.marker(\n",
       "                [35.802795, 139.970001],\n",
       "                {}\n",
       "            ).addTo(marker_cluster_939523b88a13c50ccd99e5951ea2c97f);\n",
       "        \n",
       "    \n",
       "            marker_be664b83080d340b5169318ef894f5ff.bindTooltip(\n",
       "                `&lt;div&gt;\n",
       "                     20歳代\n",
       "                 &lt;/div&gt;`,\n",
       "                {&quot;sticky&quot;: true}\n",
       "            );\n",
       "        \n",
       "    \n",
       "            var marker_aa8036226d2e5ae4cd8c51677dda1c62 = L.marker(\n",
       "                [35.802795, 139.970001],\n",
       "                {}\n",
       "            ).addTo(marker_cluster_939523b88a13c50ccd99e5951ea2c97f);\n",
       "        \n",
       "    \n",
       "            marker_aa8036226d2e5ae4cd8c51677dda1c62.bindTooltip(\n",
       "                `&lt;div&gt;\n",
       "                     20歳代\n",
       "                 &lt;/div&gt;`,\n",
       "                {&quot;sticky&quot;: true}\n",
       "            );\n",
       "        \n",
       "    \n",
       "            var marker_8c99fc252600603595e06bc99197ecfb = L.marker(\n",
       "                [35.805508, 139.977905],\n",
       "                {}\n",
       "            ).addTo(marker_cluster_939523b88a13c50ccd99e5951ea2c97f);\n",
       "        \n",
       "    \n",
       "            marker_8c99fc252600603595e06bc99197ecfb.bindTooltip(\n",
       "                `&lt;div&gt;\n",
       "                     10歳代\n",
       "                 &lt;/div&gt;`,\n",
       "                {&quot;sticky&quot;: true}\n",
       "            );\n",
       "        \n",
       "    \n",
       "            var marker_e275f37b1de4f211955191fd1e16ac41 = L.marker(\n",
       "                [35.807434, 139.981033],\n",
       "                {}\n",
       "            ).addTo(marker_cluster_939523b88a13c50ccd99e5951ea2c97f);\n",
       "        \n",
       "    \n",
       "            marker_e275f37b1de4f211955191fd1e16ac41.bindTooltip(\n",
       "                `&lt;div&gt;\n",
       "                     10歳代\n",
       "                 &lt;/div&gt;`,\n",
       "                {&quot;sticky&quot;: true}\n",
       "            );\n",
       "        \n",
       "    \n",
       "            var marker_f40f120f1d9abdd1e69ca91bac89fa50 = L.marker(\n",
       "                [35.814934, 139.962723],\n",
       "                {}\n",
       "            ).addTo(marker_cluster_939523b88a13c50ccd99e5951ea2c97f);\n",
       "        \n",
       "    \n",
       "            marker_f40f120f1d9abdd1e69ca91bac89fa50.bindTooltip(\n",
       "                `&lt;div&gt;\n",
       "                     10歳代\n",
       "                 &lt;/div&gt;`,\n",
       "                {&quot;sticky&quot;: true}\n",
       "            );\n",
       "        \n",
       "    \n",
       "            var marker_27f9a70c8480543ffa512b17017f4b57 = L.marker(\n",
       "                [35.813534, 139.957855],\n",
       "                {}\n",
       "            ).addTo(marker_cluster_939523b88a13c50ccd99e5951ea2c97f);\n",
       "        \n",
       "    \n",
       "            marker_27f9a70c8480543ffa512b17017f4b57.bindTooltip(\n",
       "                `&lt;div&gt;\n",
       "                     70歳以上\n",
       "                 &lt;/div&gt;`,\n",
       "                {&quot;sticky&quot;: true}\n",
       "            );\n",
       "        \n",
       "    \n",
       "            var marker_28459496f959711cedade734a88add47 = L.marker(\n",
       "                [35.845783, 139.953476],\n",
       "                {}\n",
       "            ).addTo(marker_cluster_939523b88a13c50ccd99e5951ea2c97f);\n",
       "        \n",
       "    \n",
       "            marker_28459496f959711cedade734a88add47.bindTooltip(\n",
       "                `&lt;div&gt;\n",
       "                     10歳代\n",
       "                 &lt;/div&gt;`,\n",
       "                {&quot;sticky&quot;: true}\n",
       "            );\n",
       "        \n",
       "    \n",
       "            var marker_921b3972f048940a9a9c5b73dbfad5b2 = L.marker(\n",
       "                [35.845783, 139.953476],\n",
       "                {}\n",
       "            ).addTo(marker_cluster_939523b88a13c50ccd99e5951ea2c97f);\n",
       "        \n",
       "    \n",
       "            marker_921b3972f048940a9a9c5b73dbfad5b2.bindTooltip(\n",
       "                `&lt;div&gt;\n",
       "                     20歳代\n",
       "                 &lt;/div&gt;`,\n",
       "                {&quot;sticky&quot;: true}\n",
       "            );\n",
       "        \n",
       "    \n",
       "            var marker_af114da96c79ed05c6ba35102294d1ce = L.marker(\n",
       "                [35.845783, 139.953476],\n",
       "                {}\n",
       "            ).addTo(marker_cluster_939523b88a13c50ccd99e5951ea2c97f);\n",
       "        \n",
       "    \n",
       "            marker_af114da96c79ed05c6ba35102294d1ce.bindTooltip(\n",
       "                `&lt;div&gt;\n",
       "                     20歳代\n",
       "                 &lt;/div&gt;`,\n",
       "                {&quot;sticky&quot;: true}\n",
       "            );\n",
       "        \n",
       "    \n",
       "            var marker_8246295cfda7d2818a713365d625e30e = L.marker(\n",
       "                [35.845783, 139.953476],\n",
       "                {}\n",
       "            ).addTo(marker_cluster_939523b88a13c50ccd99e5951ea2c97f);\n",
       "        \n",
       "    \n",
       "            marker_8246295cfda7d2818a713365d625e30e.bindTooltip(\n",
       "                `&lt;div&gt;\n",
       "                     20歳代\n",
       "                 &lt;/div&gt;`,\n",
       "                {&quot;sticky&quot;: true}\n",
       "            );\n",
       "        \n",
       "    \n",
       "            var marker_c9c878e6bcf40bb8af1921b20a2b6b2e = L.marker(\n",
       "                [35.845783, 139.953476],\n",
       "                {}\n",
       "            ).addTo(marker_cluster_939523b88a13c50ccd99e5951ea2c97f);\n",
       "        \n",
       "    \n",
       "            marker_c9c878e6bcf40bb8af1921b20a2b6b2e.bindTooltip(\n",
       "                `&lt;div&gt;\n",
       "                     20歳代\n",
       "                 &lt;/div&gt;`,\n",
       "                {&quot;sticky&quot;: true}\n",
       "            );\n",
       "        \n",
       "    \n",
       "            var marker_d6feb6b094bba1a705b5769ca3207cc9 = L.marker(\n",
       "                [35.845783, 139.953476],\n",
       "                {}\n",
       "            ).addTo(marker_cluster_939523b88a13c50ccd99e5951ea2c97f);\n",
       "        \n",
       "    \n",
       "            marker_d6feb6b094bba1a705b5769ca3207cc9.bindTooltip(\n",
       "                `&lt;div&gt;\n",
       "                     20歳代\n",
       "                 &lt;/div&gt;`,\n",
       "                {&quot;sticky&quot;: true}\n",
       "            );\n",
       "        \n",
       "    \n",
       "            var marker_3b19ac2d7eac152a5671d044d39fc5bc = L.marker(\n",
       "                [35.845783, 139.953476],\n",
       "                {}\n",
       "            ).addTo(marker_cluster_939523b88a13c50ccd99e5951ea2c97f);\n",
       "        \n",
       "    \n",
       "            marker_3b19ac2d7eac152a5671d044d39fc5bc.bindTooltip(\n",
       "                `&lt;div&gt;\n",
       "                     10歳代\n",
       "                 &lt;/div&gt;`,\n",
       "                {&quot;sticky&quot;: true}\n",
       "            );\n",
       "        \n",
       "    \n",
       "            var marker_311626a8895cb6abd641c5220efa1d4b = L.marker(\n",
       "                [35.845783, 139.953476],\n",
       "                {}\n",
       "            ).addTo(marker_cluster_939523b88a13c50ccd99e5951ea2c97f);\n",
       "        \n",
       "    \n",
       "            marker_311626a8895cb6abd641c5220efa1d4b.bindTooltip(\n",
       "                `&lt;div&gt;\n",
       "                     20歳代\n",
       "                 &lt;/div&gt;`,\n",
       "                {&quot;sticky&quot;: true}\n",
       "            );\n",
       "        \n",
       "    \n",
       "            var marker_ae353f7f15311b367a7a7e708b047414 = L.marker(\n",
       "                [35.847271, 139.955032],\n",
       "                {}\n",
       "            ).addTo(marker_cluster_939523b88a13c50ccd99e5951ea2c97f);\n",
       "        \n",
       "    \n",
       "            marker_ae353f7f15311b367a7a7e708b047414.bindTooltip(\n",
       "                `&lt;div&gt;\n",
       "                     20歳代\n",
       "                 &lt;/div&gt;`,\n",
       "                {&quot;sticky&quot;: true}\n",
       "            );\n",
       "        \n",
       "    \n",
       "            var marker_75f871533c59008a96d43d9ce718f437 = L.marker(\n",
       "                [35.847271, 139.955032],\n",
       "                {}\n",
       "            ).addTo(marker_cluster_939523b88a13c50ccd99e5951ea2c97f);\n",
       "        \n",
       "    \n",
       "            marker_75f871533c59008a96d43d9ce718f437.bindTooltip(\n",
       "                `&lt;div&gt;\n",
       "                     30歳代\n",
       "                 &lt;/div&gt;`,\n",
       "                {&quot;sticky&quot;: true}\n",
       "            );\n",
       "        \n",
       "    \n",
       "            var marker_ae6302f4b069dd727ee338dbb5fcd1b1 = L.marker(\n",
       "                [35.847271, 139.955032],\n",
       "                {}\n",
       "            ).addTo(marker_cluster_939523b88a13c50ccd99e5951ea2c97f);\n",
       "        \n",
       "    \n",
       "            marker_ae6302f4b069dd727ee338dbb5fcd1b1.bindTooltip(\n",
       "                `&lt;div&gt;\n",
       "                     40歳代\n",
       "                 &lt;/div&gt;`,\n",
       "                {&quot;sticky&quot;: true}\n",
       "            );\n",
       "        \n",
       "    \n",
       "            var marker_05c7f42e75031df0464c4b5df11d020e = L.marker(\n",
       "                [35.847271, 139.955032],\n",
       "                {}\n",
       "            ).addTo(marker_cluster_939523b88a13c50ccd99e5951ea2c97f);\n",
       "        \n",
       "    \n",
       "            marker_05c7f42e75031df0464c4b5df11d020e.bindTooltip(\n",
       "                `&lt;div&gt;\n",
       "                     50歳代\n",
       "                 &lt;/div&gt;`,\n",
       "                {&quot;sticky&quot;: true}\n",
       "            );\n",
       "        \n",
       "    \n",
       "            var marker_b6e99f5f2ac3e45ebad37bda011851ca = L.marker(\n",
       "                [35.847271, 139.955032],\n",
       "                {}\n",
       "            ).addTo(marker_cluster_939523b88a13c50ccd99e5951ea2c97f);\n",
       "        \n",
       "    \n",
       "            marker_b6e99f5f2ac3e45ebad37bda011851ca.bindTooltip(\n",
       "                `&lt;div&gt;\n",
       "                     20歳代\n",
       "                 &lt;/div&gt;`,\n",
       "                {&quot;sticky&quot;: true}\n",
       "            );\n",
       "        \n",
       "    \n",
       "            var marker_01c8c3ecf85dd58ee19785bdb0db965f = L.marker(\n",
       "                [35.847271, 139.955032],\n",
       "                {}\n",
       "            ).addTo(marker_cluster_939523b88a13c50ccd99e5951ea2c97f);\n",
       "        \n",
       "    \n",
       "            marker_01c8c3ecf85dd58ee19785bdb0db965f.bindTooltip(\n",
       "                `&lt;div&gt;\n",
       "                     10歳代\n",
       "                 &lt;/div&gt;`,\n",
       "                {&quot;sticky&quot;: true}\n",
       "            );\n",
       "        \n",
       "    \n",
       "            var marker_7a5e403c6e5b491072f27de1419ab147 = L.marker(\n",
       "                [35.847271, 139.955032],\n",
       "                {}\n",
       "            ).addTo(marker_cluster_939523b88a13c50ccd99e5951ea2c97f);\n",
       "        \n",
       "    \n",
       "            marker_7a5e403c6e5b491072f27de1419ab147.bindTooltip(\n",
       "                `&lt;div&gt;\n",
       "                     20歳代\n",
       "                 &lt;/div&gt;`,\n",
       "                {&quot;sticky&quot;: true}\n",
       "            );\n",
       "        \n",
       "    \n",
       "            var marker_e3ae2ed3c8ded41f2e958271b6962146 = L.marker(\n",
       "                [35.851013, 139.960251],\n",
       "                {}\n",
       "            ).addTo(marker_cluster_939523b88a13c50ccd99e5951ea2c97f);\n",
       "        \n",
       "    \n",
       "            marker_e3ae2ed3c8ded41f2e958271b6962146.bindTooltip(\n",
       "                `&lt;div&gt;\n",
       "                     20歳代\n",
       "                 &lt;/div&gt;`,\n",
       "                {&quot;sticky&quot;: true}\n",
       "            );\n",
       "        \n",
       "    \n",
       "            var marker_653fadaa24dface74f7dc755cc245b51 = L.marker(\n",
       "                [35.851013, 139.960251],\n",
       "                {}\n",
       "            ).addTo(marker_cluster_939523b88a13c50ccd99e5951ea2c97f);\n",
       "        \n",
       "    \n",
       "            marker_653fadaa24dface74f7dc755cc245b51.bindTooltip(\n",
       "                `&lt;div&gt;\n",
       "                     10歳代\n",
       "                 &lt;/div&gt;`,\n",
       "                {&quot;sticky&quot;: true}\n",
       "            );\n",
       "        \n",
       "    \n",
       "            var marker_71b6a76e47e5dacc3b8212d96ea59922 = L.marker(\n",
       "                [35.851013, 139.960251],\n",
       "                {}\n",
       "            ).addTo(marker_cluster_939523b88a13c50ccd99e5951ea2c97f);\n",
       "        \n",
       "    \n",
       "            marker_71b6a76e47e5dacc3b8212d96ea59922.bindTooltip(\n",
       "                `&lt;div&gt;\n",
       "                     10歳代\n",
       "                 &lt;/div&gt;`,\n",
       "                {&quot;sticky&quot;: true}\n",
       "            );\n",
       "        \n",
       "    \n",
       "            var marker_b8f80ea58a7eeaa03a42d160258bad85 = L.marker(\n",
       "                [35.851013, 139.960251],\n",
       "                {}\n",
       "            ).addTo(marker_cluster_939523b88a13c50ccd99e5951ea2c97f);\n",
       "        \n",
       "    \n",
       "            marker_b8f80ea58a7eeaa03a42d160258bad85.bindTooltip(\n",
       "                `&lt;div&gt;\n",
       "                     30歳代\n",
       "                 &lt;/div&gt;`,\n",
       "                {&quot;sticky&quot;: true}\n",
       "            );\n",
       "        \n",
       "    \n",
       "            var marker_e77b69d066429ecdecd1a2c016823384 = L.marker(\n",
       "                [35.852959, 139.958679],\n",
       "                {}\n",
       "            ).addTo(marker_cluster_939523b88a13c50ccd99e5951ea2c97f);\n",
       "        \n",
       "    \n",
       "            marker_e77b69d066429ecdecd1a2c016823384.bindTooltip(\n",
       "                `&lt;div&gt;\n",
       "                     70歳以上\n",
       "                 &lt;/div&gt;`,\n",
       "                {&quot;sticky&quot;: true}\n",
       "            );\n",
       "        \n",
       "    \n",
       "            var marker_b3cfd5e57e915b7fc955e31c82f37fa9 = L.marker(\n",
       "                [35.830082, 139.97319],\n",
       "                {}\n",
       "            ).addTo(marker_cluster_939523b88a13c50ccd99e5951ea2c97f);\n",
       "        \n",
       "    \n",
       "            marker_b3cfd5e57e915b7fc955e31c82f37fa9.bindTooltip(\n",
       "                `&lt;div&gt;\n",
       "                     10歳代\n",
       "                 &lt;/div&gt;`,\n",
       "                {&quot;sticky&quot;: true}\n",
       "            );\n",
       "        \n",
       "    \n",
       "            var marker_ccfb5cec73eaf98d65d2b99e8e879a09 = L.marker(\n",
       "                [35.830082, 139.97319],\n",
       "                {}\n",
       "            ).addTo(marker_cluster_939523b88a13c50ccd99e5951ea2c97f);\n",
       "        \n",
       "    \n",
       "            marker_ccfb5cec73eaf98d65d2b99e8e879a09.bindTooltip(\n",
       "                `&lt;div&gt;\n",
       "                     20歳代\n",
       "                 &lt;/div&gt;`,\n",
       "                {&quot;sticky&quot;: true}\n",
       "            );\n",
       "        \n",
       "    \n",
       "            var marker_35f46612c9112fa2902a4ff42c733b41 = L.marker(\n",
       "                [35.830082, 139.97319],\n",
       "                {}\n",
       "            ).addTo(marker_cluster_939523b88a13c50ccd99e5951ea2c97f);\n",
       "        \n",
       "    \n",
       "            marker_35f46612c9112fa2902a4ff42c733b41.bindTooltip(\n",
       "                `&lt;div&gt;\n",
       "                     10歳代\n",
       "                 &lt;/div&gt;`,\n",
       "                {&quot;sticky&quot;: true}\n",
       "            );\n",
       "        \n",
       "    \n",
       "            var marker_22eab6e03920b4f068921e7d2d60ef7c = L.marker(\n",
       "                [35.820541, 139.995834],\n",
       "                {}\n",
       "            ).addTo(marker_cluster_939523b88a13c50ccd99e5951ea2c97f);\n",
       "        \n",
       "    \n",
       "            marker_22eab6e03920b4f068921e7d2d60ef7c.bindTooltip(\n",
       "                `&lt;div&gt;\n",
       "                     10歳代\n",
       "                 &lt;/div&gt;`,\n",
       "                {&quot;sticky&quot;: true}\n",
       "            );\n",
       "        \n",
       "    \n",
       "            var marker_354f78d2588892ddfb9606ed21236048 = L.marker(\n",
       "                [35.823658, 139.99144],\n",
       "                {}\n",
       "            ).addTo(marker_cluster_939523b88a13c50ccd99e5951ea2c97f);\n",
       "        \n",
       "    \n",
       "            marker_354f78d2588892ddfb9606ed21236048.bindTooltip(\n",
       "                `&lt;div&gt;\n",
       "                     30歳代\n",
       "                 &lt;/div&gt;`,\n",
       "                {&quot;sticky&quot;: true}\n",
       "            );\n",
       "        \n",
       "    \n",
       "            var marker_b9c7ee3474b2180d6bfa93bf80095a7c = L.marker(\n",
       "                [35.850155, 140.00441],\n",
       "                {}\n",
       "            ).addTo(marker_cluster_939523b88a13c50ccd99e5951ea2c97f);\n",
       "        \n",
       "    \n",
       "            marker_b9c7ee3474b2180d6bfa93bf80095a7c.bindTooltip(\n",
       "                `&lt;div&gt;\n",
       "                     10歳代\n",
       "                 &lt;/div&gt;`,\n",
       "                {&quot;sticky&quot;: true}\n",
       "            );\n",
       "        \n",
       "    \n",
       "            var marker_01cdcc85a76154a40a536c2e9356c83b = L.marker(\n",
       "                [35.850155, 140.00441],\n",
       "                {}\n",
       "            ).addTo(marker_cluster_939523b88a13c50ccd99e5951ea2c97f);\n",
       "        \n",
       "    \n",
       "            marker_01cdcc85a76154a40a536c2e9356c83b.bindTooltip(\n",
       "                `&lt;div&gt;\n",
       "                     10歳代\n",
       "                 &lt;/div&gt;`,\n",
       "                {&quot;sticky&quot;: true}\n",
       "            );\n",
       "        \n",
       "    \n",
       "            var marker_18d9d9858220879574d45d5ff4dc7b1f = L.marker(\n",
       "                [35.833759, 140.011703],\n",
       "                {}\n",
       "            ).addTo(marker_cluster_939523b88a13c50ccd99e5951ea2c97f);\n",
       "        \n",
       "    \n",
       "            marker_18d9d9858220879574d45d5ff4dc7b1f.bindTooltip(\n",
       "                `&lt;div&gt;\n",
       "                     10歳代\n",
       "                 &lt;/div&gt;`,\n",
       "                {&quot;sticky&quot;: true}\n",
       "            );\n",
       "        \n",
       "    \n",
       "            var marker_5d1861e6f5a130c43897421c75ba80b7 = L.marker(\n",
       "                [35.833759, 140.011703],\n",
       "                {}\n",
       "            ).addTo(marker_cluster_939523b88a13c50ccd99e5951ea2c97f);\n",
       "        \n",
       "    \n",
       "            marker_5d1861e6f5a130c43897421c75ba80b7.bindTooltip(\n",
       "                `&lt;div&gt;\n",
       "                     10歳代\n",
       "                 &lt;/div&gt;`,\n",
       "                {&quot;sticky&quot;: true}\n",
       "            );\n",
       "        \n",
       "    \n",
       "            var marker_f60433e154620236bc0d9da40c007f8b = L.marker(\n",
       "                [35.833759, 140.011703],\n",
       "                {}\n",
       "            ).addTo(marker_cluster_939523b88a13c50ccd99e5951ea2c97f);\n",
       "        \n",
       "    \n",
       "            marker_f60433e154620236bc0d9da40c007f8b.bindTooltip(\n",
       "                `&lt;div&gt;\n",
       "                     10歳代\n",
       "                 &lt;/div&gt;`,\n",
       "                {&quot;sticky&quot;: true}\n",
       "            );\n",
       "        \n",
       "    \n",
       "            var marker_c82714f85d89127bd1583695b2950f28 = L.marker(\n",
       "                [35.833759, 140.011703],\n",
       "                {}\n",
       "            ).addTo(marker_cluster_939523b88a13c50ccd99e5951ea2c97f);\n",
       "        \n",
       "    \n",
       "            marker_c82714f85d89127bd1583695b2950f28.bindTooltip(\n",
       "                `&lt;div&gt;\n",
       "                     20歳代\n",
       "                 &lt;/div&gt;`,\n",
       "                {&quot;sticky&quot;: true}\n",
       "            );\n",
       "        \n",
       "    \n",
       "            var marker_46c0e217dd85c7e35f25e2afce0f1263 = L.marker(\n",
       "                [35.833759, 140.011703],\n",
       "                {}\n",
       "            ).addTo(marker_cluster_939523b88a13c50ccd99e5951ea2c97f);\n",
       "        \n",
       "    \n",
       "            marker_46c0e217dd85c7e35f25e2afce0f1263.bindTooltip(\n",
       "                `&lt;div&gt;\n",
       "                     30歳代\n",
       "                 &lt;/div&gt;`,\n",
       "                {&quot;sticky&quot;: true}\n",
       "            );\n",
       "        \n",
       "    \n",
       "            var marker_136c0e1fa9829f82fa48dbb08c493977 = L.marker(\n",
       "                [35.833759, 140.011703],\n",
       "                {}\n",
       "            ).addTo(marker_cluster_939523b88a13c50ccd99e5951ea2c97f);\n",
       "        \n",
       "    \n",
       "            marker_136c0e1fa9829f82fa48dbb08c493977.bindTooltip(\n",
       "                `&lt;div&gt;\n",
       "                     10歳代\n",
       "                 &lt;/div&gt;`,\n",
       "                {&quot;sticky&quot;: true}\n",
       "            );\n",
       "        \n",
       "    \n",
       "            var marker_cc2fee6d7a6ce07c41d174149019a7d3 = L.marker(\n",
       "                [35.833759, 140.011703],\n",
       "                {}\n",
       "            ).addTo(marker_cluster_939523b88a13c50ccd99e5951ea2c97f);\n",
       "        \n",
       "    \n",
       "            marker_cc2fee6d7a6ce07c41d174149019a7d3.bindTooltip(\n",
       "                `&lt;div&gt;\n",
       "                     10歳代\n",
       "                 &lt;/div&gt;`,\n",
       "                {&quot;sticky&quot;: true}\n",
       "            );\n",
       "        \n",
       "    \n",
       "            var marker_a3bd6f7e05e380068818c58ab1624167 = L.marker(\n",
       "                [35.833759, 140.011703],\n",
       "                {}\n",
       "            ).addTo(marker_cluster_939523b88a13c50ccd99e5951ea2c97f);\n",
       "        \n",
       "    \n",
       "            marker_a3bd6f7e05e380068818c58ab1624167.bindTooltip(\n",
       "                `&lt;div&gt;\n",
       "                     50歳代\n",
       "                 &lt;/div&gt;`,\n",
       "                {&quot;sticky&quot;: true}\n",
       "            );\n",
       "        \n",
       "    \n",
       "            var marker_160ea613908aa22ad97cf9efac393d8b = L.marker(\n",
       "                [35.833759, 140.011703],\n",
       "                {}\n",
       "            ).addTo(marker_cluster_939523b88a13c50ccd99e5951ea2c97f);\n",
       "        \n",
       "    \n",
       "            marker_160ea613908aa22ad97cf9efac393d8b.bindTooltip(\n",
       "                `&lt;div&gt;\n",
       "                     10歳代\n",
       "                 &lt;/div&gt;`,\n",
       "                {&quot;sticky&quot;: true}\n",
       "            );\n",
       "        \n",
       "    \n",
       "            var marker_83a2432055ede43c4319eb5b932fc11e = L.marker(\n",
       "                [35.84325, 140.003662],\n",
       "                {}\n",
       "            ).addTo(marker_cluster_939523b88a13c50ccd99e5951ea2c97f);\n",
       "        \n",
       "    \n",
       "            marker_83a2432055ede43c4319eb5b932fc11e.bindTooltip(\n",
       "                `&lt;div&gt;\n",
       "                     10歳代\n",
       "                 &lt;/div&gt;`,\n",
       "                {&quot;sticky&quot;: true}\n",
       "            );\n",
       "        \n",
       "    \n",
       "            var marker_2632cbd0f1341bbc907c7200d20a3dc9 = L.marker(\n",
       "                [35.84325, 140.003662],\n",
       "                {}\n",
       "            ).addTo(marker_cluster_939523b88a13c50ccd99e5951ea2c97f);\n",
       "        \n",
       "    \n",
       "            marker_2632cbd0f1341bbc907c7200d20a3dc9.bindTooltip(\n",
       "                `&lt;div&gt;\n",
       "                     20歳代\n",
       "                 &lt;/div&gt;`,\n",
       "                {&quot;sticky&quot;: true}\n",
       "            );\n",
       "        \n",
       "    \n",
       "            var marker_6cd75846ab1a37632aa3772635cf3521 = L.marker(\n",
       "                [35.84325, 140.003662],\n",
       "                {}\n",
       "            ).addTo(marker_cluster_939523b88a13c50ccd99e5951ea2c97f);\n",
       "        \n",
       "    \n",
       "            marker_6cd75846ab1a37632aa3772635cf3521.bindTooltip(\n",
       "                `&lt;div&gt;\n",
       "                     50歳代\n",
       "                 &lt;/div&gt;`,\n",
       "                {&quot;sticky&quot;: true}\n",
       "            );\n",
       "        \n",
       "    \n",
       "            var marker_cf3dd4b4a096fc17ad974c612136d284 = L.marker(\n",
       "                [35.84325, 140.003662],\n",
       "                {}\n",
       "            ).addTo(marker_cluster_939523b88a13c50ccd99e5951ea2c97f);\n",
       "        \n",
       "    \n",
       "            marker_cf3dd4b4a096fc17ad974c612136d284.bindTooltip(\n",
       "                `&lt;div&gt;\n",
       "                     70歳以上\n",
       "                 &lt;/div&gt;`,\n",
       "                {&quot;sticky&quot;: true}\n",
       "            );\n",
       "        \n",
       "    \n",
       "            var marker_e66fac0fa055e1e48b9799687f0d65ec = L.marker(\n",
       "                [35.840942, 139.995621],\n",
       "                {}\n",
       "            ).addTo(marker_cluster_939523b88a13c50ccd99e5951ea2c97f);\n",
       "        \n",
       "    \n",
       "            marker_e66fac0fa055e1e48b9799687f0d65ec.bindTooltip(\n",
       "                `&lt;div&gt;\n",
       "                     10歳代\n",
       "                 &lt;/div&gt;`,\n",
       "                {&quot;sticky&quot;: true}\n",
       "            );\n",
       "        \n",
       "    \n",
       "            var marker_7a5f24ceccb816d086bb355e10a14616 = L.marker(\n",
       "                [35.840942, 139.995621],\n",
       "                {}\n",
       "            ).addTo(marker_cluster_939523b88a13c50ccd99e5951ea2c97f);\n",
       "        \n",
       "    \n",
       "            marker_7a5f24ceccb816d086bb355e10a14616.bindTooltip(\n",
       "                `&lt;div&gt;\n",
       "                     20歳代\n",
       "                 &lt;/div&gt;`,\n",
       "                {&quot;sticky&quot;: true}\n",
       "            );\n",
       "        \n",
       "    \n",
       "            var marker_e29a9eadf6ca6ac1085377b4b7a23c7d = L.marker(\n",
       "                [35.844128, 140.018982],\n",
       "                {}\n",
       "            ).addTo(marker_cluster_939523b88a13c50ccd99e5951ea2c97f);\n",
       "        \n",
       "    \n",
       "            marker_e29a9eadf6ca6ac1085377b4b7a23c7d.bindTooltip(\n",
       "                `&lt;div&gt;\n",
       "                     10歳代\n",
       "                 &lt;/div&gt;`,\n",
       "                {&quot;sticky&quot;: true}\n",
       "            );\n",
       "        \n",
       "    \n",
       "            var marker_004cbed400a07b19c97918a40ea5b905 = L.marker(\n",
       "                [35.848293, 139.98053],\n",
       "                {}\n",
       "            ).addTo(marker_cluster_939523b88a13c50ccd99e5951ea2c97f);\n",
       "        \n",
       "    \n",
       "            marker_004cbed400a07b19c97918a40ea5b905.bindTooltip(\n",
       "                `&lt;div&gt;\n",
       "                     40歳代\n",
       "                 &lt;/div&gt;`,\n",
       "                {&quot;sticky&quot;: true}\n",
       "            );\n",
       "        \n",
       "    \n",
       "            var marker_650b5ade58931f1e1b1e5b3761e3c715 = L.marker(\n",
       "                [35.839748, 139.961716],\n",
       "                {}\n",
       "            ).addTo(marker_cluster_939523b88a13c50ccd99e5951ea2c97f);\n",
       "        \n",
       "    \n",
       "            marker_650b5ade58931f1e1b1e5b3761e3c715.bindTooltip(\n",
       "                `&lt;div&gt;\n",
       "                     30歳代\n",
       "                 &lt;/div&gt;`,\n",
       "                {&quot;sticky&quot;: true}\n",
       "            );\n",
       "        \n",
       "    \n",
       "            var marker_6ec6048cdf31bfbc962651cab03b6a78 = L.marker(\n",
       "                [35.838268, 139.963547],\n",
       "                {}\n",
       "            ).addTo(marker_cluster_939523b88a13c50ccd99e5951ea2c97f);\n",
       "        \n",
       "    \n",
       "            marker_6ec6048cdf31bfbc962651cab03b6a78.bindTooltip(\n",
       "                `&lt;div&gt;\n",
       "                     10歳代\n",
       "                 &lt;/div&gt;`,\n",
       "                {&quot;sticky&quot;: true}\n",
       "            );\n",
       "        \n",
       "    \n",
       "            var marker_6db1bcb6624988b5af2972e7bf04d180 = L.marker(\n",
       "                [35.838268, 139.963547],\n",
       "                {}\n",
       "            ).addTo(marker_cluster_939523b88a13c50ccd99e5951ea2c97f);\n",
       "        \n",
       "    \n",
       "            marker_6db1bcb6624988b5af2972e7bf04d180.bindTooltip(\n",
       "                `&lt;div&gt;\n",
       "                     50歳代\n",
       "                 &lt;/div&gt;`,\n",
       "                {&quot;sticky&quot;: true}\n",
       "            );\n",
       "        \n",
       "    \n",
       "            var marker_cc03c3e2e248e152ee846f67e5b13456 = L.marker(\n",
       "                [35.838268, 139.963547],\n",
       "                {}\n",
       "            ).addTo(marker_cluster_939523b88a13c50ccd99e5951ea2c97f);\n",
       "        \n",
       "    \n",
       "            marker_cc03c3e2e248e152ee846f67e5b13456.bindTooltip(\n",
       "                `&lt;div&gt;\n",
       "                     10歳代\n",
       "                 &lt;/div&gt;`,\n",
       "                {&quot;sticky&quot;: true}\n",
       "            );\n",
       "        \n",
       "    \n",
       "            var marker_b47681597f26504f169968522ec5bffd = L.marker(\n",
       "                [35.838268, 139.963547],\n",
       "                {}\n",
       "            ).addTo(marker_cluster_939523b88a13c50ccd99e5951ea2c97f);\n",
       "        \n",
       "    \n",
       "            marker_b47681597f26504f169968522ec5bffd.bindTooltip(\n",
       "                `&lt;div&gt;\n",
       "                     10歳代\n",
       "                 &lt;/div&gt;`,\n",
       "                {&quot;sticky&quot;: true}\n",
       "            );\n",
       "        \n",
       "    \n",
       "            var marker_4c0a9b148b113d2608f0b29c85898c32 = L.marker(\n",
       "                [35.838268, 139.963547],\n",
       "                {}\n",
       "            ).addTo(marker_cluster_939523b88a13c50ccd99e5951ea2c97f);\n",
       "        \n",
       "    \n",
       "            marker_4c0a9b148b113d2608f0b29c85898c32.bindTooltip(\n",
       "                `&lt;div&gt;\n",
       "                     10歳未満\n",
       "                 &lt;/div&gt;`,\n",
       "                {&quot;sticky&quot;: true}\n",
       "            );\n",
       "        \n",
       "    \n",
       "            var marker_17804e43b6e7473db4757f3ec068d60a = L.marker(\n",
       "                [35.840786, 139.966721],\n",
       "                {}\n",
       "            ).addTo(marker_cluster_939523b88a13c50ccd99e5951ea2c97f);\n",
       "        \n",
       "    \n",
       "            marker_17804e43b6e7473db4757f3ec068d60a.bindTooltip(\n",
       "                `&lt;div&gt;\n",
       "                     10歳代\n",
       "                 &lt;/div&gt;`,\n",
       "                {&quot;sticky&quot;: true}\n",
       "            );\n",
       "        \n",
       "    \n",
       "            var marker_5bac3ad46de8e5624947f4f4c313d9a0 = L.marker(\n",
       "                [35.840786, 139.966721],\n",
       "                {}\n",
       "            ).addTo(marker_cluster_939523b88a13c50ccd99e5951ea2c97f);\n",
       "        \n",
       "    \n",
       "            marker_5bac3ad46de8e5624947f4f4c313d9a0.bindTooltip(\n",
       "                `&lt;div&gt;\n",
       "                     10歳代\n",
       "                 &lt;/div&gt;`,\n",
       "                {&quot;sticky&quot;: true}\n",
       "            );\n",
       "        \n",
       "    \n",
       "            var marker_f819c54545911d78075ff95270a79d2f = L.marker(\n",
       "                [35.843285, 139.981064],\n",
       "                {}\n",
       "            ).addTo(marker_cluster_939523b88a13c50ccd99e5951ea2c97f);\n",
       "        \n",
       "    \n",
       "            marker_f819c54545911d78075ff95270a79d2f.bindTooltip(\n",
       "                `&lt;div&gt;\n",
       "                     10歳代\n",
       "                 &lt;/div&gt;`,\n",
       "                {&quot;sticky&quot;: true}\n",
       "            );\n",
       "        \n",
       "    \n",
       "            var marker_639d48d8613165c3c3a79c70e8e346b7 = L.marker(\n",
       "                [35.843285, 139.981064],\n",
       "                {}\n",
       "            ).addTo(marker_cluster_939523b88a13c50ccd99e5951ea2c97f);\n",
       "        \n",
       "    \n",
       "            marker_639d48d8613165c3c3a79c70e8e346b7.bindTooltip(\n",
       "                `&lt;div&gt;\n",
       "                     20歳代\n",
       "                 &lt;/div&gt;`,\n",
       "                {&quot;sticky&quot;: true}\n",
       "            );\n",
       "        \n",
       "    \n",
       "            var marker_3f34454dc1175df9bc5ca7514224c379 = L.marker(\n",
       "                [35.845604, 139.976089],\n",
       "                {}\n",
       "            ).addTo(marker_cluster_939523b88a13c50ccd99e5951ea2c97f);\n",
       "        \n",
       "    \n",
       "            marker_3f34454dc1175df9bc5ca7514224c379.bindTooltip(\n",
       "                `&lt;div&gt;\n",
       "                     10歳代\n",
       "                 &lt;/div&gt;`,\n",
       "                {&quot;sticky&quot;: true}\n",
       "            );\n",
       "        \n",
       "    \n",
       "            var marker_854d6be1e45b344b3e061fad40fccdc3 = L.marker(\n",
       "                [35.839211, 139.968597],\n",
       "                {}\n",
       "            ).addTo(marker_cluster_939523b88a13c50ccd99e5951ea2c97f);\n",
       "        \n",
       "    \n",
       "            marker_854d6be1e45b344b3e061fad40fccdc3.bindTooltip(\n",
       "                `&lt;div&gt;\n",
       "                     60-64歳\n",
       "                 &lt;/div&gt;`,\n",
       "                {&quot;sticky&quot;: true}\n",
       "            );\n",
       "        \n",
       "    \n",
       "            var marker_61b4da96b1f6be469992c5ef2be38614 = L.marker(\n",
       "                [35.839211, 139.968597],\n",
       "                {}\n",
       "            ).addTo(marker_cluster_939523b88a13c50ccd99e5951ea2c97f);\n",
       "        \n",
       "    \n",
       "            marker_61b4da96b1f6be469992c5ef2be38614.bindTooltip(\n",
       "                `&lt;div&gt;\n",
       "                     10歳代\n",
       "                 &lt;/div&gt;`,\n",
       "                {&quot;sticky&quot;: true}\n",
       "            );\n",
       "        \n",
       "    \n",
       "            var marker_cdce2896aa8469354d9ba4f65e983181 = L.marker(\n",
       "                [35.839211, 139.968597],\n",
       "                {}\n",
       "            ).addTo(marker_cluster_939523b88a13c50ccd99e5951ea2c97f);\n",
       "        \n",
       "    \n",
       "            marker_cdce2896aa8469354d9ba4f65e983181.bindTooltip(\n",
       "                `&lt;div&gt;\n",
       "                     10歳代\n",
       "                 &lt;/div&gt;`,\n",
       "                {&quot;sticky&quot;: true}\n",
       "            );\n",
       "        \n",
       "    \n",
       "            var marker_6297891db00744fffab142ad54793669 = L.marker(\n",
       "                [35.839211, 139.968597],\n",
       "                {}\n",
       "            ).addTo(marker_cluster_939523b88a13c50ccd99e5951ea2c97f);\n",
       "        \n",
       "    \n",
       "            marker_6297891db00744fffab142ad54793669.bindTooltip(\n",
       "                `&lt;div&gt;\n",
       "                     10歳代\n",
       "                 &lt;/div&gt;`,\n",
       "                {&quot;sticky&quot;: true}\n",
       "            );\n",
       "        \n",
       "    \n",
       "            var marker_31ab811db5b21f00f8cbc4fd1a94f3ce = L.marker(\n",
       "                [35.839211, 139.968597],\n",
       "                {}\n",
       "            ).addTo(marker_cluster_939523b88a13c50ccd99e5951ea2c97f);\n",
       "        \n",
       "    \n",
       "            marker_31ab811db5b21f00f8cbc4fd1a94f3ce.bindTooltip(\n",
       "                `&lt;div&gt;\n",
       "                     10歳代\n",
       "                 &lt;/div&gt;`,\n",
       "                {&quot;sticky&quot;: true}\n",
       "            );\n",
       "        \n",
       "    \n",
       "            var marker_de9b92645eecaf56fb850afabf4a8865 = L.marker(\n",
       "                [35.843964, 139.976852],\n",
       "                {}\n",
       "            ).addTo(marker_cluster_939523b88a13c50ccd99e5951ea2c97f);\n",
       "        \n",
       "    \n",
       "            marker_de9b92645eecaf56fb850afabf4a8865.bindTooltip(\n",
       "                `&lt;div&gt;\n",
       "                     40歳代\n",
       "                 &lt;/div&gt;`,\n",
       "                {&quot;sticky&quot;: true}\n",
       "            );\n",
       "        \n",
       "    \n",
       "            var marker_66d95f0476cf29ece88718a20acfac41 = L.marker(\n",
       "                [35.863686, 139.966171],\n",
       "                {}\n",
       "            ).addTo(marker_cluster_939523b88a13c50ccd99e5951ea2c97f);\n",
       "        \n",
       "    \n",
       "            marker_66d95f0476cf29ece88718a20acfac41.bindTooltip(\n",
       "                `&lt;div&gt;\n",
       "                     10歳代\n",
       "                 &lt;/div&gt;`,\n",
       "                {&quot;sticky&quot;: true}\n",
       "            );\n",
       "        \n",
       "    \n",
       "            var marker_b7098b06a4185a86b04768fb30b251cf = L.marker(\n",
       "                [35.866077, 139.967041],\n",
       "                {}\n",
       "            ).addTo(marker_cluster_939523b88a13c50ccd99e5951ea2c97f);\n",
       "        \n",
       "    \n",
       "            marker_b7098b06a4185a86b04768fb30b251cf.bindTooltip(\n",
       "                `&lt;div&gt;\n",
       "                     30歳代\n",
       "                 &lt;/div&gt;`,\n",
       "                {&quot;sticky&quot;: true}\n",
       "            );\n",
       "        \n",
       "    \n",
       "            var marker_eb999700c9e2229e1835664ff04af363 = L.marker(\n",
       "                [35.867088, 139.963196],\n",
       "                {}\n",
       "            ).addTo(marker_cluster_939523b88a13c50ccd99e5951ea2c97f);\n",
       "        \n",
       "    \n",
       "            marker_eb999700c9e2229e1835664ff04af363.bindTooltip(\n",
       "                `&lt;div&gt;\n",
       "                     20歳代\n",
       "                 &lt;/div&gt;`,\n",
       "                {&quot;sticky&quot;: true}\n",
       "            );\n",
       "        \n",
       "    \n",
       "            var marker_a98b92d59ba5f0142fcf505b161bc364 = L.marker(\n",
       "                [35.867088, 139.963196],\n",
       "                {}\n",
       "            ).addTo(marker_cluster_939523b88a13c50ccd99e5951ea2c97f);\n",
       "        \n",
       "    \n",
       "            marker_a98b92d59ba5f0142fcf505b161bc364.bindTooltip(\n",
       "                `&lt;div&gt;\n",
       "                     20歳代\n",
       "                 &lt;/div&gt;`,\n",
       "                {&quot;sticky&quot;: true}\n",
       "            );\n",
       "        \n",
       "    \n",
       "            var marker_b09b4da87b8ea7e5cb361c7b9dd0d3f8 = L.marker(\n",
       "                [35.864574, 139.962662],\n",
       "                {}\n",
       "            ).addTo(marker_cluster_939523b88a13c50ccd99e5951ea2c97f);\n",
       "        \n",
       "    \n",
       "            marker_b09b4da87b8ea7e5cb361c7b9dd0d3f8.bindTooltip(\n",
       "                `&lt;div&gt;\n",
       "                     20歳代\n",
       "                 &lt;/div&gt;`,\n",
       "                {&quot;sticky&quot;: true}\n",
       "            );\n",
       "        \n",
       "    \n",
       "            var marker_071315f734a0d5705667d452faeccb20 = L.marker(\n",
       "                [35.865929, 139.971985],\n",
       "                {}\n",
       "            ).addTo(marker_cluster_939523b88a13c50ccd99e5951ea2c97f);\n",
       "        \n",
       "    \n",
       "            marker_071315f734a0d5705667d452faeccb20.bindTooltip(\n",
       "                `&lt;div&gt;\n",
       "                     10歳代\n",
       "                 &lt;/div&gt;`,\n",
       "                {&quot;sticky&quot;: true}\n",
       "            );\n",
       "        \n",
       "    \n",
       "            var marker_d602aa0106d3ade3552d4566b9e06bad = L.marker(\n",
       "                [35.865929, 139.971985],\n",
       "                {}\n",
       "            ).addTo(marker_cluster_939523b88a13c50ccd99e5951ea2c97f);\n",
       "        \n",
       "    \n",
       "            marker_d602aa0106d3ade3552d4566b9e06bad.bindTooltip(\n",
       "                `&lt;div&gt;\n",
       "                     10歳代\n",
       "                 &lt;/div&gt;`,\n",
       "                {&quot;sticky&quot;: true}\n",
       "            );\n",
       "        \n",
       "    \n",
       "            var marker_e72d8c1dfb41333e0c1315e388c50f11 = L.marker(\n",
       "                [35.868034, 139.974197],\n",
       "                {}\n",
       "            ).addTo(marker_cluster_939523b88a13c50ccd99e5951ea2c97f);\n",
       "        \n",
       "    \n",
       "            marker_e72d8c1dfb41333e0c1315e388c50f11.bindTooltip(\n",
       "                `&lt;div&gt;\n",
       "                     20歳代\n",
       "                 &lt;/div&gt;`,\n",
       "                {&quot;sticky&quot;: true}\n",
       "            );\n",
       "        \n",
       "    \n",
       "            var marker_a84217316cd122515fcec89b0c1bae16 = L.marker(\n",
       "                [35.866798, 139.968948],\n",
       "                {}\n",
       "            ).addTo(marker_cluster_939523b88a13c50ccd99e5951ea2c97f);\n",
       "        \n",
       "    \n",
       "            marker_a84217316cd122515fcec89b0c1bae16.bindTooltip(\n",
       "                `&lt;div&gt;\n",
       "                     40歳代\n",
       "                 &lt;/div&gt;`,\n",
       "                {&quot;sticky&quot;: true}\n",
       "            );\n",
       "        \n",
       "    \n",
       "            var marker_9135fc071bb8dc9d9f5f58d163a39e73 = L.marker(\n",
       "                [35.858974, 139.962036],\n",
       "                {}\n",
       "            ).addTo(marker_cluster_939523b88a13c50ccd99e5951ea2c97f);\n",
       "        \n",
       "    \n",
       "            marker_9135fc071bb8dc9d9f5f58d163a39e73.bindTooltip(\n",
       "                `&lt;div&gt;\n",
       "                     50歳代\n",
       "                 &lt;/div&gt;`,\n",
       "                {&quot;sticky&quot;: true}\n",
       "            );\n",
       "        \n",
       "    \n",
       "            var marker_9d11bb37d0585d39e5d55fa265d8afe5 = L.marker(\n",
       "                [35.858974, 139.962036],\n",
       "                {}\n",
       "            ).addTo(marker_cluster_939523b88a13c50ccd99e5951ea2c97f);\n",
       "        \n",
       "    \n",
       "            marker_9d11bb37d0585d39e5d55fa265d8afe5.bindTooltip(\n",
       "                `&lt;div&gt;\n",
       "                     20歳代\n",
       "                 &lt;/div&gt;`,\n",
       "                {&quot;sticky&quot;: true}\n",
       "            );\n",
       "        \n",
       "    \n",
       "            var marker_12e394ca73409d5124bce1db914a270b = L.marker(\n",
       "                [35.858974, 139.962036],\n",
       "                {}\n",
       "            ).addTo(marker_cluster_939523b88a13c50ccd99e5951ea2c97f);\n",
       "        \n",
       "    \n",
       "            marker_12e394ca73409d5124bce1db914a270b.bindTooltip(\n",
       "                `&lt;div&gt;\n",
       "                     10歳代\n",
       "                 &lt;/div&gt;`,\n",
       "                {&quot;sticky&quot;: true}\n",
       "            );\n",
       "        \n",
       "    \n",
       "            var marker_7e257bd3c0e41758ead2c1bfdcef719a = L.marker(\n",
       "                [35.858974, 139.962036],\n",
       "                {}\n",
       "            ).addTo(marker_cluster_939523b88a13c50ccd99e5951ea2c97f);\n",
       "        \n",
       "    \n",
       "            marker_7e257bd3c0e41758ead2c1bfdcef719a.bindTooltip(\n",
       "                `&lt;div&gt;\n",
       "                     40歳代\n",
       "                 &lt;/div&gt;`,\n",
       "                {&quot;sticky&quot;: true}\n",
       "            );\n",
       "        \n",
       "    \n",
       "            var marker_3528cae1d9b7ca4e402563b27a2e41f7 = L.marker(\n",
       "                [35.85675, 139.962128],\n",
       "                {}\n",
       "            ).addTo(marker_cluster_939523b88a13c50ccd99e5951ea2c97f);\n",
       "        \n",
       "    \n",
       "            marker_3528cae1d9b7ca4e402563b27a2e41f7.bindTooltip(\n",
       "                `&lt;div&gt;\n",
       "                     20歳代\n",
       "                 &lt;/div&gt;`,\n",
       "                {&quot;sticky&quot;: true}\n",
       "            );\n",
       "        \n",
       "    \n",
       "            var marker_2f54dc3b509a568a359a69ac44849838 = L.marker(\n",
       "                [35.85675, 139.962128],\n",
       "                {}\n",
       "            ).addTo(marker_cluster_939523b88a13c50ccd99e5951ea2c97f);\n",
       "        \n",
       "    \n",
       "            marker_2f54dc3b509a568a359a69ac44849838.bindTooltip(\n",
       "                `&lt;div&gt;\n",
       "                     10歳代\n",
       "                 &lt;/div&gt;`,\n",
       "                {&quot;sticky&quot;: true}\n",
       "            );\n",
       "        \n",
       "    \n",
       "            var marker_da3343c8c68b1ba9b608437e588c6450 = L.marker(\n",
       "                [35.85675, 139.962128],\n",
       "                {}\n",
       "            ).addTo(marker_cluster_939523b88a13c50ccd99e5951ea2c97f);\n",
       "        \n",
       "    \n",
       "            marker_da3343c8c68b1ba9b608437e588c6450.bindTooltip(\n",
       "                `&lt;div&gt;\n",
       "                     30歳代\n",
       "                 &lt;/div&gt;`,\n",
       "                {&quot;sticky&quot;: true}\n",
       "            );\n",
       "        \n",
       "    \n",
       "            var marker_810edd81883ac6ea1cb56e09d4dad9da = L.marker(\n",
       "                [35.860016, 139.958176],\n",
       "                {}\n",
       "            ).addTo(marker_cluster_939523b88a13c50ccd99e5951ea2c97f);\n",
       "        \n",
       "    \n",
       "            marker_810edd81883ac6ea1cb56e09d4dad9da.bindTooltip(\n",
       "                `&lt;div&gt;\n",
       "                     30歳代\n",
       "                 &lt;/div&gt;`,\n",
       "                {&quot;sticky&quot;: true}\n",
       "            );\n",
       "        \n",
       "    \n",
       "            var marker_51ca2c3f1da709794d00c2c5ea21f466 = L.marker(\n",
       "                [35.860016, 139.958176],\n",
       "                {}\n",
       "            ).addTo(marker_cluster_939523b88a13c50ccd99e5951ea2c97f);\n",
       "        \n",
       "    \n",
       "            marker_51ca2c3f1da709794d00c2c5ea21f466.bindTooltip(\n",
       "                `&lt;div&gt;\n",
       "                     10歳代\n",
       "                 &lt;/div&gt;`,\n",
       "                {&quot;sticky&quot;: true}\n",
       "            );\n",
       "        \n",
       "    \n",
       "            var marker_cf8ad4ddbf2c33c3b65bb4366a0f9a52 = L.marker(\n",
       "                [35.868122, 139.943359],\n",
       "                {}\n",
       "            ).addTo(marker_cluster_939523b88a13c50ccd99e5951ea2c97f);\n",
       "        \n",
       "    \n",
       "            marker_cf8ad4ddbf2c33c3b65bb4366a0f9a52.bindTooltip(\n",
       "                `&lt;div&gt;\n",
       "                     50歳代\n",
       "                 &lt;/div&gt;`,\n",
       "                {&quot;sticky&quot;: true}\n",
       "            );\n",
       "        \n",
       "    \n",
       "            var marker_465dc4f4f0d58e21d630fdf6180bfc8e = L.marker(\n",
       "                [35.854397, 139.962891],\n",
       "                {}\n",
       "            ).addTo(marker_cluster_939523b88a13c50ccd99e5951ea2c97f);\n",
       "        \n",
       "    \n",
       "            marker_465dc4f4f0d58e21d630fdf6180bfc8e.bindTooltip(\n",
       "                `&lt;div&gt;\n",
       "                     20歳代\n",
       "                 &lt;/div&gt;`,\n",
       "                {&quot;sticky&quot;: true}\n",
       "            );\n",
       "        \n",
       "    \n",
       "            var marker_7fba8cfddf4bbffa7550e9bcddbcb1f7 = L.marker(\n",
       "                [35.854397, 139.962891],\n",
       "                {}\n",
       "            ).addTo(marker_cluster_939523b88a13c50ccd99e5951ea2c97f);\n",
       "        \n",
       "    \n",
       "            marker_7fba8cfddf4bbffa7550e9bcddbcb1f7.bindTooltip(\n",
       "                `&lt;div&gt;\n",
       "                     10歳代\n",
       "                 &lt;/div&gt;`,\n",
       "                {&quot;sticky&quot;: true}\n",
       "            );\n",
       "        \n",
       "    \n",
       "            var marker_4d4668976b1e26c75f146a86f364318a = L.marker(\n",
       "                [35.854397, 139.962891],\n",
       "                {}\n",
       "            ).addTo(marker_cluster_939523b88a13c50ccd99e5951ea2c97f);\n",
       "        \n",
       "    \n",
       "            marker_4d4668976b1e26c75f146a86f364318a.bindTooltip(\n",
       "                `&lt;div&gt;\n",
       "                     10歳代\n",
       "                 &lt;/div&gt;`,\n",
       "                {&quot;sticky&quot;: true}\n",
       "            );\n",
       "        \n",
       "    \n",
       "            var marker_e1b6654235bf52e3c1a2b7631c5ac0b7 = L.marker(\n",
       "                [35.854397, 139.962891],\n",
       "                {}\n",
       "            ).addTo(marker_cluster_939523b88a13c50ccd99e5951ea2c97f);\n",
       "        \n",
       "    \n",
       "            marker_e1b6654235bf52e3c1a2b7631c5ac0b7.bindTooltip(\n",
       "                `&lt;div&gt;\n",
       "                     20歳代\n",
       "                 &lt;/div&gt;`,\n",
       "                {&quot;sticky&quot;: true}\n",
       "            );\n",
       "        \n",
       "    \n",
       "            var marker_39b796e75e4f3b81c2777f4e98faf032 = L.marker(\n",
       "                [35.866894, 139.957932],\n",
       "                {}\n",
       "            ).addTo(marker_cluster_939523b88a13c50ccd99e5951ea2c97f);\n",
       "        \n",
       "    \n",
       "            marker_39b796e75e4f3b81c2777f4e98faf032.bindTooltip(\n",
       "                `&lt;div&gt;\n",
       "                     65-69歳\n",
       "                 &lt;/div&gt;`,\n",
       "                {&quot;sticky&quot;: true}\n",
       "            );\n",
       "        \n",
       "    \n",
       "            var marker_b3f78d8940270420660fd0f4c40886a6 = L.marker(\n",
       "                [35.902, 139.93605],\n",
       "                {}\n",
       "            ).addTo(marker_cluster_939523b88a13c50ccd99e5951ea2c97f);\n",
       "        \n",
       "    \n",
       "            marker_b3f78d8940270420660fd0f4c40886a6.bindTooltip(\n",
       "                `&lt;div&gt;\n",
       "                     20歳代\n",
       "                 &lt;/div&gt;`,\n",
       "                {&quot;sticky&quot;: true}\n",
       "            );\n",
       "        \n",
       "    \n",
       "            var marker_295889bab541defbed9dc692c659d143 = L.marker(\n",
       "                [35.868122, 139.943359],\n",
       "                {}\n",
       "            ).addTo(marker_cluster_939523b88a13c50ccd99e5951ea2c97f);\n",
       "        \n",
       "    \n",
       "            marker_295889bab541defbed9dc692c659d143.bindTooltip(\n",
       "                `&lt;div&gt;\n",
       "                     30歳代\n",
       "                 &lt;/div&gt;`,\n",
       "                {&quot;sticky&quot;: true}\n",
       "            );\n",
       "        \n",
       "    \n",
       "            var marker_26cf010d9d430c55e93f0d679d989467 = L.marker(\n",
       "                [35.882629, 139.959305],\n",
       "                {}\n",
       "            ).addTo(marker_cluster_939523b88a13c50ccd99e5951ea2c97f);\n",
       "        \n",
       "    \n",
       "            marker_26cf010d9d430c55e93f0d679d989467.bindTooltip(\n",
       "                `&lt;div&gt;\n",
       "                     20歳代\n",
       "                 &lt;/div&gt;`,\n",
       "                {&quot;sticky&quot;: true}\n",
       "            );\n",
       "        \n",
       "    \n",
       "            var marker_5d5d9c22af4b4c1f94de3ac3377547af = L.marker(\n",
       "                [35.882629, 139.959305],\n",
       "                {}\n",
       "            ).addTo(marker_cluster_939523b88a13c50ccd99e5951ea2c97f);\n",
       "        \n",
       "    \n",
       "            marker_5d5d9c22af4b4c1f94de3ac3377547af.bindTooltip(\n",
       "                `&lt;div&gt;\n",
       "                     60-64歳\n",
       "                 &lt;/div&gt;`,\n",
       "                {&quot;sticky&quot;: true}\n",
       "            );\n",
       "        \n",
       "    \n",
       "            var marker_aa4472e74e0835e4106168a5ed5314b0 = L.marker(\n",
       "                [35.879082, 139.975952],\n",
       "                {}\n",
       "            ).addTo(marker_cluster_939523b88a13c50ccd99e5951ea2c97f);\n",
       "        \n",
       "    \n",
       "            marker_aa4472e74e0835e4106168a5ed5314b0.bindTooltip(\n",
       "                `&lt;div&gt;\n",
       "                     20歳代\n",
       "                 &lt;/div&gt;`,\n",
       "                {&quot;sticky&quot;: true}\n",
       "            );\n",
       "        \n",
       "    \n",
       "            var marker_59b5d7e4a12c57070dcf1375a2aa8794 = L.marker(\n",
       "                [35.879082, 139.975952],\n",
       "                {}\n",
       "            ).addTo(marker_cluster_939523b88a13c50ccd99e5951ea2c97f);\n",
       "        \n",
       "    \n",
       "            marker_59b5d7e4a12c57070dcf1375a2aa8794.bindTooltip(\n",
       "                `&lt;div&gt;\n",
       "                     30歳代\n",
       "                 &lt;/div&gt;`,\n",
       "                {&quot;sticky&quot;: true}\n",
       "            );\n",
       "        \n",
       "    \n",
       "            var marker_74c44c3d175a768d271b642c818b802b = L.marker(\n",
       "                [35.879082, 139.975952],\n",
       "                {}\n",
       "            ).addTo(marker_cluster_939523b88a13c50ccd99e5951ea2c97f);\n",
       "        \n",
       "    \n",
       "            marker_74c44c3d175a768d271b642c818b802b.bindTooltip(\n",
       "                `&lt;div&gt;\n",
       "                     65-69歳\n",
       "                 &lt;/div&gt;`,\n",
       "                {&quot;sticky&quot;: true}\n",
       "            );\n",
       "        \n",
       "    \n",
       "            var marker_94f48e73ee705ad7850f33eb3f188a02 = L.marker(\n",
       "                [35.879082, 139.975952],\n",
       "                {}\n",
       "            ).addTo(marker_cluster_939523b88a13c50ccd99e5951ea2c97f);\n",
       "        \n",
       "    \n",
       "            marker_94f48e73ee705ad7850f33eb3f188a02.bindTooltip(\n",
       "                `&lt;div&gt;\n",
       "                     50歳代\n",
       "                 &lt;/div&gt;`,\n",
       "                {&quot;sticky&quot;: true}\n",
       "            );\n",
       "        \n",
       "    \n",
       "            var marker_1bc39edc04cc4e144573e34ecc24d8a7 = L.marker(\n",
       "                [35.879082, 139.975952],\n",
       "                {}\n",
       "            ).addTo(marker_cluster_939523b88a13c50ccd99e5951ea2c97f);\n",
       "        \n",
       "    \n",
       "            marker_1bc39edc04cc4e144573e34ecc24d8a7.bindTooltip(\n",
       "                `&lt;div&gt;\n",
       "                     20歳代\n",
       "                 &lt;/div&gt;`,\n",
       "                {&quot;sticky&quot;: true}\n",
       "            );\n",
       "        \n",
       "    \n",
       "            var marker_fd14f69f03637370901a7bebef0a2d67 = L.marker(\n",
       "                [35.886456, 139.980759],\n",
       "                {}\n",
       "            ).addTo(marker_cluster_939523b88a13c50ccd99e5951ea2c97f);\n",
       "        \n",
       "    \n",
       "            marker_fd14f69f03637370901a7bebef0a2d67.bindTooltip(\n",
       "                `&lt;div&gt;\n",
       "                     20歳代\n",
       "                 &lt;/div&gt;`,\n",
       "                {&quot;sticky&quot;: true}\n",
       "            );\n",
       "        \n",
       "    \n",
       "            var marker_ff87d8098570356fdb7e999de607a591 = L.marker(\n",
       "                [35.886456, 139.980759],\n",
       "                {}\n",
       "            ).addTo(marker_cluster_939523b88a13c50ccd99e5951ea2c97f);\n",
       "        \n",
       "    \n",
       "            marker_ff87d8098570356fdb7e999de607a591.bindTooltip(\n",
       "                `&lt;div&gt;\n",
       "                     70歳以上\n",
       "                 &lt;/div&gt;`,\n",
       "                {&quot;sticky&quot;: true}\n",
       "            );\n",
       "        \n",
       "    \n",
       "            var marker_99b0f208f0316a21cec7be39abd41719 = L.marker(\n",
       "                [35.886456, 139.980759],\n",
       "                {}\n",
       "            ).addTo(marker_cluster_939523b88a13c50ccd99e5951ea2c97f);\n",
       "        \n",
       "    \n",
       "            marker_99b0f208f0316a21cec7be39abd41719.bindTooltip(\n",
       "                `&lt;div&gt;\n",
       "                     40歳代\n",
       "                 &lt;/div&gt;`,\n",
       "                {&quot;sticky&quot;: true}\n",
       "            );\n",
       "        \n",
       "    \n",
       "            var marker_6593478369f3c5f2d58bf15ff823531e = L.marker(\n",
       "                [35.886009, 139.970963],\n",
       "                {}\n",
       "            ).addTo(marker_cluster_939523b88a13c50ccd99e5951ea2c97f);\n",
       "        \n",
       "    \n",
       "            marker_6593478369f3c5f2d58bf15ff823531e.bindTooltip(\n",
       "                `&lt;div&gt;\n",
       "                     10歳代\n",
       "                 &lt;/div&gt;`,\n",
       "                {&quot;sticky&quot;: true}\n",
       "            );\n",
       "        \n",
       "    \n",
       "            var marker_718c5d8709b712dd08a2fcf4820ddc7d = L.marker(\n",
       "                [35.889114, 139.971802],\n",
       "                {}\n",
       "            ).addTo(marker_cluster_939523b88a13c50ccd99e5951ea2c97f);\n",
       "        \n",
       "    \n",
       "            marker_718c5d8709b712dd08a2fcf4820ddc7d.bindTooltip(\n",
       "                `&lt;div&gt;\n",
       "                     50歳代\n",
       "                 &lt;/div&gt;`,\n",
       "                {&quot;sticky&quot;: true}\n",
       "            );\n",
       "        \n",
       "    \n",
       "            var marker_046bfc4a0911befaedb45a18e2a3e856 = L.marker(\n",
       "                [35.889114, 139.971802],\n",
       "                {}\n",
       "            ).addTo(marker_cluster_939523b88a13c50ccd99e5951ea2c97f);\n",
       "        \n",
       "    \n",
       "            marker_046bfc4a0911befaedb45a18e2a3e856.bindTooltip(\n",
       "                `&lt;div&gt;\n",
       "                     60-64歳\n",
       "                 &lt;/div&gt;`,\n",
       "                {&quot;sticky&quot;: true}\n",
       "            );\n",
       "        \n",
       "    \n",
       "            var marker_6b49c3a2916a76ce60ab1362b9546cf7 = L.marker(\n",
       "                [35.889534, 139.963287],\n",
       "                {}\n",
       "            ).addTo(marker_cluster_939523b88a13c50ccd99e5951ea2c97f);\n",
       "        \n",
       "    \n",
       "            marker_6b49c3a2916a76ce60ab1362b9546cf7.bindTooltip(\n",
       "                `&lt;div&gt;\n",
       "                     20歳代\n",
       "                 &lt;/div&gt;`,\n",
       "                {&quot;sticky&quot;: true}\n",
       "            );\n",
       "        \n",
       "    \n",
       "            var marker_508f0c55ff020aa891f554693b1dd7b0 = L.marker(\n",
       "                [35.880825, 139.967804],\n",
       "                {}\n",
       "            ).addTo(marker_cluster_939523b88a13c50ccd99e5951ea2c97f);\n",
       "        \n",
       "    \n",
       "            marker_508f0c55ff020aa891f554693b1dd7b0.bindTooltip(\n",
       "                `&lt;div&gt;\n",
       "                     10歳代\n",
       "                 &lt;/div&gt;`,\n",
       "                {&quot;sticky&quot;: true}\n",
       "            );\n",
       "        \n",
       "    \n",
       "            var marker_52d97daa261c10ff83ca95187581ed30 = L.marker(\n",
       "                [35.880825, 139.967804],\n",
       "                {}\n",
       "            ).addTo(marker_cluster_939523b88a13c50ccd99e5951ea2c97f);\n",
       "        \n",
       "    \n",
       "            marker_52d97daa261c10ff83ca95187581ed30.bindTooltip(\n",
       "                `&lt;div&gt;\n",
       "                     法人・団体、被害者なし\n",
       "                 &lt;/div&gt;`,\n",
       "                {&quot;sticky&quot;: true}\n",
       "            );\n",
       "        \n",
       "    \n",
       "            var marker_57689bb56c79e530085e670522d1a4ee = L.marker(\n",
       "                [35.880825, 139.967804],\n",
       "                {}\n",
       "            ).addTo(marker_cluster_939523b88a13c50ccd99e5951ea2c97f);\n",
       "        \n",
       "    \n",
       "            marker_57689bb56c79e530085e670522d1a4ee.bindTooltip(\n",
       "                `&lt;div&gt;\n",
       "                     70歳以上\n",
       "                 &lt;/div&gt;`,\n",
       "                {&quot;sticky&quot;: true}\n",
       "            );\n",
       "        \n",
       "    \n",
       "            var marker_3f8ada6263b454c7061a134b0fa36dfb = L.marker(\n",
       "                [35.880825, 139.967804],\n",
       "                {}\n",
       "            ).addTo(marker_cluster_939523b88a13c50ccd99e5951ea2c97f);\n",
       "        \n",
       "    \n",
       "            marker_3f8ada6263b454c7061a134b0fa36dfb.bindTooltip(\n",
       "                `&lt;div&gt;\n",
       "                     20歳代\n",
       "                 &lt;/div&gt;`,\n",
       "                {&quot;sticky&quot;: true}\n",
       "            );\n",
       "        \n",
       "    \n",
       "            var marker_52a4d28fc7a06c57a5dcd366916576d7 = L.marker(\n",
       "                [35.88258, 139.969193],\n",
       "                {}\n",
       "            ).addTo(marker_cluster_939523b88a13c50ccd99e5951ea2c97f);\n",
       "        \n",
       "    \n",
       "            marker_52a4d28fc7a06c57a5dcd366916576d7.bindTooltip(\n",
       "                `&lt;div&gt;\n",
       "                     10歳代\n",
       "                 &lt;/div&gt;`,\n",
       "                {&quot;sticky&quot;: true}\n",
       "            );\n",
       "        \n",
       "    \n",
       "            var marker_36d9f9fee388fccf9492d149cd3e2ab1 = L.marker(\n",
       "                [35.88258, 139.969193],\n",
       "                {}\n",
       "            ).addTo(marker_cluster_939523b88a13c50ccd99e5951ea2c97f);\n",
       "        \n",
       "    \n",
       "            marker_36d9f9fee388fccf9492d149cd3e2ab1.bindTooltip(\n",
       "                `&lt;div&gt;\n",
       "                     10歳代\n",
       "                 &lt;/div&gt;`,\n",
       "                {&quot;sticky&quot;: true}\n",
       "            );\n",
       "        \n",
       "    \n",
       "            var marker_ddad9ee8792787b0f1beac6aab4bbb8d = L.marker(\n",
       "                [35.88258, 139.969193],\n",
       "                {}\n",
       "            ).addTo(marker_cluster_939523b88a13c50ccd99e5951ea2c97f);\n",
       "        \n",
       "    \n",
       "            marker_ddad9ee8792787b0f1beac6aab4bbb8d.bindTooltip(\n",
       "                `&lt;div&gt;\n",
       "                     10歳代\n",
       "                 &lt;/div&gt;`,\n",
       "                {&quot;sticky&quot;: true}\n",
       "            );\n",
       "        \n",
       "    \n",
       "            var marker_a219cdd195bc5a30798c85f2a60a6278 = L.marker(\n",
       "                [35.88258, 139.969193],\n",
       "                {}\n",
       "            ).addTo(marker_cluster_939523b88a13c50ccd99e5951ea2c97f);\n",
       "        \n",
       "    \n",
       "            marker_a219cdd195bc5a30798c85f2a60a6278.bindTooltip(\n",
       "                `&lt;div&gt;\n",
       "                     10歳代\n",
       "                 &lt;/div&gt;`,\n",
       "                {&quot;sticky&quot;: true}\n",
       "            );\n",
       "        \n",
       "    \n",
       "            var marker_e2adeb859a4bf2785fdff8d73e05361c = L.marker(\n",
       "                [35.90826, 139.95816],\n",
       "                {}\n",
       "            ).addTo(marker_cluster_939523b88a13c50ccd99e5951ea2c97f);\n",
       "        \n",
       "    \n",
       "            marker_e2adeb859a4bf2785fdff8d73e05361c.bindTooltip(\n",
       "                `&lt;div&gt;\n",
       "                     10歳代\n",
       "                 &lt;/div&gt;`,\n",
       "                {&quot;sticky&quot;: true}\n",
       "            );\n",
       "        \n",
       "    \n",
       "            var marker_938ef897a3d60b1e3b59d59a92188929 = L.marker(\n",
       "                [35.891659, 139.953995],\n",
       "                {}\n",
       "            ).addTo(marker_cluster_939523b88a13c50ccd99e5951ea2c97f);\n",
       "        \n",
       "    \n",
       "            marker_938ef897a3d60b1e3b59d59a92188929.bindTooltip(\n",
       "                `&lt;div&gt;\n",
       "                     30歳代\n",
       "                 &lt;/div&gt;`,\n",
       "                {&quot;sticky&quot;: true}\n",
       "            );\n",
       "        \n",
       "    \n",
       "            var marker_eb5f85640339e154efd8ea325a47afdf = L.marker(\n",
       "                [35.891659, 139.953995],\n",
       "                {}\n",
       "            ).addTo(marker_cluster_939523b88a13c50ccd99e5951ea2c97f);\n",
       "        \n",
       "    \n",
       "            marker_eb5f85640339e154efd8ea325a47afdf.bindTooltip(\n",
       "                `&lt;div&gt;\n",
       "                     20歳代\n",
       "                 &lt;/div&gt;`,\n",
       "                {&quot;sticky&quot;: true}\n",
       "            );\n",
       "        \n",
       "    \n",
       "            var marker_9c7109b1b65f27cdb35ce68f918920e0 = L.marker(\n",
       "                [35.891659, 139.953995],\n",
       "                {}\n",
       "            ).addTo(marker_cluster_939523b88a13c50ccd99e5951ea2c97f);\n",
       "        \n",
       "    \n",
       "            marker_9c7109b1b65f27cdb35ce68f918920e0.bindTooltip(\n",
       "                `&lt;div&gt;\n",
       "                     20歳代\n",
       "                 &lt;/div&gt;`,\n",
       "                {&quot;sticky&quot;: true}\n",
       "            );\n",
       "        \n",
       "    \n",
       "            var marker_e5117d0fd78de9a54d9c38029f297fe6 = L.marker(\n",
       "                [35.891659, 139.953995],\n",
       "                {}\n",
       "            ).addTo(marker_cluster_939523b88a13c50ccd99e5951ea2c97f);\n",
       "        \n",
       "    \n",
       "            marker_e5117d0fd78de9a54d9c38029f297fe6.bindTooltip(\n",
       "                `&lt;div&gt;\n",
       "                     10歳代\n",
       "                 &lt;/div&gt;`,\n",
       "                {&quot;sticky&quot;: true}\n",
       "            );\n",
       "        \n",
       "    \n",
       "            var marker_27a8493ad4971351a145d5d8c075aa4e = L.marker(\n",
       "                [35.891659, 139.953995],\n",
       "                {}\n",
       "            ).addTo(marker_cluster_939523b88a13c50ccd99e5951ea2c97f);\n",
       "        \n",
       "    \n",
       "            marker_27a8493ad4971351a145d5d8c075aa4e.bindTooltip(\n",
       "                `&lt;div&gt;\n",
       "                     10歳代\n",
       "                 &lt;/div&gt;`,\n",
       "                {&quot;sticky&quot;: true}\n",
       "            );\n",
       "        \n",
       "    \n",
       "            var marker_ab337763253874bab2d740180a6cfa8c = L.marker(\n",
       "                [35.891659, 139.953995],\n",
       "                {}\n",
       "            ).addTo(marker_cluster_939523b88a13c50ccd99e5951ea2c97f);\n",
       "        \n",
       "    \n",
       "            marker_ab337763253874bab2d740180a6cfa8c.bindTooltip(\n",
       "                `&lt;div&gt;\n",
       "                     10歳代\n",
       "                 &lt;/div&gt;`,\n",
       "                {&quot;sticky&quot;: true}\n",
       "            );\n",
       "        \n",
       "    \n",
       "            var marker_0bbd7899ff48eb1a4f5a544e5210a3d7 = L.marker(\n",
       "                [35.891659, 139.953995],\n",
       "                {}\n",
       "            ).addTo(marker_cluster_939523b88a13c50ccd99e5951ea2c97f);\n",
       "        \n",
       "    \n",
       "            marker_0bbd7899ff48eb1a4f5a544e5210a3d7.bindTooltip(\n",
       "                `&lt;div&gt;\n",
       "                     65-69歳\n",
       "                 &lt;/div&gt;`,\n",
       "                {&quot;sticky&quot;: true}\n",
       "            );\n",
       "        \n",
       "    \n",
       "            var marker_95529306f66bd7c42769d2f53cdb44e9 = L.marker(\n",
       "                [35.891659, 139.953995],\n",
       "                {}\n",
       "            ).addTo(marker_cluster_939523b88a13c50ccd99e5951ea2c97f);\n",
       "        \n",
       "    \n",
       "            marker_95529306f66bd7c42769d2f53cdb44e9.bindTooltip(\n",
       "                `&lt;div&gt;\n",
       "                     20歳代\n",
       "                 &lt;/div&gt;`,\n",
       "                {&quot;sticky&quot;: true}\n",
       "            );\n",
       "        \n",
       "    \n",
       "            var marker_3dc396d282460c5ccd74827c7b18aadf = L.marker(\n",
       "                [35.891659, 139.953995],\n",
       "                {}\n",
       "            ).addTo(marker_cluster_939523b88a13c50ccd99e5951ea2c97f);\n",
       "        \n",
       "    \n",
       "            marker_3dc396d282460c5ccd74827c7b18aadf.bindTooltip(\n",
       "                `&lt;div&gt;\n",
       "                     10歳代\n",
       "                 &lt;/div&gt;`,\n",
       "                {&quot;sticky&quot;: true}\n",
       "            );\n",
       "        \n",
       "    \n",
       "            var marker_f28ed5476acc0ddbb9203bc75580564c = L.marker(\n",
       "                [35.891659, 139.953995],\n",
       "                {}\n",
       "            ).addTo(marker_cluster_939523b88a13c50ccd99e5951ea2c97f);\n",
       "        \n",
       "    \n",
       "            marker_f28ed5476acc0ddbb9203bc75580564c.bindTooltip(\n",
       "                `&lt;div&gt;\n",
       "                     法人・団体、被害者なし\n",
       "                 &lt;/div&gt;`,\n",
       "                {&quot;sticky&quot;: true}\n",
       "            );\n",
       "        \n",
       "    \n",
       "            var marker_bbd2dc47de18e611d9d8af21125a4cd6 = L.marker(\n",
       "                [35.891659, 139.953995],\n",
       "                {}\n",
       "            ).addTo(marker_cluster_939523b88a13c50ccd99e5951ea2c97f);\n",
       "        \n",
       "    \n",
       "            marker_bbd2dc47de18e611d9d8af21125a4cd6.bindTooltip(\n",
       "                `&lt;div&gt;\n",
       "                     30歳代\n",
       "                 &lt;/div&gt;`,\n",
       "                {&quot;sticky&quot;: true}\n",
       "            );\n",
       "        \n",
       "    \n",
       "            var marker_5ef00cafb840e9c111326f06f4baa632 = L.marker(\n",
       "                [35.891659, 139.953995],\n",
       "                {}\n",
       "            ).addTo(marker_cluster_939523b88a13c50ccd99e5951ea2c97f);\n",
       "        \n",
       "    \n",
       "            marker_5ef00cafb840e9c111326f06f4baa632.bindTooltip(\n",
       "                `&lt;div&gt;\n",
       "                     20歳代\n",
       "                 &lt;/div&gt;`,\n",
       "                {&quot;sticky&quot;: true}\n",
       "            );\n",
       "        \n",
       "    \n",
       "            var marker_2c782cb3e0e8e9fc7766d0b53b1afa92 = L.marker(\n",
       "                [35.857388, 139.97847],\n",
       "                {}\n",
       "            ).addTo(marker_cluster_939523b88a13c50ccd99e5951ea2c97f);\n",
       "        \n",
       "    \n",
       "            marker_2c782cb3e0e8e9fc7766d0b53b1afa92.bindTooltip(\n",
       "                `&lt;div&gt;\n",
       "                     20歳代\n",
       "                 &lt;/div&gt;`,\n",
       "                {&quot;sticky&quot;: true}\n",
       "            );\n",
       "        \n",
       "    \n",
       "            var marker_152ae2a612ef60448fac588bec5ce1ec = L.marker(\n",
       "                [35.854141, 139.982056],\n",
       "                {}\n",
       "            ).addTo(marker_cluster_939523b88a13c50ccd99e5951ea2c97f);\n",
       "        \n",
       "    \n",
       "            marker_152ae2a612ef60448fac588bec5ce1ec.bindTooltip(\n",
       "                `&lt;div&gt;\n",
       "                     20歳代\n",
       "                 &lt;/div&gt;`,\n",
       "                {&quot;sticky&quot;: true}\n",
       "            );\n",
       "        \n",
       "    \n",
       "            var marker_8414a8e8f7e152a948692d64e13f46cb = L.marker(\n",
       "                [35.859604, 139.977722],\n",
       "                {}\n",
       "            ).addTo(marker_cluster_939523b88a13c50ccd99e5951ea2c97f);\n",
       "        \n",
       "    \n",
       "            marker_8414a8e8f7e152a948692d64e13f46cb.bindTooltip(\n",
       "                `&lt;div&gt;\n",
       "                     20歳代\n",
       "                 &lt;/div&gt;`,\n",
       "                {&quot;sticky&quot;: true}\n",
       "            );\n",
       "        \n",
       "    \n",
       "            var marker_bce7826cfd0f21812ca164d53dfe2834 = L.marker(\n",
       "                [35.859604, 139.977722],\n",
       "                {}\n",
       "            ).addTo(marker_cluster_939523b88a13c50ccd99e5951ea2c97f);\n",
       "        \n",
       "    \n",
       "            marker_bce7826cfd0f21812ca164d53dfe2834.bindTooltip(\n",
       "                `&lt;div&gt;\n",
       "                     30歳代\n",
       "                 &lt;/div&gt;`,\n",
       "                {&quot;sticky&quot;: true}\n",
       "            );\n",
       "        \n",
       "    \n",
       "            var marker_66a57762df5778c5186d379b6ae90a3b = L.marker(\n",
       "                [35.859604, 139.977722],\n",
       "                {}\n",
       "            ).addTo(marker_cluster_939523b88a13c50ccd99e5951ea2c97f);\n",
       "        \n",
       "    \n",
       "            marker_66a57762df5778c5186d379b6ae90a3b.bindTooltip(\n",
       "                `&lt;div&gt;\n",
       "                     20歳代\n",
       "                 &lt;/div&gt;`,\n",
       "                {&quot;sticky&quot;: true}\n",
       "            );\n",
       "        \n",
       "    \n",
       "            var marker_f213affe6e1298dd98a2d8a1284c533b = L.marker(\n",
       "                [35.859604, 139.977722],\n",
       "                {}\n",
       "            ).addTo(marker_cluster_939523b88a13c50ccd99e5951ea2c97f);\n",
       "        \n",
       "    \n",
       "            marker_f213affe6e1298dd98a2d8a1284c533b.bindTooltip(\n",
       "                `&lt;div&gt;\n",
       "                     30歳代\n",
       "                 &lt;/div&gt;`,\n",
       "                {&quot;sticky&quot;: true}\n",
       "            );\n",
       "        \n",
       "    \n",
       "            var marker_971cc66d2b00e0d90d39e820842870fa = L.marker(\n",
       "                [35.864445, 139.986511],\n",
       "                {}\n",
       "            ).addTo(marker_cluster_939523b88a13c50ccd99e5951ea2c97f);\n",
       "        \n",
       "    \n",
       "            marker_971cc66d2b00e0d90d39e820842870fa.bindTooltip(\n",
       "                `&lt;div&gt;\n",
       "                     10歳代\n",
       "                 &lt;/div&gt;`,\n",
       "                {&quot;sticky&quot;: true}\n",
       "            );\n",
       "        \n",
       "    \n",
       "            var marker_c756b8493b05ae17c6a1c80a4c213902 = L.marker(\n",
       "                [35.864445, 139.986511],\n",
       "                {}\n",
       "            ).addTo(marker_cluster_939523b88a13c50ccd99e5951ea2c97f);\n",
       "        \n",
       "    \n",
       "            marker_c756b8493b05ae17c6a1c80a4c213902.bindTooltip(\n",
       "                `&lt;div&gt;\n",
       "                     20歳代\n",
       "                 &lt;/div&gt;`,\n",
       "                {&quot;sticky&quot;: true}\n",
       "            );\n",
       "        \n",
       "    \n",
       "            var marker_5618057c8f19bbbb0f293effa7909412 = L.marker(\n",
       "                [35.861809, 139.97142],\n",
       "                {}\n",
       "            ).addTo(marker_cluster_939523b88a13c50ccd99e5951ea2c97f);\n",
       "        \n",
       "    \n",
       "            marker_5618057c8f19bbbb0f293effa7909412.bindTooltip(\n",
       "                `&lt;div&gt;\n",
       "                     65-69歳\n",
       "                 &lt;/div&gt;`,\n",
       "                {&quot;sticky&quot;: true}\n",
       "            );\n",
       "        \n",
       "    \n",
       "            var marker_b8978a425863fd64fc6e068f466ac3c1 = L.marker(\n",
       "                [35.861809, 139.97142],\n",
       "                {}\n",
       "            ).addTo(marker_cluster_939523b88a13c50ccd99e5951ea2c97f);\n",
       "        \n",
       "    \n",
       "            marker_b8978a425863fd64fc6e068f466ac3c1.bindTooltip(\n",
       "                `&lt;div&gt;\n",
       "                     20歳代\n",
       "                 &lt;/div&gt;`,\n",
       "                {&quot;sticky&quot;: true}\n",
       "            );\n",
       "        \n",
       "    \n",
       "            var marker_89220c0cc8ebaa5e909d67f0c0742682 = L.marker(\n",
       "                [35.861809, 139.97142],\n",
       "                {}\n",
       "            ).addTo(marker_cluster_939523b88a13c50ccd99e5951ea2c97f);\n",
       "        \n",
       "    \n",
       "            marker_89220c0cc8ebaa5e909d67f0c0742682.bindTooltip(\n",
       "                `&lt;div&gt;\n",
       "                     10歳代\n",
       "                 &lt;/div&gt;`,\n",
       "                {&quot;sticky&quot;: true}\n",
       "            );\n",
       "        \n",
       "    \n",
       "            var marker_790ab098b171d01c62285db250cdc4c6 = L.marker(\n",
       "                [35.861694, 139.973999],\n",
       "                {}\n",
       "            ).addTo(marker_cluster_939523b88a13c50ccd99e5951ea2c97f);\n",
       "        \n",
       "    \n",
       "            marker_790ab098b171d01c62285db250cdc4c6.bindTooltip(\n",
       "                `&lt;div&gt;\n",
       "                     70歳以上\n",
       "                 &lt;/div&gt;`,\n",
       "                {&quot;sticky&quot;: true}\n",
       "            );\n",
       "        \n",
       "    \n",
       "            var marker_669ab0f6330f4ffb730b8a033732caaa = L.marker(\n",
       "                [35.861694, 139.973999],\n",
       "                {}\n",
       "            ).addTo(marker_cluster_939523b88a13c50ccd99e5951ea2c97f);\n",
       "        \n",
       "    \n",
       "            marker_669ab0f6330f4ffb730b8a033732caaa.bindTooltip(\n",
       "                `&lt;div&gt;\n",
       "                     70歳以上\n",
       "                 &lt;/div&gt;`,\n",
       "                {&quot;sticky&quot;: true}\n",
       "            );\n",
       "        \n",
       "    \n",
       "            var marker_583bd917735388b6633a2bb5aae83d9d = L.marker(\n",
       "                [35.861694, 139.973999],\n",
       "                {}\n",
       "            ).addTo(marker_cluster_939523b88a13c50ccd99e5951ea2c97f);\n",
       "        \n",
       "    \n",
       "            marker_583bd917735388b6633a2bb5aae83d9d.bindTooltip(\n",
       "                `&lt;div&gt;\n",
       "                     20歳代\n",
       "                 &lt;/div&gt;`,\n",
       "                {&quot;sticky&quot;: true}\n",
       "            );\n",
       "        \n",
       "    \n",
       "            var marker_3330a21293932ed0caccc5e9021a40d9 = L.marker(\n",
       "                [35.861694, 139.973999],\n",
       "                {}\n",
       "            ).addTo(marker_cluster_939523b88a13c50ccd99e5951ea2c97f);\n",
       "        \n",
       "    \n",
       "            marker_3330a21293932ed0caccc5e9021a40d9.bindTooltip(\n",
       "                `&lt;div&gt;\n",
       "                     法人・団体、被害者なし\n",
       "                 &lt;/div&gt;`,\n",
       "                {&quot;sticky&quot;: true}\n",
       "            );\n",
       "        \n",
       "    \n",
       "            var marker_d3f86a65b6963393b3e993e71021bb3a = L.marker(\n",
       "                [35.861694, 139.973999],\n",
       "                {}\n",
       "            ).addTo(marker_cluster_939523b88a13c50ccd99e5951ea2c97f);\n",
       "        \n",
       "    \n",
       "            marker_d3f86a65b6963393b3e993e71021bb3a.bindTooltip(\n",
       "                `&lt;div&gt;\n",
       "                     10歳代\n",
       "                 &lt;/div&gt;`,\n",
       "                {&quot;sticky&quot;: true}\n",
       "            );\n",
       "        \n",
       "    \n",
       "            var marker_1c6411398bf6c0ec63952029cadcd3b9 = L.marker(\n",
       "                [35.861694, 139.973999],\n",
       "                {}\n",
       "            ).addTo(marker_cluster_939523b88a13c50ccd99e5951ea2c97f);\n",
       "        \n",
       "    \n",
       "            marker_1c6411398bf6c0ec63952029cadcd3b9.bindTooltip(\n",
       "                `&lt;div&gt;\n",
       "                     10歳代\n",
       "                 &lt;/div&gt;`,\n",
       "                {&quot;sticky&quot;: true}\n",
       "            );\n",
       "        \n",
       "    \n",
       "            var marker_6f923dc6ceeaf900a32f8b5e2d2ac9c9 = L.marker(\n",
       "                [35.861694, 139.973999],\n",
       "                {}\n",
       "            ).addTo(marker_cluster_939523b88a13c50ccd99e5951ea2c97f);\n",
       "        \n",
       "    \n",
       "            marker_6f923dc6ceeaf900a32f8b5e2d2ac9c9.bindTooltip(\n",
       "                `&lt;div&gt;\n",
       "                     70歳以上\n",
       "                 &lt;/div&gt;`,\n",
       "                {&quot;sticky&quot;: true}\n",
       "            );\n",
       "        \n",
       "    \n",
       "            var marker_dfc29553cc61a71848f5c5e0300e6386 = L.marker(\n",
       "                [35.860302, 139.975159],\n",
       "                {}\n",
       "            ).addTo(marker_cluster_939523b88a13c50ccd99e5951ea2c97f);\n",
       "        \n",
       "    \n",
       "            marker_dfc29553cc61a71848f5c5e0300e6386.bindTooltip(\n",
       "                `&lt;div&gt;\n",
       "                     20歳代\n",
       "                 &lt;/div&gt;`,\n",
       "                {&quot;sticky&quot;: true}\n",
       "            );\n",
       "        \n",
       "    \n",
       "            var marker_db54636dd17757d1a4939a1c7b05371e = L.marker(\n",
       "                [35.860302, 139.975159],\n",
       "                {}\n",
       "            ).addTo(marker_cluster_939523b88a13c50ccd99e5951ea2c97f);\n",
       "        \n",
       "    \n",
       "            marker_db54636dd17757d1a4939a1c7b05371e.bindTooltip(\n",
       "                `&lt;div&gt;\n",
       "                     30歳代\n",
       "                 &lt;/div&gt;`,\n",
       "                {&quot;sticky&quot;: true}\n",
       "            );\n",
       "        \n",
       "    \n",
       "            var marker_aab3a96f1468b652859cbc00bd014855 = L.marker(\n",
       "                [35.860302, 139.975159],\n",
       "                {}\n",
       "            ).addTo(marker_cluster_939523b88a13c50ccd99e5951ea2c97f);\n",
       "        \n",
       "    \n",
       "            marker_aab3a96f1468b652859cbc00bd014855.bindTooltip(\n",
       "                `&lt;div&gt;\n",
       "                     40歳代\n",
       "                 &lt;/div&gt;`,\n",
       "                {&quot;sticky&quot;: true}\n",
       "            );\n",
       "        \n",
       "    \n",
       "            var marker_029f2b3996f77f69e4d065a0ccab4437 = L.marker(\n",
       "                [35.860302, 139.975159],\n",
       "                {}\n",
       "            ).addTo(marker_cluster_939523b88a13c50ccd99e5951ea2c97f);\n",
       "        \n",
       "    \n",
       "            marker_029f2b3996f77f69e4d065a0ccab4437.bindTooltip(\n",
       "                `&lt;div&gt;\n",
       "                     40歳代\n",
       "                 &lt;/div&gt;`,\n",
       "                {&quot;sticky&quot;: true}\n",
       "            );\n",
       "        \n",
       "    \n",
       "            var marker_5421b8378147eb77ee741f25252ce53a = L.marker(\n",
       "                [35.860302, 139.975159],\n",
       "                {}\n",
       "            ).addTo(marker_cluster_939523b88a13c50ccd99e5951ea2c97f);\n",
       "        \n",
       "    \n",
       "            marker_5421b8378147eb77ee741f25252ce53a.bindTooltip(\n",
       "                `&lt;div&gt;\n",
       "                     50歳代\n",
       "                 &lt;/div&gt;`,\n",
       "                {&quot;sticky&quot;: true}\n",
       "            );\n",
       "        \n",
       "    \n",
       "            var marker_2441e2aebb8df004c354dbc70698ddd2 = L.marker(\n",
       "                [35.860302, 139.975159],\n",
       "                {}\n",
       "            ).addTo(marker_cluster_939523b88a13c50ccd99e5951ea2c97f);\n",
       "        \n",
       "    \n",
       "            marker_2441e2aebb8df004c354dbc70698ddd2.bindTooltip(\n",
       "                `&lt;div&gt;\n",
       "                     60-64歳\n",
       "                 &lt;/div&gt;`,\n",
       "                {&quot;sticky&quot;: true}\n",
       "            );\n",
       "        \n",
       "    \n",
       "            var marker_a5b7ef508f70bb74cb493707160046a0 = L.marker(\n",
       "                [35.860302, 139.975159],\n",
       "                {}\n",
       "            ).addTo(marker_cluster_939523b88a13c50ccd99e5951ea2c97f);\n",
       "        \n",
       "    \n",
       "            marker_a5b7ef508f70bb74cb493707160046a0.bindTooltip(\n",
       "                `&lt;div&gt;\n",
       "                     20歳代\n",
       "                 &lt;/div&gt;`,\n",
       "                {&quot;sticky&quot;: true}\n",
       "            );\n",
       "        \n",
       "    \n",
       "            var marker_ecf0f39d901a0d1fe01a0639c00ea0ad = L.marker(\n",
       "                [35.860302, 139.975159],\n",
       "                {}\n",
       "            ).addTo(marker_cluster_939523b88a13c50ccd99e5951ea2c97f);\n",
       "        \n",
       "    \n",
       "            marker_ecf0f39d901a0d1fe01a0639c00ea0ad.bindTooltip(\n",
       "                `&lt;div&gt;\n",
       "                     50歳代\n",
       "                 &lt;/div&gt;`,\n",
       "                {&quot;sticky&quot;: true}\n",
       "            );\n",
       "        \n",
       "    \n",
       "            var marker_5badba5ff235995ab654869c09d64297 = L.marker(\n",
       "                [35.863529, 139.974228],\n",
       "                {}\n",
       "            ).addTo(marker_cluster_939523b88a13c50ccd99e5951ea2c97f);\n",
       "        \n",
       "    \n",
       "            marker_5badba5ff235995ab654869c09d64297.bindTooltip(\n",
       "                `&lt;div&gt;\n",
       "                     20歳代\n",
       "                 &lt;/div&gt;`,\n",
       "                {&quot;sticky&quot;: true}\n",
       "            );\n",
       "        \n",
       "    \n",
       "            var marker_84e3f1cde1035e57b9b8eacd6d2c1035 = L.marker(\n",
       "                [35.855583, 139.972137],\n",
       "                {}\n",
       "            ).addTo(marker_cluster_939523b88a13c50ccd99e5951ea2c97f);\n",
       "        \n",
       "    \n",
       "            marker_84e3f1cde1035e57b9b8eacd6d2c1035.bindTooltip(\n",
       "                `&lt;div&gt;\n",
       "                     20歳代\n",
       "                 &lt;/div&gt;`,\n",
       "                {&quot;sticky&quot;: true}\n",
       "            );\n",
       "        \n",
       "    \n",
       "            var marker_c47e0580ae2f42553f3c24b4be32db90 = L.marker(\n",
       "                [35.855583, 139.972137],\n",
       "                {}\n",
       "            ).addTo(marker_cluster_939523b88a13c50ccd99e5951ea2c97f);\n",
       "        \n",
       "    \n",
       "            marker_c47e0580ae2f42553f3c24b4be32db90.bindTooltip(\n",
       "                `&lt;div&gt;\n",
       "                     70歳以上\n",
       "                 &lt;/div&gt;`,\n",
       "                {&quot;sticky&quot;: true}\n",
       "            );\n",
       "        \n",
       "    \n",
       "            var marker_fccf5c58cec56c78e3833da6ab7dab6c = L.marker(\n",
       "                [35.859303, 139.970566],\n",
       "                {}\n",
       "            ).addTo(marker_cluster_939523b88a13c50ccd99e5951ea2c97f);\n",
       "        \n",
       "    \n",
       "            marker_fccf5c58cec56c78e3833da6ab7dab6c.bindTooltip(\n",
       "                `&lt;div&gt;\n",
       "                     40歳代\n",
       "                 &lt;/div&gt;`,\n",
       "                {&quot;sticky&quot;: true}\n",
       "            );\n",
       "        \n",
       "    \n",
       "            var marker_d2639c1d48cef811addf3b92a60db45a = L.marker(\n",
       "                [35.859303, 139.970566],\n",
       "                {}\n",
       "            ).addTo(marker_cluster_939523b88a13c50ccd99e5951ea2c97f);\n",
       "        \n",
       "    \n",
       "            marker_d2639c1d48cef811addf3b92a60db45a.bindTooltip(\n",
       "                `&lt;div&gt;\n",
       "                     10歳代\n",
       "                 &lt;/div&gt;`,\n",
       "                {&quot;sticky&quot;: true}\n",
       "            );\n",
       "        \n",
       "    \n",
       "            var marker_42a6ace9e6367f5ae9367ea9193eb7bb = L.marker(\n",
       "                [35.859303, 139.970566],\n",
       "                {}\n",
       "            ).addTo(marker_cluster_939523b88a13c50ccd99e5951ea2c97f);\n",
       "        \n",
       "    \n",
       "            marker_42a6ace9e6367f5ae9367ea9193eb7bb.bindTooltip(\n",
       "                `&lt;div&gt;\n",
       "                     20歳代\n",
       "                 &lt;/div&gt;`,\n",
       "                {&quot;sticky&quot;: true}\n",
       "            );\n",
       "        \n",
       "    \n",
       "            var marker_1a2f5d2f450ebdf0293b7769fab6eedd = L.marker(\n",
       "                [35.859303, 139.970566],\n",
       "                {}\n",
       "            ).addTo(marker_cluster_939523b88a13c50ccd99e5951ea2c97f);\n",
       "        \n",
       "    \n",
       "            marker_1a2f5d2f450ebdf0293b7769fab6eedd.bindTooltip(\n",
       "                `&lt;div&gt;\n",
       "                     20歳代\n",
       "                 &lt;/div&gt;`,\n",
       "                {&quot;sticky&quot;: true}\n",
       "            );\n",
       "        \n",
       "    \n",
       "            var marker_1e10fc613bc55ff8aaa9b635656ec6c3 = L.marker(\n",
       "                [35.859303, 139.970566],\n",
       "                {}\n",
       "            ).addTo(marker_cluster_939523b88a13c50ccd99e5951ea2c97f);\n",
       "        \n",
       "    \n",
       "            marker_1e10fc613bc55ff8aaa9b635656ec6c3.bindTooltip(\n",
       "                `&lt;div&gt;\n",
       "                     30歳代\n",
       "                 &lt;/div&gt;`,\n",
       "                {&quot;sticky&quot;: true}\n",
       "            );\n",
       "        \n",
       "    \n",
       "            var marker_896075d507c89a25ef8ce867609eace0 = L.marker(\n",
       "                [35.84705, 140.034134],\n",
       "                {}\n",
       "            ).addTo(marker_cluster_939523b88a13c50ccd99e5951ea2c97f);\n",
       "        \n",
       "    \n",
       "            marker_896075d507c89a25ef8ce867609eace0.bindTooltip(\n",
       "                `&lt;div&gt;\n",
       "                     10歳代\n",
       "                 &lt;/div&gt;`,\n",
       "                {&quot;sticky&quot;: true}\n",
       "            );\n",
       "        \n",
       "    \n",
       "            var marker_d301500653c65823a4003f1383b35c5b = L.marker(\n",
       "                [35.856987, 139.981491],\n",
       "                {}\n",
       "            ).addTo(marker_cluster_939523b88a13c50ccd99e5951ea2c97f);\n",
       "        \n",
       "    \n",
       "            marker_d301500653c65823a4003f1383b35c5b.bindTooltip(\n",
       "                `&lt;div&gt;\n",
       "                     30歳代\n",
       "                 &lt;/div&gt;`,\n",
       "                {&quot;sticky&quot;: true}\n",
       "            );\n",
       "        \n",
       "    \n",
       "            var marker_9e2d1625124118c80ef029ea430bd2c8 = L.marker(\n",
       "                [35.854141, 139.982056],\n",
       "                {}\n",
       "            ).addTo(marker_cluster_939523b88a13c50ccd99e5951ea2c97f);\n",
       "        \n",
       "    \n",
       "            marker_9e2d1625124118c80ef029ea430bd2c8.bindTooltip(\n",
       "                `&lt;div&gt;\n",
       "                     30歳代\n",
       "                 &lt;/div&gt;`,\n",
       "                {&quot;sticky&quot;: true}\n",
       "            );\n",
       "        \n",
       "    \n",
       "            var marker_d08cbdc764e912627708f4646db2301a = L.marker(\n",
       "                [35.858639, 139.983749],\n",
       "                {}\n",
       "            ).addTo(marker_cluster_939523b88a13c50ccd99e5951ea2c97f);\n",
       "        \n",
       "    \n",
       "            marker_d08cbdc764e912627708f4646db2301a.bindTooltip(\n",
       "                `&lt;div&gt;\n",
       "                     20歳代\n",
       "                 &lt;/div&gt;`,\n",
       "                {&quot;sticky&quot;: true}\n",
       "            );\n",
       "        \n",
       "    \n",
       "            var marker_5a48c86beaea62af76b80eb7954d0510 = L.marker(\n",
       "                [35.858639, 139.983749],\n",
       "                {}\n",
       "            ).addTo(marker_cluster_939523b88a13c50ccd99e5951ea2c97f);\n",
       "        \n",
       "    \n",
       "            marker_5a48c86beaea62af76b80eb7954d0510.bindTooltip(\n",
       "                `&lt;div&gt;\n",
       "                     20歳代\n",
       "                 &lt;/div&gt;`,\n",
       "                {&quot;sticky&quot;: true}\n",
       "            );\n",
       "        \n",
       "    \n",
       "            var marker_3af85e5f05b6d756b0d6fbb04b50b828 = L.marker(\n",
       "                [35.864445, 139.986511],\n",
       "                {}\n",
       "            ).addTo(marker_cluster_939523b88a13c50ccd99e5951ea2c97f);\n",
       "        \n",
       "    \n",
       "            marker_3af85e5f05b6d756b0d6fbb04b50b828.bindTooltip(\n",
       "                `&lt;div&gt;\n",
       "                     10歳代\n",
       "                 &lt;/div&gt;`,\n",
       "                {&quot;sticky&quot;: true}\n",
       "            );\n",
       "        \n",
       "    \n",
       "            var marker_1d2e2db700c738a9d0f6f1eb205cb819 = L.marker(\n",
       "                [35.853451, 139.977646],\n",
       "                {}\n",
       "            ).addTo(marker_cluster_939523b88a13c50ccd99e5951ea2c97f);\n",
       "        \n",
       "    \n",
       "            marker_1d2e2db700c738a9d0f6f1eb205cb819.bindTooltip(\n",
       "                `&lt;div&gt;\n",
       "                     40歳代\n",
       "                 &lt;/div&gt;`,\n",
       "                {&quot;sticky&quot;: true}\n",
       "            );\n",
       "        \n",
       "    \n",
       "            var marker_9c29d41b3068a0c3dc04d5eb8492678e = L.marker(\n",
       "                [35.853882, 139.985901],\n",
       "                {}\n",
       "            ).addTo(marker_cluster_939523b88a13c50ccd99e5951ea2c97f);\n",
       "        \n",
       "    \n",
       "            marker_9c29d41b3068a0c3dc04d5eb8492678e.bindTooltip(\n",
       "                `&lt;div&gt;\n",
       "                     70歳以上\n",
       "                 &lt;/div&gt;`,\n",
       "                {&quot;sticky&quot;: true}\n",
       "            );\n",
       "        \n",
       "    \n",
       "            var marker_29c42ffbbec551b6f1748ace84959510 = L.marker(\n",
       "                [35.85392, 139.971054],\n",
       "                {}\n",
       "            ).addTo(marker_cluster_939523b88a13c50ccd99e5951ea2c97f);\n",
       "        \n",
       "    \n",
       "            marker_29c42ffbbec551b6f1748ace84959510.bindTooltip(\n",
       "                `&lt;div&gt;\n",
       "                     10歳代\n",
       "                 &lt;/div&gt;`,\n",
       "                {&quot;sticky&quot;: true}\n",
       "            );\n",
       "        \n",
       "    \n",
       "            var marker_2223229c2bf9b9aa8c3b0d8a386eded4 = L.marker(\n",
       "                [35.90826, 139.95816],\n",
       "                {}\n",
       "            ).addTo(marker_cluster_939523b88a13c50ccd99e5951ea2c97f);\n",
       "        \n",
       "    \n",
       "            marker_2223229c2bf9b9aa8c3b0d8a386eded4.bindTooltip(\n",
       "                `&lt;div&gt;\n",
       "                     30歳代\n",
       "                 &lt;/div&gt;`,\n",
       "                {&quot;sticky&quot;: true}\n",
       "            );\n",
       "        \n",
       "    \n",
       "            var marker_6c1424f0f13015322ed6846fc3b7f35c = L.marker(\n",
       "                [35.912533, 139.953461],\n",
       "                {}\n",
       "            ).addTo(marker_cluster_939523b88a13c50ccd99e5951ea2c97f);\n",
       "        \n",
       "    \n",
       "            marker_6c1424f0f13015322ed6846fc3b7f35c.bindTooltip(\n",
       "                `&lt;div&gt;\n",
       "                     10歳代\n",
       "                 &lt;/div&gt;`,\n",
       "                {&quot;sticky&quot;: true}\n",
       "            );\n",
       "        \n",
       "    \n",
       "            var marker_6672c08e8ef4cdecfd9a5aea92e18f64 = L.marker(\n",
       "                [35.915054, 139.959076],\n",
       "                {}\n",
       "            ).addTo(marker_cluster_939523b88a13c50ccd99e5951ea2c97f);\n",
       "        \n",
       "    \n",
       "            marker_6672c08e8ef4cdecfd9a5aea92e18f64.bindTooltip(\n",
       "                `&lt;div&gt;\n",
       "                     10歳代\n",
       "                 &lt;/div&gt;`,\n",
       "                {&quot;sticky&quot;: true}\n",
       "            );\n",
       "        \n",
       "    \n",
       "            var marker_80d6ec9a3f62d63de169ff421de3eb6a = L.marker(\n",
       "                [35.915054, 139.959076],\n",
       "                {}\n",
       "            ).addTo(marker_cluster_939523b88a13c50ccd99e5951ea2c97f);\n",
       "        \n",
       "    \n",
       "            marker_80d6ec9a3f62d63de169ff421de3eb6a.bindTooltip(\n",
       "                `&lt;div&gt;\n",
       "                     10歳代\n",
       "                 &lt;/div&gt;`,\n",
       "                {&quot;sticky&quot;: true}\n",
       "            );\n",
       "        \n",
       "    \n",
       "            var marker_e48a72839b05fd61afd63f4644e8b770 = L.marker(\n",
       "                [35.896736, 139.974243],\n",
       "                {}\n",
       "            ).addTo(marker_cluster_939523b88a13c50ccd99e5951ea2c97f);\n",
       "        \n",
       "    \n",
       "            marker_e48a72839b05fd61afd63f4644e8b770.bindTooltip(\n",
       "                `&lt;div&gt;\n",
       "                     30歳代\n",
       "                 &lt;/div&gt;`,\n",
       "                {&quot;sticky&quot;: true}\n",
       "            );\n",
       "        \n",
       "    \n",
       "            var marker_46a46d7031671555b7bc1c537686553d = L.marker(\n",
       "                [35.896736, 139.974243],\n",
       "                {}\n",
       "            ).addTo(marker_cluster_939523b88a13c50ccd99e5951ea2c97f);\n",
       "        \n",
       "    \n",
       "            marker_46a46d7031671555b7bc1c537686553d.bindTooltip(\n",
       "                `&lt;div&gt;\n",
       "                     50歳代\n",
       "                 &lt;/div&gt;`,\n",
       "                {&quot;sticky&quot;: true}\n",
       "            );\n",
       "        \n",
       "    \n",
       "            var marker_37748b3a28c6257e5062b8645da6867e = L.marker(\n",
       "                [35.896736, 139.974243],\n",
       "                {}\n",
       "            ).addTo(marker_cluster_939523b88a13c50ccd99e5951ea2c97f);\n",
       "        \n",
       "    \n",
       "            marker_37748b3a28c6257e5062b8645da6867e.bindTooltip(\n",
       "                `&lt;div&gt;\n",
       "                     30歳代\n",
       "                 &lt;/div&gt;`,\n",
       "                {&quot;sticky&quot;: true}\n",
       "            );\n",
       "        \n",
       "    \n",
       "            var marker_d147c7ee9f960870983ff2d0a31a87b8 = L.marker(\n",
       "                [35.896736, 139.974243],\n",
       "                {}\n",
       "            ).addTo(marker_cluster_939523b88a13c50ccd99e5951ea2c97f);\n",
       "        \n",
       "    \n",
       "            marker_d147c7ee9f960870983ff2d0a31a87b8.bindTooltip(\n",
       "                `&lt;div&gt;\n",
       "                     40歳代\n",
       "                 &lt;/div&gt;`,\n",
       "                {&quot;sticky&quot;: true}\n",
       "            );\n",
       "        \n",
       "    \n",
       "            var marker_138379d88d638503dee532ad817c0064 = L.marker(\n",
       "                [35.896736, 139.974243],\n",
       "                {}\n",
       "            ).addTo(marker_cluster_939523b88a13c50ccd99e5951ea2c97f);\n",
       "        \n",
       "    \n",
       "            marker_138379d88d638503dee532ad817c0064.bindTooltip(\n",
       "                `&lt;div&gt;\n",
       "                     20歳代\n",
       "                 &lt;/div&gt;`,\n",
       "                {&quot;sticky&quot;: true}\n",
       "            );\n",
       "        \n",
       "    \n",
       "            var marker_802951df182aac7ef242e19b24b8e365 = L.marker(\n",
       "                [35.896736, 139.974243],\n",
       "                {}\n",
       "            ).addTo(marker_cluster_939523b88a13c50ccd99e5951ea2c97f);\n",
       "        \n",
       "    \n",
       "            marker_802951df182aac7ef242e19b24b8e365.bindTooltip(\n",
       "                `&lt;div&gt;\n",
       "                     10歳代\n",
       "                 &lt;/div&gt;`,\n",
       "                {&quot;sticky&quot;: true}\n",
       "            );\n",
       "        \n",
       "    \n",
       "            var marker_703406d9553b68ec1d6f05e01261168c = L.marker(\n",
       "                [35.896736, 139.974243],\n",
       "                {}\n",
       "            ).addTo(marker_cluster_939523b88a13c50ccd99e5951ea2c97f);\n",
       "        \n",
       "    \n",
       "            marker_703406d9553b68ec1d6f05e01261168c.bindTooltip(\n",
       "                `&lt;div&gt;\n",
       "                     10歳代\n",
       "                 &lt;/div&gt;`,\n",
       "                {&quot;sticky&quot;: true}\n",
       "            );\n",
       "        \n",
       "    \n",
       "            var marker_908becd8b920d8f593830978d41bfc48 = L.marker(\n",
       "                [35.868122, 139.943359],\n",
       "                {}\n",
       "            ).addTo(marker_cluster_939523b88a13c50ccd99e5951ea2c97f);\n",
       "        \n",
       "    \n",
       "            marker_908becd8b920d8f593830978d41bfc48.bindTooltip(\n",
       "                `&lt;div&gt;\n",
       "                     20歳代\n",
       "                 &lt;/div&gt;`,\n",
       "                {&quot;sticky&quot;: true}\n",
       "            );\n",
       "        \n",
       "    \n",
       "            var marker_f76f12235f4b37d33e112f6ad612c31f = L.marker(\n",
       "                [35.868122, 139.943359],\n",
       "                {}\n",
       "            ).addTo(marker_cluster_939523b88a13c50ccd99e5951ea2c97f);\n",
       "        \n",
       "    \n",
       "            marker_f76f12235f4b37d33e112f6ad612c31f.bindTooltip(\n",
       "                `&lt;div&gt;\n",
       "                     40歳代\n",
       "                 &lt;/div&gt;`,\n",
       "                {&quot;sticky&quot;: true}\n",
       "            );\n",
       "        \n",
       "    \n",
       "            var marker_38332f2b11ca5939e2183b35750b4284 = L.marker(\n",
       "                [35.868122, 139.943359],\n",
       "                {}\n",
       "            ).addTo(marker_cluster_939523b88a13c50ccd99e5951ea2c97f);\n",
       "        \n",
       "    \n",
       "            marker_38332f2b11ca5939e2183b35750b4284.bindTooltip(\n",
       "                `&lt;div&gt;\n",
       "                     10歳代\n",
       "                 &lt;/div&gt;`,\n",
       "                {&quot;sticky&quot;: true}\n",
       "            );\n",
       "        \n",
       "    \n",
       "            var marker_30e203950657c91d9f0ad05c50bc1a03 = L.marker(\n",
       "                [35.855282, 139.952621],\n",
       "                {}\n",
       "            ).addTo(marker_cluster_939523b88a13c50ccd99e5951ea2c97f);\n",
       "        \n",
       "    \n",
       "            marker_30e203950657c91d9f0ad05c50bc1a03.bindTooltip(\n",
       "                `&lt;div&gt;\n",
       "                     40歳代\n",
       "                 &lt;/div&gt;`,\n",
       "                {&quot;sticky&quot;: true}\n",
       "            );\n",
       "        \n",
       "    \n",
       "            var marker_7f9b54fa3fedf63ac0252ed78a9cbeba = L.marker(\n",
       "                [35.804619, 139.996078],\n",
       "                {}\n",
       "            ).addTo(marker_cluster_939523b88a13c50ccd99e5951ea2c97f);\n",
       "        \n",
       "    \n",
       "            marker_7f9b54fa3fedf63ac0252ed78a9cbeba.bindTooltip(\n",
       "                `&lt;div&gt;\n",
       "                     30歳代\n",
       "                 &lt;/div&gt;`,\n",
       "                {&quot;sticky&quot;: true}\n",
       "            );\n",
       "        \n",
       "    \n",
       "            var marker_bb1e104d8ae7cb876b449a95b4128240 = L.marker(\n",
       "                [35.804619, 139.996078],\n",
       "                {}\n",
       "            ).addTo(marker_cluster_939523b88a13c50ccd99e5951ea2c97f);\n",
       "        \n",
       "    \n",
       "            marker_bb1e104d8ae7cb876b449a95b4128240.bindTooltip(\n",
       "                `&lt;div&gt;\n",
       "                     50歳代\n",
       "                 &lt;/div&gt;`,\n",
       "                {&quot;sticky&quot;: true}\n",
       "            );\n",
       "        \n",
       "    \n",
       "            var marker_2efd4ba57111850a04d2b44bcd523230 = L.marker(\n",
       "                [35.8078, 139.99794],\n",
       "                {}\n",
       "            ).addTo(marker_cluster_939523b88a13c50ccd99e5951ea2c97f);\n",
       "        \n",
       "    \n",
       "            marker_2efd4ba57111850a04d2b44bcd523230.bindTooltip(\n",
       "                `&lt;div&gt;\n",
       "                     30歳代\n",
       "                 &lt;/div&gt;`,\n",
       "                {&quot;sticky&quot;: true}\n",
       "            );\n",
       "        \n",
       "    \n",
       "            var marker_6ab7a704029706f484decdf5f6b838d9 = L.marker(\n",
       "                [35.882629, 139.959305],\n",
       "                {}\n",
       "            ).addTo(marker_cluster_939523b88a13c50ccd99e5951ea2c97f);\n",
       "        \n",
       "    \n",
       "            marker_6ab7a704029706f484decdf5f6b838d9.bindTooltip(\n",
       "                `&lt;div&gt;\n",
       "                     30歳代\n",
       "                 &lt;/div&gt;`,\n",
       "                {&quot;sticky&quot;: true}\n",
       "            );\n",
       "        \n",
       "    \n",
       "            var marker_ab0d3cf19dc7f4d46793269e52ba5761 = L.marker(\n",
       "                [35.89653, 139.915878],\n",
       "                {}\n",
       "            ).addTo(marker_cluster_939523b88a13c50ccd99e5951ea2c97f);\n",
       "        \n",
       "    \n",
       "            marker_ab0d3cf19dc7f4d46793269e52ba5761.bindTooltip(\n",
       "                `&lt;div&gt;\n",
       "                     20歳代\n",
       "                 &lt;/div&gt;`,\n",
       "                {&quot;sticky&quot;: true}\n",
       "            );\n",
       "        \n",
       "    \n",
       "            var marker_b7fd5a353407509dfe81fbb0d52d2594 = L.marker(\n",
       "                [35.904537, 139.9216],\n",
       "                {}\n",
       "            ).addTo(marker_cluster_939523b88a13c50ccd99e5951ea2c97f);\n",
       "        \n",
       "    \n",
       "            marker_b7fd5a353407509dfe81fbb0d52d2594.bindTooltip(\n",
       "                `&lt;div&gt;\n",
       "                     10歳代\n",
       "                 &lt;/div&gt;`,\n",
       "                {&quot;sticky&quot;: true}\n",
       "            );\n",
       "        \n",
       "    \n",
       "            var marker_a145607ba372b7ef6048abe34c1efde5 = L.marker(\n",
       "                [35.904537, 139.9216],\n",
       "                {}\n",
       "            ).addTo(marker_cluster_939523b88a13c50ccd99e5951ea2c97f);\n",
       "        \n",
       "    \n",
       "            marker_a145607ba372b7ef6048abe34c1efde5.bindTooltip(\n",
       "                `&lt;div&gt;\n",
       "                     20歳代\n",
       "                 &lt;/div&gt;`,\n",
       "                {&quot;sticky&quot;: true}\n",
       "            );\n",
       "        \n",
       "    \n",
       "            marker_cluster_939523b88a13c50ccd99e5951ea2c97f.addTo(map_46f4f42c8ea80f1115bb71fd5fd805a0);\n",
       "        \n",
       "&lt;/script&gt;\n",
       "&lt;/html&gt;\" style=\"position:absolute;width:100%;height:100%;left:0;top:0;border:none !important;\" allowfullscreen webkitallowfullscreen mozallowfullscreen></iframe></div></div>"
      ],
      "text/plain": [
       "<folium.folium.Map at 0x2a1473dd0>"
      ]
     },
     "execution_count": 70,
     "metadata": {},
     "output_type": "execute_result"
    }
   ],
   "source": [
    "from folium.plugins import HeatMap\n",
    "\n",
    "# make the map\n",
    "m = folium.Map(location=[center_lat,center_lon], \n",
    "               zoom_start=12,\n",
    "               tiles='cartodbdark_matter')\n",
    "\n",
    "# add the heatmap\n",
    "HeatMap(\n",
    "    data = heatmap_lat_lon,\n",
    "    radius=15,    \n",
    ").add_to(m)\n",
    "\n",
    "# マーカーがメチャクチャ多い場合はclusterで処理！\n",
    "marker_cluster = plugins.MarkerCluster().add_to(m)\n",
    "\n",
    "# kashiwaのデータフレームをループしてマーカーを作る\n",
    "for index, row in kashiwa.iterrows():\n",
    "    latlon = [row['lat'],row['lon']]\n",
    "    folium.Marker(latlon, \n",
    "                  tooltip=row['被害者の年齢'],\n",
    "                ).add_to(marker_cluster) # mapにではなくmarker_clusterに足す\n",
    "\n",
    "# show the map\n",
    "m"
   ]
  },
  {
   "cell_type": "markdown",
   "metadata": {
    "slideshow": {
     "slide_type": "slide"
    }
   },
   "source": [
    "# 今日の課題\n",
    "\n",
    "❶ まずは以下のWeek 8 Surveyを提出する。\n",
    "\n",
    "❷ 今週はcatch up weekです。かなり宿題提出ができてないので、今週で必ず過去の宿題を提出するように。\n",
    "\n",
    "❸ ボーナス課題（50点）\n",
    "興味のあるトピックを見つけて、次の内容を説明するノートブックを作成する：\n",
    "\n",
    "- title (markdown)\n",
    "- explanation of topic (markdown)\n",
    "- data (markdown and python)\n",
    "- analysis (markdown and python)\n",
    "- mapping (markdown and python)\n",
    "- 感想 (markdown)\n",
    "\n",
    "GitHubにコミットし、リンクを提出\n"
   ]
  },
  {
   "cell_type": "markdown",
   "metadata": {},
   "source": []
  }
 ],
 "metadata": {
  "celltoolbar": "Slideshow",
  "kernelspec": {
   "display_name": "Python 3",
   "language": "python",
   "name": "python3"
  },
  "language_info": {
   "codemirror_mode": {
    "name": "ipython",
    "version": 3
   },
   "file_extension": ".py",
   "mimetype": "text/x-python",
   "name": "python",
   "nbconvert_exporter": "python",
   "pygments_lexer": "ipython3",
   "version": "3.11.9"
  }
 },
 "nbformat": 4,
 "nbformat_minor": 2
}
