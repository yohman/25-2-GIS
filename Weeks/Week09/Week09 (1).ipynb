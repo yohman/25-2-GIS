{
 "cells": [
  {
   "attachments": {},
   "cell_type": "markdown",
   "metadata": {},
   "source": [
    "# 美しい地図を作りましょう\n",
    "\n",
    "<img src=\"images/better maps.png\">\n",
    "\n",
    "matplotlib を使用してマップを作成する方法を学習しました。 このラボでは、マップ フィーチャの変更、ベースマップの追加、タイトルの作成などにより、これらのマップをさらに磨き上げる方法を学びます。"
   ]
  },
  {
   "cell_type": "code",
   "execution_count": null,
   "metadata": {},
   "outputs": [],
   "source": [
    "import geopandas as gpd\n",
    "import contextily as ctx\n",
    "import plotly.express as px\n",
    "\n",
    "# set font\n",
    "import matplotlib as mpl\n",
    "\n",
    "# for Mac\n",
    "mpl.rc('font',family='Hiragino Maru Gothic Pro')\n",
    "\n",
    "# for PC\n",
    "# mpl.rc('font',family='Hiragino Maru Gothic Pro')\n"
   ]
  },
  {
   "attachments": {},
   "cell_type": "markdown",
   "metadata": {},
   "source": [
    "## Get data\n",
    "\n",
    "まずはe-Statのサイトにアクセス。そこから次に手順でデータをダウンロードして今週のフォルダーに入れる：\n",
    "\n",
    "➡️ https://www.e-stat.go.jp/\n",
    "\n",
    "➡️ 地図\n",
    "\n",
    "➡️ 統計データダウンロード\n",
    "\n",
    "➡️ 境界データ\n",
    "\n",
    "➡️ 小地域\n",
    "\n",
    "➡️ 国勢調査\n",
    "\n",
    "➡️ 2020年\n",
    "\n",
    "➡️ 小地域（基本単位区）（JGD2000）\n",
    "\n",
    "➡️ 世界測地系緯度経度・Shapefile\n",
    "\n",
    "➡️ 12 千葉県\n",
    "\n",
    "➡️ 12217 柏市"
   ]
  },
  {
   "cell_type": "code",
   "execution_count": null,
   "metadata": {},
   "outputs": [],
   "source": [
    "gdf = gpd.read_file('B002005212020DDSWC12217.zip')"
   ]
  },
  {
   "cell_type": "code",
   "execution_count": null,
   "metadata": {},
   "outputs": [],
   "source": [
    "# explore the data\n",
    "gdf.info()"
   ]
  },
  {
   "cell_type": "code",
   "execution_count": null,
   "metadata": {},
   "outputs": [],
   "source": [
    "gdf.head()"
   ]
  },
  {
   "attachments": {},
   "cell_type": "markdown",
   "metadata": {},
   "source": [
    "ではとりあえずシンプルにマップを作ろう。`ax`という変数に入れます。\n",
    "\n",
    "😮ところで、なぜ `ax` なの？これは `axes` の略で、このような matplotlib を使ったグラフやマップによく使われる関数です。"
   ]
  },
  {
   "cell_type": "code",
   "execution_count": null,
   "metadata": {},
   "outputs": [],
   "source": [
    "ax = gdf.plot()"
   ]
  },
  {
   "attachments": {},
   "cell_type": "markdown",
   "metadata": {},
   "source": [
    "データには既に「JINKO」のカラムがあるので、これを使ってコロプレス（choropleth）マップを作ろう。\n",
    "- `column='JINKO'`\n",
    "- `legend=True`"
   ]
  },
  {
   "cell_type": "code",
   "execution_count": null,
   "metadata": {},
   "outputs": [],
   "source": [
    "# population map\n",
    "ax = gdf.plot(column='JINKO',\n",
    "         legend=True)"
   ]
  },
  {
   "attachments": {},
   "cell_type": "markdown",
   "metadata": {},
   "source": [
    "## Size\n",
    "\n",
    "マップのサイズを変更\n",
    "- `figsize=(10,10)`\n",
    "\n",
    "2 つの数字はマップの幅と高さを示しますが、マップされるデータの形状に応じてサイズが変化する可能性があります。"
   ]
  },
  {
   "cell_type": "code",
   "execution_count": null,
   "metadata": {},
   "outputs": [],
   "source": [
    "# population map\n",
    "ax = gdf.plot(figsize=(10,10),\n",
    "         column='JINKO',\n",
    "         legend=True)"
   ]
  },
  {
   "attachments": {},
   "cell_type": "markdown",
   "metadata": {},
   "source": [
    "## Color\n",
    "\n",
    "`cmap` 引数を設定して、次の選択肢からコロプレス マップのカラー パレットを割り当てることができます。なお、色の方向を変えるには `_r` を付け加えればいい。\n",
    "\n",
    "例：　\n",
    "- `cmap='autumn'`\n",
    "- `cmap='autumn_r'`\n",
    "\n",
    "<img src=\"images/sphx_glr_colormaps_002.webp\">\n",
    "<img src=\"images/sphx_glr_colormaps_003.webp\">\n",
    "<img src=\"images/sphx_glr_colormaps_004.webp\">"
   ]
  },
  {
   "cell_type": "code",
   "execution_count": null,
   "metadata": {},
   "outputs": [],
   "source": [
    "# population map\n",
    "ax = gdf.plot(figsize=(10,10),\n",
    "         column='JINKO',\n",
    "         legend=True,\n",
    "         cmap='autumn_r')"
   ]
  },
  {
   "attachments": {},
   "cell_type": "markdown",
   "metadata": {},
   "source": [
    "## Lines\n",
    "\n",
    "次の引数を使用して、ポリゴンの境界線の幅と色を変更できます。\n",
    "\n",
    "- `edgecolor='black'`\n",
    "- `linewidth=0.1`"
   ]
  },
  {
   "cell_type": "code",
   "execution_count": null,
   "metadata": {},
   "outputs": [],
   "source": [
    "# population map\n",
    "ax = gdf.plot(figsize=(10,10),\n",
    "         column='JINKO',\n",
    "         legend=True,\n",
    "         cmap='autumn_r',\n",
    "         edgecolor='black',\n",
    "         linewidth=0.1)"
   ]
  },
  {
   "attachments": {},
   "cell_type": "markdown",
   "metadata": {},
   "source": [
    "## Hide Axes\n",
    "\n",
    "軸を非表示にするには、コード内に新しい行を作成し、`ax` 変数にアクセスする必要があります。\n",
    "\n",
    "- `ax.axis('off')`\n"
   ]
  },
  {
   "cell_type": "code",
   "execution_count": null,
   "metadata": {},
   "outputs": [],
   "source": [
    "# population map\n",
    "ax = gdf.plot(figsize=(10,10),\n",
    "         column='JINKO',\n",
    "         legend=True,\n",
    "         cmap='autumn_r',\n",
    "         edgecolor='black',\n",
    "         linewidth=0.1)\n",
    "\n",
    "# hide axes\n",
    "ax.axis('off')"
   ]
  },
  {
   "attachments": {},
   "cell_type": "markdown",
   "metadata": {},
   "source": [
    "## Title\n",
    "\n",
    "マップのタイトルを設定するには、`ax` 変数を参照する別のコード行を追加する必要があります。\n",
    "\n",
    "なお、日本語フォントの設定する必要があるのでMACかPCによって違うので注意：\n",
    "\n",
    "Windows PC:\n",
    "- `ax.set_title('柏市の人口',fontsize=24, fontname='MS Gothic');`\n",
    "\n",
    "Mac:\n",
    "- `ax.set_title('柏市の人口',fontsize=24, fontname='Hiragino Maru Gothic Pro');`"
   ]
  },
  {
   "cell_type": "code",
   "execution_count": null,
   "metadata": {},
   "outputs": [],
   "source": [
    "# population map\n",
    "ax = gdf.plot(figsize=(10,10),\n",
    "         column='JINKO',\n",
    "         legend=True,\n",
    "         cmap='autumn_r',\n",
    "         edgecolor='black',\n",
    "         linewidth=0.1)\n",
    "\n",
    "# hide axes\n",
    "ax.axis('off')\n",
    "\n",
    "# title\n",
    "ax.set_title('柏市の人口',fontsize=24)"
   ]
  },
  {
   "attachments": {},
   "cell_type": "markdown",
   "metadata": {},
   "source": [
    "## Basemap\n",
    "\n",
    "ベースマップを足すには複数のステップが必要となる。\n",
    "\n",
    "まずはベースマップを提供しているモジュール【contextily】をimportする。"
   ]
  },
  {
   "cell_type": "code",
   "execution_count": null,
   "metadata": {},
   "outputs": [],
   "source": [
    "import contextily as cx"
   ]
  },
  {
   "attachments": {},
   "cell_type": "markdown",
   "metadata": {},
   "source": [
    "次はデータをcontextilyがサポートしている地図投影法に変換する必要がある。\n",
    "\n",
    "え？地図投影法とは？\n",
    "\n",
    "## Projections\n",
    "\n",
    "<img src=\"images/projections.png\">\n",
    "\n",
    "https://www.esrij.com/gis-guide/coordinate-and-spatial/coordinate-system/"
   ]
  },
  {
   "attachments": {},
   "cell_type": "markdown",
   "metadata": {},
   "source": [
    "\n",
    "https://ja.wikipedia.org/wiki/%E5%9C%B0%E5%9B%B3%E6%8A%95%E5%BD%B1%E6%B3%95%E3%81%AE%E4%B8%80%E8%A6%A7\n",
    "\n",
    "緯度経度 (latitude,longitude) で表されているデータの地理座標系のcrs番号は `4326`だがcontextilyのベースマップは【Web メルカトル】という投影座標系を使っていて、その crs番号は `3857` である。"
   ]
  },
  {
   "cell_type": "code",
   "execution_count": null,
   "metadata": {},
   "outputs": [],
   "source": [
    "# change projection for your data to match basemap\n",
    "gdf=gdf.to_crs(3857)"
   ]
  },
  {
   "cell_type": "code",
   "execution_count": null,
   "metadata": {},
   "outputs": [],
   "source": [
    "# population map\n",
    "ax = gdf.plot(figsize=(10,10),\n",
    "         column='JINKO',\n",
    "         legend=True,\n",
    "         cmap='autumn_r',\n",
    "         edgecolor='black',\n",
    "         linewidth=0.1)\n",
    "\n",
    "# hide axes\n",
    "ax.axis('off')\n",
    "\n",
    "# title\n",
    "ax.set_title('柏市の人口',fontsize=24);\n",
    "\n",
    "# add basemap\n",
    "cx.add_basemap(ax)"
   ]
  },
  {
   "attachments": {},
   "cell_type": "markdown",
   "metadata": {},
   "source": [
    "## Transparency\n",
    "\n",
    "コロプレス レイヤーに少し透明度を追加して、ベースマップ上にシームレスに「浮かせる」ことができます。\n",
    "\n",
    "- `alpha=0.8`"
   ]
  },
  {
   "cell_type": "code",
   "execution_count": null,
   "metadata": {},
   "outputs": [],
   "source": [
    "# population map\n",
    "ax = gdf.plot(figsize=(10,10),\n",
    "         column='JINKO',\n",
    "         legend=True,\n",
    "         cmap='autumn_r',\n",
    "         edgecolor='black',\n",
    "         linewidth=0.1,\n",
    "         alpha=0.8)\n",
    "\n",
    "# hide axes\n",
    "ax.axis('off')\n",
    "\n",
    "# title\n",
    "ax.set_title('柏市の人口',fontsize=24);\n",
    "\n",
    "# add basemap\n",
    "cx.add_basemap(ax)"
   ]
  },
  {
   "attachments": {},
   "cell_type": "markdown",
   "metadata": {},
   "source": [
    "## Basemap options\n",
    "\n",
    "- source=cx.providers.CartoDB.Positron\n",
    "- source=cx.providers.CartoDB.DarkMatter\n",
    "- source=cx.providers.Stamen.TonerLite\n",
    "\n",
    "- source='https://cyberjapandata.gsi.go.jp/xyz/seamlessphoto/{z}/{x}/{y}.jpg'\n",
    "- source='https://cyberjapandata.gsi.go.jp/xyz/blank/{z}/{x}/{y}.png'"
   ]
  },
  {
   "cell_type": "code",
   "execution_count": null,
   "metadata": {},
   "outputs": [],
   "source": [
    "# population map\n",
    "ax = gdf.plot(figsize=(10,10),\n",
    "         column='JINKO',\n",
    "         legend=True,\n",
    "         cmap='autumn_r',\n",
    "         edgecolor='black',\n",
    "         linewidth=0.1,\n",
    "         alpha=0.8)\n",
    "\n",
    "# hide axes\n",
    "ax.axis('off')\n",
    "\n",
    "# title\n",
    "ax.set_title('柏市の人口',fontsize=24);\n",
    "\n",
    "# add basemap\n",
    "cx.add_basemap(ax,source=cx.providers.Stamen.TonerLite)"
   ]
  },
  {
   "attachments": {},
   "cell_type": "markdown",
   "metadata": {},
   "source": [
    "# Exercise\n",
    "\n",
    "「SETAI」を示す地図を作成しましょう。 それに応じてタイトルを変更してください。 マップのさまざまな色を試してください。"
   ]
  },
  {
   "cell_type": "code",
   "execution_count": null,
   "metadata": {},
   "outputs": [],
   "source": []
  },
  {
   "cell_type": "code",
   "execution_count": null,
   "metadata": {},
   "outputs": [],
   "source": []
  },
  {
   "cell_type": "code",
   "execution_count": null,
   "metadata": {},
   "outputs": [],
   "source": []
  },
  {
   "cell_type": "code",
   "execution_count": null,
   "metadata": {},
   "outputs": [],
   "source": []
  },
  {
   "attachments": {},
   "cell_type": "markdown",
   "metadata": {},
   "source": [
    "# 今日の課題\n",
    "\n",
    "仮にあなたがマップ会社のインターンだとして、クライアントに「柏市で人口の最も多い街トップ10は？チャートと地図を作ってくれない？」とお願いされた。\n",
    "\n"
   ]
  },
  {
   "attachments": {},
   "cell_type": "markdown",
   "metadata": {},
   "source": [
    "## トップ１０を出すにはデータをソートする\n",
    "\n",
    "データを JINKO で降順に並べ替えて、最も人口の多い町が上位に来るようにします。データフレームをソートするには\n",
    "\n",
    "- `gdf.sort_values(by='JINKO')`\n",
    "\n",
    "多い数字を上にするには\n",
    "\n",
    "- `gdf.sort_values(by='JINKO' ascending=False)`\n"
   ]
  },
  {
   "cell_type": "code",
   "execution_count": null,
   "metadata": {},
   "outputs": [],
   "source": [
    "gdf = gdf.sort_values(by='JINKO', ascending=False )\n",
    "gdf"
   ]
  },
  {
   "cell_type": "code",
   "execution_count": null,
   "metadata": {},
   "outputs": [],
   "source": [
    "# show top 10\n",
    "gdf.head(10)"
   ]
  },
  {
   "attachments": {},
   "cell_type": "markdown",
   "metadata": {},
   "source": [
    "## Make the chart\n",
    "\n",
    "Week08のラボを参照して作る。"
   ]
  },
  {
   "cell_type": "code",
   "execution_count": null,
   "metadata": {},
   "outputs": [],
   "source": [
    "fig = px.bar(gdf.head(10),\n",
    "            y='JINKO',\n",
    "            x='S_NAME',\n",
    "            template='seaborn' # change this to see other styles\n",
    "            )\n",
    "\n",
    "fig.show()"
   ]
  },
  {
   "attachments": {},
   "cell_type": "markdown",
   "metadata": {},
   "source": [
    "## Map\n",
    "\n",
    "同じように、トップ１０マップを作るには `gef.head(10)` を付け加えればいい。"
   ]
  },
  {
   "cell_type": "code",
   "execution_count": null,
   "metadata": {},
   "outputs": [],
   "source": [
    "# population map\n",
    "ax = gdf.head(10).plot(figsize=(10,10),\n",
    "         column='JINKO',\n",
    "         legend=True,\n",
    "         cmap='autumn_r',\n",
    "         edgecolor='black',\n",
    "         linewidth=1,\n",
    "         alpha=0.8)\n",
    "\n",
    "# hide axes\n",
    "ax.axis('off')\n",
    "\n",
    "# title\n",
    "ax.set_title('柏市の人口の多い街トップ10',fontsize=24);\n",
    "\n",
    "# add basemap\n",
    "cx.add_basemap(ax,source=cx.providers.Stamen.TonerLite)"
   ]
  },
  {
   "attachments": {},
   "cell_type": "markdown",
   "metadata": {},
   "source": [
    "# Exercise\n",
    "\n",
    "「SETAI」を示すトップ１０チャートと地図を作成しましょう。 それに応じてタイトルを変更してください。 マップのさまざまな色を試してください。"
   ]
  },
  {
   "cell_type": "code",
   "execution_count": null,
   "metadata": {},
   "outputs": [],
   "source": []
  },
  {
   "cell_type": "code",
   "execution_count": null,
   "metadata": {},
   "outputs": [],
   "source": []
  },
  {
   "cell_type": "code",
   "execution_count": null,
   "metadata": {},
   "outputs": [],
   "source": []
  }
 ],
 "metadata": {
  "kernelspec": {
   "display_name": "geos",
   "language": "python",
   "name": "python3"
  },
  "language_info": {
   "codemirror_mode": {
    "name": "ipython",
    "version": 3
   },
   "file_extension": ".py",
   "mimetype": "text/x-python",
   "name": "python",
   "nbconvert_exporter": "python",
   "pygments_lexer": "ipython3",
   "version": "3.11.0"
  },
  "orig_nbformat": 4
 },
 "nbformat": 4,
 "nbformat_minor": 2
}
