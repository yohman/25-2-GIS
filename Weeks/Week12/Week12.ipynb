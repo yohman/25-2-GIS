{
 "cells": [
  {
   "attachments": {},
   "cell_type": "markdown",
   "metadata": {},
   "source": [
    "# Mapping change over time (Part 2)\n",
    "\n",
    "<img src=\"images/huh.png\" width=600>\n",
    "\n",
    "In the previos lab, side-by-side maps were generated to present demographic shifts over space and time. However, with large number of areas displaying minimal population shifts, these changes can be hard to detect. In order to visibly highlight specific areas where certain population groups have increased and decreased, we calcluate the total population change as well as the percent change from one time period to another.\n",
    "\n",
    "We begin this lab by importing the `chibamesh.geojson` file that was generated in the previous lab.\n",
    "\n",
    "以前のラボでは、空間と時間にわたる人口動態の変化を示すために並列マップが生成されました。 ただし、人口の変化が最小限に抑えられている地域が多数あるため、これらの変化を検出するのは難しい場合があります。 特定の人口グループが増減した特定の地域を視覚的に強調するために、総人口の変化と、ある期間から別の期間への変化率を計算します。\n",
    "\n",
    "このラボは、前のラボで生成された「chibamesh.geojson」ファイルをインポートすることから始めます。"
   ]
  },
  {
   "attachments": {},
   "cell_type": "markdown",
   "metadata": {},
   "source": [
    "## Libraries"
   ]
  },
  {
   "cell_type": "code",
   "execution_count": null,
   "metadata": {},
   "outputs": [],
   "source": [
    "import geopandas as gpd\n",
    "import pandas as pd\n",
    "import contextily as ctx\n",
    "import plotly.express as px\n",
    "import contextily as cx\n",
    "import numpy as np\n",
    "import matplotlib.pyplot as plt\n",
    "\n",
    "# set font\n",
    "import matplotlib as mpl\n",
    "\n",
    "# for Mac\n",
    "mpl.rc('font',family='Hiragino Maru Gothic Pro')\n",
    "\n",
    "# for PC\n",
    "# mpl.rc('font',family='MS Gothic')\n"
   ]
  },
  {
   "attachments": {},
   "cell_type": "markdown",
   "metadata": {},
   "source": [
    "### メッシュをインポート"
   ]
  },
  {
   "cell_type": "code",
   "execution_count": null,
   "metadata": {},
   "outputs": [],
   "source": [
    "# 空間データなので geopandas (gpd) でインポート\n",
    "chibamesh = gpd.read_file('data/chibamesh.geojson')"
   ]
  },
  {
   "attachments": {},
   "cell_type": "markdown",
   "metadata": {},
   "source": [
    "## Map time\n"
   ]
  },
  {
   "cell_type": "code",
   "execution_count": null,
   "metadata": {},
   "outputs": [],
   "source": [
    "# population map\n",
    "fig, ax = plt.subplots(nrows=1,ncols=2,figsize=(20,20)) # 1 row, 2 columns, side by side\n",
    "\n",
    "# 2015 population\n",
    "chibamesh.plot(ax = ax[0], # 左のマップ\n",
    "    column='T000846001',\n",
    "         legend=True,\n",
    "         legend_kwds={'shrink': 0.3},\n",
    "         cmap='autumn_r',\n",
    "         edgecolor='black',\n",
    "         linewidth=0.1,\n",
    "         alpha=0.8,\n",
    "         vmin=0,\n",
    "         vmax=15000)\n",
    "\n",
    "# 2020 population\n",
    "chibamesh.plot(ax = ax[1], # 右のマップ\n",
    "    column='T001100001',\n",
    "         legend=True,\n",
    "         legend_kwds={'shrink': 0.3},\n",
    "         cmap='autumn_r',\n",
    "         edgecolor='black',\n",
    "         linewidth=0.1,\n",
    "         alpha=0.8,\n",
    "         vmin=0,\n",
    "         vmax=15000)\n",
    "\n",
    "# hide axes\n",
    "ax[0].axis('off') # 左\n",
    "ax[1].axis('off') # 右\n",
    "\n",
    "# title\n",
    "ax[0].set_title('2015 人口総数',fontsize=24); # 左\n",
    "ax[1].set_title('2020 人口総数',fontsize=24); # 右\n",
    "\n",
    "# Get the total bounds of the geometries\n",
    "xmin, ymin, xmax, ymax = chibamesh.total_bounds\n",
    "\n",
    "# Set the plot limits based on the total bounds\n",
    "ax[0].set_xlim(xmin, xmax) # 左\n",
    "ax[0].set_ylim(ymin, ymax) # 左 \n",
    "ax[1].set_xlim(xmin, xmax) # 右\n",
    "ax[1].set_ylim(ymin, ymax) # 右\n",
    "\n",
    "# サブプロット間のスペースを調整\n",
    "plt.tight_layout()\n",
    "\n",
    "# add basemap\n",
    "cx.add_basemap(ax[0],source=cx.providers.Stamen.TonerLite) # 左\n",
    "cx.add_basemap(ax[1],source=cx.providers.Stamen.TonerLite) # 右"
   ]
  },
  {
   "attachments": {},
   "cell_type": "markdown",
   "metadata": {},
   "source": [
    "# Create a new field for population change\n",
    "These are beautiful side by side maps. However, one can hardly tell the difference between them! One way to show the difference between data from different time periods is to calculate the difference between them. To do so:\n",
    "\n",
    "- create a new field `pop_change_2015_2020`\n",
    "- create a new field `pop_percent_change_2015_2020`\n",
    "- calculate the population change (difference) between 2015 and 2020\n",
    "- calculate the population percent change (difference) between 2015 and 2020\n",
    "- map the new field\n",
    "\n",
    "横並びの美しい地図ができたね。 でも、違いを区別することはほとんどできない。 異なる期間のデータ間の差異を示す 1 つの方法は、データ間の差異を計算することです。 そうするために：\n",
    "\n",
    "- 新しいフィールド「pop_change_2015_2020」を作成する\n",
    "- 2015年と2020年の人口変化（差）を計算する\n",
    "- 新しいフィールドをマップする"
   ]
  },
  {
   "cell_type": "code",
   "execution_count": null,
   "metadata": {},
   "outputs": [],
   "source": [
    "# create a new field with null values\n",
    "chibamesh['pop_change_2015_2020'] = np.nan\n",
    "chibamesh['pop_percent_change_2015_2020'] = np.nan"
   ]
  },
  {
   "attachments": {},
   "cell_type": "markdown",
   "metadata": {},
   "source": [
    "## 問題\n",
    "\n",
    "🧐　まずは考えよう。なぜ【人口推移】(population change) と【人口割合の変化】(population percent change) を両方計算する必要があるの？\n",
    "\n",
    "では、下のコードセルで次の二つの計算をしましょう。\n",
    "\n",
    "- 2015 年から 2020 年までの総人口の絶対変化の計算\n",
    "- 2015 年から 2020 年までの総人口の変化率の計算\n",
    "\n",
    "ヒント：\n",
    "- 2015年：`T000846001`\n",
    "- 2020年：`T001100001`\n",
    "\n",
    "なお、式の最初の部分は既に記入されてます。"
   ]
  },
  {
   "cell_type": "code",
   "execution_count": null,
   "metadata": {},
   "outputs": [],
   "source": [
    "# calculate population change 【人口推移】\n"
   ]
  },
  {
   "cell_type": "code",
   "execution_count": null,
   "metadata": {},
   "outputs": [],
   "source": [
    "# calculate population percent change【人口割合の変化】\n"
   ]
  },
  {
   "cell_type": "code",
   "execution_count": null,
   "metadata": {},
   "outputs": [],
   "source": [
    "# check!\n",
    "chibamesh[['KEY_CODE','T000846001','T001100001','pop_change_2015_2020','pop_percent_change_2015_2020']].sample(5)"
   ]
  },
  {
   "cell_type": "code",
   "execution_count": null,
   "metadata": {},
   "outputs": [],
   "source": [
    "# population map\n",
    "fig,ax = plt.subplots(nrows=1, ncols=1, figsize=(12,12)) # 一つのマップなのでnrows,ncols=1\n",
    "\n",
    "# 2015-2020 population change\n",
    "chibamesh.plot(ax = ax,\n",
    "        column='pop_percent_change_2015_2020',\n",
    "        legend=True,\n",
    "        legend_kwds={'shrink': 0.5},\n",
    "        cmap='autumn_r',\n",
    "        edgecolor='black',\n",
    "        linewidth=0.1,\n",
    "        alpha=0.8,)\n",
    "\n",
    "# hide axes\n",
    "ax.axis('off')\n",
    "\n",
    "# title\n",
    "ax.set_title('2015 年から 2020 年までの人口の変化',fontsize=24, pad=20);\n",
    "\n",
    "# Get the total bounds of the geometries\n",
    "xmin, ymin, xmax, ymax = chibamesh.total_bounds\n",
    "\n",
    "# Set the plot limits based on the total bounds\n",
    "ax.set_xlim(xmin, xmax)\n",
    "ax.set_ylim(ymin, ymax)\n",
    "\n",
    "# add basemap\n",
    "cx.add_basemap(ax,source=cx.providers.Stamen.TonerLite)"
   ]
  },
  {
   "attachments": {},
   "cell_type": "markdown",
   "metadata": {},
   "source": [
    "This map is not very legible. How can we make it better? With maps that show positive and negative values, we use a divergent color scheme. Furthermore, in order to set the neutral color at the middle, we make sure to make the vmin and vmax values equal.\n",
    "\n",
    "この地図はすごく読みにくいです。 どうすれば改善できるでしょうか? 正の値と負の値を示すマップでは、divergent カラー スキームを使用します。 さらに、中間色を設定するために、vmin と vmax の値が同じになるようにします。\n",
    "\n",
    "<img src=\"https://raw.githubusercontent.com/yohman/23-1-Reitaku-GIS/main/Weeks/Week11/images/diverging.png\" width=500>\n"
   ]
  },
  {
   "attachments": {},
   "cell_type": "markdown",
   "metadata": {},
   "source": [
    "Single map:"
   ]
  },
  {
   "cell_type": "code",
   "execution_count": null,
   "metadata": {},
   "outputs": [],
   "source": [
    "# population map\n",
    "fig,ax = plt.subplots(nrows=1, ncols=1, figsize=(12,12))\n",
    "\n",
    "# 2015-2020 population change\n",
    "chibamesh.plot(ax = ax,\n",
    "    column='pop_change_2015_2020',\n",
    "         legend=True,\n",
    "         legend_kwds={'shrink': 0.5},\n",
    "         cmap='seismic',\n",
    "         edgecolor='black',\n",
    "         linewidth=0.1,\n",
    "         alpha=0.8,\n",
    "         vmin=-75, # vminとvmaxが同じことによって、中間値がゼロになる\n",
    "         vmax=75\n",
    "         )\n",
    "\n",
    "# hide axes\n",
    "ax.axis('off')\n",
    "\n",
    "# title\n",
    "ax.set_title('東京・千葉 2015-2020 人口の変化',fontsize=30, pad=20)\n",
    "\n",
    "# Get the total bounds of the geometries\n",
    "xmin, ymin, xmax, ymax = chibamesh.total_bounds\n",
    "\n",
    "# Set the plot limits based on the total bounds\n",
    "ax.set_xlim(xmin, xmax)\n",
    "ax.set_ylim(ymin, ymax)\n",
    "\n",
    "# サブプロット間のスペースを調整\n",
    "plt.tight_layout()\n",
    "\n",
    "# add basemap\n",
    "cx.add_basemap(ax,source=cx.providers.Stamen.TonerLite)\n"
   ]
  },
  {
   "attachments": {},
   "cell_type": "markdown",
   "metadata": {},
   "source": [
    "Side-by-side maps:"
   ]
  },
  {
   "cell_type": "code",
   "execution_count": null,
   "metadata": {},
   "outputs": [],
   "source": [
    "# population map\n",
    "fig, ax = plt.subplots(nrows=1,ncols=2,figsize=(20,20)) # 1 row, 2 columns, side by side\n",
    "\n",
    "# 2015 population\n",
    "chibamesh.plot(ax = ax[0], # 左のマップ\n",
    "    column='pop_change_2015_2020',\n",
    "         legend=True,\n",
    "         legend_kwds={'shrink': 0.3},\n",
    "         cmap='seismic',\n",
    "         edgecolor='black',\n",
    "         linewidth=0.1,\n",
    "         alpha=0.8,\n",
    "         vmin=-1000, # vminとvmaxが同じことによって、中間値がゼロになる\n",
    "         vmax=1000\n",
    ")\n",
    "\n",
    "# 2020 population\n",
    "chibamesh.plot(ax = ax[1], # 右のマップ\n",
    "    column='pop_percent_change_2015_2020',\n",
    "         legend=True,\n",
    "         legend_kwds={'shrink': 0.3},\n",
    "         cmap='seismic',\n",
    "         edgecolor='black',\n",
    "         linewidth=0.1,\n",
    "         alpha=0.8,\n",
    "         vmin=-75, # vminとvmaxが同じことによって、中間値がゼロになる\n",
    "         vmax=75\n",
    ")\n",
    "\n",
    "# hide axes\n",
    "ax[0].axis('off') # 左\n",
    "ax[1].axis('off') # 右\n",
    "\n",
    "# title\n",
    "ax[0].set_title('2015 年から 2020 年までの人口の絶対数変化',fontsize=24); # 左\n",
    "ax[1].set_title('2015 年から 2020 年までの人口割合の変化',fontsize=24); # 右\n",
    "\n",
    "# Get the total bounds of the geometries\n",
    "xmin, ymin, xmax, ymax = chibamesh.total_bounds\n",
    "\n",
    "# Set the plot limits based on the total bounds\n",
    "ax[0].set_xlim(xmin, xmax) # 左\n",
    "ax[0].set_ylim(ymin, ymax) # 左 \n",
    "ax[1].set_xlim(xmin, xmax) # 右\n",
    "ax[1].set_ylim(ymin, ymax) # 右\n",
    "\n",
    "# サブプロット間のスペースを調整\n",
    "plt.tight_layout()\n",
    "\n",
    "# add basemap\n",
    "cx.add_basemap(ax[0],source=cx.providers.Stamen.TonerLite) # 左\n",
    "cx.add_basemap(ax[1],source=cx.providers.Stamen.TonerLite) # 右"
   ]
  }
 ],
 "metadata": {
  "kernelspec": {
   "display_name": "geos",
   "language": "python",
   "name": "python3"
  },
  "language_info": {
   "codemirror_mode": {
    "name": "ipython",
    "version": 3
   },
   "file_extension": ".py",
   "mimetype": "text/x-python",
   "name": "python",
   "nbconvert_exporter": "python",
   "pygments_lexer": "ipython3",
   "version": "3.11.0"
  },
  "orig_nbformat": 4
 },
 "nbformat": 4,
 "nbformat_minor": 2
}
