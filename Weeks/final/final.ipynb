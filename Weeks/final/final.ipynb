{
 "cells": [
  {
   "cell_type": "markdown",
   "metadata": {},
   "source": [
    "# 2023 Reitaku University Final GIS Projects\n",
    "## 東京都・大阪府 外国人人口推移と考察\n",
    "*Akari Miura, Chikashi Hoshino*\n",
    "\n",
    "<img src=\"images/hoshiakari.png\" width=400>\n",
    "\n",
    "[slides](https://docs.google.com/presentation/d/1_A0hhu6WzxQHoB9TRY961lRIm3dt3Rc9Xe-Qabzv13M/edit#slide=id.p)\n"
   ]
  },
  {
   "cell_type": "markdown",
   "metadata": {},
   "source": [
    "## コロナウイルスのクラスターマップ\n",
    "*Kazu, Yuduki*\n",
    "\n",
    "<img src=\"images/covid.png\" width=400>\n",
    "\n",
    "[slides](https://docs.google.com/presentation/d/1COy4ZQyidK9cVzOnDPiW6BAaVO2H32L9n_mVNvawPgo/edit#slide=id.p)"
   ]
  },
  {
   "cell_type": "markdown",
   "metadata": {},
   "source": [
    "## Where The People Disappeared\n",
    "*Kuya, Naruse*\n",
    "\n",
    "<img src=\"images/fukushima.png\" width=400>\n",
    "\n",
    "[slides](https://classroom.google.com/g/tg/NTE2Mjc2OTMxMjIw/NjE2NjkyNDkyMjU2#u=MzEyNDg4MTE4MjU1&t=f)\n"
   ]
  },
  {
   "cell_type": "markdown",
   "metadata": {},
   "source": [
    "# 千葉県の自動車盗難って多いの？\n",
    "*Issa, Hibiki, Akira*\n",
    "\n",
    "<img src= \"images/tonan.png\" width=400>\n",
    "\n",
    "[slides](https://docs.google.com/presentation/d/1ZxffA1jj0JziBX85l8PJs1T8XRHUdhzd-pORjntwMek/edit#slide=id.p)\n"
   ]
  },
  {
   "cell_type": "markdown",
   "metadata": {},
   "source": [
    "# 千葉県従業者数比較 2015~2020\n",
    "*Haruto, Kazuma, Yuuki*\n",
    "\n",
    "<img src=\"images/norin.png\" width=400>\n",
    "\n",
    "[slides](https://drive.google.com/file/d/1qZJYzVEQ1n72LD3ipNlSYJdk09LhUwgc/view)"
   ]
  },
  {
   "cell_type": "markdown",
   "metadata": {},
   "source": [
    "# 千葉県の事務職は減少しているのか？\n",
    "\n",
    "Saba, Kasumi, Yuki\n",
    "\n",
    "<img src=\"images/pop.png\" width=400>\n",
    "\n",
    "[slides](https://docs.google.com/presentation/d/1WF8JI_yqNcsNAlZ8-07J6v9Xm7QG4RC5A2tl4N6Zhg8/edit#slide=id.p)"
   ]
  },
  {
   "cell_type": "markdown",
   "metadata": {},
   "source": [
    "# World Happiness\n",
    "*Naoki*\n",
    "\n",
    "<img src=\"images/gdp.png\" width=400>"
   ]
  },
  {
   "cell_type": "markdown",
   "metadata": {},
   "source": [
    "## 福井県における幼児・青少年の人口分布と住宅賃貸との関係はどうなる\n",
    "*Hanxue, Mayu*\n",
    "\n",
    "<img src=\"images/fukui.png\" width=400>\n",
    "\n",
    "[slides](https://docs.google.com/presentation/d/1iGL9SqVY6ZsYoXtL4H-2sGgxcwTs3W9EFWRCRkMBSjk/edit#slide=id.g1e524bfbdd5_0_506)"
   ]
  },
  {
   "cell_type": "markdown",
   "metadata": {},
   "source": []
  }
 ],
 "metadata": {
  "language_info": {
   "name": "python"
  },
  "orig_nbformat": 4
 },
 "nbformat": 4,
 "nbformat_minor": 2
}
