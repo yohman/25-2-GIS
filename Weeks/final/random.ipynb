{
 "cells": [
  {
   "cell_type": "code",
   "execution_count": 1,
   "metadata": {},
   "outputs": [],
   "source": [
    "import pandas as pd\n",
    "import random\n"
   ]
  },
  {
   "cell_type": "code",
   "execution_count": 2,
   "metadata": {},
   "outputs": [],
   "source": [
    "data = {\n",
    "    'Group': ['Mayu/Hanxue', 'Naoki', 'Kasumi/Saba/Nagumon', 'Akari/Chikashi', 'Haruto/Kazuma/Yuuki', 'Kazu/Yuduki', 'Naruse/Kuya', 'Hibiki/Akira/Issa']\n",
    "}\n",
    "\n",
    "df = pd.DataFrame(data)\n"
   ]
  },
  {
   "cell_type": "code",
   "execution_count": null,
   "metadata": {},
   "outputs": [],
   "source": [
    "=IF(T6 >= 90, \"AA\", IF(T6 >= 80, \"A\", IF(T6 >= 70, \"B\", IF(T6 >= 60, \"C\", \"F\"))))\n"
   ]
  },
  {
   "cell_type": "code",
   "execution_count": 3,
   "metadata": {},
   "outputs": [
    {
     "data": {
      "text/html": [
       "<div>\n",
       "<style scoped>\n",
       "    .dataframe tbody tr th:only-of-type {\n",
       "        vertical-align: middle;\n",
       "    }\n",
       "\n",
       "    .dataframe tbody tr th {\n",
       "        vertical-align: top;\n",
       "    }\n",
       "\n",
       "    .dataframe thead th {\n",
       "        text-align: right;\n",
       "    }\n",
       "</style>\n",
       "<table border=\"1\" class=\"dataframe\">\n",
       "  <thead>\n",
       "    <tr style=\"text-align: right;\">\n",
       "      <th></th>\n",
       "      <th>Group</th>\n",
       "    </tr>\n",
       "  </thead>\n",
       "  <tbody>\n",
       "    <tr>\n",
       "      <th>0</th>\n",
       "      <td>Mayu/Hanxue</td>\n",
       "    </tr>\n",
       "    <tr>\n",
       "      <th>1</th>\n",
       "      <td>Naoki</td>\n",
       "    </tr>\n",
       "    <tr>\n",
       "      <th>2</th>\n",
       "      <td>Kasumi/Saba/Nagumon</td>\n",
       "    </tr>\n",
       "    <tr>\n",
       "      <th>3</th>\n",
       "      <td>Akari/Chikashi</td>\n",
       "    </tr>\n",
       "    <tr>\n",
       "      <th>4</th>\n",
       "      <td>Haruto/Kazuma/Yuuki</td>\n",
       "    </tr>\n",
       "    <tr>\n",
       "      <th>5</th>\n",
       "      <td>Kazu/Yuduki</td>\n",
       "    </tr>\n",
       "    <tr>\n",
       "      <th>6</th>\n",
       "      <td>Naruse/Kuya</td>\n",
       "    </tr>\n",
       "    <tr>\n",
       "      <th>7</th>\n",
       "      <td>Hibiki/Akira/Issa</td>\n",
       "    </tr>\n",
       "  </tbody>\n",
       "</table>\n",
       "</div>"
      ],
      "text/plain": [
       "                 Group\n",
       "0          Mayu/Hanxue\n",
       "1                Naoki\n",
       "2  Kasumi/Saba/Nagumon\n",
       "3       Akari/Chikashi\n",
       "4  Haruto/Kazuma/Yuuki\n",
       "5          Kazu/Yuduki\n",
       "6          Naruse/Kuya\n",
       "7    Hibiki/Akira/Issa"
      ]
     },
     "execution_count": 3,
     "metadata": {},
     "output_type": "execute_result"
    }
   ],
   "source": [
    "df"
   ]
  },
  {
   "cell_type": "code",
   "execution_count": 4,
   "metadata": {},
   "outputs": [],
   "source": [
    "def randomize_group_order(dataframe):\n",
    "    randomized_df = dataframe.sample(frac=1, random_state=random.randint(1, 100))\n",
    "    randomized_df.reset_index(drop=True, inplace=True)\n",
    "    return randomized_df\n"
   ]
  },
  {
   "cell_type": "code",
   "execution_count": 5,
   "metadata": {},
   "outputs": [
    {
     "name": "stdout",
     "output_type": "stream",
     "text": [
      "                 Group\n",
      "0                Naoki\n",
      "1  Haruto/Kazuma/Yuuki\n",
      "2          Kazu/Yuduki\n",
      "3    Hibiki/Akira/Issa\n",
      "4          Mayu/Hanxue\n",
      "5          Naruse/Kuya\n",
      "6  Kasumi/Saba/Nagumon\n",
      "7       Akari/Chikashi\n"
     ]
    }
   ],
   "source": [
    "randomized_df = randomize_group_order(df)\n",
    "print(randomized_df)\n"
   ]
  },
  {
   "cell_type": "code",
   "execution_count": null,
   "metadata": {},
   "outputs": [],
   "source": []
  }
 ],
 "metadata": {
  "kernelspec": {
   "display_name": "geos",
   "language": "python",
   "name": "python3"
  },
  "language_info": {
   "codemirror_mode": {
    "name": "ipython",
    "version": 3
   },
   "file_extension": ".py",
   "mimetype": "text/x-python",
   "name": "python",
   "nbconvert_exporter": "python",
   "pygments_lexer": "ipython3",
   "version": "3.11.0"
  },
  "orig_nbformat": 4
 },
 "nbformat": 4,
 "nbformat_minor": 2
}
