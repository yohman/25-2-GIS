{
 "cells": [
  {
   "cell_type": "markdown",
   "metadata": {},
   "source": [
    "# Historical imagery gallery\n",
    "\n",
    "https://leafmap.org/notebooks/00_key_features/"
   ]
  },
  {
   "cell_type": "markdown",
   "metadata": {},
   "source": [
    "## leafmapのインストール\n",
    "\n",
    "### PC:\n",
    "\n",
    "Anaconda promptを開き次のコマンドを実行：\n",
    "\n",
    "`conda activate gis`\n",
    "\n",
    "`pip install leafmap`\n",
    "\n",
    "### MAC:\n",
    "\n",
    "Terminalを開いて次のコマンドを実行：\n",
    "\n",
    "`conda activate gis`\n",
    "\n",
    "`pip install leafmap`\n",
    "\n"
   ]
  },
  {
   "cell_type": "code",
   "execution_count": 1,
   "metadata": {},
   "outputs": [],
   "source": [
    "# leafmapをインポート\n",
    "import leafmap"
   ]
  },
  {
   "cell_type": "code",
   "execution_count": 2,
   "metadata": {},
   "outputs": [
    {
     "data": {
      "application/vnd.jupyter.widget-view+json": {
       "model_id": "f2110f775e764bb3af50327d1906b216",
       "version_major": 2,
       "version_minor": 0
      },
      "text/plain": [
       "GridspecLayout(children=(Output(layout=Layout(grid_area='widget001')), Output(layout=Layout(grid_area='widget0…"
      ]
     },
     "metadata": {},
     "output_type": "display_data"
    }
   ],
   "source": [
    "# 広島市の緯度経度を指定\n",
    "hiroshima = [34.3853, 132.4553]\n",
    "\n",
    "# ベースマップを指定\n",
    "layers = ['https://cyberjapandata.gsi.go.jp/xyz/ort_USA10/{z}/{x}/{y}.png',\n",
    "        'https://cyberjapandata.gsi.go.jp/xyz/ort_old10/{z}/{x}/{y}.png', \n",
    "        'https://cyberjapandata.gsi.go.jp/xyz/gazo2/{z}/{x}/{y}.jpg', \n",
    "        # 'https://cyberjapandata.gsi.go.jp/xyz/seamlessphoto/{z}/{x}/{y}.jpg',\n",
    "        'https://mt1.google.com/vt/lyrs=y&x={x}&y={y}&z={z}', # google satellite\n",
    "        ]\n",
    "\n",
    "# ラベルを指定\n",
    "labels = ['1945','1961','1979','2023']\n",
    "\n",
    "# マップを作成\n",
    "m = leafmap.linked_maps(\n",
    "    rows=1, \n",
    "    cols=4, \n",
    "    height='400px', \n",
    "    layers=layers, \n",
    "    center=hiroshima, \n",
    "    zoom_control=False,\n",
    "    search_control=False,\n",
    "    scale_control=False,\n",
    "    attribution_control=False,\n",
    "    zoom=15,\n",
    "    labels=labels,)\n",
    "\n",
    "m"
   ]
  },
  {
   "cell_type": "code",
   "execution_count": 3,
   "metadata": {},
   "outputs": [
    {
     "data": {
      "application/vnd.jupyter.widget-view+json": {
       "model_id": "1124f8aa22e44f7fa92e0569d2e8f53c",
       "version_major": 2,
       "version_minor": 0
      },
      "text/plain": [
       "Map(center=[34.3853, 132.4553], controls=(ZoomControl(options=['position', 'zoom_in_text', 'zoom_in_title', 'z…"
      ]
     },
     "metadata": {},
     "output_type": "display_data"
    }
   ],
   "source": [
    "hiroshima = [34.3853, 132.4553]\n",
    "m = leafmap.split_map(\n",
    "    left_layer=\"https://cyberjapandata.gsi.go.jp/xyz/ort_USA10/{z}/{x}/{y}.png\",\n",
    "    # right_layer=\"https://cyberjapandata.gsi.go.jp/xyz/seamlessphoto/{z}/{x}/{y}.jpg\",\n",
    "    right_layer=\"https://mt1.google.com/vt/lyrs=y&x={x}&y={y}&z={z}\",\n",
    "    left_label=\"1945\",\n",
    "    right_label=\"2016\",\n",
    "    left_position=\"bottom\",\n",
    "    center=hiroshima,\n",
    "    attribution_control=False,\n",
    "    zoom=16,\n",
    ")\n",
    "m"
   ]
  },
  {
   "cell_type": "code",
   "execution_count": null,
   "metadata": {},
   "outputs": [],
   "source": []
  }
 ],
 "metadata": {
  "kernelspec": {
   "display_name": "geos",
   "language": "python",
   "name": "python3"
  },
  "language_info": {
   "codemirror_mode": {
    "name": "ipython",
    "version": 3
   },
   "file_extension": ".py",
   "mimetype": "text/x-python",
   "name": "python",
   "nbconvert_exporter": "python",
   "pygments_lexer": "ipython3",
   "version": "3.11.0"
  }
 },
 "nbformat": 4,
 "nbformat_minor": 2
}
