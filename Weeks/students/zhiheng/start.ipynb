{
 "cells": [
  {
   "cell_type": "code",
   "execution_count": null,
   "metadata": {},
   "outputs": [],
   "source": [
    "import pandas as pd\n",
    "import geopandas as gpd\n",
    "from shapely.geometry import Point\n",
    "# Load the data into a pandas dataframe\n",
    "data = pd.read_csv('your_data.csv')\n",
    "\n",
    "# Convert the pandas dataframe to a geopandas dataframe\n",
    "gdf = gpd.GeoDataFrame(data, geometry=gpd.points_from_xy(data.longitude, data.latitude))\n",
    "\n",
    "df2['']\n",
    "# Create a map plot using geopandas\n",
    "gdf.plot()\n",
    "\n",
    "# Display the map plot\n",
    "plt.show()\n",
    "import pandas as pd\n",
    "import geopandas as gpd\n"
   ]
  },
  {
   "cell_type": "code",
   "execution_count": null,
   "metadata": {},
   "outputs": [],
   "source": [
    "# Get the data's bounds\n",
    "xmin, ymin, xmax, ymax = gdf.total_bounds\n",
    "\n",
    "# Set the xlim and ylim based on the data's bounds\n",
    "xlim = (xmin, xmax)\n",
    "ylim = (ymin, ymax)\n",
    "\n",
    "# Create subplots for each year\n",
    "fig, axes = plt.subplots(figsize=(len(years), 1, figsize=(10, 10))\n",
    "\n",
    "# Iterate over the years and create a map plot for each year\n",
    "for i, year in enumerate(years):\n",
    "    # Filter the dataframe for the current year\n",
    "    gdf_year = gdf[gdf['年'] == year]\n",
    "    gdf_year.to_crs(epsg=3857, inplace=True)\n",
    "\n",
    "    # Create a map plot using geopandas\n",
    "    ax = gdf_year.plot(ax=axes[i],mar)\n",
    "    \n",
    "    # Set the title for the plot\n",
    "    ax.set_title(f'Map Plot for Year {year}')\n",
    "    \n",
    "    # Set the same xlim and ylim for all plots\n",
    "    ax.set_xlim(xlim)\n",
    "    ax.set_ylim(ylim)\n",
    "\n",
    "# Adjust the spacing between subplots\n",
    "plt.tight_layout()\n",
    "\n",
    "# Display the plots\n",
    "plt.show()\n"
   ]
  }
 ],
 "metadata": {
  "language_info": {
   "name": "python"
  }
 },
 "nbformat": 4,
 "nbformat_minor": 2
}
